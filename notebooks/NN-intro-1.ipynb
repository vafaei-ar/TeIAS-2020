{
 "cells": [
  {
   "cell_type": "markdown",
   "metadata": {},
   "source": [
    "![](https://image.shutterstock.com/image-photo/angry-people-screaming-260nw-292800785.jpg)"
   ]
  },
  {
   "cell_type": "markdown",
   "metadata": {},
   "source": [
    "[Reference](http://neuralnetworksanddeeplearning.com/)"
   ]
  },
  {
   "cell_type": "markdown",
   "metadata": {},
   "source": [
    "- Neural networks, a beautiful biologically-inspired programming paradigm which enables a computer to learn from observational data\n",
    "- Deep learning, a powerful set of techniques for learning in neural networks "
   ]
  },
  {
   "cell_type": "markdown",
   "metadata": {},
   "source": [
    "### An example:\n",
    "\n",
    "![](https://encrypted-tbn0.gstatic.com/images?q=tbn:ANd9GcS3I7goOlpVqv9_FZ_k6w4V0c56SCziU8klbsBBgh2TTL7eg3u9)"
   ]
  },
  {
   "cell_type": "markdown",
   "metadata": {},
   "source": [
    "### Let's take a very closer look and brain:"
   ]
  },
  {
   "cell_type": "markdown",
   "metadata": {},
   "source": [
    "![](https://d3i71xaburhd42.cloudfront.net/4807bf70ab59417a295d92c54954832577812bfe/4-Figure1-1.png)"
   ]
  },
  {
   "cell_type": "markdown",
   "metadata": {},
   "source": [
    "### Perceptrons"
   ]
  },
  {
   "cell_type": "markdown",
   "metadata": {},
   "source": [
    "\\begin{eqnarray}\n",
    "  \\mbox{output} & = & \\left\\{ \\begin{array}{ll}\n",
    "      0 & \\mbox{if } \\sum_j w_j x_j \\leq \\mbox{ threshold} \\\\\n",
    "      1 & \\mbox{if } \\sum_j w_j x_j > \\mbox{ threshold}\n",
    "      \\end{array} \\right.\n",
    "\\tag{1}\\end{eqnarray}"
   ]
  },
  {
   "cell_type": "markdown",
   "metadata": {},
   "source": [
    "### Now we can make a neural network:"
   ]
  },
  {
   "cell_type": "markdown",
   "metadata": {},
   "source": [
    "![](http://neuralnetworksanddeeplearning.com/images/tikz1.png)"
   ]
  },
  {
   "cell_type": "markdown",
   "metadata": {},
   "source": [
    "\\begin{eqnarray}\n",
    "  \\mbox{output} = \\left\\{ \n",
    "    \\begin{array}{ll} \n",
    "      0 & \\mbox{if } w\\cdot x + b \\leq 0 \\\\\n",
    "      1 & \\mbox{if } w\\cdot x + b > 0\n",
    "    \\end{array}\n",
    "  \\right.\n",
    "\\tag{2}\\end{eqnarray}"
   ]
  },
  {
   "cell_type": "code",
   "execution_count": 1,
   "metadata": {},
   "outputs": [],
   "source": [
    "%matplotlib inline\n",
    "import numpy as np\n",
    "import pylab as plt"
   ]
  },
  {
   "cell_type": "code",
   "execution_count": 2,
   "metadata": {},
   "outputs": [
    {
     "data": {
      "text/plain": [
       "[<matplotlib.lines.Line2D at 0x7f5fd91d4fd0>]"
      ]
     },
     "execution_count": 2,
     "metadata": {},
     "output_type": "execute_result"
    },
    {
     "data": {
      "image/png": "[encoded data removed]",
      "text/plain": [
       "<Figure size 432x288 with 1 Axes>"
      ]
     },
     "metadata": {
      "needs_background": "light"
     },
     "output_type": "display_data"
    }
   ],
   "source": [
    "z = np.linspace(-1,1,100)\n",
    "plt.plot(z,np.heaviside(z,0))"
   ]
  },
  {
   "cell_type": "markdown",
   "metadata": {},
   "source": [
    "### Activation function needs to be differentiable!"
   ]
  },
  {
   "cell_type": "markdown",
   "metadata": {},
   "source": [
    "![](http://neuralnetworksanddeeplearning.com/images/tikz8.png)"
   ]
  },
  {
   "cell_type": "markdown",
   "metadata": {},
   "source": [
    "$$\\mathcal{A}(w \\cdot x+b)$$"
   ]
  },
  {
   "cell_type": "markdown",
   "metadata": {},
   "source": [
    "\\begin{eqnarray} \n",
    "  \\frac{1}{1+\\exp(-\\sum_j w_j x_j-b)}.\n",
    "\\tag{4}\\end{eqnarray}"
   ]
  },
  {
   "cell_type": "code",
   "execution_count": 3,
   "metadata": {},
   "outputs": [
    {
     "data": {
      "text/plain": [
       "[<matplotlib.lines.Line2D at 0x7f5faaeb66a0>]"
      ]
     },
     "execution_count": 3,
     "metadata": {},
     "output_type": "execute_result"
    },
    {
     "data": {
      "image/png": "[encoded data removed]",
      "text/plain": [
       "<Figure size 432x288 with 1 Axes>"
      ]
     },
     "metadata": {
      "needs_background": "light"
     },
     "output_type": "display_data"
    }
   ],
   "source": [
    "def sigmoid(z):\n",
    "    return 1/(1+np.exp(-z))\n",
    "\n",
    "z = np.linspace(-10,10,100)\n",
    "plt.plot(z,sigmoid(z))"
   ]
  },
  {
   "cell_type": "markdown",
   "metadata": {},
   "source": [
    "### Multilayer perceptrons or MLPs"
   ]
  },
  {
   "cell_type": "markdown",
   "metadata": {},
   "source": [
    "![](http://neuralnetworksanddeeplearning.com/images/tikz11.png)"
   ]
  },
  {
   "cell_type": "markdown",
   "metadata": {},
   "source": [
    "### The arrows show the NN is feedforward."
   ]
  },
  {
   "cell_type": "markdown",
   "metadata": {},
   "source": [
    "### Going back to the numbers problem ([MNIST](http://yann.lecun.com/exdb/mnist/))"
   ]
  },
  {
   "cell_type": "code",
   "execution_count": 14,
   "metadata": {},
   "outputs": [],
   "source": [
    "from keras.datasets import mnist\n",
    "\n",
    "(x_train, y_train), (x_test, y_test) = mnist.load_data()"
   ]
  },
  {
   "cell_type": "code",
   "execution_count": 15,
   "metadata": {},
   "outputs": [
    {
     "name": "stdout",
     "output_type": "stream",
     "text": [
      "(60000, 28, 28) (60000,)\n"
     ]
    }
   ],
   "source": [
    "print(x_train.shape, y_train.shape)"
   ]
  },
  {
   "cell_type": "code",
   "execution_count": 16,
   "metadata": {},
   "outputs": [
    {
     "name": "stdout",
     "output_type": "stream",
     "text": [
      "6\n"
     ]
    },
    {
     "data": {
      "image/png": "[encoded data removed]",
      "text/plain": [
       "<Figure size 432x288 with 1 Axes>"
      ]
     },
     "metadata": {
      "needs_background": "light"
     },
     "output_type": "display_data"
    }
   ],
   "source": [
    "ii = np.random.randint(x_train.shape[0])\n",
    "\n",
    "plt.imshow(x_train[ii])\n",
    "print(y_train[ii])"
   ]
  },
  {
   "cell_type": "markdown",
   "metadata": {},
   "source": [
    "![](http://neuralnetworksanddeeplearning.com/images/tikz12.png)"
   ]
  },
  {
   "cell_type": "code",
   "execution_count": 17,
   "metadata": {},
   "outputs": [],
   "source": [
    "def vectorized_result(j):\n",
    "    \"\"\"Return a 10-dimensional unit vector with a 1.0 in the jth\n",
    "    position and zeroes elsewhere.  This is used to convert a digit\n",
    "    (0...9) into a corresponding desired output from the neural\n",
    "    network.\"\"\"\n",
    "    e = np.zeros((10, 1))\n",
    "    e[j] = 1.0\n",
    "    return e"
   ]
  },
  {
   "cell_type": "code",
   "execution_count": 18,
   "metadata": {},
   "outputs": [],
   "source": [
    "x_train = x_train.reshape(-1,28*28)\n",
    "y_train = np.array([vectorized_result(y) for y in y_train]).reshape(-1,10)\n",
    "x_test = x_test.reshape(-1,28*28)\n",
    "y_test = np.array([vectorized_result(y) for y in y_test]).reshape(-1,10)"
   ]
  },
  {
   "cell_type": "code",
   "execution_count": 19,
   "metadata": {},
   "outputs": [],
   "source": [
    "import keras\n",
    "from keras.models import Sequential\n",
    "from keras.layers import Dense, Dropout, Activation\n",
    "from keras.optimizers import SGD\n",
    "\n",
    "model = Sequential()\n",
    "# Dense(64) is a fully-connected layer with 64 hidden units.\n",
    "# in the first layer, you must specify the expected input data shape:\n",
    "# here, 20-dimensional vectors.\n",
    "model.add(Dense(30, activation='relu', input_dim=28*28))\n",
    "model.add(Dense(10, activation='softmax'))\n",
    "\n",
    "sgd = SGD(lr=0.01)\n",
    "model.compile(loss='categorical_crossentropy',\n",
    "              optimizer=sgd,\n",
    "              metrics=['accuracy'])"
   ]
  },
  {
   "cell_type": "code",
   "execution_count": 20,
   "metadata": {},
   "outputs": [
    {
     "name": "stdout",
     "output_type": "stream",
     "text": [
      "Epoch 1/20\n",
      "60000/60000 [==============================] - 1s 14us/step - loss: 47.3523 - accuracy: 0.1992\n",
      "Epoch 2/20\n",
      "60000/60000 [==============================] - 1s 15us/step - loss: 1.9170 - accuracy: 0.2752\n",
      "Epoch 3/20\n",
      "60000/60000 [==============================] - 1s 14us/step - loss: 1.8443 - accuracy: 0.2907\n",
      "Epoch 4/20\n",
      "60000/60000 [==============================] - 1s 15us/step - loss: 1.8035 - accuracy: 0.2980\n",
      "Epoch 5/20\n",
      "60000/60000 [==============================] - 1s 13us/step - loss: 1.7912 - accuracy: 0.2984\n",
      "Epoch 6/20\n",
      "60000/60000 [==============================] - 1s 14us/step - loss: 1.7805 - accuracy: 0.2991\n",
      "Epoch 7/20\n",
      "60000/60000 [==============================] - 1s 15us/step - loss: 1.7701 - accuracy: 0.2993\n",
      "Epoch 8/20\n",
      "60000/60000 [==============================] - 1s 15us/step - loss: 1.7656 - accuracy: 0.2998\n",
      "Epoch 9/20\n",
      "60000/60000 [==============================] - 1s 16us/step - loss: 1.7657 - accuracy: 0.2988\n",
      "Epoch 10/20\n",
      "60000/60000 [==============================] - 1s 17us/step - loss: 1.7760 - accuracy: 0.2966\n",
      "Epoch 11/20\n",
      "60000/60000 [==============================] - 1s 19us/step - loss: 1.7459 - accuracy: 0.3025\n",
      "Epoch 12/20\n",
      "60000/60000 [==============================] - 2s 29us/step - loss: 1.7420 - accuracy: 0.3027\n",
      "Epoch 13/20\n",
      "60000/60000 [==============================] - 1s 19us/step - loss: 1.7507 - accuracy: 0.3009\n",
      "Epoch 14/20\n",
      "60000/60000 [==============================] - 1s 15us/step - loss: 1.7596 - accuracy: 0.3000\n",
      "Epoch 15/20\n",
      "60000/60000 [==============================] - 1s 16us/step - loss: 1.7419 - accuracy: 0.3031\n",
      "Epoch 16/20\n",
      "60000/60000 [==============================] - 1s 17us/step - loss: 1.7508 - accuracy: 0.2999\n",
      "Epoch 17/20\n",
      "60000/60000 [==============================] - 1s 18us/step - loss: 1.7288 - accuracy: 0.3036\n",
      "Epoch 18/20\n",
      "60000/60000 [==============================] - 1s 18us/step - loss: 1.7334 - accuracy: 0.3039\n",
      "Epoch 19/20\n",
      "60000/60000 [==============================] - 1s 20us/step - loss: 1.7217 - accuracy: 0.3085\n",
      "Epoch 20/20\n",
      "60000/60000 [==============================] - 1s 14us/step - loss: 1.6432 - accuracy: 0.3606\n",
      "10000/10000 [==============================] - 0s 9us/step\n"
     ]
    }
   ],
   "source": [
    "model.fit(x_train, y_train,\n",
    "          epochs=20,\n",
    "          batch_size=128)\n",
    "score = model.evaluate(x_test, y_test, batch_size=128)"
   ]
  },
  {
   "cell_type": "markdown",
   "metadata": {},
   "source": [
    "# AND WE NEED A GOOD COMPUTER!"
   ]
  },
  {
   "cell_type": "markdown",
   "metadata": {},
   "source": [
    "![](https://miro.medium.com/max/776/1*Eb4YFMdn8LJhxjJCuykiLg.png)"
   ]
  },
  {
   "cell_type": "code",
   "execution_count": 21,
   "metadata": {},
   "outputs": [],
   "source": [
    "from keras.datasets import boston_housing"
   ]
  },
  {
   "cell_type": "code",
   "execution_count": 22,
   "metadata": {},
   "outputs": [],
   "source": [
    "(X_train, y_train), (X_test, y_test) = boston_housing.load_data()"
   ]
  },
  {
   "cell_type": "markdown",
   "metadata": {},
   "source": [
    "### Dataset Description\n",
    "- Boston housing dataset has total 506 data instances (404 training & 102 test)\n",
    "- 13 attributes (features) to predict \"the median values of the houses at a location\"\n",
    "- Doc: https://keras.io/datasets/"
   ]
  },
  {
   "cell_type": "code",
   "execution_count": 23,
   "metadata": {},
   "outputs": [
    {
     "name": "stdout",
     "output_type": "stream",
     "text": [
      "(404, 13)\n",
      "(102, 13)\n",
      "(404,)\n",
      "(102,)\n"
     ]
    }
   ],
   "source": [
    "print(X_train.shape)\n",
    "print(X_test.shape)\n",
    "print(y_train.shape)\n",
    "print(y_test.shape)"
   ]
  },
  {
   "cell_type": "code",
   "execution_count": 24,
   "metadata": {},
   "outputs": [],
   "source": [
    "from keras.models import Sequential\n",
    "from keras.layers import Activation, Dense"
   ]
  },
  {
   "cell_type": "code",
   "execution_count": 25,
   "metadata": {},
   "outputs": [],
   "source": [
    "model = Sequential()\n",
    "model.add(Dense(10, input_shape = (13,)))    \n",
    "model.add(Activation('tanh'))\n",
    "model.add(Dense(10))                        \n",
    "model.add(Activation('tanh'))\n",
    "model.add(Dense(10))                       \n",
    "model.add(Activation('tanh'))\n",
    "model.add(Dense(1))  \n",
    "\n",
    "model.compile(optimizer = 'sgd', loss = 'mse')"
   ]
  },
  {
   "cell_type": "code",
   "execution_count": 26,
   "metadata": {},
   "outputs": [],
   "source": [
    "# This is equivalent to the above code block\n",
    "model = Sequential()\n",
    "model.add(Dense(10, input_shape = (13,), activation = 'sigmoid'))\n",
    "model.add(Dense(10, activation = 'sigmoid'))\n",
    "model.add(Dense(10, activation = 'sigmoid'))\n",
    "model.add(Dense(1))"
   ]
  },
  {
   "cell_type": "code",
   "execution_count": 27,
   "metadata": {},
   "outputs": [],
   "source": [
    "from keras import optimizers"
   ]
  },
  {
   "cell_type": "code",
   "execution_count": 28,
   "metadata": {},
   "outputs": [],
   "source": [
    "sgd = optimizers.SGD(lr = 0.01)    # stochastic gradient descent optimizer"
   ]
  },
  {
   "cell_type": "code",
   "execution_count": 29,
   "metadata": {},
   "outputs": [],
   "source": [
    "model.compile(optimizer = sgd, loss = 'mean_squared_error', metrics = ['mse'])    # for regression problems, mean squared error (MSE) is often employed"
   ]
  },
  {
   "cell_type": "markdown",
   "metadata": {},
   "source": [
    "### Summary of the model"
   ]
  },
  {
   "cell_type": "code",
   "execution_count": 30,
   "metadata": {
    "scrolled": false
   },
   "outputs": [
    {
     "name": "stdout",
     "output_type": "stream",
     "text": [
      "Model: \"sequential_5\"\n",
      "_________________________________________________________________\n",
      "Layer (type)                 Output Shape              Param #   \n",
      "=================================================================\n",
      "dense_11 (Dense)             (None, 10)                140       \n",
      "_________________________________________________________________\n",
      "dense_12 (Dense)             (None, 10)                110       \n",
      "_________________________________________________________________\n",
      "dense_13 (Dense)             (None, 10)                110       \n",
      "_________________________________________________________________\n",
      "dense_14 (Dense)             (None, 1)                 11        \n",
      "=================================================================\n",
      "Total params: 371\n",
      "Trainable params: 371\n",
      "Non-trainable params: 0\n",
      "_________________________________________________________________\n"
     ]
    }
   ],
   "source": [
    "model.summary()"
   ]
  },
  {
   "cell_type": "markdown",
   "metadata": {},
   "source": [
    "### 2. Training\n",
    "- Training the model with training data provided"
   ]
  },
  {
   "cell_type": "code",
   "execution_count": 31,
   "metadata": {},
   "outputs": [
    {
     "name": "stdout",
     "output_type": "stream",
     "text": [
      "Epoch 1/100\n",
      "404/404 [==============================] - 0s 378us/step - loss: 406.8475 - mse: 406.8475\n",
      "Epoch 2/100\n",
      "404/404 [==============================] - 0s 212us/step - loss: 109.2544 - mse: 109.2544\n",
      "Epoch 3/100\n",
      "404/404 [==============================] - 0s 191us/step - loss: 85.9278 - mse: 85.9278\n",
      "Epoch 4/100\n",
      "404/404 [==============================] - 0s 207us/step - loss: 84.8567 - mse: 84.8567\n",
      "Epoch 5/100\n",
      "404/404 [==============================] - 0s 159us/step - loss: 84.5246 - mse: 84.5246\n",
      "Epoch 6/100\n",
      "404/404 [==============================] - 0s 73us/step - loss: 85.3580 - mse: 85.3580\n",
      "Epoch 7/100\n",
      "404/404 [==============================] - 0s 59us/step - loss: 84.1082 - mse: 84.1082\n",
      "Epoch 8/100\n",
      "404/404 [==============================] - 0s 54us/step - loss: 84.1680 - mse: 84.1680\n",
      "Epoch 9/100\n",
      "404/404 [==============================] - 0s 42us/step - loss: 84.7005 - mse: 84.7005\n",
      "Epoch 10/100\n",
      "404/404 [==============================] - 0s 62us/step - loss: 83.7276 - mse: 83.7276\n",
      "Epoch 11/100\n",
      "404/404 [==============================] - 0s 42us/step - loss: 85.0564 - mse: 85.0564\n",
      "Epoch 12/100\n",
      "404/404 [==============================] - 0s 56us/step - loss: 84.6380 - mse: 84.6380\n",
      "Epoch 13/100\n",
      "404/404 [==============================] - 0s 44us/step - loss: 84.3645 - mse: 84.3645\n",
      "Epoch 14/100\n",
      "404/404 [==============================] - 0s 39us/step - loss: 84.6669 - mse: 84.6669\n",
      "Epoch 15/100\n",
      "404/404 [==============================] - 0s 46us/step - loss: 84.1363 - mse: 84.1363\n",
      "Epoch 16/100\n",
      "404/404 [==============================] - 0s 32us/step - loss: 84.3841 - mse: 84.3840\n",
      "Epoch 17/100\n",
      "404/404 [==============================] - 0s 37us/step - loss: 83.7780 - mse: 83.7780\n",
      "Epoch 18/100\n",
      "404/404 [==============================] - 0s 45us/step - loss: 83.9966 - mse: 83.9966\n",
      "Epoch 19/100\n",
      "404/404 [==============================] - 0s 48us/step - loss: 83.6562 - mse: 83.6562\n",
      "Epoch 20/100\n",
      "404/404 [==============================] - 0s 43us/step - loss: 83.8737 - mse: 83.8737\n",
      "Epoch 21/100\n",
      "404/404 [==============================] - 0s 31us/step - loss: 85.3059 - mse: 85.3059\n",
      "Epoch 22/100\n",
      "404/404 [==============================] - 0s 46us/step - loss: 83.8940 - mse: 83.8940\n",
      "Epoch 23/100\n",
      "404/404 [==============================] - 0s 48us/step - loss: 84.1840 - mse: 84.1840\n",
      "Epoch 24/100\n",
      "404/404 [==============================] - 0s 46us/step - loss: 84.9495 - mse: 84.9495\n",
      "Epoch 25/100\n",
      "404/404 [==============================] - 0s 53us/step - loss: 83.2287 - mse: 83.2287\n",
      "Epoch 26/100\n",
      "404/404 [==============================] - 0s 39us/step - loss: 83.4282 - mse: 83.4282\n",
      "Epoch 27/100\n",
      "404/404 [==============================] - 0s 49us/step - loss: 83.2754 - mse: 83.2754\n",
      "Epoch 28/100\n",
      "404/404 [==============================] - 0s 44us/step - loss: 83.0216 - mse: 83.0216\n",
      "Epoch 29/100\n",
      "404/404 [==============================] - 0s 53us/step - loss: 82.6437 - mse: 82.6437\n",
      "Epoch 30/100\n",
      "404/404 [==============================] - 0s 49us/step - loss: 82.7625 - mse: 82.7625\n",
      "Epoch 31/100\n",
      "404/404 [==============================] - 0s 51us/step - loss: 83.2562 - mse: 83.2562\n",
      "Epoch 32/100\n",
      "404/404 [==============================] - 0s 40us/step - loss: 82.5485 - mse: 82.5485\n",
      "Epoch 33/100\n",
      "404/404 [==============================] - 0s 35us/step - loss: 82.3038 - mse: 82.3037\n",
      "Epoch 34/100\n",
      "404/404 [==============================] - 0s 40us/step - loss: 82.1636 - mse: 82.1636\n",
      "Epoch 35/100\n",
      "404/404 [==============================] - 0s 40us/step - loss: 82.5937 - mse: 82.5937\n",
      "Epoch 36/100\n",
      "404/404 [==============================] - 0s 44us/step - loss: 81.9952 - mse: 81.9952\n",
      "Epoch 37/100\n",
      "404/404 [==============================] - 0s 32us/step - loss: 82.2528 - mse: 82.2528\n",
      "Epoch 38/100\n",
      "404/404 [==============================] - 0s 50us/step - loss: 81.1335 - mse: 81.1335\n",
      "Epoch 39/100\n",
      "404/404 [==============================] - 0s 38us/step - loss: 81.6973 - mse: 81.6973\n",
      "Epoch 40/100\n",
      "404/404 [==============================] - 0s 45us/step - loss: 80.9502 - mse: 80.9502\n",
      "Epoch 41/100\n",
      "404/404 [==============================] - 0s 54us/step - loss: 80.6825 - mse: 80.6825\n",
      "Epoch 42/100\n",
      "404/404 [==============================] - 0s 54us/step - loss: 80.7877 - mse: 80.7877\n",
      "Epoch 43/100\n",
      "404/404 [==============================] - 0s 60us/step - loss: 81.5560 - mse: 81.5560\n",
      "Epoch 44/100\n",
      "404/404 [==============================] - 0s 44us/step - loss: 80.9762 - mse: 80.9762\n",
      "Epoch 45/100\n",
      "404/404 [==============================] - 0s 41us/step - loss: 80.6755 - mse: 80.6755\n",
      "Epoch 46/100\n",
      "404/404 [==============================] - 0s 50us/step - loss: 82.4569 - mse: 82.4569\n",
      "Epoch 47/100\n",
      "404/404 [==============================] - 0s 63us/step - loss: 80.3139 - mse: 80.3139\n",
      "Epoch 48/100\n",
      "404/404 [==============================] - 0s 47us/step - loss: 79.5357 - mse: 79.5357\n",
      "Epoch 49/100\n",
      "404/404 [==============================] - 0s 51us/step - loss: 80.1345 - mse: 80.1345\n",
      "Epoch 50/100\n",
      "404/404 [==============================] - 0s 50us/step - loss: 81.4905 - mse: 81.4905\n",
      "Epoch 51/100\n",
      "404/404 [==============================] - 0s 43us/step - loss: 79.2035 - mse: 79.2035\n",
      "Epoch 52/100\n",
      "404/404 [==============================] - 0s 44us/step - loss: 78.9127 - mse: 78.9127\n",
      "Epoch 53/100\n",
      "404/404 [==============================] - 0s 57us/step - loss: 78.7641 - mse: 78.7641\n",
      "Epoch 54/100\n",
      "404/404 [==============================] - 0s 52us/step - loss: 78.6583 - mse: 78.6583\n",
      "Epoch 55/100\n",
      "404/404 [==============================] - 0s 34us/step - loss: 78.8237 - mse: 78.8237\n",
      "Epoch 56/100\n",
      "404/404 [==============================] - 0s 38us/step - loss: 82.2531 - mse: 82.2531\n",
      "Epoch 57/100\n",
      "404/404 [==============================] - 0s 51us/step - loss: 78.4433 - mse: 78.4433\n",
      "Epoch 58/100\n",
      "404/404 [==============================] - 0s 38us/step - loss: 78.5180 - mse: 78.5180\n",
      "Epoch 59/100\n",
      "404/404 [==============================] - 0s 35us/step - loss: 78.7273 - mse: 78.7273\n",
      "Epoch 60/100\n",
      "404/404 [==============================] - 0s 36us/step - loss: 79.6690 - mse: 79.6690\n",
      "Epoch 61/100\n",
      "404/404 [==============================] - 0s 41us/step - loss: 78.6729 - mse: 78.6729\n",
      "Epoch 62/100\n",
      "404/404 [==============================] - 0s 39us/step - loss: 78.5763 - mse: 78.5763\n",
      "Epoch 63/100\n",
      "404/404 [==============================] - 0s 34us/step - loss: 77.9780 - mse: 77.9780\n",
      "Epoch 64/100\n",
      "404/404 [==============================] - 0s 51us/step - loss: 78.1416 - mse: 78.1416\n",
      "Epoch 65/100\n",
      "404/404 [==============================] - 0s 33us/step - loss: 77.6895 - mse: 77.6895\n",
      "Epoch 66/100\n",
      "404/404 [==============================] - 0s 37us/step - loss: 78.0269 - mse: 78.0269\n",
      "Epoch 67/100\n",
      "404/404 [==============================] - 0s 55us/step - loss: 77.6007 - mse: 77.6007\n",
      "Epoch 68/100\n",
      "404/404 [==============================] - 0s 39us/step - loss: 77.4689 - mse: 77.4689\n",
      "Epoch 69/100\n",
      "404/404 [==============================] - 0s 59us/step - loss: 77.9903 - mse: 77.9903\n",
      "Epoch 70/100\n",
      "404/404 [==============================] - 0s 45us/step - loss: 77.6106 - mse: 77.6106\n",
      "Epoch 71/100\n",
      "404/404 [==============================] - 0s 39us/step - loss: 77.2099 - mse: 77.2099\n",
      "Epoch 72/100\n",
      "404/404 [==============================] - 0s 32us/step - loss: 77.4199 - mse: 77.4199\n",
      "Epoch 73/100\n",
      "404/404 [==============================] - 0s 59us/step - loss: 78.1196 - mse: 78.1196\n",
      "Epoch 74/100\n",
      "404/404 [==============================] - 0s 50us/step - loss: 79.3930 - mse: 79.3930\n",
      "Epoch 75/100\n",
      "404/404 [==============================] - 0s 68us/step - loss: 77.5829 - mse: 77.5829\n",
      "Epoch 76/100\n",
      "404/404 [==============================] - 0s 56us/step - loss: 78.9413 - mse: 78.9413\n",
      "Epoch 77/100\n",
      "404/404 [==============================] - 0s 37us/step - loss: 77.4118 - mse: 77.4118\n",
      "Epoch 78/100\n",
      "404/404 [==============================] - 0s 52us/step - loss: 77.8800 - mse: 77.8800\n",
      "Epoch 79/100\n",
      "404/404 [==============================] - 0s 50us/step - loss: 77.1392 - mse: 77.1392\n",
      "Epoch 80/100\n",
      "404/404 [==============================] - 0s 47us/step - loss: 77.8562 - mse: 77.8562\n",
      "Epoch 81/100\n",
      "404/404 [==============================] - 0s 43us/step - loss: 78.1061 - mse: 78.1061\n",
      "Epoch 82/100\n"
     ]
    },
    {
     "name": "stdout",
     "output_type": "stream",
     "text": [
      "404/404 [==============================] - 0s 43us/step - loss: 77.2310 - mse: 77.2310\n",
      "Epoch 83/100\n",
      "404/404 [==============================] - 0s 34us/step - loss: 77.4181 - mse: 77.4181\n",
      "Epoch 84/100\n",
      "404/404 [==============================] - 0s 40us/step - loss: 77.8373 - mse: 77.8373\n",
      "Epoch 85/100\n",
      "404/404 [==============================] - 0s 35us/step - loss: 78.5002 - mse: 78.5002\n",
      "Epoch 86/100\n",
      "404/404 [==============================] - 0s 33us/step - loss: 77.5083 - mse: 77.5083\n",
      "Epoch 87/100\n",
      "404/404 [==============================] - 0s 35us/step - loss: 77.4875 - mse: 77.4875\n",
      "Epoch 88/100\n",
      "404/404 [==============================] - 0s 27us/step - loss: 77.4612 - mse: 77.4612\n",
      "Epoch 89/100\n",
      "404/404 [==============================] - 0s 27us/step - loss: 77.5007 - mse: 77.5007\n",
      "Epoch 90/100\n",
      "404/404 [==============================] - 0s 30us/step - loss: 78.6855 - mse: 78.6855\n",
      "Epoch 91/100\n",
      "404/404 [==============================] - 0s 30us/step - loss: 77.2670 - mse: 77.2670\n",
      "Epoch 92/100\n",
      "404/404 [==============================] - 0s 33us/step - loss: 78.7457 - mse: 78.7457\n",
      "Epoch 93/100\n",
      "404/404 [==============================] - 0s 34us/step - loss: 77.5353 - mse: 77.5353\n",
      "Epoch 94/100\n",
      "404/404 [==============================] - 0s 28us/step - loss: 78.9045 - mse: 78.9045\n",
      "Epoch 95/100\n",
      "404/404 [==============================] - 0s 43us/step - loss: 77.1743 - mse: 77.1743\n",
      "Epoch 96/100\n",
      "404/404 [==============================] - 0s 30us/step - loss: 77.0520 - mse: 77.0520\n",
      "Epoch 97/100\n",
      "404/404 [==============================] - 0s 32us/step - loss: 77.8008 - mse: 77.8008\n",
      "Epoch 98/100\n",
      "404/404 [==============================] - 0s 29us/step - loss: 77.9183 - mse: 77.9183\n",
      "Epoch 99/100\n",
      "404/404 [==============================] - 0s 27us/step - loss: 77.4944 - mse: 77.4944\n",
      "Epoch 100/100\n",
      "404/404 [==============================] - 0s 31us/step - loss: 76.9868 - mse: 76.9868\n"
     ]
    },
    {
     "data": {
      "text/plain": [
       "<keras.callbacks.callbacks.History at 0x7f5f94fe5a90>"
      ]
     },
     "execution_count": 31,
     "metadata": {},
     "output_type": "execute_result"
    }
   ],
   "source": [
    "model.fit(X_train, y_train, batch_size = 50, epochs = 100, verbose = 1)"
   ]
  },
  {
   "cell_type": "markdown",
   "metadata": {},
   "source": [
    "### 3. Evaluation\n",
    "- Keras model can be evaluated with evaluate() function\n",
    "- Evaluation results are contained in a list\n",
    "    - Doc (metrics): https://keras.io/metrics/"
   ]
  },
  {
   "cell_type": "code",
   "execution_count": 32,
   "metadata": {},
   "outputs": [
    {
     "name": "stdout",
     "output_type": "stream",
     "text": [
      "102/102 [==============================] - 0s 245us/step\n"
     ]
    }
   ],
   "source": [
    "results = model.evaluate(X_test, y_test)"
   ]
  },
  {
   "cell_type": "code",
   "execution_count": 33,
   "metadata": {},
   "outputs": [
    {
     "name": "stdout",
     "output_type": "stream",
     "text": [
      "['loss', 'mse']\n",
      "[77.0973450903799, 77.09734344482422]\n"
     ]
    }
   ],
   "source": [
    "print(model.metrics_names)     # list of metric names the model is employing\n",
    "print(results)                 # actual figure of metrics computed"
   ]
  },
  {
   "cell_type": "code",
   "execution_count": 34,
   "metadata": {},
   "outputs": [
    {
     "name": "stdout",
     "output_type": "stream",
     "text": [
      "loss:  77.0973450903799\n",
      "mse:  77.09734344482422\n"
     ]
    }
   ],
   "source": [
    "print('loss: ', results[0])\n",
    "print('mse: ', results[1])"
   ]
  },
  {
   "cell_type": "markdown",
   "metadata": {},
   "source": [
    "## MLP for classification tasks\n",
    "- When the target (**y**) is discrete (categorical)\n",
    "- For loss function, cross-entropy is used and for evaluation metric, accuracy is commonly used"
   ]
  },
  {
   "cell_type": "code",
   "execution_count": 1,
   "metadata": {},
   "outputs": [],
   "source": [
    "from sklearn.datasets import load_breast_cancer\n",
    "from sklearn.model_selection import train_test_split"
   ]
  },
  {
   "cell_type": "code",
   "execution_count": 10,
   "metadata": {},
   "outputs": [],
   "source": [
    "whole_data = load_breast_cancer()"
   ]
  },
  {
   "cell_type": "code",
   "execution_count": 11,
   "metadata": {},
   "outputs": [],
   "source": [
    "X_data = whole_data.data\n",
    "y_data = whole_data.target"
   ]
  },
  {
   "cell_type": "code",
   "execution_count": 12,
   "metadata": {},
   "outputs": [],
   "source": [
    "X_train, X_test, y_train, y_test = train_test_split(X_data, y_data, test_size = 0.3, random_state = 7) "
   ]
  },
  {
   "cell_type": "markdown",
   "metadata": {},
   "source": [
    "### Dataset Description\n",
    "- Breast cancer dataset has total 569 data instances (212 malign, 357 benign instances)\n",
    "- 30 attributes (features) to predict the binary class (M/B)\n",
    "- Doc: http://scikit-learn.org/stable/modules/generated/sklearn.datasets.load_breast_cancer.html#sklearn.datasets.load_breast_cancer"
   ]
  },
  {
   "cell_type": "code",
   "execution_count": 13,
   "metadata": {},
   "outputs": [
    {
     "name": "stdout",
     "output_type": "stream",
     "text": [
      "(398, 30)\n",
      "(171, 30)\n",
      "(398,)\n",
      "(171,)\n"
     ]
    }
   ],
   "source": [
    "print(X_train.shape)\n",
    "print(X_test.shape)\n",
    "print(y_train.shape)\n",
    "print(y_test.shape)"
   ]
  },
  {
   "cell_type": "markdown",
   "metadata": {},
   "source": [
    "### 1. Creating a model\n",
    "- Same with regression model at the outset"
   ]
  },
  {
   "cell_type": "code",
   "execution_count": 2,
   "metadata": {},
   "outputs": [
    {
     "name": "stderr",
     "output_type": "stream",
     "text": [
      "Using TensorFlow backend.\n"
     ]
    }
   ],
   "source": [
    "from keras.models import Sequential"
   ]
  },
  {
   "cell_type": "markdown",
   "metadata": {},
   "source": [
    "### 1-1. Adding layers\n",
    "- Keras layers can be **added** to the model\n",
    "- Adding layers are like stacking lego blocks one by one\n",
    "- It should be noted that as this is a classification problem, sigmoid layer (softmax for multi-class problems) should be added\n",
    "- Doc: https://keras.io/layers/core/"
   ]
  },
  {
   "cell_type": "code",
   "execution_count": 72,
   "metadata": {},
   "outputs": [],
   "source": [
    "# Keras model with two hidden layer with 10 neurons each \n",
    "model = Sequential()\n",
    "model.add(Dense(10, input_shape = (30,)))    # Input layer => input_shape should be explicitly designated\n",
    "model.add(Activation('sigmoid'))\n",
    "model.add(Dense(10))                         # Hidden layer => only output dimension should be designated\n",
    "model.add(Activation('sigmoid'))\n",
    "model.add(Dense(10))                         # Hidden layer => only output dimension should be designated\n",
    "model.add(Activation('sigmoid'))\n",
    "model.add(Dense(1))                          # Output layer => output dimension = 1 since it is regression problem\n",
    "model.add(Activation('sigmoid'))"
   ]
  },
  {
   "cell_type": "code",
   "execution_count": 4,
   "metadata": {},
   "outputs": [],
   "source": [
    "# This is equivalent to the above code block\n",
    "model = Sequential()\n",
    "model.add(Dense(10, input_shape = (30,), activation = 'sigmoid'))\n",
    "model.add(Dense(10, activation = 'sigmoid'))\n",
    "model.add(Dense(10, activation = 'sigmoid'))\n",
    "model.add(Dense(1, activation = 'sigmoid'))"
   ]
  },
  {
   "cell_type": "markdown",
   "metadata": {},
   "source": [
    "### 1-2. Model compile\n",
    "- Keras model should be \"compiled\" prior to training\n",
    "- Types of loss (function) and optimizer should be designated\n",
    "    - Doc (optimizers): https://keras.io/optimizers/\n",
    "    - Doc (losses): https://keras.io/losses/"
   ]
  },
  {
   "cell_type": "code",
   "execution_count": 5,
   "metadata": {},
   "outputs": [],
   "source": [
    "from keras import optimizers"
   ]
  },
  {
   "cell_type": "code",
   "execution_count": 6,
   "metadata": {},
   "outputs": [],
   "source": [
    "sgd = optimizers.SGD(lr = 0.01)    # stochastic gradient descent optimizer"
   ]
  },
  {
   "cell_type": "code",
   "execution_count": 7,
   "metadata": {},
   "outputs": [],
   "source": [
    "model.compile(optimizer = sgd, loss = 'binary_crossentropy', metrics = ['accuracy'])"
   ]
  },
  {
   "cell_type": "markdown",
   "metadata": {},
   "source": [
    "### Summary of the model"
   ]
  },
  {
   "cell_type": "code",
   "execution_count": 8,
   "metadata": {
    "scrolled": true
   },
   "outputs": [
    {
     "name": "stdout",
     "output_type": "stream",
     "text": [
      "_________________________________________________________________\n",
      "Layer (type)                 Output Shape              Param #   \n",
      "=================================================================\n",
      "dense_1 (Dense)              (None, 10)                310       \n",
      "_________________________________________________________________\n",
      "dense_2 (Dense)              (None, 10)                110       \n",
      "_________________________________________________________________\n",
      "dense_3 (Dense)              (None, 10)                110       \n",
      "_________________________________________________________________\n",
      "dense_4 (Dense)              (None, 1)                 11        \n",
      "=================================================================\n",
      "Total params: 541\n",
      "Trainable params: 541\n",
      "Non-trainable params: 0\n",
      "_________________________________________________________________\n"
     ]
    }
   ],
   "source": [
    "model.summary()"
   ]
  },
  {
   "cell_type": "markdown",
   "metadata": {},
   "source": [
    "### 2. Training\n",
    "- Training the model with training data provided"
   ]
  },
  {
   "cell_type": "code",
   "execution_count": 37,
   "metadata": {},
   "outputs": [
    {
     "name": "stdout",
     "output_type": "stream",
     "text": [
      "Epoch 1/10\n",
      "404/404 [==============================] - 0s 69us/step - loss: 77.0093 - mse: 77.0093\n",
      "Epoch 2/10\n",
      "404/404 [==============================] - 0s 66us/step - loss: 77.0731 - mse: 77.0731\n",
      "Epoch 3/10\n",
      "404/404 [==============================] - 0s 33us/step - loss: 77.2765 - mse: 77.2765\n",
      "Epoch 4/10\n",
      "404/404 [==============================] - 0s 21us/step - loss: 79.0802 - mse: 79.0802\n",
      "Epoch 5/10\n",
      "404/404 [==============================] - 0s 14us/step - loss: 77.5045 - mse: 77.5045\n",
      "Epoch 6/10\n",
      "404/404 [==============================] - 0s 14us/step - loss: 77.0580 - mse: 77.0580\n",
      "Epoch 7/10\n",
      "404/404 [==============================] - 0s 15us/step - loss: 78.2971 - mse: 78.2971\n",
      "Epoch 8/10\n",
      "404/404 [==============================] - 0s 28us/step - loss: 77.4874 - mse: 77.4874\n",
      "Epoch 9/10\n",
      "404/404 [==============================] - 0s 18us/step - loss: 79.7340 - mse: 79.7340\n",
      "Epoch 10/10\n",
      "404/404 [==============================] - 0s 24us/step - loss: 77.0675 - mse: 77.0675\n"
     ]
    },
    {
     "data": {
      "text/plain": [
       "<keras.callbacks.callbacks.History at 0x7f5f94e439e8>"
      ]
     },
     "execution_count": 37,
     "metadata": {},
     "output_type": "execute_result"
    }
   ],
   "source": [
    "model.fit(X_train, y_train, batch_size = 200, epochs = 10, verbose = 1)"
   ]
  },
  {
   "cell_type": "markdown",
   "metadata": {},
   "source": [
    "### 3. Evaluation\n",
    "- Keras model can be evaluated with evaluate() function\n",
    "- Evaluation results are contained in a list\n",
    "    - Doc (metrics): https://keras.io/metrics/"
   ]
  },
  {
   "cell_type": "code",
   "execution_count": 38,
   "metadata": {},
   "outputs": [
    {
     "name": "stdout",
     "output_type": "stream",
     "text": [
      "102/102 [==============================] - 0s 160us/step\n"
     ]
    }
   ],
   "source": [
    "results = model.evaluate(X_test, y_test)"
   ]
  },
  {
   "cell_type": "code",
   "execution_count": 39,
   "metadata": {},
   "outputs": [
    {
     "name": "stdout",
     "output_type": "stream",
     "text": [
      "['loss', 'mse']\n",
      "[77.59952141256893, 77.59952545166016]\n"
     ]
    }
   ],
   "source": [
    "print(model.metrics_names)     # list of metric names the model is employing\n",
    "print(results)                 # actual figure of metrics computed"
   ]
  },
  {
   "cell_type": "code",
   "execution_count": 40,
   "metadata": {},
   "outputs": [
    {
     "name": "stdout",
     "output_type": "stream",
     "text": [
      "loss:  77.59952141256893\n",
      "accuracy:  77.59952545166016\n"
     ]
    }
   ],
   "source": [
    "print('loss: ', results[0])\n",
    "print('accuracy: ', results[1])"
   ]
  },
  {
   "cell_type": "markdown",
   "metadata": {},
   "source": [
    "# Famous Loss Functions"
   ]
  },
  {
   "cell_type": "markdown",
   "metadata": {},
   "source": [
    "## Squared Error Loss\n",
    "![](https://i1.wp.com/s3-ap-south-1.amazonaws.com/av-blog-media/wp-content/uploads/2019/08/mse.jpg.jpg?resize=289%2C96&ssl=1)"
   ]
  },
  {
   "cell_type": "markdown",
   "metadata": {},
   "source": [
    "## Absolute Error Loss\n",
    "![](https://i2.wp.com/s3-ap-south-1.amazonaws.com/av-blog-media/wp-content/uploads/2019/08/mae.jpg.jpg?resize=277%2C94&ssl=1)"
   ]
  },
  {
   "cell_type": "markdown",
   "metadata": {},
   "source": [
    "## Huber Loss\n",
    "![](https://i2.wp.com/s3-ap-south-1.amazonaws.com/av-blog-media/wp-content/uploads/2019/08/huber.jpg.jpg?resize=513%2C202&ssl=1)"
   ]
  },
  {
   "cell_type": "markdown",
   "metadata": {},
   "source": [
    "## Binary Cross Entropy Loss\n",
    "![](https://i0.wp.com/s3-ap-south-1.amazonaws.com/av-blog-media/wp-content/uploads/2019/06/entropy.jpg1.jpg?resize=418%2C132&ssl=1)"
   ]
  },
  {
   "cell_type": "markdown",
   "metadata": {},
   "source": [
    "## Multi-Class Cross Entropy Loss\n",
    "![](https://i1.wp.com/s3-ap-south-1.amazonaws.com/av-blog-media/wp-content/uploads/2019/06/mce.jpg1.jpg?resize=679%2C210&ssl=1)"
   ]
  },
  {
   "cell_type": "markdown",
   "metadata": {},
   "source": [
    "## KL-Divergence\n",
    "![](https://i1.wp.com/s3-ap-south-1.amazonaws.com/av-blog-media/wp-content/uploads/2019/06/kl.jpg1.jpg?resize=624%2C280&ssl=1)"
   ]
  },
  {
   "cell_type": "markdown",
   "metadata": {},
   "source": [
    "[Reference](https://www.analyticsvidhya.com/blog/2019/08/detailed-guide-7-loss-functions-machine-learning-python-code/)"
   ]
  },
  {
   "cell_type": "code",
   "execution_count": null,
   "metadata": {},
   "outputs": [],
   "source": []
  },
  {
   "cell_type": "code",
   "execution_count": null,
   "metadata": {},
   "outputs": [],
   "source": []
  },
  {
   "cell_type": "code",
   "execution_count": null,
   "metadata": {},
   "outputs": [],
   "source": []
  }
 ],
 "metadata": {
  "kernelspec": {
   "display_name": "Python 3",
   "language": "python",
   "name": "python3"
  },
  "language_info": {
   "codemirror_mode": {
    "name": "ipython",
    "version": 3
   },
   "file_extension": ".py",
   "mimetype": "text/x-python",
   "name": "python",
   "nbconvert_exporter": "python",
   "pygments_lexer": "ipython3",
   "version": "3.6.6"
  }
 },
 "nbformat": 4,
 "nbformat_minor": 2
}
