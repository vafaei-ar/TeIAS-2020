{
 "cells": [
  {
   "cell_type": "markdown",
   "metadata": {},
   "source": [
    "![](https://image.shutterstock.com/image-photo/angry-people-screaming-260nw-292800785.jpg)"
   ]
  },
  {
   "cell_type": "markdown",
   "metadata": {},
   "source": [
    "[Reference](http://neuralnetworksanddeeplearning.com/)"
   ]
  },
  {
   "cell_type": "markdown",
   "metadata": {},
   "source": [
    "- Neural networks, a beautiful biologically-inspired programming paradigm which enables a computer to learn from observational data\n",
    "- Deep learning, a powerful set of techniques for learning in neural networks "
   ]
  },
  {
   "cell_type": "markdown",
   "metadata": {},
   "source": [
    "### An example:\n",
    "\n",
    "![](https://encrypted-tbn0.gstatic.com/images?q=tbn:ANd9GcS3I7goOlpVqv9_FZ_k6w4V0c56SCziU8klbsBBgh2TTL7eg3u9)"
   ]
  },
  {
   "cell_type": "markdown",
   "metadata": {},
   "source": [
    "### Let's take a very closer look and brain:"
   ]
  },
  {
   "cell_type": "markdown",
   "metadata": {},
   "source": [
    "![](https://d3i71xaburhd42.cloudfront.net/4807bf70ab59417a295d92c54954832577812bfe/4-Figure1-1.png)"
   ]
  },
  {
   "cell_type": "markdown",
   "metadata": {},
   "source": [
    "### Perceptrons"
   ]
  },
  {
   "cell_type": "markdown",
   "metadata": {},
   "source": [
    "\\begin{eqnarray}\n",
    "  \\mbox{output} & = & \\left\\{ \\begin{array}{ll}\n",
    "      0 & \\mbox{if } \\sum_j w_j x_j \\leq \\mbox{ threshold} \\\\\n",
    "      1 & \\mbox{if } \\sum_j w_j x_j > \\mbox{ threshold}\n",
    "      \\end{array} \\right.\n",
    "\\tag{1}\\end{eqnarray}"
   ]
  },
  {
   "cell_type": "markdown",
   "metadata": {},
   "source": [
    "### Now we can make a neural network:"
   ]
  },
  {
   "cell_type": "markdown",
   "metadata": {},
   "source": [
    "![](http://neuralnetworksanddeeplearning.com/images/tikz1.png)"
   ]
  },
  {
   "cell_type": "markdown",
   "metadata": {},
   "source": [
    "\\begin{eqnarray}\n",
    "  \\mbox{output} = \\left\\{ \n",
    "    \\begin{array}{ll} \n",
    "      0 & \\mbox{if } w\\cdot x + b \\leq 0 \\\\\n",
    "      1 & \\mbox{if } w\\cdot x + b > 0\n",
    "    \\end{array}\n",
    "  \\right.\n",
    "\\tag{2}\\end{eqnarray}"
   ]
  },
  {
   "cell_type": "code",
   "execution_count": 41,
   "metadata": {},
   "outputs": [],
   "source": [
    "%matplotlib inline\n",
    "import numpy as np\n",
    "import pylab as plt"
   ]
  },
  {
   "cell_type": "code",
   "execution_count": 42,
   "metadata": {},
   "outputs": [
    {
     "data": {
      "text/plain": [
       "[<matplotlib.lines.Line2D at 0x7f5f950e2e80>]"
      ]
     },
     "execution_count": 42,
     "metadata": {},
     "output_type": "execute_result"
    },
    {
     "data": {
      "image/png": "[encoded data removed]",
      "text/plain": [
       "<Figure size 432x288 with 1 Axes>"
      ]
     },
     "metadata": {
      "needs_background": "light"
     },
     "output_type": "display_data"
    }
   ],
   "source": [
    "z = np.linspace(-1,1,100)\n",
    "plt.plot(z,np.heaviside(z,0))"
   ]
  },
  {
   "cell_type": "markdown",
   "metadata": {},
   "source": [
    "### Activation function needs to be differentiable!"
   ]
  },
  {
   "cell_type": "markdown",
   "metadata": {},
   "source": [
    "![](http://neuralnetworksanddeeplearning.com/images/tikz8.png)"
   ]
  },
  {
   "cell_type": "markdown",
   "metadata": {},
   "source": [
    "$$\\mathcal{A}(w \\cdot x+b)$$"
   ]
  },
  {
   "cell_type": "markdown",
   "metadata": {},
   "source": [
    "\\begin{eqnarray} \n",
    "  \\frac{1}{1+\\exp(-\\sum_j w_j x_j-b)}.\n",
    "\\tag{4}\\end{eqnarray}"
   ]
  },
  {
   "cell_type": "code",
   "execution_count": 43,
   "metadata": {},
   "outputs": [
    {
     "data": {
      "text/plain": [
       "[<matplotlib.lines.Line2D at 0x7f5f9160ea90>]"
      ]
     },
     "execution_count": 43,
     "metadata": {},
     "output_type": "execute_result"
    },
    {
     "data": {
      "image/png": "[encoded data removed]",
      "text/plain": [
       "<Figure size 432x288 with 1 Axes>"
      ]
     },
     "metadata": {
      "needs_background": "light"
     },
     "output_type": "display_data"
    }
   ],
   "source": [
    "def sigmoid(z):\n",
    "    return 1/(1+np.exp(-z))\n",
    "\n",
    "z = np.linspace(-10,10,100)\n",
    "plt.plot(z,sigmoid(z))"
   ]
  },
  {
   "cell_type": "markdown",
   "metadata": {},
   "source": [
    "### Multilayer perceptrons or MLPs"
   ]
  },
  {
   "cell_type": "markdown",
   "metadata": {},
   "source": [
    "![](http://neuralnetworksanddeeplearning.com/images/tikz11.png)"
   ]
  },
  {
   "cell_type": "markdown",
   "metadata": {},
   "source": [
    "### The arrows show the NN is feedforward."
   ]
  },
  {
   "cell_type": "markdown",
   "metadata": {},
   "source": [
    "### Going back to the numbers problem ([MNIST](http://yann.lecun.com/exdb/mnist/))"
   ]
  },
  {
   "cell_type": "code",
   "execution_count": 58,
   "metadata": {},
   "outputs": [],
   "source": [
    "from keras.datasets import mnist\n",
    "\n",
    "(x_train, y_train), (x_test, y_test) = mnist.load_data()"
   ]
  },
  {
   "cell_type": "code",
   "execution_count": 59,
   "metadata": {},
   "outputs": [
    {
     "name": "stdout",
     "output_type": "stream",
     "text": [
      "(60000, 28, 28) (60000,)\n"
     ]
    }
   ],
   "source": [
    "print(x_train.shape, y_train.shape)"
   ]
  },
  {
   "cell_type": "code",
   "execution_count": 60,
   "metadata": {},
   "outputs": [
    {
     "name": "stdout",
     "output_type": "stream",
     "text": [
      "1\n"
     ]
    },
    {
     "data": {
      "image/png": "[encoded data removed]",
      "text/plain": [
       "<Figure size 432x288 with 1 Axes>"
      ]
     },
     "metadata": {
      "needs_background": "light"
     },
     "output_type": "display_data"
    }
   ],
   "source": [
    "ii = np.random.randint(x_train.shape[0])\n",
    "\n",
    "plt.imshow(x_train[ii])\n",
    "print(y_train[ii])"
   ]
  },
  {
   "cell_type": "markdown",
   "metadata": {},
   "source": [
    "![](http://neuralnetworksanddeeplearning.com/images/tikz12.png)"
   ]
  },
  {
   "cell_type": "code",
   "execution_count": 61,
   "metadata": {},
   "outputs": [
    {
     "data": {
      "text/plain": [
       "array([5, 0, 4, ..., 5, 6, 8], dtype=uint8)"
      ]
     },
     "execution_count": 61,
     "metadata": {},
     "output_type": "execute_result"
    }
   ],
   "source": [
    "y_train"
   ]
  },
  {
   "cell_type": "code",
   "execution_count": 62,
   "metadata": {},
   "outputs": [],
   "source": [
    "def vectorized_result(j):\n",
    "    \"\"\"Return a 10-dimensional unit vector with a 1.0 in the jth\n",
    "    position and zeroes elsewhere.  This is used to convert a digit\n",
    "    (0...9) into a corresponding desired output from the neural\n",
    "    network.\"\"\"\n",
    "    e = np.zeros((10, 1))\n",
    "    e[j] = 1.0\n",
    "    return e"
   ]
  },
  {
   "cell_type": "code",
   "execution_count": 63,
   "metadata": {},
   "outputs": [],
   "source": [
    "x_train = x_train.reshape(-1,28*28)\n",
    "y_train = np.array([vectorized_result(y) for y in y_train]).reshape(-1,10)\n",
    "x_test = x_test.reshape(-1,28*28)\n",
    "y_test = np.array([vectorized_result(y) for y in y_test]).reshape(-1,10)"
   ]
  },
  {
   "cell_type": "code",
   "execution_count": 64,
   "metadata": {},
   "outputs": [
    {
     "data": {
      "text/plain": [
       "array([0., 0., 0., 0., 0., 1., 0., 0., 0., 0.])"
      ]
     },
     "execution_count": 64,
     "metadata": {},
     "output_type": "execute_result"
    }
   ],
   "source": [
    "y_train[0]"
   ]
  },
  {
   "cell_type": "code",
   "execution_count": 65,
   "metadata": {},
   "outputs": [],
   "source": [
    "import keras\n",
    "from keras.models import Sequential\n",
    "from keras.layers import Dense, Dropout, Activation\n",
    "from keras.optimizers import SGD\n",
    "\n",
    "model = Sequential()\n",
    "# Dense(64) is a fully-connected layer with 64 hidden units.\n",
    "# in the first layer, you must specify the expected input data shape:\n",
    "# here, 20-dimensional vectors.\n",
    "model.add(Dense(30, activation='relu', input_dim=28*28))\n",
    "model.add(Dense(10, activation='softmax'))\n",
    "\n",
    "sgd = SGD(lr=0.01)\n",
    "model.compile(loss='categorical_crossentropy',\n",
    "              optimizer=sgd,\n",
    "              metrics=['accuracy'])"
   ]
  },
  {
   "cell_type": "code",
   "execution_count": 66,
   "metadata": {},
   "outputs": [
    {
     "name": "stdout",
     "output_type": "stream",
     "text": [
      "Model: \"sequential_6\"\n",
      "_________________________________________________________________\n",
      "Layer (type)                 Output Shape              Param #   \n",
      "=================================================================\n",
      "dense_15 (Dense)             (None, 30)                23550     \n",
      "_________________________________________________________________\n",
      "dense_16 (Dense)             (None, 10)                310       \n",
      "=================================================================\n",
      "Total params: 23,860\n",
      "Trainable params: 23,860\n",
      "Non-trainable params: 0\n",
      "_________________________________________________________________\n"
     ]
    }
   ],
   "source": [
    "model.summary()"
   ]
  },
  {
   "cell_type": "code",
   "execution_count": 67,
   "metadata": {},
   "outputs": [
    {
     "name": "stdout",
     "output_type": "stream",
     "text": [
      "Epoch 1/20\n",
      "60000/60000 [==============================] - 1s 13us/step - loss: 3.7743 - accuracy: 0.1832\n",
      "Epoch 2/20\n",
      "60000/60000 [==============================] - 1s 12us/step - loss: 2.0739 - accuracy: 0.2028\n",
      "Epoch 3/20\n",
      "60000/60000 [==============================] - 1s 12us/step - loss: 1.9838 - accuracy: 0.2420\n",
      "Epoch 4/20\n",
      "60000/60000 [==============================] - 1s 13us/step - loss: 1.8870 - accuracy: 0.2756\n",
      "Epoch 5/20\n",
      "60000/60000 [==============================] - 1s 15us/step - loss: 1.8629 - accuracy: 0.2797\n",
      "Epoch 6/20\n",
      "60000/60000 [==============================] - 1s 13us/step - loss: 1.8261 - accuracy: 0.2842\n",
      "Epoch 7/20\n",
      "60000/60000 [==============================] - 1s 15us/step - loss: 1.8118 - accuracy: 0.2886\n",
      "Epoch 8/20\n",
      "60000/60000 [==============================] - 1s 12us/step - loss: 1.9157 - accuracy: 0.2519\n",
      "Epoch 9/20\n",
      "60000/60000 [==============================] - 1s 12us/step - loss: 2.0178 - accuracy: 0.2118\n",
      "Epoch 10/20\n",
      "60000/60000 [==============================] - 1s 13us/step - loss: 2.0067 - accuracy: 0.2130\n",
      "Epoch 11/20\n",
      "60000/60000 [==============================] - 1s 13us/step - loss: 2.0037 - accuracy: 0.2114\n",
      "Epoch 12/20\n",
      "60000/60000 [==============================] - 1s 13us/step - loss: 1.9997 - accuracy: 0.2115\n",
      "Epoch 13/20\n",
      "60000/60000 [==============================] - 1s 14us/step - loss: 1.9902 - accuracy: 0.2134\n",
      "Epoch 14/20\n",
      "60000/60000 [==============================] - 1s 14us/step - loss: 2.0014 - accuracy: 0.2122\n",
      "Epoch 15/20\n",
      "60000/60000 [==============================] - 1s 14us/step - loss: 1.9629 - accuracy: 0.2324\n",
      "Epoch 16/20\n",
      "60000/60000 [==============================] - 1s 13us/step - loss: 1.8960 - accuracy: 0.2584\n",
      "Epoch 17/20\n",
      "60000/60000 [==============================] - 1s 12us/step - loss: 1.8609 - accuracy: 0.2731\n",
      "Epoch 18/20\n",
      "60000/60000 [==============================] - 1s 14us/step - loss: 1.8544 - accuracy: 0.2732\n",
      "Epoch 19/20\n",
      "60000/60000 [==============================] - 1s 12us/step - loss: 1.8420 - accuracy: 0.2760\n",
      "Epoch 20/20\n",
      "60000/60000 [==============================] - 1s 13us/step - loss: 1.8386 - accuracy: 0.2772\n",
      "10000/10000 [==============================] - 0s 10us/step\n"
     ]
    }
   ],
   "source": [
    "model.fit(x_train, y_train,\n",
    "          epochs=20,\n",
    "          batch_size=128)"
   ]
  },
  {
   "cell_type": "code",
   "execution_count": 68,
   "metadata": {},
   "outputs": [
    {
     "name": "stdout",
     "output_type": "stream",
     "text": [
      "10000/10000 [==============================] - 0s 9us/step\n"
     ]
    }
   ],
   "source": [
    "score = model.evaluate(x_test, y_test, batch_size=128)"
   ]
  },
  {
   "cell_type": "code",
   "execution_count": 69,
   "metadata": {},
   "outputs": [
    {
     "data": {
      "text/plain": [
       "[1.8213214612960815, 0.2782999873161316]"
      ]
     },
     "execution_count": 69,
     "metadata": {},
     "output_type": "execute_result"
    }
   ],
   "source": [
    "score"
   ]
  },
  {
   "cell_type": "code",
   "execution_count": 76,
   "metadata": {},
   "outputs": [
    {
     "name": "stdout",
     "output_type": "stream",
     "text": [
      "Model: \"model_5\"\n",
      "_________________________________________________________________\n",
      "Layer (type)                 Output Shape              Param #   \n",
      "=================================================================\n",
      "input_layer (InputLayer)     (None, 784)               0         \n",
      "_________________________________________________________________\n",
      "layer-1 (Dense)              (None, 30)                23550     \n",
      "_________________________________________________________________\n",
      "layer-2 (Dense)              (None, 10)                310       \n",
      "=================================================================\n",
      "Total params: 23,860\n",
      "Trainable params: 23,860\n",
      "Non-trainable params: 0\n",
      "_________________________________________________________________\n"
     ]
    }
   ],
   "source": [
    "import keras\n",
    "from keras.models import Model\n",
    "from keras.layers import Input, Dense, Dropout, Activation\n",
    "from keras.optimizers import SGD\n",
    "\n",
    "x_in = Input(shape=(28*28,),name='input_layer')\n",
    "x1 = Dense(30,\n",
    "           activation='relu',\n",
    "           input_dim=28*28,\n",
    "           name='layer-1')(x_in)\n",
    "\n",
    "x2 = Dense(10,\n",
    "           activation='softmax',\n",
    "           name='layer-2')(x1)\n",
    "\n",
    "model = Model(inputs=[x_in],outputs=[x2])\n",
    "model.summary()"
   ]
  },
  {
   "cell_type": "code",
   "execution_count": 77,
   "metadata": {},
   "outputs": [],
   "source": [
    "sgd = SGD(lr=0.01)\n",
    "model.compile(loss='categorical_crossentropy',\n",
    "              optimizer=sgd,\n",
    "              metrics=['accuracy'])\n"
   ]
  },
  {
   "cell_type": "code",
   "execution_count": 78,
   "metadata": {},
   "outputs": [
    {
     "name": "stdout",
     "output_type": "stream",
     "text": [
      "Epoch 1/20\n",
      "60000/60000 [==============================] - 1s 12us/step - loss: 3.7316 - accuracy: 0.1867\n",
      "Epoch 2/20\n",
      "60000/60000 [==============================] - 1s 14us/step - loss: 2.0584 - accuracy: 0.2226\n",
      "Epoch 3/20\n",
      "60000/60000 [==============================] - 1s 12us/step - loss: 2.0196 - accuracy: 0.2345\n",
      "Epoch 4/20\n",
      "60000/60000 [==============================] - 1s 13us/step - loss: 1.9786 - accuracy: 0.2463\n",
      "Epoch 5/20\n",
      "60000/60000 [==============================] - 1s 12us/step - loss: 1.9436 - accuracy: 0.2570\n",
      "Epoch 6/20\n",
      "60000/60000 [==============================] - 1s 13us/step - loss: 1.9278 - accuracy: 0.2622\n",
      "Epoch 7/20\n",
      "60000/60000 [==============================] - 1s 12us/step - loss: 1.9486 - accuracy: 0.2578\n",
      "Epoch 8/20\n",
      "60000/60000 [==============================] - 1s 14us/step - loss: 1.9229 - accuracy: 0.2617\n",
      "Epoch 9/20\n",
      "60000/60000 [==============================] - 1s 12us/step - loss: 1.9182 - accuracy: 0.2633\n",
      "Epoch 10/20\n",
      "60000/60000 [==============================] - 1s 13us/step - loss: 1.9314 - accuracy: 0.2610\n",
      "Epoch 11/20\n",
      "60000/60000 [==============================] - 1s 12us/step - loss: 1.9088 - accuracy: 0.2654\n",
      "Epoch 12/20\n",
      "60000/60000 [==============================] - 1s 13us/step - loss: 1.9218 - accuracy: 0.2613\n",
      "Epoch 13/20\n",
      "60000/60000 [==============================] - 1s 13us/step - loss: 1.8975 - accuracy: 0.2678\n",
      "Epoch 14/20\n",
      "60000/60000 [==============================] - 1s 11us/step - loss: 1.9002 - accuracy: 0.2670\n",
      "Epoch 15/20\n",
      "60000/60000 [==============================] - 1s 14us/step - loss: 1.9346 - accuracy: 0.2586\n",
      "Epoch 16/20\n",
      "60000/60000 [==============================] - 1s 12us/step - loss: 1.9009 - accuracy: 0.2652\n",
      "Epoch 17/20\n",
      "60000/60000 [==============================] - 1s 12us/step - loss: 1.9968 - accuracy: 0.2415\n",
      "Epoch 18/20\n",
      "60000/60000 [==============================] - 1s 12us/step - loss: 1.8986 - accuracy: 0.2662\n",
      "Epoch 19/20\n",
      "60000/60000 [==============================] - 1s 12us/step - loss: 1.9105 - accuracy: 0.2652\n",
      "Epoch 20/20\n",
      "60000/60000 [==============================] - 1s 15us/step - loss: 1.9095 - accuracy: 0.2633\n"
     ]
    }
   ],
   "source": [
    "history = model.fit(x_train,y_train,epochs=20,batch_size=128)"
   ]
  },
  {
   "cell_type": "code",
   "execution_count": 83,
   "metadata": {},
   "outputs": [
    {
     "data": {
      "text/plain": [
       "[<tf.Variable 'layer-1_2/kernel:0' shape=(784, 30) dtype=float32, numpy=\n",
       " array([[-0.0541045 , -0.03272625,  0.07537361, ...,  0.03840913,\n",
       "          0.07351724,  0.02489997],\n",
       "        [-0.01743929,  0.02480133, -0.03109419, ..., -0.02269403,\n",
       "         -0.07807899, -0.03554087],\n",
       "        [ 0.03046632, -0.08105048, -0.05276664, ...,  0.0129194 ,\n",
       "          0.03348399, -0.00972317],\n",
       "        ...,\n",
       "        [-0.04795606,  0.03138547, -0.06077447, ...,  0.02830656,\n",
       "         -0.03357159,  0.06342835],\n",
       "        [ 0.03630394,  0.00091434,  0.0128255 , ..., -0.08245108,\n",
       "         -0.00340126,  0.07042164],\n",
       "        [ 0.06489775, -0.05820342, -0.00295708, ...,  0.04991683,\n",
       "          0.03642176,  0.00786474]], dtype=float32)>,\n",
       " <tf.Variable 'layer-1_2/bias:0' shape=(30,) dtype=float32, numpy=\n",
       " array([-0.00059162, -0.00031174, -0.0003843 , -0.00026466, -0.00022694,\n",
       "        -0.00040816, -0.00027154, -0.0003972 , -0.00074417, -0.00054189,\n",
       "        -0.00239426, -0.0007254 , -0.00097115, -0.00026469, -0.00278513,\n",
       "        -0.00014769, -0.00034628,  0.0015389 , -0.00126526, -0.00146342,\n",
       "        -0.00101497, -0.000866  , -0.00190585, -0.00074865, -0.00089866,\n",
       "        -0.00021481, -0.00078533, -0.00050606, -0.00187651, -0.00326058],\n",
       "       dtype=float32)>]"
      ]
     },
     "execution_count": 83,
     "metadata": {},
     "output_type": "execute_result"
    }
   ],
   "source": [
    "model.layers[1].weights"
   ]
  },
  {
   "cell_type": "code",
   "execution_count": 85,
   "metadata": {},
   "outputs": [
    {
     "data": {
      "text/plain": [
       "<matplotlib.image.AxesImage at 0x7f5f935714a8>"
      ]
     },
     "execution_count": 85,
     "metadata": {},
     "output_type": "execute_result"
    },
    {
     "data": {
      "image/png": "[encoded data removed]",
      "text/plain": [
       "<Figure size 432x288 with 1 Axes>"
      ]
     },
     "metadata": {
      "needs_background": "light"
     },
     "output_type": "display_data"
    }
   ],
   "source": [
    "plt.imshow(x_test[0].reshape(28,28))"
   ]
  },
  {
   "cell_type": "code",
   "execution_count": 88,
   "metadata": {},
   "outputs": [
    {
     "data": {
      "text/plain": [
       "(1, 784)"
      ]
     },
     "execution_count": 88,
     "metadata": {},
     "output_type": "execute_result"
    }
   ],
   "source": [
    "x_test[0:1].shape"
   ]
  },
  {
   "cell_type": "code",
   "execution_count": 90,
   "metadata": {},
   "outputs": [
    {
     "data": {
      "text/plain": [
       "7"
      ]
     },
     "execution_count": 90,
     "metadata": {},
     "output_type": "execute_result"
    }
   ],
   "source": [
    "np.argmax(model.predict(x_test[0:1]))"
   ]
  },
  {
   "cell_type": "code",
   "execution_count": null,
   "metadata": {},
   "outputs": [],
   "source": []
  },
  {
   "cell_type": "markdown",
   "metadata": {},
   "source": [
    "# AND WE NEED A GOOD COMPUTER!"
   ]
  },
  {
   "cell_type": "markdown",
   "metadata": {},
   "source": [
    "![](https://miro.medium.com/max/776/1*Eb4YFMdn8LJhxjJCuykiLg.png)"
   ]
  },
  {
   "cell_type": "code",
   "execution_count": 91,
   "metadata": {},
   "outputs": [],
   "source": [
    "from keras.datasets import boston_housing"
   ]
  },
  {
   "cell_type": "code",
   "execution_count": 92,
   "metadata": {},
   "outputs": [],
   "source": [
    "(X_train, y_train), (X_test, y_test) = boston_housing.load_data()"
   ]
  },
  {
   "cell_type": "markdown",
   "metadata": {},
   "source": [
    "### Dataset Description\n",
    "- Boston housing dataset has total 506 data instances (404 training & 102 test)\n",
    "- 13 attributes (features) to predict \"the median values of the houses at a location\"\n",
    "- Doc: https://keras.io/datasets/"
   ]
  },
  {
   "cell_type": "code",
   "execution_count": 93,
   "metadata": {},
   "outputs": [
    {
     "name": "stdout",
     "output_type": "stream",
     "text": [
      "(404, 13)\n",
      "(102, 13)\n",
      "(404,)\n",
      "(102,)\n"
     ]
    }
   ],
   "source": [
    "print(X_train.shape)\n",
    "print(X_test.shape)\n",
    "print(y_train.shape)\n",
    "print(y_test.shape)"
   ]
  },
  {
   "cell_type": "code",
   "execution_count": 94,
   "metadata": {},
   "outputs": [],
   "source": [
    "from keras.models import Sequential\n",
    "from keras.layers import Activation, Dense"
   ]
  },
  {
   "cell_type": "code",
   "execution_count": 99,
   "metadata": {},
   "outputs": [],
   "source": [
    "model = Sequential()\n",
    "model.add(Dense(10, input_shape = (13,)))    \n",
    "model.add(Activation('tanh'))\n",
    "model.add(Dense(10))                        \n",
    "model.add(Activation('tanh'))\n",
    "model.add(Dense(10))                       \n",
    "model.add(Activation('tanh'))\n",
    "model.add(Dense(1))  \n",
    "\n",
    "model.compile(optimizer = 'sgd', loss = 'mse')"
   ]
  },
  {
   "cell_type": "code",
   "execution_count": 96,
   "metadata": {},
   "outputs": [],
   "source": [
    "# This is equivalent to the above code block\n",
    "model = Sequential()\n",
    "model.add(Dense(10, input_shape = (13,), activation = 'sigmoid'))\n",
    "model.add(Dense(10, activation = 'sigmoid'))\n",
    "model.add(Dense(10, activation = 'sigmoid'))\n",
    "model.add(Dense(1))"
   ]
  },
  {
   "cell_type": "code",
   "execution_count": 100,
   "metadata": {},
   "outputs": [],
   "source": [
    "from keras import optimizers"
   ]
  },
  {
   "cell_type": "code",
   "execution_count": 101,
   "metadata": {},
   "outputs": [],
   "source": [
    "sgd = optimizers.SGD(lr = 0.01)    # stochastic gradient descent optimizer"
   ]
  },
  {
   "cell_type": "code",
   "execution_count": 102,
   "metadata": {},
   "outputs": [],
   "source": [
    "model.compile(optimizer = sgd, loss = 'mean_squared_error', metrics = ['mse'])    # for regression problems, mean squared error (MSE) is often employed"
   ]
  },
  {
   "cell_type": "markdown",
   "metadata": {},
   "source": [
    "### Summary of the model"
   ]
  },
  {
   "cell_type": "code",
   "execution_count": 103,
   "metadata": {
    "scrolled": false
   },
   "outputs": [
    {
     "name": "stdout",
     "output_type": "stream",
     "text": [
      "Model: \"sequential_9\"\n",
      "_________________________________________________________________\n",
      "Layer (type)                 Output Shape              Param #   \n",
      "=================================================================\n",
      "dense_30 (Dense)             (None, 10)                140       \n",
      "_________________________________________________________________\n",
      "activation_7 (Activation)    (None, 10)                0         \n",
      "_________________________________________________________________\n",
      "dense_31 (Dense)             (None, 10)                110       \n",
      "_________________________________________________________________\n",
      "activation_8 (Activation)    (None, 10)                0         \n",
      "_________________________________________________________________\n",
      "dense_32 (Dense)             (None, 10)                110       \n",
      "_________________________________________________________________\n",
      "activation_9 (Activation)    (None, 10)                0         \n",
      "_________________________________________________________________\n",
      "dense_33 (Dense)             (None, 1)                 11        \n",
      "=================================================================\n",
      "Total params: 371\n",
      "Trainable params: 371\n",
      "Non-trainable params: 0\n",
      "_________________________________________________________________\n"
     ]
    }
   ],
   "source": [
    "model.summary()"
   ]
  },
  {
   "cell_type": "markdown",
   "metadata": {},
   "source": [
    "### 2. Training\n",
    "- Training the model with training data provided"
   ]
  },
  {
   "cell_type": "code",
   "execution_count": 104,
   "metadata": {},
   "outputs": [
    {
     "name": "stdout",
     "output_type": "stream",
     "text": [
      "Epoch 1/100\n",
      "404/404 [==============================] - 0s 193us/step - loss: 280.5018 - mse: 280.5018\n",
      "Epoch 2/100\n",
      "404/404 [==============================] - 0s 48us/step - loss: 88.6452 - mse: 88.6452\n",
      "Epoch 3/100\n",
      "404/404 [==============================] - 0s 46us/step - loss: 82.3068 - mse: 82.3068\n",
      "Epoch 4/100\n",
      "404/404 [==============================] - 0s 31us/step - loss: 77.5539 - mse: 77.5539\n",
      "Epoch 5/100\n",
      "404/404 [==============================] - 0s 37us/step - loss: 77.3340 - mse: 77.3340\n",
      "Epoch 6/100\n",
      "404/404 [==============================] - 0s 41us/step - loss: 76.1818 - mse: 76.1818\n",
      "Epoch 7/100\n",
      "404/404 [==============================] - 0s 41us/step - loss: 84.9779 - mse: 84.9779\n",
      "Epoch 8/100\n",
      "404/404 [==============================] - 0s 36us/step - loss: 86.1767 - mse: 86.1767\n",
      "Epoch 9/100\n",
      "404/404 [==============================] - 0s 28us/step - loss: 86.0187 - mse: 86.0187\n",
      "Epoch 10/100\n",
      "404/404 [==============================] - 0s 54us/step - loss: 85.6429 - mse: 85.6429\n",
      "Epoch 11/100\n",
      "404/404 [==============================] - 0s 51us/step - loss: 85.2739 - mse: 85.2738\n",
      "Epoch 12/100\n",
      "404/404 [==============================] - 0s 32us/step - loss: 85.1592 - mse: 85.1592\n",
      "Epoch 13/100\n",
      "404/404 [==============================] - 0s 41us/step - loss: 84.9405 - mse: 84.9405\n",
      "Epoch 14/100\n",
      "404/404 [==============================] - 0s 41us/step - loss: 86.2996 - mse: 86.2995\n",
      "Epoch 15/100\n",
      "404/404 [==============================] - 0s 34us/step - loss: 86.3779 - mse: 86.3779\n",
      "Epoch 16/100\n",
      "404/404 [==============================] - 0s 33us/step - loss: 85.3212 - mse: 85.3212\n",
      "Epoch 17/100\n",
      "404/404 [==============================] - 0s 48us/step - loss: 84.8672 - mse: 84.8672\n",
      "Epoch 18/100\n",
      "404/404 [==============================] - 0s 47us/step - loss: 84.8931 - mse: 84.8931\n",
      "Epoch 19/100\n",
      "404/404 [==============================] - 0s 38us/step - loss: 85.2429 - mse: 85.2429\n",
      "Epoch 20/100\n",
      "404/404 [==============================] - 0s 50us/step - loss: 85.8177 - mse: 85.8176\n",
      "Epoch 21/100\n",
      "404/404 [==============================] - 0s 38us/step - loss: 85.4106 - mse: 85.4106\n",
      "Epoch 22/100\n",
      "404/404 [==============================] - 0s 39us/step - loss: 84.8829 - mse: 84.8829\n",
      "Epoch 23/100\n",
      "404/404 [==============================] - 0s 39us/step - loss: 86.0949 - mse: 86.0949\n",
      "Epoch 24/100\n",
      "404/404 [==============================] - 0s 30us/step - loss: 85.2963 - mse: 85.2963\n",
      "Epoch 25/100\n",
      "404/404 [==============================] - 0s 32us/step - loss: 85.4459 - mse: 85.4458\n",
      "Epoch 26/100\n",
      "404/404 [==============================] - 0s 39us/step - loss: 85.2212 - mse: 85.2212\n",
      "Epoch 27/100\n",
      "404/404 [==============================] - 0s 40us/step - loss: 84.9078 - mse: 84.9078\n",
      "Epoch 28/100\n",
      "404/404 [==============================] - 0s 43us/step - loss: 85.1228 - mse: 85.1228\n",
      "Epoch 29/100\n",
      "404/404 [==============================] - 0s 46us/step - loss: 85.0764 - mse: 85.0764\n",
      "Epoch 30/100\n",
      "404/404 [==============================] - 0s 34us/step - loss: 84.8732 - mse: 84.8732\n",
      "Epoch 31/100\n",
      "404/404 [==============================] - 0s 27us/step - loss: 84.9909 - mse: 84.9909\n",
      "Epoch 32/100\n",
      "404/404 [==============================] - 0s 35us/step - loss: 87.6546 - mse: 87.6546\n",
      "Epoch 33/100\n",
      "404/404 [==============================] - 0s 35us/step - loss: 86.1705 - mse: 86.1705\n",
      "Epoch 34/100\n",
      "404/404 [==============================] - 0s 35us/step - loss: 84.7882 - mse: 84.7882\n",
      "Epoch 35/100\n",
      "404/404 [==============================] - 0s 39us/step - loss: 85.2738 - mse: 85.2738\n",
      "Epoch 36/100\n",
      "404/404 [==============================] - 0s 40us/step - loss: 84.7827 - mse: 84.7827\n",
      "Epoch 37/100\n",
      "404/404 [==============================] - 0s 36us/step - loss: 85.1586 - mse: 85.1586\n",
      "Epoch 38/100\n",
      "404/404 [==============================] - 0s 51us/step - loss: 84.9580 - mse: 84.9580\n",
      "Epoch 39/100\n",
      "404/404 [==============================] - 0s 39us/step - loss: 84.8355 - mse: 84.8355\n",
      "Epoch 40/100\n",
      "404/404 [==============================] - 0s 45us/step - loss: 84.9633 - mse: 84.9633\n",
      "Epoch 41/100\n",
      "404/404 [==============================] - 0s 29us/step - loss: 85.0074 - mse: 85.0074\n",
      "Epoch 42/100\n",
      "404/404 [==============================] - 0s 42us/step - loss: 85.0304 - mse: 85.0304\n",
      "Epoch 43/100\n",
      "404/404 [==============================] - 0s 48us/step - loss: 84.9443 - mse: 84.9443\n",
      "Epoch 44/100\n",
      "404/404 [==============================] - 0s 55us/step - loss: 85.0424 - mse: 85.0424\n",
      "Epoch 45/100\n",
      "404/404 [==============================] - 0s 36us/step - loss: 85.1705 - mse: 85.1705\n",
      "Epoch 46/100\n",
      "404/404 [==============================] - 0s 34us/step - loss: 85.1284 - mse: 85.1284\n",
      "Epoch 47/100\n",
      "404/404 [==============================] - 0s 41us/step - loss: 85.0883 - mse: 85.0883\n",
      "Epoch 48/100\n",
      "404/404 [==============================] - 0s 32us/step - loss: 84.9262 - mse: 84.9262\n",
      "Epoch 49/100\n",
      "404/404 [==============================] - 0s 46us/step - loss: 85.7650 - mse: 85.7650\n",
      "Epoch 50/100\n",
      "404/404 [==============================] - 0s 48us/step - loss: 86.3392 - mse: 86.3392\n",
      "Epoch 51/100\n",
      "404/404 [==============================] - 0s 50us/step - loss: 86.2141 - mse: 86.2141\n",
      "Epoch 52/100\n",
      "404/404 [==============================] - 0s 41us/step - loss: 85.2622 - mse: 85.2622\n",
      "Epoch 53/100\n",
      "404/404 [==============================] - 0s 59us/step - loss: 85.4004 - mse: 85.4004\n",
      "Epoch 54/100\n",
      "404/404 [==============================] - 0s 52us/step - loss: 84.9449 - mse: 84.9449\n",
      "Epoch 55/100\n",
      "404/404 [==============================] - 0s 41us/step - loss: 85.2436 - mse: 85.2436\n",
      "Epoch 56/100\n",
      "404/404 [==============================] - 0s 37us/step - loss: 86.5676 - mse: 86.5676\n",
      "Epoch 57/100\n",
      "404/404 [==============================] - 0s 50us/step - loss: 85.2498 - mse: 85.2498\n",
      "Epoch 58/100\n",
      "404/404 [==============================] - 0s 51us/step - loss: 85.2587 - mse: 85.2587\n",
      "Epoch 59/100\n",
      "404/404 [==============================] - 0s 36us/step - loss: 85.1914 - mse: 85.1914\n",
      "Epoch 60/100\n",
      "404/404 [==============================] - 0s 26us/step - loss: 85.1687 - mse: 85.1687\n",
      "Epoch 61/100\n",
      "404/404 [==============================] - 0s 50us/step - loss: 85.6311 - mse: 85.6311\n",
      "Epoch 62/100\n",
      "404/404 [==============================] - 0s 44us/step - loss: 85.5724 - mse: 85.5724\n",
      "Epoch 63/100\n",
      "404/404 [==============================] - 0s 44us/step - loss: 84.7762 - mse: 84.7762\n",
      "Epoch 64/100\n",
      "404/404 [==============================] - 0s 36us/step - loss: 85.1111 - mse: 85.1111\n",
      "Epoch 65/100\n",
      "404/404 [==============================] - 0s 32us/step - loss: 84.9617 - mse: 84.9617\n",
      "Epoch 66/100\n",
      "404/404 [==============================] - 0s 42us/step - loss: 84.9611 - mse: 84.9611\n",
      "Epoch 67/100\n",
      "404/404 [==============================] - 0s 31us/step - loss: 84.6818 - mse: 84.6818\n",
      "Epoch 68/100\n",
      "404/404 [==============================] - 0s 36us/step - loss: 84.7686 - mse: 84.7686\n",
      "Epoch 69/100\n",
      "404/404 [==============================] - 0s 37us/step - loss: 84.9616 - mse: 84.9616\n",
      "Epoch 70/100\n",
      "404/404 [==============================] - 0s 35us/step - loss: 85.5848 - mse: 85.5848\n",
      "Epoch 71/100\n",
      "404/404 [==============================] - 0s 29us/step - loss: 84.9279 - mse: 84.9279\n",
      "Epoch 72/100\n",
      "404/404 [==============================] - 0s 27us/step - loss: 85.7700 - mse: 85.7700\n",
      "Epoch 73/100\n",
      "404/404 [==============================] - 0s 23us/step - loss: 85.4047 - mse: 85.4047\n",
      "Epoch 74/100\n",
      "404/404 [==============================] - 0s 29us/step - loss: 85.3819 - mse: 85.3819\n",
      "Epoch 75/100\n",
      "404/404 [==============================] - 0s 23us/step - loss: 85.9064 - mse: 85.9064\n",
      "Epoch 76/100\n",
      "404/404 [==============================] - 0s 24us/step - loss: 85.0159 - mse: 85.0158\n",
      "Epoch 77/100\n",
      "404/404 [==============================] - 0s 25us/step - loss: 85.2425 - mse: 85.2424\n",
      "Epoch 78/100\n",
      "404/404 [==============================] - 0s 29us/step - loss: 84.9920 - mse: 84.9920\n",
      "Epoch 79/100\n",
      "404/404 [==============================] - 0s 26us/step - loss: 85.2100 - mse: 85.2100\n",
      "Epoch 80/100\n",
      "404/404 [==============================] - 0s 25us/step - loss: 85.2533 - mse: 85.2533\n",
      "Epoch 81/100\n",
      "404/404 [==============================] - 0s 30us/step - loss: 85.1789 - mse: 85.1789\n",
      "Epoch 82/100\n",
      "404/404 [==============================] - 0s 31us/step - loss: 84.8750 - mse: 84.8750\n"
     ]
    },
    {
     "name": "stdout",
     "output_type": "stream",
     "text": [
      "Epoch 83/100\n",
      "404/404 [==============================] - 0s 28us/step - loss: 84.9674 - mse: 84.9674\n",
      "Epoch 84/100\n",
      "404/404 [==============================] - 0s 26us/step - loss: 85.0261 - mse: 85.0261\n",
      "Epoch 85/100\n",
      "404/404 [==============================] - 0s 32us/step - loss: 84.8147 - mse: 84.8147\n",
      "Epoch 86/100\n",
      "404/404 [==============================] - 0s 31us/step - loss: 85.0486 - mse: 85.0486\n",
      "Epoch 87/100\n",
      "404/404 [==============================] - 0s 36us/step - loss: 85.3336 - mse: 85.3336\n",
      "Epoch 88/100\n",
      "404/404 [==============================] - 0s 36us/step - loss: 85.2314 - mse: 85.2314\n",
      "Epoch 89/100\n",
      "404/404 [==============================] - 0s 32us/step - loss: 85.0297 - mse: 85.0297\n",
      "Epoch 90/100\n",
      "404/404 [==============================] - 0s 44us/step - loss: 85.1038 - mse: 85.1038\n",
      "Epoch 91/100\n",
      "404/404 [==============================] - 0s 27us/step - loss: 84.6853 - mse: 84.6853\n",
      "Epoch 92/100\n",
      "404/404 [==============================] - 0s 22us/step - loss: 85.0146 - mse: 85.0146\n",
      "Epoch 93/100\n",
      "404/404 [==============================] - 0s 40us/step - loss: 86.2467 - mse: 86.2467\n",
      "Epoch 94/100\n",
      "404/404 [==============================] - 0s 25us/step - loss: 84.9741 - mse: 84.9741\n",
      "Epoch 95/100\n",
      "404/404 [==============================] - 0s 41us/step - loss: 87.4263 - mse: 87.4263\n",
      "Epoch 96/100\n",
      "404/404 [==============================] - 0s 25us/step - loss: 85.8178 - mse: 85.8178\n",
      "Epoch 97/100\n",
      "404/404 [==============================] - 0s 42us/step - loss: 85.0414 - mse: 85.0414\n",
      "Epoch 98/100\n",
      "404/404 [==============================] - 0s 38us/step - loss: 85.0037 - mse: 85.0037\n",
      "Epoch 99/100\n",
      "404/404 [==============================] - 0s 34us/step - loss: 84.8184 - mse: 84.8184\n",
      "Epoch 100/100\n",
      "404/404 [==============================] - 0s 32us/step - loss: 84.9363 - mse: 84.9363\n"
     ]
    },
    {
     "data": {
      "text/plain": [
       "<keras.callbacks.callbacks.History at 0x7f5f9386c160>"
      ]
     },
     "execution_count": 104,
     "metadata": {},
     "output_type": "execute_result"
    }
   ],
   "source": [
    "model.fit(X_train, y_train, batch_size = 50, epochs = 100, verbose = 1)"
   ]
  },
  {
   "cell_type": "markdown",
   "metadata": {},
   "source": [
    "### 3. Evaluation\n",
    "- Keras model can be evaluated with evaluate() function\n",
    "- Evaluation results are contained in a list\n",
    "    - Doc (metrics): https://keras.io/metrics/"
   ]
  },
  {
   "cell_type": "code",
   "execution_count": 105,
   "metadata": {},
   "outputs": [
    {
     "name": "stdout",
     "output_type": "stream",
     "text": [
      "102/102 [==============================] - 0s 284us/step\n"
     ]
    }
   ],
   "source": [
    "results = model.evaluate(X_test, y_test)"
   ]
  },
  {
   "cell_type": "code",
   "execution_count": 106,
   "metadata": {},
   "outputs": [
    {
     "name": "stdout",
     "output_type": "stream",
     "text": [
      "['loss', 'mse']\n",
      "[83.30722404928768, 83.3072280883789]\n"
     ]
    }
   ],
   "source": [
    "print(model.metrics_names)     # list of metric names the model is employing\n",
    "print(results)                 # actual figure of metrics computed"
   ]
  },
  {
   "cell_type": "code",
   "execution_count": 107,
   "metadata": {},
   "outputs": [
    {
     "name": "stdout",
     "output_type": "stream",
     "text": [
      "loss:  83.30722404928768\n",
      "mse:  83.3072280883789\n"
     ]
    }
   ],
   "source": [
    "print('loss: ', results[0])\n",
    "print('mse: ', results[1])"
   ]
  },
  {
   "cell_type": "markdown",
   "metadata": {},
   "source": [
    "## MLP for classification tasks\n",
    "- When the target (**y**) is discrete (categorical)\n",
    "- For loss function, cross-entropy is used and for evaluation metric, accuracy is commonly used"
   ]
  },
  {
   "cell_type": "code",
   "execution_count": 1,
   "metadata": {},
   "outputs": [],
   "source": [
    "from sklearn.datasets import load_breast_cancer\n",
    "from sklearn.model_selection import train_test_split"
   ]
  },
  {
   "cell_type": "code",
   "execution_count": 10,
   "metadata": {},
   "outputs": [],
   "source": [
    "whole_data = load_breast_cancer()"
   ]
  },
  {
   "cell_type": "code",
   "execution_count": 11,
   "metadata": {},
   "outputs": [],
   "source": [
    "X_data = whole_data.data\n",
    "y_data = whole_data.target"
   ]
  },
  {
   "cell_type": "code",
   "execution_count": 12,
   "metadata": {},
   "outputs": [],
   "source": [
    "X_train, X_test, y_train, y_test = train_test_split(X_data, y_data, test_size = 0.3, random_state = 7) "
   ]
  },
  {
   "cell_type": "markdown",
   "metadata": {},
   "source": [
    "### Dataset Description\n",
    "- Breast cancer dataset has total 569 data instances (212 malign, 357 benign instances)\n",
    "- 30 attributes (features) to predict the binary class (M/B)\n",
    "- Doc: http://scikit-learn.org/stable/modules/generated/sklearn.datasets.load_breast_cancer.html#sklearn.datasets.load_breast_cancer"
   ]
  },
  {
   "cell_type": "code",
   "execution_count": 13,
   "metadata": {},
   "outputs": [
    {
     "name": "stdout",
     "output_type": "stream",
     "text": [
      "(398, 30)\n",
      "(171, 30)\n",
      "(398,)\n",
      "(171,)\n"
     ]
    }
   ],
   "source": [
    "print(X_train.shape)\n",
    "print(X_test.shape)\n",
    "print(y_train.shape)\n",
    "print(y_test.shape)"
   ]
  },
  {
   "cell_type": "markdown",
   "metadata": {},
   "source": [
    "### 1. Creating a model\n",
    "- Same with regression model at the outset"
   ]
  },
  {
   "cell_type": "code",
   "execution_count": 2,
   "metadata": {},
   "outputs": [
    {
     "name": "stderr",
     "output_type": "stream",
     "text": [
      "Using TensorFlow backend.\n"
     ]
    }
   ],
   "source": [
    "from keras.models import Sequential"
   ]
  },
  {
   "cell_type": "markdown",
   "metadata": {},
   "source": [
    "### 1-1. Adding layers\n",
    "- Keras layers can be **added** to the model\n",
    "- Adding layers are like stacking lego blocks one by one\n",
    "- It should be noted that as this is a classification problem, sigmoid layer (softmax for multi-class problems) should be added\n",
    "- Doc: https://keras.io/layers/core/"
   ]
  },
  {
   "cell_type": "code",
   "execution_count": 72,
   "metadata": {},
   "outputs": [],
   "source": [
    "# Keras model with two hidden layer with 10 neurons each \n",
    "model = Sequential()\n",
    "model.add(Dense(10, input_shape = (30,)))    # Input layer => input_shape should be explicitly designated\n",
    "model.add(Activation('sigmoid'))\n",
    "model.add(Dense(10))                         # Hidden layer => only output dimension should be designated\n",
    "model.add(Activation('sigmoid'))\n",
    "model.add(Dense(10))                         # Hidden layer => only output dimension should be designated\n",
    "model.add(Activation('sigmoid'))\n",
    "model.add(Dense(1))                          # Output layer => output dimension = 1 since it is regression problem\n",
    "model.add(Activation('sigmoid'))"
   ]
  },
  {
   "cell_type": "code",
   "execution_count": 4,
   "metadata": {},
   "outputs": [],
   "source": [
    "# This is equivalent to the above code block\n",
    "model = Sequential()\n",
    "model.add(Dense(10, input_shape = (30,), activation = 'sigmoid'))\n",
    "model.add(Dense(10, activation = 'sigmoid'))\n",
    "model.add(Dense(10, activation = 'sigmoid'))\n",
    "model.add(Dense(1, activation = 'sigmoid'))"
   ]
  },
  {
   "cell_type": "markdown",
   "metadata": {},
   "source": [
    "### 1-2. Model compile\n",
    "- Keras model should be \"compiled\" prior to training\n",
    "- Types of loss (function) and optimizer should be designated\n",
    "    - Doc (optimizers): https://keras.io/optimizers/\n",
    "    - Doc (losses): https://keras.io/losses/"
   ]
  },
  {
   "cell_type": "code",
   "execution_count": 5,
   "metadata": {},
   "outputs": [],
   "source": [
    "from keras import optimizers"
   ]
  },
  {
   "cell_type": "code",
   "execution_count": 6,
   "metadata": {},
   "outputs": [],
   "source": [
    "sgd = optimizers.SGD(lr = 0.01)    # stochastic gradient descent optimizer"
   ]
  },
  {
   "cell_type": "code",
   "execution_count": 7,
   "metadata": {},
   "outputs": [],
   "source": [
    "model.compile(optimizer = sgd, loss = 'binary_crossentropy', metrics = ['accuracy'])"
   ]
  },
  {
   "cell_type": "markdown",
   "metadata": {},
   "source": [
    "### Summary of the model"
   ]
  },
  {
   "cell_type": "code",
   "execution_count": 8,
   "metadata": {
    "scrolled": true
   },
   "outputs": [
    {
     "name": "stdout",
     "output_type": "stream",
     "text": [
      "_________________________________________________________________\n",
      "Layer (type)                 Output Shape              Param #   \n",
      "=================================================================\n",
      "dense_1 (Dense)              (None, 10)                310       \n",
      "_________________________________________________________________\n",
      "dense_2 (Dense)              (None, 10)                110       \n",
      "_________________________________________________________________\n",
      "dense_3 (Dense)              (None, 10)                110       \n",
      "_________________________________________________________________\n",
      "dense_4 (Dense)              (None, 1)                 11        \n",
      "=================================================================\n",
      "Total params: 541\n",
      "Trainable params: 541\n",
      "Non-trainable params: 0\n",
      "_________________________________________________________________\n"
     ]
    }
   ],
   "source": [
    "model.summary()"
   ]
  },
  {
   "cell_type": "markdown",
   "metadata": {},
   "source": [
    "### 2. Training\n",
    "- Training the model with training data provided"
   ]
  },
  {
   "cell_type": "code",
   "execution_count": 37,
   "metadata": {},
   "outputs": [
    {
     "name": "stdout",
     "output_type": "stream",
     "text": [
      "Epoch 1/10\n",
      "404/404 [==============================] - 0s 69us/step - loss: 77.0093 - mse: 77.0093\n",
      "Epoch 2/10\n",
      "404/404 [==============================] - 0s 66us/step - loss: 77.0731 - mse: 77.0731\n",
      "Epoch 3/10\n",
      "404/404 [==============================] - 0s 33us/step - loss: 77.2765 - mse: 77.2765\n",
      "Epoch 4/10\n",
      "404/404 [==============================] - 0s 21us/step - loss: 79.0802 - mse: 79.0802\n",
      "Epoch 5/10\n",
      "404/404 [==============================] - 0s 14us/step - loss: 77.5045 - mse: 77.5045\n",
      "Epoch 6/10\n",
      "404/404 [==============================] - 0s 14us/step - loss: 77.0580 - mse: 77.0580\n",
      "Epoch 7/10\n",
      "404/404 [==============================] - 0s 15us/step - loss: 78.2971 - mse: 78.2971\n",
      "Epoch 8/10\n",
      "404/404 [==============================] - 0s 28us/step - loss: 77.4874 - mse: 77.4874\n",
      "Epoch 9/10\n",
      "404/404 [==============================] - 0s 18us/step - loss: 79.7340 - mse: 79.7340\n",
      "Epoch 10/10\n",
      "404/404 [==============================] - 0s 24us/step - loss: 77.0675 - mse: 77.0675\n"
     ]
    },
    {
     "data": {
      "text/plain": [
       "<keras.callbacks.callbacks.History at 0x7f5f94e439e8>"
      ]
     },
     "execution_count": 37,
     "metadata": {},
     "output_type": "execute_result"
    }
   ],
   "source": [
    "model.fit(X_train, y_train, batch_size = 200, epochs = 10, verbose = 1)"
   ]
  },
  {
   "cell_type": "markdown",
   "metadata": {},
   "source": [
    "### 3. Evaluation\n",
    "- Keras model can be evaluated with evaluate() function\n",
    "- Evaluation results are contained in a list\n",
    "    - Doc (metrics): https://keras.io/metrics/"
   ]
  },
  {
   "cell_type": "code",
   "execution_count": 38,
   "metadata": {},
   "outputs": [
    {
     "name": "stdout",
     "output_type": "stream",
     "text": [
      "102/102 [==============================] - 0s 160us/step\n"
     ]
    }
   ],
   "source": [
    "results = model.evaluate(X_test, y_test)"
   ]
  },
  {
   "cell_type": "code",
   "execution_count": 39,
   "metadata": {},
   "outputs": [
    {
     "name": "stdout",
     "output_type": "stream",
     "text": [
      "['loss', 'mse']\n",
      "[77.59952141256893, 77.59952545166016]\n"
     ]
    }
   ],
   "source": [
    "print(model.metrics_names)     # list of metric names the model is employing\n",
    "print(results)                 # actual figure of metrics computed"
   ]
  },
  {
   "cell_type": "code",
   "execution_count": 40,
   "metadata": {},
   "outputs": [
    {
     "name": "stdout",
     "output_type": "stream",
     "text": [
      "loss:  77.59952141256893\n",
      "accuracy:  77.59952545166016\n"
     ]
    }
   ],
   "source": [
    "print('loss: ', results[0])\n",
    "print('accuracy: ', results[1])"
   ]
  },
  {
   "cell_type": "markdown",
   "metadata": {},
   "source": [
    "# Famous Loss Functions"
   ]
  },
  {
   "cell_type": "markdown",
   "metadata": {},
   "source": [
    "## Squared Error Loss\n",
    "![](https://i1.wp.com/s3-ap-south-1.amazonaws.com/av-blog-media/wp-content/uploads/2019/08/mse.jpg.jpg?resize=289%2C96&ssl=1)"
   ]
  },
  {
   "cell_type": "markdown",
   "metadata": {},
   "source": [
    "## Absolute Error Loss\n",
    "![](https://i2.wp.com/s3-ap-south-1.amazonaws.com/av-blog-media/wp-content/uploads/2019/08/mae.jpg.jpg?resize=277%2C94&ssl=1)"
   ]
  },
  {
   "cell_type": "markdown",
   "metadata": {},
   "source": [
    "## Huber Loss\n",
    "![](https://i2.wp.com/s3-ap-south-1.amazonaws.com/av-blog-media/wp-content/uploads/2019/08/huber.jpg.jpg?resize=513%2C202&ssl=1)"
   ]
  },
  {
   "cell_type": "markdown",
   "metadata": {},
   "source": [
    "## Binary Cross Entropy Loss\n",
    "![](https://i0.wp.com/s3-ap-south-1.amazonaws.com/av-blog-media/wp-content/uploads/2019/06/entropy.jpg1.jpg?resize=418%2C132&ssl=1)"
   ]
  },
  {
   "cell_type": "markdown",
   "metadata": {},
   "source": [
    "## Multi-Class Cross Entropy Loss\n",
    "![](https://i1.wp.com/s3-ap-south-1.amazonaws.com/av-blog-media/wp-content/uploads/2019/06/mce.jpg1.jpg?resize=679%2C210&ssl=1)"
   ]
  },
  {
   "cell_type": "markdown",
   "metadata": {},
   "source": [
    "## KL-Divergence\n",
    "![](https://i1.wp.com/s3-ap-south-1.amazonaws.com/av-blog-media/wp-content/uploads/2019/06/kl.jpg1.jpg?resize=624%2C280&ssl=1)"
   ]
  },
  {
   "cell_type": "markdown",
   "metadata": {},
   "source": [
    "[Reference](https://www.analyticsvidhya.com/blog/2019/08/detailed-guide-7-loss-functions-machine-learning-python-code/)"
   ]
  },
  {
   "cell_type": "code",
   "execution_count": null,
   "metadata": {},
   "outputs": [],
   "source": []
  },
  {
   "cell_type": "code",
   "execution_count": null,
   "metadata": {},
   "outputs": [],
   "source": []
  },
  {
   "cell_type": "code",
   "execution_count": null,
   "metadata": {},
   "outputs": [],
   "source": []
  }
 ],
 "metadata": {
  "kernelspec": {
   "display_name": "Python 3",
   "language": "python",
   "name": "python3"
  },
  "language_info": {
   "codemirror_mode": {
    "name": "ipython",
    "version": 3
   },
   "file_extension": ".py",
   "mimetype": "text/x-python",
   "name": "python",
   "nbconvert_exporter": "python",
   "pygments_lexer": "ipython3",
   "version": "3.6.6"
  }
 },
 "nbformat": 4,
 "nbformat_minor": 2
}
