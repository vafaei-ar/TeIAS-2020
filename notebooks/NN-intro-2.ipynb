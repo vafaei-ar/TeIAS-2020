{
 "cells": [
  {
   "cell_type": "markdown",
   "metadata": {},
   "source": [
    "# Advanced MLP\n",
    "- Advanced techniques for training neural networks\n",
    "    - Weight Initialization\n",
    "    - Nonlinearity (Activation function)\n",
    "    - Optimizers\n",
    "    - Batch Normalization\n",
    "    - Dropout (Regularization)\n",
    "    - Model Ensemble"
   ]
  },
  {
   "cell_type": "code",
   "execution_count": 129,
   "metadata": {},
   "outputs": [],
   "source": [
    "import matplotlib.pyplot as plt\n",
    "\n",
    "import numpy as np\n",
    "from sklearn.model_selection import train_test_split\n",
    "from keras.datasets import mnist\n",
    "from keras.models import Sequential\n",
    "from keras.utils.np_utils import to_categorical"
   ]
  },
  {
   "cell_type": "markdown",
   "metadata": {},
   "source": [
    "## Load Dataset\n",
    "- MNIST dataset\n",
    "- source: http://yann.lecun.com/exdb/mnist/"
   ]
  },
  {
   "cell_type": "code",
   "execution_count": 184,
   "metadata": {},
   "outputs": [],
   "source": [
    "(X_train, y_train), (X_test, y_test) = mnist.load_data()"
   ]
  },
  {
   "cell_type": "code",
   "execution_count": 185,
   "metadata": {},
   "outputs": [
    {
     "data": {
      "image/png": "[encoded data removed]",
      "text/plain": [
       "<Figure size 432x288 with 1 Axes>"
      ]
     },
     "metadata": {
      "needs_background": "light"
     },
     "output_type": "display_data"
    },
    {
     "name": "stdout",
     "output_type": "stream",
     "text": [
      "Label:  5\n"
     ]
    }
   ],
   "source": [
    "ii = np.random.randint(100)\n",
    "\n",
    "plt.imshow(X_train[ii])    # show first number in the dataset\n",
    "plt.show()\n",
    "print('Label: ', y_train[ii])"
   ]
  },
  {
   "cell_type": "code",
   "execution_count": 186,
   "metadata": {},
   "outputs": [
    {
     "data": {
      "image/png": "[encoded data removed]",
      "text/plain": [
       "<Figure size 432x288 with 1 Axes>"
      ]
     },
     "metadata": {
      "needs_background": "light"
     },
     "output_type": "display_data"
    },
    {
     "name": "stdout",
     "output_type": "stream",
     "text": [
      "Label:  7\n"
     ]
    }
   ],
   "source": [
    "plt.imshow(X_test[0])    # show first number in the dataset\n",
    "plt.show()\n",
    "print('Label: ', y_test[0])"
   ]
  },
  {
   "cell_type": "code",
   "execution_count": 187,
   "metadata": {},
   "outputs": [
    {
     "data": {
      "text/plain": [
       "(60000, 28, 28)"
      ]
     },
     "execution_count": 187,
     "metadata": {},
     "output_type": "execute_result"
    }
   ],
   "source": [
    "X_train.shape"
   ]
  },
  {
   "cell_type": "code",
   "execution_count": 188,
   "metadata": {},
   "outputs": [],
   "source": [
    "# reshaping X data: (n, 28, 28) => (n, 784)\n",
    "X_train = X_train.reshape((X_train.shape[0], -1))\n",
    "X_test = X_test.reshape((X_test.shape[0], -1))"
   ]
  },
  {
   "cell_type": "code",
   "execution_count": 189,
   "metadata": {},
   "outputs": [
    {
     "data": {
      "text/plain": [
       "(60000, 784)"
      ]
     },
     "execution_count": 189,
     "metadata": {},
     "output_type": "execute_result"
    }
   ],
   "source": [
    "X_train.shape"
   ]
  },
  {
   "cell_type": "code",
   "execution_count": 136,
   "metadata": {},
   "outputs": [],
   "source": [
    "# use only 33% of training data to expedite the training process\n",
    "X_train, _ , y_train, _ = train_test_split(X_train, y_train, test_size = 0.67, random_state = 7)"
   ]
  },
  {
   "cell_type": "code",
   "execution_count": 137,
   "metadata": {},
   "outputs": [
    {
     "data": {
      "text/plain": [
       "array([6, 9, 2, ..., 5, 5, 3], dtype=uint8)"
      ]
     },
     "execution_count": 137,
     "metadata": {},
     "output_type": "execute_result"
    }
   ],
   "source": [
    "y_train"
   ]
  },
  {
   "cell_type": "code",
   "execution_count": null,
   "metadata": {},
   "outputs": [],
   "source": []
  },
  {
   "cell_type": "markdown",
   "metadata": {},
   "source": [
    "# Make a dataset!"
   ]
  },
  {
   "cell_type": "code",
   "execution_count": 138,
   "metadata": {},
   "outputs": [],
   "source": [
    "from scipy.ndimage.filters import gaussian_filter"
   ]
  },
  {
   "cell_type": "code",
   "execution_count": 139,
   "metadata": {},
   "outputs": [],
   "source": [
    "import numpy as np\n",
    "from skimage.draw import (line, polygon,polygon_perimeter,\n",
    "                          circle, circle_perimeter,\n",
    "                          ellipse, ellipse_perimeter,\n",
    "                          bezier_curve)\n",
    "\n",
    "def random_inside(img,num=1,margin=0):\n",
    "    '''\n",
    "    This function will return a random positon in an image.\n",
    "    '''\n",
    "    lx,ly = img.shape[:2]\n",
    "    x = np.random.randint(margin,lx-margin,num)\n",
    "    y = np.random.randint(margin,ly-margin,num)\n",
    "    return np.c_[x,y]\n",
    "\n",
    "def draw_circle(img,center=None,rs=None,rmin=10,rmax=20,fill=False,value=1):\n",
    "    if fill:\n",
    "        drawer = circle\n",
    "    else:\n",
    "        drawer = circle_perimeter\n",
    "    if center is None or rs is None:\n",
    "        rs = np.random.randint(rmin,rmax)\n",
    "        center = random_inside(img,num=1,margin=rmax)[0]\n",
    "\n",
    "    rr, cc = drawer(center[0], center[1], rs, shape=img.shape)\n",
    "    img[rr, cc] += value\n",
    "    return img\n",
    "\n",
    "def draw_polygon(img,polys,fill=False,value=1):\n",
    "    if fill:\n",
    "        drawer = polygon\n",
    "    else:\n",
    "        drawer = polygon_perimeter\n",
    "    for poly in polys:\n",
    "        rr, cc = drawer(poly[:, 0], poly[:, 1],shape=img.shape)\n",
    "        img[rr, cc] += value\n",
    "    return img\n",
    "\n",
    "def draw_square(img,center=None,ll=None,lmax=10,fill=False,value=1):  \n",
    "    if ll is None:\n",
    "        lx = np.random.randint(5,lmax)\n",
    "        ly = np.random.randint(5,lmax)\n",
    "    else:\n",
    "        lx = ll[0]\n",
    "        ly = ll[1]\n",
    "    if center is None:\n",
    "        center = np.array([np.random.randint(lx,img.shape[0]-lx),\n",
    "                           np.random.randint(ly,img.shape[1]-ly)])\n",
    "        \n",
    "    exes = np.array([[-lx,-ly],[-lx,ly],[lx,ly],[lx,-ly]])\n",
    "    poly = np.array([[center+ex for ex in exes]])        \n",
    "    img = draw_polygon(img,polys=poly,fill=fill,value=value)\n",
    "    return img\n",
    "\n",
    "def add_noise(img,mu=0,sigma=1,ls=0):\n",
    "    noise = np.random.normal(mu,sigma,img.shape)\n",
    "    if ls!=0:\n",
    "        noise = gaussian_filter(noise,ls)\n",
    "        \n",
    "    return img+noise"
   ]
  },
  {
   "cell_type": "code",
   "execution_count": 147,
   "metadata": {},
   "outputs": [
    {
     "data": {
      "text/plain": [
       "<matplotlib.image.AxesImage at 0x7f03648933c8>"
      ]
     },
     "execution_count": 147,
     "metadata": {},
     "output_type": "execute_result"
    },
    {
     "data": {
      "image/png": "[encoded data removed]",
      "text/plain": [
       "<Figure size 432x288 with 1 Axes>"
      ]
     },
     "metadata": {
      "needs_background": "light"
     },
     "output_type": "display_data"
    }
   ],
   "source": [
    "img = np.zeros((64,64))\n",
    "img = draw_circle(img,center=None,rs=None,rmin=10,rmax=20,fill=False,value=1)\n",
    "plt.imshow(img)"
   ]
  },
  {
   "cell_type": "code",
   "execution_count": 158,
   "metadata": {},
   "outputs": [
    {
     "data": {
      "text/plain": [
       "<matplotlib.image.AxesImage at 0x7f031d449748>"
      ]
     },
     "execution_count": 158,
     "metadata": {},
     "output_type": "execute_result"
    },
    {
     "data": {
      "image/png": "[encoded data removed]",
      "text/plain": [
       "<Figure size 432x288 with 1 Axes>"
      ]
     },
     "metadata": {
      "needs_background": "light"
     },
     "output_type": "display_data"
    }
   ],
   "source": [
    "img = np.zeros((64,64))\n",
    "img = draw_square(img,center=None,ll=None,fill=False,value=1)\n",
    "plt.imshow(img)"
   ]
  },
  {
   "cell_type": "code",
   "execution_count": 165,
   "metadata": {},
   "outputs": [
    {
     "data": {
      "text/plain": [
       "<matplotlib.image.AxesImage at 0x7f030b44e630>"
      ]
     },
     "execution_count": 165,
     "metadata": {},
     "output_type": "execute_result"
    },
    {
     "data": {
      "image/png": "[encoded data removed]",
      "text/plain": [
       "<Figure size 432x288 with 1 Axes>"
      ]
     },
     "metadata": {
      "needs_background": "light"
     },
     "output_type": "display_data"
    }
   ],
   "source": [
    "img = np.zeros((64,64))\n",
    "img = draw_circle(img,center=None,rs=None,rmin=10,rmax=20,fill=False,value=1)\n",
    "# img = draw_circle(img,center=None,rs=None,rmin=10,rmax=20,fill=False,value=1)\n",
    "img = add_noise(img,mu=0,sigma=0.7,ls=2)\n",
    "plt.imshow(img)"
   ]
  },
  {
   "cell_type": "code",
   "execution_count": 166,
   "metadata": {},
   "outputs": [
    {
     "data": {
      "text/plain": [
       "<matplotlib.image.AxesImage at 0x7f030b428b70>"
      ]
     },
     "execution_count": 166,
     "metadata": {},
     "output_type": "execute_result"
    },
    {
     "data": {
      "image/png": "[encoded data removed]",
      "text/plain": [
       "<Figure size 432x288 with 1 Axes>"
      ]
     },
     "metadata": {
      "needs_background": "light"
     },
     "output_type": "display_data"
    }
   ],
   "source": [
    "img = np.zeros((64,64))\n",
    "img = draw_square(img,center=None,ll=None,fill=False,value=1)\n",
    "img = add_noise(img,mu=0,sigma=0.7,ls=2)\n",
    "plt.imshow(img)"
   ]
  },
  {
   "cell_type": "code",
   "execution_count": 167,
   "metadata": {},
   "outputs": [],
   "source": [
    "X_total = []\n",
    "y_total = []\n",
    "for i in range(1000):\n",
    "    img = np.zeros((32,32))\n",
    "    img = draw_circle(img,center=None,rs=None,rmin=5,rmax=15,fill=False,value=1)\n",
    "#     img = add_noise(img,mu=0,sigma=0.7,ls=2)\n",
    "    X_total.append(img)\n",
    "    y_total.append(0)\n",
    "    \n",
    "    img = np.zeros((32,32))\n",
    "    img = draw_square(img,center=None,ll=None,fill=False,value=1)\n",
    "#     img = add_noise(img,mu=0,sigma=0.7,ls=2)\n",
    "    X_total.append(img)\n",
    "    y_total.append(1)\n",
    "\n",
    "X_total = np.array(X_total).reshape(-1,32*32)\n",
    "y_total = np.array(y_total)"
   ]
  },
  {
   "cell_type": "code",
   "execution_count": 172,
   "metadata": {},
   "outputs": [],
   "source": [
    "X_train, X_test, y_train, y_test = train_test_split(X_total,\n",
    "                                                    y_total,\n",
    "                                                    test_size = 0.33,\n",
    "                                                    random_state = 7)"
   ]
  },
  {
   "cell_type": "code",
   "execution_count": 196,
   "metadata": {},
   "outputs": [],
   "source": [
    "# converting y data into categorical (one-hot encoding)\n",
    "y_train = to_categorical(y_train)\n",
    "y_test = to_categorical(y_test)"
   ]
  },
  {
   "cell_type": "code",
   "execution_count": 197,
   "metadata": {},
   "outputs": [
    {
     "data": {
      "text/plain": [
       "array([[0., 0., 0., ..., 0., 0., 0.],\n",
       "       [1., 0., 0., ..., 0., 0., 0.],\n",
       "       [0., 0., 0., ..., 0., 0., 0.],\n",
       "       ...,\n",
       "       [0., 0., 0., ..., 0., 0., 0.],\n",
       "       [0., 0., 0., ..., 0., 0., 0.],\n",
       "       [0., 0., 0., ..., 0., 1., 0.]], dtype=float32)"
      ]
     },
     "execution_count": 197,
     "metadata": {},
     "output_type": "execute_result"
    }
   ],
   "source": [
    "y_train"
   ]
  },
  {
   "cell_type": "code",
   "execution_count": 198,
   "metadata": {},
   "outputs": [
    {
     "name": "stdout",
     "output_type": "stream",
     "text": [
      "(60000, 784) (10000, 784) (60000, 10) (10000, 10)\n"
     ]
    }
   ],
   "source": [
    "print(X_train.shape, X_test.shape, y_train.shape, y_test.shape)"
   ]
  },
  {
   "cell_type": "code",
   "execution_count": 190,
   "metadata": {},
   "outputs": [],
   "source": [
    "n_input = 784#1024\n",
    "n_output = 10"
   ]
  },
  {
   "cell_type": "markdown",
   "metadata": {},
   "source": [
    "## Basic MLP model\n",
    "- Naive MLP model without any alterations"
   ]
  },
  {
   "cell_type": "code",
   "execution_count": 191,
   "metadata": {},
   "outputs": [],
   "source": [
    "from keras.models import Sequential\n",
    "from keras.layers import Activation, Dense\n",
    "from keras import optimizers"
   ]
  },
  {
   "cell_type": "code",
   "execution_count": 200,
   "metadata": {},
   "outputs": [],
   "source": [
    "model = Sequential()"
   ]
  },
  {
   "cell_type": "code",
   "execution_count": 201,
   "metadata": {},
   "outputs": [],
   "source": [
    "model.add(Dense(50, input_shape = (n_input, )))\n",
    "model.add(Activation('sigmoid'))\n",
    "model.add(Dense(50))\n",
    "model.add(Activation('sigmoid'))\n",
    "model.add(Dense(50))\n",
    "model.add(Activation('sigmoid'))\n",
    "model.add(Dense(50))\n",
    "model.add(Activation('sigmoid'))\n",
    "model.add(Dense(n_output))\n",
    "model.add(Activation('softmax'))"
   ]
  },
  {
   "cell_type": "code",
   "execution_count": 202,
   "metadata": {},
   "outputs": [],
   "source": [
    "sgd = optimizers.SGD(lr = 0.001)\n",
    "model.compile(optimizer = sgd, loss = 'categorical_crossentropy', metrics = ['accuracy'])"
   ]
  },
  {
   "cell_type": "code",
   "execution_count": 203,
   "metadata": {},
   "outputs": [],
   "source": [
    "history = model.fit(X_train, y_train,\n",
    "                    batch_size = 256,\n",
    "                    validation_split = 0.3,\n",
    "                    epochs = 100,\n",
    "                    verbose = 0)"
   ]
  },
  {
   "cell_type": "code",
   "execution_count": 204,
   "metadata": {},
   "outputs": [
    {
     "data": {
      "image/png": "[encoded data removed]",
      "text/plain": [
       "<Figure size 432x288 with 1 Axes>"
      ]
     },
     "metadata": {
      "needs_background": "light"
     },
     "output_type": "display_data"
    }
   ],
   "source": [
    "plt.plot(history.history['accuracy'])\n",
    "plt.plot(history.history['val_accuracy'])\n",
    "plt.legend(['training', 'validation'], loc = 'upper left')\n",
    "plt.show()"
   ]
  },
  {
   "cell_type": "markdown",
   "metadata": {},
   "source": [
    "Training and validation accuracy seems to improve after around 60 epochs"
   ]
  },
  {
   "cell_type": "code",
   "execution_count": 205,
   "metadata": {},
   "outputs": [
    {
     "name": "stdout",
     "output_type": "stream",
     "text": [
      "10000/10000 [==============================] - 0s 20us/step\n"
     ]
    }
   ],
   "source": [
    "results = model.evaluate(X_test, y_test)"
   ]
  },
  {
   "cell_type": "code",
   "execution_count": 206,
   "metadata": {},
   "outputs": [
    {
     "name": "stdout",
     "output_type": "stream",
     "text": [
      "Test accuracy:  0.11349999904632568\n"
     ]
    }
   ],
   "source": [
    "print('Test accuracy: ', results[1])"
   ]
  },
  {
   "cell_type": "markdown",
   "metadata": {},
   "source": [
    "## 1. Weight Initialization\n",
    "- Changing weight initialization scheme can significantly improve training of the model by preventing vanishing gradient problem up to some degree\n",
    "- He normal or Xavier normal initialization schemes are SOTA at the moment\n",
    "- Doc: https://keras.io/initializers/"
   ]
  },
  {
   "cell_type": "code",
   "execution_count": 207,
   "metadata": {},
   "outputs": [],
   "source": [
    "# from now on, create a function to generate (return) models\n",
    "def mlp_model():\n",
    "    model = Sequential()\n",
    "    \n",
    "    model.add(Dense(50, input_shape = (n_input, ),\n",
    "                    kernel_initializer='he_normal'))     # use he_normal initializer\n",
    "    model.add(Activation('sigmoid'))    \n",
    "    model.add(Dense(50, kernel_initializer='he_normal'))                            # use he_normal initializer\n",
    "    model.add(Activation('sigmoid'))    \n",
    "    model.add(Dense(50, kernel_initializer='he_normal'))                            # use he_normal initializer\n",
    "    model.add(Activation('sigmoid'))    \n",
    "    model.add(Dense(50, kernel_initializer='he_normal'))                            # use he_normal initializer\n",
    "    model.add(Activation('sigmoid'))    \n",
    "    model.add(Dense(n_output, kernel_initializer='he_normal'))                            # use he_normal initializer\n",
    "    model.add(Activation('softmax'))\n",
    "    \n",
    "    sgd = optimizers.SGD(lr = 0.001)\n",
    "    model.compile(optimizer = sgd, loss = 'categorical_crossentropy', metrics = ['accuracy'])\n",
    "    \n",
    "    return model"
   ]
  },
  {
   "cell_type": "code",
   "execution_count": 209,
   "metadata": {
    "scrolled": true
   },
   "outputs": [
    {
     "name": "stdout",
     "output_type": "stream",
     "text": [
      "Train on 42000 samples, validate on 18000 samples\n",
      "Epoch 1/2\n",
      "42000/42000 [==============================] - 2s 53us/step - loss: 2.3335 - accuracy: 0.1072 - val_loss: 2.2988 - val_accuracy: 0.1147\n",
      "Epoch 2/2\n",
      "42000/42000 [==============================] - 2s 51us/step - loss: 2.2952 - accuracy: 0.1149 - val_loss: 2.2940 - val_accuracy: 0.1079\n"
     ]
    }
   ],
   "source": [
    "model = mlp_model()\n",
    "history = model.fit(X_train, y_train,\n",
    "                    validation_split = 0.3,\n",
    "                    epochs = 2, verbose = 1)"
   ]
  },
  {
   "cell_type": "code",
   "execution_count": 210,
   "metadata": {},
   "outputs": [
    {
     "data": {
      "image/png": "[encoded data removed]",
      "text/plain": [
       "<Figure size 432x288 with 1 Axes>"
      ]
     },
     "metadata": {
      "needs_background": "light"
     },
     "output_type": "display_data"
    }
   ],
   "source": [
    "plt.plot(history.history['accuracy'])\n",
    "plt.plot(history.history['val_accuracy'])\n",
    "plt.legend(['training', 'validation'], loc = 'upper left')\n",
    "plt.show()"
   ]
  },
  {
   "cell_type": "markdown",
   "metadata": {},
   "source": [
    "Training and validation accuracy seems to improve after around 60 epochs"
   ]
  },
  {
   "cell_type": "code",
   "execution_count": 211,
   "metadata": {},
   "outputs": [
    {
     "name": "stdout",
     "output_type": "stream",
     "text": [
      "10000/10000 [==============================] - 0s 22us/step\n"
     ]
    }
   ],
   "source": [
    "results = model.evaluate(X_test, y_test)"
   ]
  },
  {
   "cell_type": "code",
   "execution_count": 212,
   "metadata": {},
   "outputs": [
    {
     "name": "stdout",
     "output_type": "stream",
     "text": [
      "Test accuracy:  0.11349999904632568\n"
     ]
    }
   ],
   "source": [
    "print('Test accuracy: ', results[1])"
   ]
  },
  {
   "cell_type": "markdown",
   "metadata": {},
   "source": [
    "## 2. Nonlinearity (Activation function)\n",
    "- Sigmoid functions suffer from gradient vanishing problem, making training slower\n",
    "- There are many choices apart from sigmoid and tanh; try many of them!\n",
    "    - **'relu'** (rectified linear unit) is one of the most popular ones\n",
    "    - **'selu'** (scaled exponential linear unit) is one of the most recent ones\n",
    "- Doc: https://keras.io/activations/"
   ]
  },
  {
   "cell_type": "markdown",
   "metadata": {},
   "source": [
    "<img src=\"http://cs231n.github.io/assets/nn1/sigmoid.jpeg\" style=\"width: 400px\"/>\n",
    "\n",
    "<center> **Sigmoid Activation Function** </center>\n",
    "\n",
    "<img src=\"http://cs231n.github.io/assets/nn1/relu.jpeg\" style=\"width: 400px\"/>\n",
    "\n",
    "<center> **Relu Activation Function** </center>"
   ]
  },
  {
   "cell_type": "code",
   "execution_count": 213,
   "metadata": {},
   "outputs": [],
   "source": [
    "def mlp_model():\n",
    "    model = Sequential()\n",
    "    \n",
    "    model.add(Dense(50, input_shape = (n_input, )))\n",
    "    model.add(Activation('relu'))    # use relu\n",
    "    model.add(Dense(50))\n",
    "    model.add(Activation('relu'))    # use relu\n",
    "    model.add(Dense(50))\n",
    "    model.add(Activation('relu'))    # use relu\n",
    "    model.add(Dense(50))\n",
    "    model.add(Activation('relu'))    # use relu\n",
    "    model.add(Dense(n_output))\n",
    "    model.add(Activation('softmax'))\n",
    "    \n",
    "    sgd = optimizers.SGD(lr = 0.001)\n",
    "    model.compile(optimizer = sgd, loss = 'categorical_crossentropy', metrics = ['accuracy'])\n",
    "    \n",
    "    return model"
   ]
  },
  {
   "cell_type": "code",
   "execution_count": 88,
   "metadata": {},
   "outputs": [],
   "source": [
    "model = mlp_model()\n",
    "history = model.fit(X_train, y_train,\n",
    "                    validation_split = 0.3,\n",
    "                    epochs = 100, verbose = 0)"
   ]
  },
  {
   "cell_type": "code",
   "execution_count": 92,
   "metadata": {},
   "outputs": [
    {
     "data": {
      "image/png": "[encoded data removed]",
      "text/plain": [
       "<Figure size 432x288 with 1 Axes>"
      ]
     },
     "metadata": {
      "needs_background": "light"
     },
     "output_type": "display_data"
    }
   ],
   "source": [
    "plt.plot(history.history['accuracy'])\n",
    "plt.plot(history.history['val_accuracy'])\n",
    "plt.legend(['training', 'validation'], loc = 'upper left')\n",
    "plt.show()"
   ]
  },
  {
   "cell_type": "markdown",
   "metadata": {},
   "source": [
    "Training and validation accuracy improve instantaneously, but reach a plateau after around 30 epochs"
   ]
  },
  {
   "cell_type": "code",
   "execution_count": 93,
   "metadata": {},
   "outputs": [
    {
     "name": "stdout",
     "output_type": "stream",
     "text": [
      "1340/1340 [==============================] - 0s 49us/step\n"
     ]
    }
   ],
   "source": [
    "results = model.evaluate(X_test, y_test)"
   ]
  },
  {
   "cell_type": "code",
   "execution_count": 94,
   "metadata": {},
   "outputs": [
    {
     "name": "stdout",
     "output_type": "stream",
     "text": [
      "Test accuracy:  0.6716417670249939\n"
     ]
    }
   ],
   "source": [
    "print('Test accuracy: ', results[1])"
   ]
  },
  {
   "cell_type": "markdown",
   "metadata": {},
   "source": [
    "## 3. Optimizers\n",
    "- Many variants of SGD are proposed and employed nowadays\n",
    "- One of the most popular ones are Adam (Adaptive Moment Estimation)\n",
    "- Doc: https://keras.io/optimizers/"
   ]
  },
  {
   "cell_type": "markdown",
   "metadata": {},
   "source": [
    "<img src=\"http://cs231n.github.io/assets/nn3/opt2.gif\" style=\"width: 400px\"/>\n",
    "<br><center> **Relative convergence speed of different optimizers** </center></br>"
   ]
  },
  {
   "cell_type": "code",
   "execution_count": 95,
   "metadata": {},
   "outputs": [],
   "source": [
    "def mlp_model():\n",
    "    model = Sequential()\n",
    "    \n",
    "    model.add(Dense(50, input_shape = (n_input, )))\n",
    "    model.add(Activation('sigmoid'))    \n",
    "    model.add(Dense(50))\n",
    "    model.add(Activation('sigmoid'))  \n",
    "    model.add(Dense(50))\n",
    "    model.add(Activation('sigmoid'))    \n",
    "    model.add(Dense(50))\n",
    "    model.add(Activation('sigmoid'))    \n",
    "    model.add(Dense(n_output))\n",
    "    model.add(Activation('softmax'))\n",
    "    \n",
    "    adam = optimizers.Adam(lr = 0.001)                     # use Adam optimizer\n",
    "    model.compile(optimizer = adam,\n",
    "                  loss = 'categorical_crossentropy',\n",
    "                  metrics = ['accuracy'])\n",
    "    \n",
    "    return model"
   ]
  },
  {
   "cell_type": "code",
   "execution_count": 96,
   "metadata": {},
   "outputs": [],
   "source": [
    "model = mlp_model()\n",
    "history = model.fit(X_train, y_train,\n",
    "                    validation_split = 0.3,\n",
    "                    epochs = 100, verbose = 0)"
   ]
  },
  {
   "cell_type": "code",
   "execution_count": 98,
   "metadata": {},
   "outputs": [
    {
     "data": {
      "image/png": "[encoded data removed]",
      "text/plain": [
       "<Figure size 432x288 with 1 Axes>"
      ]
     },
     "metadata": {
      "needs_background": "light"
     },
     "output_type": "display_data"
    }
   ],
   "source": [
    "plt.plot(history.history['accuracy'])\n",
    "plt.plot(history.history['val_accuracy'])\n",
    "plt.legend(['training', 'validation'], loc = 'upper left')\n",
    "plt.show()"
   ]
  },
  {
   "cell_type": "markdown",
   "metadata": {},
   "source": [
    "Training and validation accuracy improve instantaneously, but reach plateau after around 50 epochs"
   ]
  },
  {
   "cell_type": "code",
   "execution_count": 99,
   "metadata": {},
   "outputs": [
    {
     "name": "stdout",
     "output_type": "stream",
     "text": [
      "1340/1340 [==============================] - 0s 34us/step\n"
     ]
    }
   ],
   "source": [
    "results = model.evaluate(X_test, y_test)"
   ]
  },
  {
   "cell_type": "code",
   "execution_count": 100,
   "metadata": {},
   "outputs": [
    {
     "name": "stdout",
     "output_type": "stream",
     "text": [
      "Test accuracy:  0.9529850482940674\n"
     ]
    }
   ],
   "source": [
    "print('Test accuracy: ', results[1])"
   ]
  },
  {
   "cell_type": "markdown",
   "metadata": {},
   "source": [
    "## 4. Batch Normalization\n",
    "- Batch Normalization, one of the methods to prevent the \"internal covariance shift\" problem, has proven to be highly effective\n",
    "- Normalize each mini-batch before nonlinearity\n",
    "- Doc: https://keras.io/optimizers/"
   ]
  },
  {
   "cell_type": "markdown",
   "metadata": {},
   "source": [
    "<img src=\"https://raw.githubusercontent.com/torch/torch.github.io/master/blog/_posts/images/resnets_modelvariants.png\" style=\"width: 500px\"/>\n",
    "\n",
    "<br> Batch normalization layer is usually inserted after dense/convolution and before nonlinearity"
   ]
  },
  {
   "cell_type": "code",
   "execution_count": 104,
   "metadata": {},
   "outputs": [],
   "source": [
    "from keras.layers import BatchNormalization"
   ]
  },
  {
   "cell_type": "code",
   "execution_count": 105,
   "metadata": {},
   "outputs": [],
   "source": [
    "def mlp_model():\n",
    "    model = Sequential()\n",
    "    \n",
    "    model.add(Dense(50, input_shape = (n_input, )))\n",
    "    model.add(BatchNormalization())                    # Add Batchnorm layer before Activation\n",
    "    model.add(Activation('sigmoid'))    \n",
    "    model.add(Dense(50))\n",
    "    model.add(BatchNormalization())                    # Add Batchnorm layer before Activation\n",
    "    model.add(Activation('sigmoid'))    \n",
    "    model.add(Dense(50))\n",
    "    model.add(BatchNormalization())                    # Add Batchnorm layer before Activation\n",
    "    model.add(Activation('sigmoid'))    \n",
    "    model.add(Dense(50))\n",
    "    model.add(BatchNormalization())                    # Add Batchnorm layer before Activation\n",
    "    model.add(Activation('sigmoid'))    \n",
    "    model.add(Dense(n_output))\n",
    "    model.add(Activation('softmax'))\n",
    "    \n",
    "    sgd = optimizers.SGD(lr = 0.001)\n",
    "    model.compile(optimizer = sgd,\n",
    "                  loss = 'categorical_crossentropy',\n",
    "                  metrics = ['accuracy'])\n",
    "    \n",
    "    return model"
   ]
  },
  {
   "cell_type": "code",
   "execution_count": 106,
   "metadata": {},
   "outputs": [],
   "source": [
    "model = mlp_model()\n",
    "history = model.fit(X_train, y_train, validation_split = 0.3, epochs = 100, verbose = 0)"
   ]
  },
  {
   "cell_type": "code",
   "execution_count": 107,
   "metadata": {},
   "outputs": [
    {
     "name": "stdout",
     "output_type": "stream",
     "text": [
      "Model: \"sequential_12\"\n",
      "_________________________________________________________________\n",
      "Layer (type)                 Output Shape              Param #   \n",
      "=================================================================\n",
      "dense_52 (Dense)             (None, 50)                51250     \n",
      "_________________________________________________________________\n",
      "batch_normalization_1 (Batch (None, 50)                200       \n",
      "_________________________________________________________________\n",
      "activation_51 (Activation)   (None, 50)                0         \n",
      "_________________________________________________________________\n",
      "dense_53 (Dense)             (None, 50)                2550      \n",
      "_________________________________________________________________\n",
      "batch_normalization_2 (Batch (None, 50)                200       \n",
      "_________________________________________________________________\n",
      "activation_52 (Activation)   (None, 50)                0         \n",
      "_________________________________________________________________\n",
      "dense_54 (Dense)             (None, 50)                2550      \n",
      "_________________________________________________________________\n",
      "batch_normalization_3 (Batch (None, 50)                200       \n",
      "_________________________________________________________________\n",
      "activation_53 (Activation)   (None, 50)                0         \n",
      "_________________________________________________________________\n",
      "dense_55 (Dense)             (None, 50)                2550      \n",
      "_________________________________________________________________\n",
      "batch_normalization_4 (Batch (None, 50)                200       \n",
      "_________________________________________________________________\n",
      "activation_54 (Activation)   (None, 50)                0         \n",
      "_________________________________________________________________\n",
      "dense_56 (Dense)             (None, 2)                 102       \n",
      "_________________________________________________________________\n",
      "activation_55 (Activation)   (None, 2)                 0         \n",
      "=================================================================\n",
      "Total params: 59,802\n",
      "Trainable params: 59,402\n",
      "Non-trainable params: 400\n",
      "_________________________________________________________________\n"
     ]
    }
   ],
   "source": [
    "model.summary()"
   ]
  },
  {
   "cell_type": "code",
   "execution_count": 109,
   "metadata": {},
   "outputs": [
    {
     "data": {
      "image/png": "[encoded data removed]",
      "text/plain": [
       "<Figure size 432x288 with 1 Axes>"
      ]
     },
     "metadata": {
      "needs_background": "light"
     },
     "output_type": "display_data"
    }
   ],
   "source": [
    "plt.plot(history.history['accuracy'])\n",
    "plt.plot(history.history['val_accuracy'])\n",
    "plt.legend(['training', 'validation'], loc = 'upper left')\n",
    "plt.show()"
   ]
  },
  {
   "cell_type": "markdown",
   "metadata": {},
   "source": [
    "Training and validation accuracy improve consistently, but reach plateau after around 60 epochs"
   ]
  },
  {
   "cell_type": "code",
   "execution_count": 110,
   "metadata": {},
   "outputs": [
    {
     "name": "stdout",
     "output_type": "stream",
     "text": [
      "1340/1340 [==============================] - 0s 122us/step\n"
     ]
    }
   ],
   "source": [
    "results = model.evaluate(X_test, y_test)"
   ]
  },
  {
   "cell_type": "code",
   "execution_count": 111,
   "metadata": {},
   "outputs": [
    {
     "name": "stdout",
     "output_type": "stream",
     "text": [
      "Test accuracy:  0.8574627041816711\n"
     ]
    }
   ],
   "source": [
    "print('Test accuracy: ', results[1])"
   ]
  },
  {
   "cell_type": "markdown",
   "metadata": {},
   "source": [
    "## 5. Dropout (Regularization)\n",
    "- Dropout is one of powerful ways to prevent overfitting\n",
    "- The idea is simple. It is disconnecting some (randomly selected) neurons in each layer\n",
    "- The probability of each neuron to be disconnected, namely 'Dropout rate', has to be designated\n",
    "- Doc: https://keras.io/layers/core/#dropout"
   ]
  },
  {
   "cell_type": "markdown",
   "metadata": {},
   "source": [
    "<img src=\"https://image.slidesharecdn.com/lecture29-convolutionalneuralnetworks-visionspring2015-150504114140-conversion-gate02/95/lecture-29-convolutional-neural-networks-computer-vision-spring2015-62-638.jpg?cb=1430740006\" style=\"width: 500px\"/>"
   ]
  },
  {
   "cell_type": "code",
   "execution_count": 214,
   "metadata": {},
   "outputs": [],
   "source": [
    "from keras.layers import Dropout"
   ]
  },
  {
   "cell_type": "code",
   "execution_count": 215,
   "metadata": {},
   "outputs": [],
   "source": [
    "def mlp_model():\n",
    "    model = Sequential()\n",
    "    \n",
    "    model.add(Dense(50, input_shape = (n_input, )))\n",
    "    model.add(Activation('sigmoid'))    \n",
    "    model.add(Dropout(0.2))                        # Dropout layer after Activation\n",
    "    model.add(Dense(50))\n",
    "    model.add(Activation('sigmoid'))\n",
    "    model.add(Dropout(0.2))                        # Dropout layer after Activation\n",
    "    model.add(Dense(50))\n",
    "    model.add(Activation('sigmoid'))    \n",
    "    model.add(Dropout(0.2))                        # Dropout layer after Activation\n",
    "    model.add(Dense(50))\n",
    "    model.add(Activation('sigmoid'))    \n",
    "    model.add(Dropout(0.2))                         # Dropout layer after Activation\n",
    "    model.add(Dense(n_output))\n",
    "    model.add(Activation('softmax'))\n",
    "    \n",
    "    sgd = optimizers.SGD(lr = 0.001)\n",
    "    model.compile(optimizer = sgd,\n",
    "                  loss = 'categorical_crossentropy',\n",
    "                  metrics = ['accuracy'])\n",
    "    \n",
    "    return model"
   ]
  },
  {
   "cell_type": "code",
   "execution_count": 218,
   "metadata": {},
   "outputs": [
    {
     "name": "stdout",
     "output_type": "stream",
     "text": [
      "Train on 42000 samples, validate on 18000 samples\n",
      "Epoch 1/40\n",
      "42000/42000 [==============================] - 3s 68us/step - loss: 2.4024 - accuracy: 0.1054 - val_loss: 2.3082 - val_accuracy: 0.1079\n",
      "Epoch 2/40\n",
      "42000/42000 [==============================] - 3s 60us/step - loss: 2.3434 - accuracy: 0.1029 - val_loss: 2.3005 - val_accuracy: 0.1079\n",
      "Epoch 3/40\n",
      "42000/42000 [==============================] - 2s 58us/step - loss: 2.3416 - accuracy: 0.1018 - val_loss: 2.2997 - val_accuracy: 0.1079\n",
      "Epoch 4/40\n",
      "42000/42000 [==============================] - 2s 58us/step - loss: 2.3400 - accuracy: 0.1029 - val_loss: 2.2992 - val_accuracy: 0.1079\n",
      "Epoch 5/40\n",
      "42000/42000 [==============================] - 3s 60us/step - loss: 2.3383 - accuracy: 0.1031 - val_loss: 2.2988 - val_accuracy: 0.1079\n",
      "Epoch 6/40\n",
      "42000/42000 [==============================] - 2s 59us/step - loss: 2.3355 - accuracy: 0.1027 - val_loss: 2.2981 - val_accuracy: 0.1079\n",
      "Epoch 7/40\n",
      "42000/42000 [==============================] - 3s 66us/step - loss: 2.3352 - accuracy: 0.1039 - val_loss: 2.2977 - val_accuracy: 0.1079\n",
      "Epoch 8/40\n",
      "42000/42000 [==============================] - 3s 65us/step - loss: 2.3372 - accuracy: 0.1014 - val_loss: 2.2972 - val_accuracy: 0.1079\n",
      "Epoch 9/40\n",
      "42000/42000 [==============================] - 3s 60us/step - loss: 2.3332 - accuracy: 0.1031 - val_loss: 2.2968 - val_accuracy: 0.1079\n",
      "Epoch 10/40\n",
      "42000/42000 [==============================] - 3s 60us/step - loss: 2.3295 - accuracy: 0.1068 - val_loss: 2.2964 - val_accuracy: 0.1079\n",
      "Epoch 11/40\n",
      " 1920/42000 [>.............................] - ETA: 2s - loss: 2.3296 - accuracy: 0.1026"
     ]
    },
    {
     "ename": "KeyboardInterrupt",
     "evalue": "",
     "output_type": "error",
     "traceback": [
      "\u001b[0;31m---------------------------------------------------------------------------\u001b[0m",
      "\u001b[0;31mKeyboardInterrupt\u001b[0m                         Traceback (most recent call last)",
      "\u001b[0;32m<ipython-input-218-1cbf3b098eb3>\u001b[0m in \u001b[0;36m<module>\u001b[0;34m\u001b[0m\n\u001b[1;32m      2\u001b[0m history = model.fit(X_train, y_train,\n\u001b[1;32m      3\u001b[0m                     \u001b[0mvalidation_split\u001b[0m \u001b[0;34m=\u001b[0m \u001b[0;36m0.3\u001b[0m\u001b[0;34m,\u001b[0m\u001b[0;34m\u001b[0m\u001b[0m\n\u001b[0;32m----> 4\u001b[0;31m                     epochs = 40, verbose = 1)\n\u001b[0m",
      "\u001b[0;32m~/packages/anaconda3/lib/python3.6/site-packages/keras/engine/training.py\u001b[0m in \u001b[0;36mfit\u001b[0;34m(self, x, y, batch_size, epochs, verbose, callbacks, validation_split, validation_data, shuffle, class_weight, sample_weight, initial_epoch, steps_per_epoch, validation_steps, validation_freq, max_queue_size, workers, use_multiprocessing, **kwargs)\u001b[0m\n\u001b[1;32m   1237\u001b[0m                                         \u001b[0msteps_per_epoch\u001b[0m\u001b[0;34m=\u001b[0m\u001b[0msteps_per_epoch\u001b[0m\u001b[0;34m,\u001b[0m\u001b[0;34m\u001b[0m\u001b[0m\n\u001b[1;32m   1238\u001b[0m                                         \u001b[0mvalidation_steps\u001b[0m\u001b[0;34m=\u001b[0m\u001b[0mvalidation_steps\u001b[0m\u001b[0;34m,\u001b[0m\u001b[0;34m\u001b[0m\u001b[0m\n\u001b[0;32m-> 1239\u001b[0;31m                                         validation_freq=validation_freq)\n\u001b[0m\u001b[1;32m   1240\u001b[0m \u001b[0;34m\u001b[0m\u001b[0m\n\u001b[1;32m   1241\u001b[0m     def evaluate(self,\n",
      "\u001b[0;32m~/packages/anaconda3/lib/python3.6/site-packages/keras/engine/training_arrays.py\u001b[0m in \u001b[0;36mfit_loop\u001b[0;34m(model, fit_function, fit_inputs, out_labels, batch_size, epochs, verbose, callbacks, val_function, val_inputs, shuffle, initial_epoch, steps_per_epoch, validation_steps, validation_freq)\u001b[0m\n\u001b[1;32m    194\u001b[0m                     \u001b[0mins_batch\u001b[0m\u001b[0;34m[\u001b[0m\u001b[0mi\u001b[0m\u001b[0;34m]\u001b[0m \u001b[0;34m=\u001b[0m \u001b[0mins_batch\u001b[0m\u001b[0;34m[\u001b[0m\u001b[0mi\u001b[0m\u001b[0;34m]\u001b[0m\u001b[0;34m.\u001b[0m\u001b[0mtoarray\u001b[0m\u001b[0;34m(\u001b[0m\u001b[0;34m)\u001b[0m\u001b[0;34m\u001b[0m\u001b[0m\n\u001b[1;32m    195\u001b[0m \u001b[0;34m\u001b[0m\u001b[0m\n\u001b[0;32m--> 196\u001b[0;31m                 \u001b[0mouts\u001b[0m \u001b[0;34m=\u001b[0m \u001b[0mfit_function\u001b[0m\u001b[0;34m(\u001b[0m\u001b[0mins_batch\u001b[0m\u001b[0;34m)\u001b[0m\u001b[0;34m\u001b[0m\u001b[0m\n\u001b[0m\u001b[1;32m    197\u001b[0m                 \u001b[0mouts\u001b[0m \u001b[0;34m=\u001b[0m \u001b[0mto_list\u001b[0m\u001b[0;34m(\u001b[0m\u001b[0mouts\u001b[0m\u001b[0;34m)\u001b[0m\u001b[0;34m\u001b[0m\u001b[0m\n\u001b[1;32m    198\u001b[0m                 \u001b[0;32mfor\u001b[0m \u001b[0ml\u001b[0m\u001b[0;34m,\u001b[0m \u001b[0mo\u001b[0m \u001b[0;32min\u001b[0m \u001b[0mzip\u001b[0m\u001b[0;34m(\u001b[0m\u001b[0mout_labels\u001b[0m\u001b[0;34m,\u001b[0m \u001b[0mouts\u001b[0m\u001b[0;34m)\u001b[0m\u001b[0;34m:\u001b[0m\u001b[0;34m\u001b[0m\u001b[0m\n",
      "\u001b[0;32m~/packages/anaconda3/lib/python3.6/site-packages/tensorflow_core/python/keras/backend.py\u001b[0m in \u001b[0;36m__call__\u001b[0;34m(self, inputs)\u001b[0m\n\u001b[1;32m   3738\u001b[0m         \u001b[0mvalue\u001b[0m \u001b[0;34m=\u001b[0m \u001b[0mmath_ops\u001b[0m\u001b[0;34m.\u001b[0m\u001b[0mcast\u001b[0m\u001b[0;34m(\u001b[0m\u001b[0mvalue\u001b[0m\u001b[0;34m,\u001b[0m \u001b[0mtensor\u001b[0m\u001b[0;34m.\u001b[0m\u001b[0mdtype\u001b[0m\u001b[0;34m)\u001b[0m\u001b[0;34m\u001b[0m\u001b[0m\n\u001b[1;32m   3739\u001b[0m       \u001b[0mconverted_inputs\u001b[0m\u001b[0;34m.\u001b[0m\u001b[0mappend\u001b[0m\u001b[0;34m(\u001b[0m\u001b[0mvalue\u001b[0m\u001b[0;34m)\u001b[0m\u001b[0;34m\u001b[0m\u001b[0m\n\u001b[0;32m-> 3740\u001b[0;31m     \u001b[0moutputs\u001b[0m \u001b[0;34m=\u001b[0m \u001b[0mself\u001b[0m\u001b[0;34m.\u001b[0m\u001b[0m_graph_fn\u001b[0m\u001b[0;34m(\u001b[0m\u001b[0;34m*\u001b[0m\u001b[0mconverted_inputs\u001b[0m\u001b[0;34m)\u001b[0m\u001b[0;34m\u001b[0m\u001b[0m\n\u001b[0m\u001b[1;32m   3741\u001b[0m \u001b[0;34m\u001b[0m\u001b[0m\n\u001b[1;32m   3742\u001b[0m     \u001b[0;31m# EagerTensor.numpy() will often make a copy to ensure memory safety.\u001b[0m\u001b[0;34m\u001b[0m\u001b[0;34m\u001b[0m\u001b[0m\n",
      "\u001b[0;32m~/packages/anaconda3/lib/python3.6/site-packages/tensorflow_core/python/eager/function.py\u001b[0m in \u001b[0;36m__call__\u001b[0;34m(self, *args, **kwargs)\u001b[0m\n\u001b[1;32m   1079\u001b[0m       \u001b[0mTypeError\u001b[0m\u001b[0;34m:\u001b[0m \u001b[0mFor\u001b[0m \u001b[0minvalid\u001b[0m \u001b[0mpositional\u001b[0m\u001b[0;34m/\u001b[0m\u001b[0mkeyword\u001b[0m \u001b[0margument\u001b[0m \u001b[0mcombinations\u001b[0m\u001b[0;34m.\u001b[0m\u001b[0;34m\u001b[0m\u001b[0m\n\u001b[1;32m   1080\u001b[0m     \"\"\"\n\u001b[0;32m-> 1081\u001b[0;31m     \u001b[0;32mreturn\u001b[0m \u001b[0mself\u001b[0m\u001b[0;34m.\u001b[0m\u001b[0m_call_impl\u001b[0m\u001b[0;34m(\u001b[0m\u001b[0margs\u001b[0m\u001b[0;34m,\u001b[0m \u001b[0mkwargs\u001b[0m\u001b[0;34m)\u001b[0m\u001b[0;34m\u001b[0m\u001b[0m\n\u001b[0m\u001b[1;32m   1082\u001b[0m \u001b[0;34m\u001b[0m\u001b[0m\n\u001b[1;32m   1083\u001b[0m   \u001b[0;32mdef\u001b[0m \u001b[0m_call_impl\u001b[0m\u001b[0;34m(\u001b[0m\u001b[0mself\u001b[0m\u001b[0;34m,\u001b[0m \u001b[0margs\u001b[0m\u001b[0;34m,\u001b[0m \u001b[0mkwargs\u001b[0m\u001b[0;34m,\u001b[0m \u001b[0mcancellation_manager\u001b[0m\u001b[0;34m=\u001b[0m\u001b[0;32mNone\u001b[0m\u001b[0;34m)\u001b[0m\u001b[0;34m:\u001b[0m\u001b[0;34m\u001b[0m\u001b[0m\n",
      "\u001b[0;32m~/packages/anaconda3/lib/python3.6/site-packages/tensorflow_core/python/eager/function.py\u001b[0m in \u001b[0;36m_call_impl\u001b[0;34m(self, args, kwargs, cancellation_manager)\u001b[0m\n\u001b[1;32m   1119\u001b[0m       raise TypeError(\"Keyword arguments {} unknown. Expected {}.\".format(\n\u001b[1;32m   1120\u001b[0m           list(kwargs.keys()), list(self._arg_keywords)))\n\u001b[0;32m-> 1121\u001b[0;31m     \u001b[0;32mreturn\u001b[0m \u001b[0mself\u001b[0m\u001b[0;34m.\u001b[0m\u001b[0m_call_flat\u001b[0m\u001b[0;34m(\u001b[0m\u001b[0margs\u001b[0m\u001b[0;34m,\u001b[0m \u001b[0mself\u001b[0m\u001b[0;34m.\u001b[0m\u001b[0mcaptured_inputs\u001b[0m\u001b[0;34m,\u001b[0m \u001b[0mcancellation_manager\u001b[0m\u001b[0;34m)\u001b[0m\u001b[0;34m\u001b[0m\u001b[0m\n\u001b[0m\u001b[1;32m   1122\u001b[0m \u001b[0;34m\u001b[0m\u001b[0m\n\u001b[1;32m   1123\u001b[0m   \u001b[0;32mdef\u001b[0m \u001b[0m_filtered_call\u001b[0m\u001b[0;34m(\u001b[0m\u001b[0mself\u001b[0m\u001b[0;34m,\u001b[0m \u001b[0margs\u001b[0m\u001b[0;34m,\u001b[0m \u001b[0mkwargs\u001b[0m\u001b[0;34m)\u001b[0m\u001b[0;34m:\u001b[0m\u001b[0;34m\u001b[0m\u001b[0m\n",
      "\u001b[0;32m~/packages/anaconda3/lib/python3.6/site-packages/tensorflow_core/python/eager/function.py\u001b[0m in \u001b[0;36m_call_flat\u001b[0;34m(self, args, captured_inputs, cancellation_manager)\u001b[0m\n\u001b[1;32m   1222\u001b[0m     \u001b[0;32mif\u001b[0m \u001b[0mexecuting_eagerly\u001b[0m\u001b[0;34m:\u001b[0m\u001b[0;34m\u001b[0m\u001b[0m\n\u001b[1;32m   1223\u001b[0m       flat_outputs = forward_function.call(\n\u001b[0;32m-> 1224\u001b[0;31m           ctx, args, cancellation_manager=cancellation_manager)\n\u001b[0m\u001b[1;32m   1225\u001b[0m     \u001b[0;32melse\u001b[0m\u001b[0;34m:\u001b[0m\u001b[0;34m\u001b[0m\u001b[0m\n\u001b[1;32m   1226\u001b[0m       \u001b[0mgradient_name\u001b[0m \u001b[0;34m=\u001b[0m \u001b[0mself\u001b[0m\u001b[0;34m.\u001b[0m\u001b[0m_delayed_rewrite_functions\u001b[0m\u001b[0;34m.\u001b[0m\u001b[0mregister\u001b[0m\u001b[0;34m(\u001b[0m\u001b[0;34m)\u001b[0m\u001b[0;34m\u001b[0m\u001b[0m\n",
      "\u001b[0;32m~/packages/anaconda3/lib/python3.6/site-packages/tensorflow_core/python/eager/function.py\u001b[0m in \u001b[0;36mcall\u001b[0;34m(self, ctx, args, cancellation_manager)\u001b[0m\n\u001b[1;32m    509\u001b[0m               \u001b[0minputs\u001b[0m\u001b[0;34m=\u001b[0m\u001b[0margs\u001b[0m\u001b[0;34m,\u001b[0m\u001b[0;34m\u001b[0m\u001b[0m\n\u001b[1;32m    510\u001b[0m               \u001b[0mattrs\u001b[0m\u001b[0;34m=\u001b[0m\u001b[0;34m(\u001b[0m\u001b[0;34m\"executor_type\"\u001b[0m\u001b[0;34m,\u001b[0m \u001b[0mexecutor_type\u001b[0m\u001b[0;34m,\u001b[0m \u001b[0;34m\"config_proto\"\u001b[0m\u001b[0;34m,\u001b[0m \u001b[0mconfig\u001b[0m\u001b[0;34m)\u001b[0m\u001b[0;34m,\u001b[0m\u001b[0;34m\u001b[0m\u001b[0m\n\u001b[0;32m--> 511\u001b[0;31m               ctx=ctx)\n\u001b[0m\u001b[1;32m    512\u001b[0m         \u001b[0;32melse\u001b[0m\u001b[0;34m:\u001b[0m\u001b[0;34m\u001b[0m\u001b[0m\n\u001b[1;32m    513\u001b[0m           outputs = execute.execute_with_cancellation(\n",
      "\u001b[0;32m~/packages/anaconda3/lib/python3.6/site-packages/tensorflow_core/python/eager/execute.py\u001b[0m in \u001b[0;36mquick_execute\u001b[0;34m(op_name, num_outputs, inputs, attrs, ctx, name)\u001b[0m\n\u001b[1;32m     59\u001b[0m     tensors = pywrap_tensorflow.TFE_Py_Execute(ctx._handle, device_name,\n\u001b[1;32m     60\u001b[0m                                                \u001b[0mop_name\u001b[0m\u001b[0;34m,\u001b[0m \u001b[0minputs\u001b[0m\u001b[0;34m,\u001b[0m \u001b[0mattrs\u001b[0m\u001b[0;34m,\u001b[0m\u001b[0;34m\u001b[0m\u001b[0m\n\u001b[0;32m---> 61\u001b[0;31m                                                num_outputs)\n\u001b[0m\u001b[1;32m     62\u001b[0m   \u001b[0;32mexcept\u001b[0m \u001b[0mcore\u001b[0m\u001b[0;34m.\u001b[0m\u001b[0m_NotOkStatusException\u001b[0m \u001b[0;32mas\u001b[0m \u001b[0me\u001b[0m\u001b[0;34m:\u001b[0m\u001b[0;34m\u001b[0m\u001b[0m\n\u001b[1;32m     63\u001b[0m     \u001b[0;32mif\u001b[0m \u001b[0mname\u001b[0m \u001b[0;32mis\u001b[0m \u001b[0;32mnot\u001b[0m \u001b[0;32mNone\u001b[0m\u001b[0;34m:\u001b[0m\u001b[0;34m\u001b[0m\u001b[0m\n",
      "\u001b[0;31mKeyboardInterrupt\u001b[0m: "
     ]
    }
   ],
   "source": [
    "model = mlp_model()\n",
    "history = model.fit(X_train, y_train,\n",
    "                    validation_split = 0.3,\n",
    "                    epochs = 40, verbose = 1)"
   ]
  },
  {
   "cell_type": "code",
   "execution_count": null,
   "metadata": {},
   "outputs": [],
   "source": [
    "plt.plot(history.history['accuracy'])\n",
    "plt.plot(history.history['val_accuracy'])\n",
    "plt.legend(['training', 'validation'], loc = 'upper left')\n",
    "plt.show()"
   ]
  },
  {
   "cell_type": "markdown",
   "metadata": {},
   "source": [
    "Validation results does not improve since it did not show signs of overfitting, yet.\n",
    "<br> Hence, the key takeaway message is that apply dropout when you see a signal of overfitting."
   ]
  },
  {
   "cell_type": "code",
   "execution_count": 116,
   "metadata": {},
   "outputs": [
    {
     "name": "stdout",
     "output_type": "stream",
     "text": [
      "1340/1340 [==============================] - 0s 36us/step\n"
     ]
    }
   ],
   "source": [
    "results = model.evaluate(X_test, y_test)"
   ]
  },
  {
   "cell_type": "code",
   "execution_count": 117,
   "metadata": {},
   "outputs": [
    {
     "name": "stdout",
     "output_type": "stream",
     "text": [
      "Test accuracy:  0.4955223798751831\n"
     ]
    }
   ],
   "source": [
    "print('Test accuracy: ', results[1])"
   ]
  },
  {
   "cell_type": "code",
   "execution_count": 118,
   "metadata": {},
   "outputs": [],
   "source": [
    "?Dropout"
   ]
  },
  {
   "cell_type": "markdown",
   "metadata": {},
   "source": [
    "## 6. Model Ensemble\n",
    "- Model ensemble is a reliable and promising way to boost performance of the model\n",
    "- Usually create 8 to 10 independent networks and merge their results\n",
    "- Here, we resort to scikit-learn API, **VotingClassifier**\n",
    "- Doc: http://scikit-learn.org/stable/modules/generated/sklearn.ensemble.VotingClassifier.html"
   ]
  },
  {
   "cell_type": "markdown",
   "metadata": {},
   "source": [
    "<img src=\"https://encrypted-tbn0.gstatic.com/images?q=tbn:ANd9GcRs1CBSEtpp5yj6SJ5K_nHd1FNfyEYa9KLjWfoMY_v7ARTq3tdpVw\" style=\"width: 300px\"/>"
   ]
  },
  {
   "cell_type": "code",
   "execution_count": 121,
   "metadata": {},
   "outputs": [],
   "source": [
    "import numpy as np\n",
    "\n",
    "from keras.wrappers.scikit_learn import KerasClassifier\n",
    "from sklearn.ensemble import VotingClassifier\n",
    "from sklearn.metrics import accuracy_score"
   ]
  },
  {
   "cell_type": "code",
   "execution_count": 122,
   "metadata": {},
   "outputs": [],
   "source": [
    "y_train = np.argmax(y_train, axis = 1)\n",
    "y_test = np.argmax(y_test, axis = 1)"
   ]
  },
  {
   "cell_type": "code",
   "execution_count": 123,
   "metadata": {},
   "outputs": [],
   "source": [
    "def mlp_model():\n",
    "    model = Sequential()\n",
    "    \n",
    "    model.add(Dense(50, input_shape = (n_input, )))\n",
    "    model.add(Activation('sigmoid'))    \n",
    "    model.add(Dense(50))\n",
    "    model.add(Activation('sigmoid'))    \n",
    "    model.add(Dense(50))\n",
    "    model.add(Activation('sigmoid'))    \n",
    "    model.add(Dense(50))\n",
    "    model.add(Activation('sigmoid'))    \n",
    "    model.add(Dense(n_output))\n",
    "    model.add(Activation('softmax'))\n",
    "    \n",
    "    sgd = optimizers.SGD(lr = 0.001)\n",
    "    model.compile(optimizer = sgd, loss = 'categorical_crossentropy', metrics = ['accuracy'])\n",
    "    \n",
    "    return model"
   ]
  },
  {
   "cell_type": "code",
   "execution_count": 124,
   "metadata": {},
   "outputs": [],
   "source": [
    "model1 = KerasClassifier(build_fn = mlp_model, epochs = 100, verbose = 0)\n",
    "model2 = KerasClassifier(build_fn = mlp_model, epochs = 100, verbose = 0)\n",
    "model3 = KerasClassifier(build_fn = mlp_model, epochs = 100, verbose = 0)"
   ]
  },
  {
   "cell_type": "code",
   "execution_count": 125,
   "metadata": {},
   "outputs": [],
   "source": [
    "ensemble_clf = VotingClassifier(estimators = [('model1', model1), ('model2', model2), ('model3', model3)], voting = 'soft')"
   ]
  },
  {
   "cell_type": "code",
   "execution_count": 126,
   "metadata": {},
   "outputs": [
    {
     "data": {
      "text/plain": [
       "VotingClassifier(estimators=[('model1', <keras.wrappers.scikit_learn.KerasClassifier object at 0x7f031c10fa58>), ('model2', <keras.wrappers.scikit_learn.KerasClassifier object at 0x7f031c10fb70>), ('model3', <keras.wrappers.scikit_learn.KerasClassifier object at 0x7f031c10fc50>)],\n",
       "         flatten_transform=None, n_jobs=None, voting='soft', weights=None)"
      ]
     },
     "execution_count": 126,
     "metadata": {},
     "output_type": "execute_result"
    }
   ],
   "source": [
    "ensemble_clf.fit(X_train, y_train)"
   ]
  },
  {
   "cell_type": "code",
   "execution_count": 127,
   "metadata": {},
   "outputs": [],
   "source": [
    "y_pred = ensemble_clf.predict(X_test)"
   ]
  },
  {
   "cell_type": "code",
   "execution_count": 128,
   "metadata": {},
   "outputs": [
    {
     "name": "stdout",
     "output_type": "stream",
     "text": [
      "Test accuracy: 0.4955223880597015\n"
     ]
    }
   ],
   "source": [
    "print('Test accuracy:', accuracy_score(y_pred, y_test))"
   ]
  },
  {
   "cell_type": "markdown",
   "metadata": {},
   "source": [
    "Slight boost in the test accuracy from the outset **(0.2144 => 0.3045)**"
   ]
  },
  {
   "cell_type": "markdown",
   "metadata": {},
   "source": [
    "# A bit more complex MLP\n",
    "- Putting it altogether"
   ]
  },
  {
   "cell_type": "code",
   "execution_count": 66,
   "metadata": {},
   "outputs": [],
   "source": [
    "import matplotlib.pyplot as plt\n",
    "import numpy as np\n",
    "\n",
    "from sklearn.ensemble import VotingClassifier\n",
    "from sklearn.metrics import accuracy_score\n",
    "from sklearn.model_selection import train_test_split\n",
    "from keras.datasets import mnist\n",
    "from keras.wrappers.scikit_learn import KerasClassifier\n",
    "from keras.datasets import mnist\n",
    "from keras.models import Sequential\n",
    "from keras.utils.np_utils import to_categorical\n",
    "from keras.models import Sequential\n",
    "from keras.layers import Activation, Dense, BatchNormalization, Dropout\n",
    "from keras import optimizers"
   ]
  },
  {
   "cell_type": "markdown",
   "metadata": {},
   "source": [
    "## Load Dataset"
   ]
  },
  {
   "cell_type": "code",
   "execution_count": 67,
   "metadata": {},
   "outputs": [],
   "source": [
    "(X_train, y_train), (X_test, y_test) = mnist.load_data()"
   ]
  },
  {
   "cell_type": "code",
   "execution_count": 68,
   "metadata": {},
   "outputs": [],
   "source": [
    "# reshaping X data: (n, 28, 28) => (n, 784)\n",
    "X_train = X_train.reshape((X_train.shape[0], X_train.shape[1] * X_train.shape[2]))\n",
    "X_test = X_test.reshape((X_test.shape[0], X_test.shape[1] * X_test.shape[2]))"
   ]
  },
  {
   "cell_type": "code",
   "execution_count": 69,
   "metadata": {},
   "outputs": [
    {
     "name": "stdout",
     "output_type": "stream",
     "text": [
      "(60000, 784)\n",
      "(10000, 784)\n",
      "(60000,)\n",
      "(10000,)\n"
     ]
    }
   ],
   "source": [
    "# We use all training data and validate on all test data\n",
    "print(X_train.shape)\n",
    "print(X_test.shape)\n",
    "print(y_train.shape)\n",
    "print(y_test.shape)"
   ]
  },
  {
   "cell_type": "markdown",
   "metadata": {},
   "source": [
    "## Training & Validating Model\n",
    "- Measures to improve training is applied simultaneously\n",
    "    - More training set\n",
    "    - Weight Initialization scheme\n",
    "    - Nonlinearity (Activation function)\n",
    "    - Optimizers: adaptvie\n",
    "    - Batch Normalization\n",
    "    - Dropout (Regularization)\n",
    "    - Model Ensemble"
   ]
  },
  {
   "cell_type": "code",
   "execution_count": 219,
   "metadata": {},
   "outputs": [],
   "source": [
    "def mlp_model():\n",
    "    model = Sequential()\n",
    "    \n",
    "    model.add(Dense(50, input_shape = (784, ), kernel_initializer='he_normal'))\n",
    "    model.add(BatchNormalization())\n",
    "    model.add(Activation('relu'))\n",
    "    model.add(Dropout(0.2))\n",
    "    model.add(Dense(50, kernel_initializer='he_normal'))\n",
    "    model.add(BatchNormalization())\n",
    "    model.add(Activation('relu'))    \n",
    "    model.add(Dropout(0.2))\n",
    "    model.add(Dense(50, kernel_initializer='he_normal'))\n",
    "    model.add(BatchNormalization())\n",
    "    model.add(Activation('relu'))\n",
    "    model.add(Dropout(0.2))\n",
    "    model.add(Dense(50, kernel_initializer='he_normal'))\n",
    "    model.add(BatchNormalization())\n",
    "    model.add(Activation('relu'))\n",
    "    model.add(Dropout(0.2))\n",
    "    model.add(Dense(10, kernel_initializer='he_normal'))\n",
    "    model.add(Activation('softmax'))\n",
    "    \n",
    "    adam = optimizers.Adam(lr = 0.001)\n",
    "    model.compile(optimizer = adam, loss = 'categorical_crossentropy', metrics = ['accuracy'])\n",
    "    \n",
    "    return model"
   ]
  },
  {
   "cell_type": "code",
   "execution_count": 220,
   "metadata": {},
   "outputs": [],
   "source": [
    "# create 5 models to ensemble\n",
    "model1 = KerasClassifier(build_fn = mlp_model, epochs = 100)\n",
    "model2 = KerasClassifier(build_fn = mlp_model, epochs = 100)\n",
    "model3 = KerasClassifier(build_fn = mlp_model, epochs = 100)\n",
    "model4 = KerasClassifier(build_fn = mlp_model, epochs = 100)\n",
    "model5 = KerasClassifier(build_fn = mlp_model, epochs = 100)"
   ]
  },
  {
   "cell_type": "code",
   "execution_count": 73,
   "metadata": {},
   "outputs": [],
   "source": [
    "ensemble_clf = VotingClassifier(estimators = [('model1', model1), ('model2', model2), \n",
    "                                              ('model3', model3), ('model4', model4), ('model5', model5)], \n",
    "                                voting = 'soft')"
   ]
  },
  {
   "cell_type": "code",
   "execution_count": null,
   "metadata": {},
   "outputs": [
    {
     "name": "stdout",
     "output_type": "stream",
     "text": [
      "Epoch 1/100\n",
      "60000/60000 [==============================] - 9s 142us/step - loss: 0.7522 - acc: 0.7732\n",
      "Epoch 2/100\n",
      "60000/60000 [==============================] - 7s 122us/step - loss: 0.4410 - acc: 0.8742\n",
      "Epoch 3/100\n",
      "60000/60000 [==============================] - 8s 132us/step - loss: 0.3661 - acc: 0.8961\n",
      "Epoch 4/100\n",
      "60000/60000 [==============================] - 8s 133us/step - loss: 0.3268 - acc: 0.9071\n",
      "Epoch 5/100\n",
      "60000/60000 [==============================] - 8s 139us/step - loss: 0.3044 - acc: 0.9132\n",
      "Epoch 6/100\n",
      "60000/60000 [==============================] - 9s 143us/step - loss: 0.2872 - acc: 0.9185\n",
      "Epoch 7/100\n",
      "60000/60000 [==============================] - 9s 149us/step - loss: 0.2621 - acc: 0.9269\n",
      "Epoch 8/100\n",
      "60000/60000 [==============================] - 9s 142us/step - loss: 0.2618 - acc: 0.9258\n",
      "Epoch 9/100\n",
      "60000/60000 [==============================] - 8s 132us/step - loss: 0.2495 - acc: 0.9299\n",
      "Epoch 10/100\n",
      "60000/60000 [==============================] - 10s 168us/step - loss: 0.2422 - acc: 0.9309\n",
      "Epoch 11/100\n",
      "60000/60000 [==============================] - 9s 146us/step - loss: 0.2368 - acc: 0.9331\n",
      "Epoch 12/100\n",
      "60000/60000 [==============================] - 7s 122us/step - loss: 0.2248 - acc: 0.9362\n",
      "Epoch 13/100\n",
      "60000/60000 [==============================] - 6s 107us/step - loss: 0.2201 - acc: 0.9374\n",
      "Epoch 14/100\n",
      "60000/60000 [==============================] - 7s 117us/step - loss: 0.2187 - acc: 0.9364\n",
      "Epoch 15/100\n",
      "60000/60000 [==============================] - 7s 112us/step - loss: 0.2123 - acc: 0.9395\n",
      "Epoch 16/100\n",
      "60000/60000 [==============================] - 7s 115us/step - loss: 0.2084 - acc: 0.9409\n",
      "Epoch 17/100\n",
      "60000/60000 [==============================] - 7s 120us/step - loss: 0.2080 - acc: 0.9395\n",
      "Epoch 18/100\n",
      "60000/60000 [==============================] - 6s 108us/step - loss: 0.1996 - acc: 0.9429\n",
      "Epoch 19/100\n",
      "60000/60000 [==============================] - 8s 129us/step - loss: 0.2002 - acc: 0.9418\n",
      "Epoch 20/100\n",
      "60000/60000 [==============================] - 6s 108us/step - loss: 0.2010 - acc: 0.9439\n",
      "Epoch 21/100\n",
      "60000/60000 [==============================] - 7s 114us/step - loss: 0.1997 - acc: 0.9425\n",
      "Epoch 22/100\n",
      "60000/60000 [==============================] - 7s 124us/step - loss: 0.1989 - acc: 0.9432\n",
      "Epoch 23/100\n",
      "60000/60000 [==============================] - 7s 116us/step - loss: 0.1893 - acc: 0.9455\n",
      "Epoch 24/100\n",
      "60000/60000 [==============================] - 7s 114us/step - loss: 0.1950 - acc: 0.9438\n",
      "Epoch 25/100\n",
      "60000/60000 [==============================] - 7s 114us/step - loss: 0.1878 - acc: 0.9466\n",
      "Epoch 26/100\n",
      "60000/60000 [==============================] - 7s 109us/step - loss: 0.1879 - acc: 0.9452\n",
      "Epoch 27/100\n",
      "60000/60000 [==============================] - 7s 112us/step - loss: 0.1840 - acc: 0.9471\n",
      "Epoch 28/100\n",
      "60000/60000 [==============================] - 7s 117us/step - loss: 0.1891 - acc: 0.9459\n",
      "Epoch 29/100\n",
      "60000/60000 [==============================] - 8s 127us/step - loss: 0.1799 - acc: 0.9482\n",
      "Epoch 30/100\n",
      "60000/60000 [==============================] - 8s 128us/step - loss: 0.1834 - acc: 0.9465\n",
      "Epoch 31/100\n",
      "60000/60000 [==============================] - 8s 130us/step - loss: 0.1822 - acc: 0.9470\n",
      "Epoch 32/100\n",
      "60000/60000 [==============================] - 7s 124us/step - loss: 0.1793 - acc: 0.9484\n",
      "Epoch 33/100\n",
      "60000/60000 [==============================] - 8s 128us/step - loss: 0.1759 - acc: 0.9491\n",
      "Epoch 34/100\n",
      "60000/60000 [==============================] - 8s 131us/step - loss: 0.1737 - acc: 0.9491\n",
      "Epoch 35/100\n",
      "60000/60000 [==============================] - 8s 133us/step - loss: 0.1735 - acc: 0.9506\n",
      "Epoch 36/100\n",
      "60000/60000 [==============================] - 8s 134us/step - loss: 0.1741 - acc: 0.9492\n",
      "Epoch 37/100\n",
      "60000/60000 [==============================] - 8s 127us/step - loss: 0.1727 - acc: 0.9496\n",
      "Epoch 38/100\n",
      "60000/60000 [==============================] - 8s 131us/step - loss: 0.1737 - acc: 0.9495\n",
      "Epoch 39/100\n",
      "60000/60000 [==============================] - 8s 127us/step - loss: 0.1735 - acc: 0.9497\n",
      "Epoch 40/100\n",
      "60000/60000 [==============================] - 7s 123us/step - loss: 0.1725 - acc: 0.9501\n",
      "Epoch 41/100\n",
      "60000/60000 [==============================] - 8s 130us/step - loss: 0.1657 - acc: 0.9521\n",
      "Epoch 42/100\n",
      "60000/60000 [==============================] - 7s 124us/step - loss: 0.1681 - acc: 0.9519\n",
      "Epoch 43/100\n",
      "60000/60000 [==============================] - 7s 124us/step - loss: 0.1649 - acc: 0.9522\n",
      "Epoch 44/100\n",
      "60000/60000 [==============================] - 9s 152us/step - loss: 0.1661 - acc: 0.9525\n",
      "Epoch 45/100\n",
      "60000/60000 [==============================] - 10s 162us/step - loss: 0.1636 - acc: 0.9530\n",
      "Epoch 46/100\n",
      "60000/60000 [==============================] - 10s 163us/step - loss: 0.1653 - acc: 0.9515\n",
      "Epoch 47/100\n",
      "60000/60000 [==============================] - 8s 132us/step - loss: 0.1654 - acc: 0.9526\n",
      "Epoch 48/100\n",
      "60000/60000 [==============================] - 8s 126us/step - loss: 0.1656 - acc: 0.9523\n",
      "Epoch 49/100\n",
      "60000/60000 [==============================] - 9s 145us/step - loss: 0.1649 - acc: 0.9520\n",
      "Epoch 50/100\n",
      "60000/60000 [==============================] - 8s 131us/step - loss: 0.1630 - acc: 0.9535\n",
      "Epoch 51/100\n",
      "60000/60000 [==============================] - 8s 126us/step - loss: 0.1592 - acc: 0.9536\n",
      "Epoch 52/100\n",
      "60000/60000 [==============================] - 7s 113us/step - loss: 0.1612 - acc: 0.9533\n",
      "Epoch 53/100\n",
      "60000/60000 [==============================] - 6s 108us/step - loss: 0.1599 - acc: 0.9540\n",
      "Epoch 54/100\n",
      "60000/60000 [==============================] - 7s 111us/step - loss: 0.1568 - acc: 0.9542\n",
      "Epoch 55/100\n",
      "60000/60000 [==============================] - 7s 108us/step - loss: 0.1576 - acc: 0.9543\n",
      "Epoch 56/100\n",
      "60000/60000 [==============================] - 7s 109us/step - loss: 0.1641 - acc: 0.9523\n",
      "Epoch 57/100\n",
      "60000/60000 [==============================] - 7s 110us/step - loss: 0.1596 - acc: 0.9543\n",
      "Epoch 58/100\n",
      "60000/60000 [==============================] - 7s 110us/step - loss: 0.1551 - acc: 0.9553\n",
      "Epoch 59/100\n",
      "60000/60000 [==============================] - 7s 110us/step - loss: 0.1624 - acc: 0.9536\n",
      "Epoch 60/100\n",
      "60000/60000 [==============================] - 7s 110us/step - loss: 0.1587 - acc: 0.9540\n",
      "Epoch 61/100\n",
      "60000/60000 [==============================] - 7s 111us/step - loss: 0.1585 - acc: 0.9534\n",
      "Epoch 62/100\n",
      "60000/60000 [==============================] - 7s 122us/step - loss: 0.1592 - acc: 0.9535\n",
      "Epoch 63/100\n",
      "60000/60000 [==============================] - 8s 125us/step - loss: 0.1590 - acc: 0.9540\n",
      "Epoch 64/100\n",
      "60000/60000 [==============================] - 6s 103us/step - loss: 0.1537 - acc: 0.9566\n",
      "Epoch 65/100\n",
      "60000/60000 [==============================] - 6s 100us/step - loss: 0.1560 - acc: 0.9547\n",
      "Epoch 66/100\n",
      "60000/60000 [==============================] - 6s 106us/step - loss: 0.1511 - acc: 0.9566\n",
      "Epoch 67/100\n",
      "60000/60000 [==============================] - 6s 96us/step - loss: 0.1585 - acc: 0.9542\n",
      "Epoch 68/100\n",
      "60000/60000 [==============================] - 6s 99us/step - loss: 0.1512 - acc: 0.9556\n",
      "Epoch 69/100\n",
      "60000/60000 [==============================] - 6s 95us/step - loss: 0.1514 - acc: 0.9564\n",
      "Epoch 70/100\n",
      "60000/60000 [==============================] - 5s 89us/step - loss: 0.1536 - acc: 0.9559\n",
      "Epoch 71/100\n",
      "60000/60000 [==============================] - 5s 89us/step - loss: 0.1526 - acc: 0.9557\n",
      "Epoch 72/100\n",
      "60000/60000 [==============================] - 5s 91us/step - loss: 0.1525 - acc: 0.9550\n",
      "Epoch 73/100\n",
      "60000/60000 [==============================] - 6s 92us/step - loss: 0.1497 - acc: 0.9564\n",
      "Epoch 74/100\n",
      "60000/60000 [==============================] - 6s 96us/step - loss: 0.1525 - acc: 0.9554\n",
      "Epoch 75/100\n",
      "60000/60000 [==============================] - 6s 94us/step - loss: 0.1536 - acc: 0.9552\n",
      "Epoch 76/100\n",
      "60000/60000 [==============================] - 6s 94us/step - loss: 0.1529 - acc: 0.9552\n",
      "Epoch 77/100\n",
      "60000/60000 [==============================] - 6s 103us/step - loss: 0.1524 - acc: 0.9562\n",
      "Epoch 78/100\n",
      "60000/60000 [==============================] - 6s 98us/step - loss: 0.1512 - acc: 0.9565\n",
      "Epoch 79/100\n",
      "60000/60000 [==============================] - 6s 97us/step - loss: 0.1496 - acc: 0.9570\n",
      "Epoch 80/100\n",
      "60000/60000 [==============================] - 6s 94us/step - loss: 0.1491 - acc: 0.9570\n",
      "Epoch 81/100\n",
      "60000/60000 [==============================] - 6s 94us/step - loss: 0.1481 - acc: 0.9567\n",
      "Epoch 82/100\n",
      "60000/60000 [==============================] - 5s 91us/step - loss: 0.1472 - acc: 0.9570\n",
      "Epoch 83/100\n",
      "60000/60000 [==============================] - 5s 90us/step - loss: 0.1464 - acc: 0.9578\n",
      "Epoch 84/100\n",
      "60000/60000 [==============================] - 6s 100us/step - loss: 0.1443 - acc: 0.9578\n",
      "Epoch 85/100\n",
      "60000/60000 [==============================] - 6s 94us/step - loss: 0.1474 - acc: 0.9574\n",
      "Epoch 86/100\n",
      "60000/60000 [==============================] - 6s 97us/step - loss: 0.1472 - acc: 0.9571\n",
      "Epoch 87/100\n",
      "60000/60000 [==============================] - 5s 84us/step - loss: 0.1498 - acc: 0.9558\n",
      "Epoch 88/100\n",
      "60000/60000 [==============================] - 5s 87us/step - loss: 0.1499 - acc: 0.9563\n",
      "Epoch 89/100\n",
      "60000/60000 [==============================] - 5s 85us/step - loss: 0.1446 - acc: 0.9587\n",
      "Epoch 90/100\n",
      "60000/60000 [==============================] - 5s 82us/step - loss: 0.1431 - acc: 0.9586\n",
      "Epoch 91/100\n",
      "60000/60000 [==============================] - 5s 82us/step - loss: 0.1486 - acc: 0.9572\n",
      "Epoch 92/100\n",
      "60000/60000 [==============================] - 5s 88us/step - loss: 0.1458 - acc: 0.9579\n",
      "Epoch 93/100\n",
      "60000/60000 [==============================] - 5s 86us/step - loss: 0.1438 - acc: 0.9573\n",
      "Epoch 94/100\n",
      "60000/60000 [==============================] - 5s 80us/step - loss: 0.1413 - acc: 0.9587\n",
      "Epoch 95/100\n",
      "60000/60000 [==============================] - 5s 81us/step - loss: 0.1439 - acc: 0.9575\n",
      "Epoch 96/100\n",
      "60000/60000 [==============================] - 5s 81us/step - loss: 0.1433 - acc: 0.9589\n",
      "Epoch 97/100\n",
      "60000/60000 [==============================] - 5s 80us/step - loss: 0.1478 - acc: 0.9564\n",
      "Epoch 98/100\n",
      "60000/60000 [==============================] - 5s 80us/step - loss: 0.1420 - acc: 0.9576\n",
      "Epoch 99/100\n",
      "60000/60000 [==============================] - 5s 89us/step - loss: 0.1443 - acc: 0.9582\n",
      "Epoch 100/100\n",
      "60000/60000 [==============================] - 5s 82us/step - loss: 0.1453 - acc: 0.9589\n",
      "Epoch 1/100\n",
      "60000/60000 [==============================] - 7s 111us/step - loss: 0.7658 - acc: 0.7675\n",
      "Epoch 2/100\n",
      "60000/60000 [==============================] - 5s 83us/step - loss: 0.4173 - acc: 0.8803\n",
      "Epoch 3/100\n",
      "60000/60000 [==============================] - 5s 84us/step - loss: 0.3518 - acc: 0.9000\n",
      "Epoch 4/100\n",
      "60000/60000 [==============================] - 6s 93us/step - loss: 0.3222 - acc: 0.9079\n",
      "Epoch 5/100\n",
      "60000/60000 [==============================] - 5s 89us/step - loss: 0.2936 - acc: 0.9167\n",
      "Epoch 6/100\n",
      "60000/60000 [==============================] - 5s 84us/step - loss: 0.2719 - acc: 0.9228\n",
      "Epoch 7/100\n",
      "60000/60000 [==============================] - 5s 82us/step - loss: 0.2633 - acc: 0.9247\n",
      "Epoch 8/100\n",
      "60000/60000 [==============================] - 5s 82us/step - loss: 0.2554 - acc: 0.9278\n",
      "Epoch 9/100\n",
      "60000/60000 [==============================] - 5s 88us/step - loss: 0.2457 - acc: 0.9300\n",
      "Epoch 10/100\n",
      "60000/60000 [==============================] - 5s 83us/step - loss: 0.2378 - acc: 0.9311\n",
      "Epoch 11/100\n",
      "60000/60000 [==============================] - 5s 82us/step - loss: 0.2311 - acc: 0.9335\n",
      "Epoch 12/100\n",
      "60000/60000 [==============================] - 6s 92us/step - loss: 0.2264 - acc: 0.9353\n",
      "Epoch 13/100\n",
      "60000/60000 [==============================] - 5s 86us/step - loss: 0.2288 - acc: 0.9347\n",
      "Epoch 14/100\n",
      "60000/60000 [==============================] - 5s 83us/step - loss: 0.2195 - acc: 0.9383\n",
      "Epoch 15/100\n",
      "60000/60000 [==============================] - 5s 83us/step - loss: 0.2124 - acc: 0.9386\n",
      "Epoch 16/100\n",
      "60000/60000 [==============================] - 6s 96us/step - loss: 0.2123 - acc: 0.9397\n",
      "Epoch 17/100\n",
      "60000/60000 [==============================] - 6s 102us/step - loss: 0.2110 - acc: 0.9389\n",
      "Epoch 18/100\n",
      "60000/60000 [==============================] - 5s 87us/step - loss: 0.2054 - acc: 0.9407\n",
      "Epoch 19/100\n",
      "60000/60000 [==============================] - 5s 86us/step - loss: 0.2019 - acc: 0.9414\n",
      "Epoch 20/100\n",
      "60000/60000 [==============================] - 5s 91us/step - loss: 0.1989 - acc: 0.9427\n",
      "Epoch 21/100\n",
      "60000/60000 [==============================] - 5s 83us/step - loss: 0.1967 - acc: 0.9426\n",
      "Epoch 22/100\n",
      "60000/60000 [==============================] - 5s 89us/step - loss: 0.1936 - acc: 0.9438\n",
      "Epoch 23/100\n",
      "60000/60000 [==============================] - 5s 83us/step - loss: 0.1948 - acc: 0.9439\n",
      "Epoch 24/100\n",
      "60000/60000 [==============================] - 5s 81us/step - loss: 0.1890 - acc: 0.9456\n",
      "Epoch 25/100\n",
      "60000/60000 [==============================] - 5s 86us/step - loss: 0.1862 - acc: 0.9465\n",
      "Epoch 26/100\n",
      "60000/60000 [==============================] - 5s 82us/step - loss: 0.1842 - acc: 0.9463\n",
      "Epoch 27/100\n",
      "60000/60000 [==============================] - 6s 94us/step - loss: 0.1869 - acc: 0.9459\n",
      "Epoch 28/100\n",
      "60000/60000 [==============================] - 5s 82us/step - loss: 0.1831 - acc: 0.9472\n",
      "Epoch 29/100\n",
      "60000/60000 [==============================] - 5s 82us/step - loss: 0.1780 - acc: 0.9480\n",
      "Epoch 30/100\n",
      "60000/60000 [==============================] - 5s 82us/step - loss: 0.1799 - acc: 0.9474\n",
      "Epoch 31/100\n",
      "60000/60000 [==============================] - 5s 82us/step - loss: 0.1776 - acc: 0.9488\n",
      "Epoch 32/100\n",
      "60000/60000 [==============================] - 5s 87us/step - loss: 0.1760 - acc: 0.9494\n",
      "Epoch 33/100\n",
      "60000/60000 [==============================] - 5s 86us/step - loss: 0.1765 - acc: 0.9504\n",
      "Epoch 34/100\n",
      "60000/60000 [==============================] - 5s 82us/step - loss: 0.1781 - acc: 0.9483\n",
      "Epoch 35/100\n",
      "60000/60000 [==============================] - 6s 96us/step - loss: 0.1753 - acc: 0.9497\n",
      "Epoch 36/100\n",
      "60000/60000 [==============================] - 6s 108us/step - loss: 0.1733 - acc: 0.9498\n",
      "Epoch 37/100\n",
      "60000/60000 [==============================] - 6s 93us/step - loss: 0.1750 - acc: 0.9483\n",
      "Epoch 38/100\n",
      "60000/60000 [==============================] - 6s 102us/step - loss: 0.1699 - acc: 0.9506\n",
      "Epoch 39/100\n",
      "60000/60000 [==============================] - 6s 102us/step - loss: 0.1659 - acc: 0.9516\n",
      "Epoch 40/100\n",
      "60000/60000 [==============================] - 6s 102us/step - loss: 0.1684 - acc: 0.9504\n",
      "Epoch 41/100\n",
      "60000/60000 [==============================] - 6s 104us/step - loss: 0.1680 - acc: 0.9508\n",
      "Epoch 42/100\n",
      "60000/60000 [==============================] - 6s 103us/step - loss: 0.1633 - acc: 0.9522\n",
      "Epoch 43/100\n",
      "60000/60000 [==============================] - 6s 103us/step - loss: 0.1688 - acc: 0.9517\n",
      "Epoch 44/100\n",
      "60000/60000 [==============================] - 6s 102us/step - loss: 0.1644 - acc: 0.9526\n",
      "Epoch 45/100\n",
      "60000/60000 [==============================] - 6s 104us/step - loss: 0.1608 - acc: 0.9537\n",
      "Epoch 46/100\n",
      "60000/60000 [==============================] - 6s 104us/step - loss: 0.1604 - acc: 0.9532\n",
      "Epoch 47/100\n",
      "60000/60000 [==============================] - 6s 103us/step - loss: 0.1609 - acc: 0.9536\n",
      "Epoch 48/100\n",
      "60000/60000 [==============================] - 6s 104us/step - loss: 0.1625 - acc: 0.9539\n",
      "Epoch 49/100\n",
      "60000/60000 [==============================] - 6s 104us/step - loss: 0.1655 - acc: 0.9523\n",
      "Epoch 50/100\n",
      "60000/60000 [==============================] - 6s 103us/step - loss: 0.1631 - acc: 0.9540\n",
      "Epoch 51/100\n",
      "60000/60000 [==============================] - 6s 104us/step - loss: 0.1627 - acc: 0.9522\n",
      "Epoch 52/100\n",
      "60000/60000 [==============================] - 6s 104us/step - loss: 0.1577 - acc: 0.9546\n",
      "Epoch 53/100\n",
      "60000/60000 [==============================] - 6s 104us/step - loss: 0.1572 - acc: 0.9553\n",
      "Epoch 54/100\n",
      "60000/60000 [==============================] - 6s 101us/step - loss: 0.1614 - acc: 0.9533\n",
      "Epoch 55/100\n",
      "60000/60000 [==============================] - 6s 96us/step - loss: 0.1540 - acc: 0.9555\n",
      "Epoch 56/100\n",
      "60000/60000 [==============================] - 5s 83us/step - loss: 0.1551 - acc: 0.9552\n",
      "Epoch 57/100\n",
      "60000/60000 [==============================] - 5s 83us/step - loss: 0.1571 - acc: 0.9536\n",
      "Epoch 58/100\n",
      "60000/60000 [==============================] - 6s 92us/step - loss: 0.1582 - acc: 0.9539\n",
      "Epoch 59/100\n",
      "60000/60000 [==============================] - 5s 87us/step - loss: 0.1571 - acc: 0.9547\n",
      "Epoch 60/100\n"
     ]
    },
    {
     "name": "stdout",
     "output_type": "stream",
     "text": [
      "60000/60000 [==============================] - 5s 84us/step - loss: 0.1531 - acc: 0.9548\n",
      "Epoch 61/100\n",
      "60000/60000 [==============================] - 6s 92us/step - loss: 0.1536 - acc: 0.9546\n",
      "Epoch 62/100\n",
      "60000/60000 [==============================] - 5s 89us/step - loss: 0.1573 - acc: 0.9536\n",
      "Epoch 63/100\n",
      "60000/60000 [==============================] - 5s 90us/step - loss: 0.1538 - acc: 0.9563\n",
      "Epoch 64/100\n",
      "60000/60000 [==============================] - 5s 87us/step - loss: 0.1557 - acc: 0.9548\n",
      "Epoch 65/100\n",
      "60000/60000 [==============================] - 6s 96us/step - loss: 0.1547 - acc: 0.9540\n",
      "Epoch 66/100\n",
      "60000/60000 [==============================] - 5s 83us/step - loss: 0.1557 - acc: 0.9548\n",
      "Epoch 67/100\n",
      "60000/60000 [==============================] - 5s 82us/step - loss: 0.1554 - acc: 0.9544\n",
      "Epoch 68/100\n",
      "60000/60000 [==============================] - 5s 82us/step - loss: 0.1538 - acc: 0.9554\n",
      "Epoch 69/100\n",
      "60000/60000 [==============================] - 5s 82us/step - loss: 0.1522 - acc: 0.9546\n",
      "Epoch 70/100\n",
      "60000/60000 [==============================] - 5s 87us/step - loss: 0.1519 - acc: 0.9564\n",
      "Epoch 71/100\n",
      "60000/60000 [==============================] - 6s 97us/step - loss: 0.1550 - acc: 0.9548\n",
      "Epoch 72/100\n",
      "60000/60000 [==============================] - 5s 86us/step - loss: 0.1515 - acc: 0.9551\n",
      "Epoch 73/100\n",
      "60000/60000 [==============================] - 5s 83us/step - loss: 0.1503 - acc: 0.9558\n",
      "Epoch 74/100\n",
      "60000/60000 [==============================] - 5s 85us/step - loss: 0.1490 - acc: 0.9563\n",
      "Epoch 75/100\n",
      "60000/60000 [==============================] - 5s 82us/step - loss: 0.1479 - acc: 0.9569\n",
      "Epoch 76/100\n",
      "60000/60000 [==============================] - 5s 82us/step - loss: 0.1511 - acc: 0.9557\n",
      "Epoch 77/100\n",
      "60000/60000 [==============================] - 5s 82us/step - loss: 0.1486 - acc: 0.9567\n",
      "Epoch 78/100\n",
      "60000/60000 [==============================] - 5s 82us/step - loss: 0.1503 - acc: 0.9567\n",
      "Epoch 79/100\n",
      "60000/60000 [==============================] - 5s 83us/step - loss: 0.1450 - acc: 0.9578\n",
      "Epoch 80/100\n",
      "60000/60000 [==============================] - 6s 95us/step - loss: 0.1473 - acc: 0.9565\n",
      "Epoch 81/100\n",
      "60000/60000 [==============================] - 6s 93us/step - loss: 0.1492 - acc: 0.9561\n",
      "Epoch 82/100\n",
      "60000/60000 [==============================] - 5s 83us/step - loss: 0.1451 - acc: 0.9571\n",
      "Epoch 83/100\n",
      "60000/60000 [==============================] - 6s 103us/step - loss: 0.1451 - acc: 0.9573\n",
      "Epoch 84/100\n",
      "60000/60000 [==============================] - 6s 103us/step - loss: 0.1501 - acc: 0.9558\n",
      "Epoch 85/100\n",
      "60000/60000 [==============================] - 6s 94us/step - loss: 0.1472 - acc: 0.9566\n",
      "Epoch 86/100\n",
      "60000/60000 [==============================] - 6s 95us/step - loss: 0.1476 - acc: 0.9561\n",
      "Epoch 87/100\n",
      "60000/60000 [==============================] - 6s 95us/step - loss: 0.1488 - acc: 0.9573\n",
      "Epoch 88/100\n",
      "60000/60000 [==============================] - 6s 95us/step - loss: 0.1423 - acc: 0.9584\n",
      "Epoch 89/100\n",
      "60000/60000 [==============================] - 5s 90us/step - loss: 0.1473 - acc: 0.9569\n",
      "Epoch 90/100\n",
      "60000/60000 [==============================] - 5s 91us/step - loss: 0.1447 - acc: 0.9579\n",
      "Epoch 91/100\n",
      "60000/60000 [==============================] - 5s 89us/step - loss: 0.1468 - acc: 0.9564\n",
      "Epoch 92/100\n",
      "60000/60000 [==============================] - 5s 90us/step - loss: 0.1459 - acc: 0.9575\n",
      "Epoch 93/100\n",
      "60000/60000 [==============================] - 5s 90us/step - loss: 0.1452 - acc: 0.9567\n",
      "Epoch 94/100\n",
      "60000/60000 [==============================] - 5s 91us/step - loss: 0.1452 - acc: 0.9576\n",
      "Epoch 95/100\n",
      "60000/60000 [==============================] - 5s 90us/step - loss: 0.1439 - acc: 0.9580\n",
      "Epoch 96/100\n",
      "60000/60000 [==============================] - 5s 91us/step - loss: 0.1403 - acc: 0.9586\n",
      "Epoch 97/100\n",
      "60000/60000 [==============================] - 5s 89us/step - loss: 0.1448 - acc: 0.9569\n",
      "Epoch 98/100\n",
      "60000/60000 [==============================] - 5s 90us/step - loss: 0.1466 - acc: 0.9581\n",
      "Epoch 99/100\n",
      "60000/60000 [==============================] - 5s 89us/step - loss: 0.1404 - acc: 0.9596\n",
      "Epoch 100/100\n",
      "60000/60000 [==============================] - 5s 90us/step - loss: 0.1430 - acc: 0.9578\n",
      "Epoch 1/100\n",
      "60000/60000 [==============================] - 7s 114us/step - loss: 0.7684 - acc: 0.7649\n",
      "Epoch 2/100\n",
      "60000/60000 [==============================] - 6s 93us/step - loss: 0.4212 - acc: 0.8787\n",
      "Epoch 3/100\n",
      "60000/60000 [==============================] - 6s 104us/step - loss: 0.3609 - acc: 0.8963\n",
      "Epoch 4/100\n",
      "60000/60000 [==============================] - 6s 102us/step - loss: 0.3164 - acc: 0.9092\n",
      "Epoch 5/100\n",
      "60000/60000 [==============================] - 6s 94us/step - loss: 0.2982 - acc: 0.9168\n",
      "Epoch 6/100\n",
      "60000/60000 [==============================] - 6s 98us/step - loss: 0.2720 - acc: 0.9215\n",
      "Epoch 7/100\n",
      "60000/60000 [==============================] - 6s 94us/step - loss: 0.2584 - acc: 0.9270\n",
      "Epoch 8/100\n",
      "60000/60000 [==============================] - 6s 100us/step - loss: 0.2488 - acc: 0.9294\n",
      "Epoch 9/100\n",
      "60000/60000 [==============================] - 6s 102us/step - loss: 0.2413 - acc: 0.9314\n",
      "Epoch 10/100\n",
      "60000/60000 [==============================] - 6s 93us/step - loss: 0.2339 - acc: 0.9323\n",
      "Epoch 11/100\n",
      "60000/60000 [==============================] - 6s 93us/step - loss: 0.2295 - acc: 0.9361\n",
      "Epoch 12/100\n",
      "60000/60000 [==============================] - 6s 93us/step - loss: 0.2250 - acc: 0.9370\n",
      "Epoch 13/100\n",
      "60000/60000 [==============================] - 6s 93us/step - loss: 0.2186 - acc: 0.9376\n",
      "Epoch 14/100\n",
      "60000/60000 [==============================] - 6s 92us/step - loss: 0.2159 - acc: 0.9388\n",
      "Epoch 15/100\n",
      "60000/60000 [==============================] - 6s 93us/step - loss: 0.2133 - acc: 0.9398\n",
      "Epoch 16/100\n",
      "60000/60000 [==============================] - 6s 94us/step - loss: 0.2099 - acc: 0.9405\n",
      "Epoch 17/100\n",
      "60000/60000 [==============================] - 6s 95us/step - loss: 0.2048 - acc: 0.9418\n",
      "Epoch 18/100\n",
      "60000/60000 [==============================] - 6s 93us/step - loss: 0.2020 - acc: 0.9427\n",
      "Epoch 19/100\n",
      "60000/60000 [==============================] - 6s 92us/step - loss: 0.1976 - acc: 0.9437\n",
      "Epoch 20/100\n",
      "60000/60000 [==============================] - 6s 100us/step - loss: 0.1940 - acc: 0.9452\n",
      "Epoch 21/100\n",
      "60000/60000 [==============================] - 5s 91us/step - loss: 0.1913 - acc: 0.9456\n",
      "Epoch 22/100\n",
      "60000/60000 [==============================] - 6s 92us/step - loss: 0.1859 - acc: 0.9469\n",
      "Epoch 23/100\n",
      "60000/60000 [==============================] - 5s 92us/step - loss: 0.1861 - acc: 0.9461\n",
      "Epoch 24/100\n",
      "60000/60000 [==============================] - 6s 92us/step - loss: 0.1853 - acc: 0.9465\n",
      "Epoch 25/100\n",
      "60000/60000 [==============================] - 6s 92us/step - loss: 0.1827 - acc: 0.9476\n",
      "Epoch 26/100\n",
      "60000/60000 [==============================] - 6s 92us/step - loss: 0.1824 - acc: 0.9475\n",
      "Epoch 27/100\n",
      "20864/60000 [=========>....................] - ETA: 3s - loss: 0.1809 - acc: 0.9485"
     ]
    }
   ],
   "source": [
    "ensemble_clf.fit(X_train, y_train)"
   ]
  },
  {
   "cell_type": "code",
   "execution_count": null,
   "metadata": {},
   "outputs": [],
   "source": [
    "y_pred = ensemble_clf.predict(X_test)"
   ]
  },
  {
   "cell_type": "code",
   "execution_count": null,
   "metadata": {},
   "outputs": [],
   "source": [
    "print('Acc: ', accuracy_score(y_pred, y_test))"
   ]
  },
  {
   "cell_type": "code",
   "execution_count": null,
   "metadata": {},
   "outputs": [],
   "source": []
  },
  {
   "cell_type": "code",
   "execution_count": 221,
   "metadata": {},
   "outputs": [
    {
     "name": "stdout",
     "output_type": "stream",
     "text": [
      "Epoch 1/20\n",
      "60000/60000 [==============================] - 2s 34us/step - loss: 1.0496 - accuracy: 0.6730\n",
      "Epoch 2/20\n",
      "60000/60000 [==============================] - 1s 21us/step - loss: 0.4527 - accuracy: 0.8715\n",
      "Epoch 3/20\n",
      "60000/60000 [==============================] - 1s 22us/step - loss: 0.3610 - accuracy: 0.8990\n",
      "Epoch 4/20\n",
      "60000/60000 [==============================] - 1s 22us/step - loss: 0.3109 - accuracy: 0.9136\n",
      "Epoch 5/20\n",
      "60000/60000 [==============================] - 1s 21us/step - loss: 0.2739 - accuracy: 0.9247\n",
      "Epoch 6/20\n",
      "60000/60000 [==============================] - 1s 24us/step - loss: 0.2489 - accuracy: 0.9301\n",
      "Epoch 7/20\n",
      "60000/60000 [==============================] - 1s 23us/step - loss: 0.2309 - accuracy: 0.9372\n",
      "Epoch 8/20\n",
      "60000/60000 [==============================] - 1s 22us/step - loss: 0.2179 - accuracy: 0.9400\n",
      "Epoch 9/20\n",
      "60000/60000 [==============================] - 1s 22us/step - loss: 0.2066 - accuracy: 0.9425\n",
      "Epoch 10/20\n",
      "60000/60000 [==============================] - 1s 23us/step - loss: 0.1972 - accuracy: 0.9451\n",
      "Epoch 11/20\n",
      "60000/60000 [==============================] - 1s 22us/step - loss: 0.1891 - accuracy: 0.9475\n",
      "Epoch 12/20\n",
      "60000/60000 [==============================] - 1s 22us/step - loss: 0.1818 - accuracy: 0.9496\n",
      "Epoch 13/20\n",
      "60000/60000 [==============================] - 1s 25us/step - loss: 0.1735 - accuracy: 0.9521\n",
      "Epoch 14/20\n",
      "60000/60000 [==============================] - 1s 22us/step - loss: 0.1673 - accuracy: 0.9537\n",
      "Epoch 15/20\n",
      "60000/60000 [==============================] - 1s 22us/step - loss: 0.1640 - accuracy: 0.9536\n",
      "Epoch 16/20\n",
      "60000/60000 [==============================] - 1s 22us/step - loss: 0.1580 - accuracy: 0.9558\n",
      "Epoch 17/20\n",
      "60000/60000 [==============================] - 1s 23us/step - loss: 0.1515 - accuracy: 0.9571\n",
      "Epoch 18/20\n",
      "60000/60000 [==============================] - 1s 22us/step - loss: 0.1503 - accuracy: 0.9578\n",
      "Epoch 19/20\n",
      "60000/60000 [==============================] - 1s 23us/step - loss: 0.1496 - accuracy: 0.9583\n",
      "Epoch 20/20\n",
      "60000/60000 [==============================] - 1s 23us/step - loss: 0.1447 - accuracy: 0.9595\n"
     ]
    },
    {
     "data": {
      "text/plain": [
       "<keras.callbacks.callbacks.History at 0x7f0308cc6e80>"
      ]
     },
     "execution_count": 221,
     "metadata": {},
     "output_type": "execute_result"
    }
   ],
   "source": [
    "model1.fit(X_train,y_train,epochs=20,batch_size=256)"
   ]
  },
  {
   "cell_type": "code",
   "execution_count": null,
   "metadata": {},
   "outputs": [],
   "source": []
  },
  {
   "cell_type": "markdown",
   "metadata": {},
   "source": [
    "# Convolution"
   ]
  },
  {
   "cell_type": "code",
   "execution_count": 1,
   "metadata": {},
   "outputs": [
    {
     "name": "stderr",
     "output_type": "stream",
     "text": [
      "Using TensorFlow backend.\n"
     ]
    }
   ],
   "source": [
    "from keras.models import Sequential\n",
    "from keras import optimizers\n",
    "from keras.layers import Input, Dense, Activation, Flatten\n",
    "from keras.layers import Conv2D, MaxPooling2D, AveragePooling2D\n",
    "from keras.layers import GlobalMaxPooling2D, ZeroPadding2D\n",
    "from keras.models import Model\n",
    "from keras.preprocessing import image"
   ]
  },
  {
   "cell_type": "markdown",
   "metadata": {},
   "source": [
    "## 0. Basics\n",
    "- Input of image-format data is usually 4-D array in Tensorflow\n",
    "<br> **(num_instance, width, height, depth)** </br>\n",
    "    - **num_instance:** number of data instances. Usually designated as **None** to accomodate fluctuating data size\n",
    "    - **width:** width of an image\n",
    "    - **height:** height of an image\n",
    "    - **depth:** depth of an image. Color images are usually with depth = 3 (3 channels for RGB). Black/white images are usually with depth = 1 (only one channel)\n",
    "    \n",
    "<img src=\"http://xrds.acm.org/blog/wp-content/uploads/2016/06/Figure1.png\" style=\"width: 400px\"/>"
   ]
  },
  {
   "cell_type": "markdown",
   "metadata": {},
   "source": [
    "- Loading image\n",
    "    - Images can be loaded using load_img() function\n",
    "    - Images can be converted to numpy array using img_to_array() function"
   ]
  },
  {
   "cell_type": "code",
   "execution_count": 4,
   "metadata": {},
   "outputs": [],
   "source": [
    "img = image.load_img('./data/dog.jpg', target_size = (100, 100))"
   ]
  },
  {
   "cell_type": "code",
   "execution_count": 6,
   "metadata": {},
   "outputs": [
    {
     "data": {
      "image/png": "[encoded data removed]",
      "text/plain": [
       "<PIL.Image.Image image mode=RGB size=100x100 at 0x7F0814286EF0>"
      ]
     },
     "execution_count": 6,
     "metadata": {},
     "output_type": "execute_result"
    }
   ],
   "source": [
    "img"
   ]
  },
  {
   "cell_type": "code",
   "execution_count": 7,
   "metadata": {},
   "outputs": [],
   "source": [
    "img = image.img_to_array(img)"
   ]
  },
  {
   "cell_type": "code",
   "execution_count": 8,
   "metadata": {},
   "outputs": [
    {
     "name": "stdout",
     "output_type": "stream",
     "text": [
      "(100, 100, 3)\n"
     ]
    }
   ],
   "source": [
    "print(img.shape)"
   ]
  },
  {
   "cell_type": "markdown",
   "metadata": {},
   "source": [
    "## Convolution: FIlter/kernels\n",
    "### No padding, no strides\n",
    "![](https://raw.githubusercontent.com/vdumoulin/conv_arithmetic/master/gif/no_padding_no_strides.gif)"
   ]
  },
  {
   "cell_type": "code",
   "execution_count": 9,
   "metadata": {},
   "outputs": [
    {
     "data": {
      "text/plain": [
       "<keras.layers.convolutional.Conv2D at 0x7f0814175710>"
      ]
     },
     "execution_count": 9,
     "metadata": {},
     "output_type": "execute_result"
    }
   ],
   "source": [
    "Conv2D(input_shape = (10, 10, 3), filters = 10, kernel_size = (3,3), strides = (1,1), padding = 'valid')"
   ]
  },
  {
   "cell_type": "markdown",
   "metadata": {},
   "source": [
    "## Padding\n",
    "### ZeroPadding\n",
    "Customized paddings can be given with ZeroPadding**n**D layer"
   ]
  },
  {
   "cell_type": "code",
   "execution_count": null,
   "metadata": {},
   "outputs": [],
   "source": [
    "# user-customized padding\n",
    "input_layer = Input(shape = (10, 10, 3))\n",
    "padding_layer = ZeroPadding2D(padding = (1,1))(input_layer)\n",
    "\n",
    "model = Model(inputs = input_layer, outputs = padding_layer)"
   ]
  },
  {
   "cell_type": "markdown",
   "metadata": {},
   "source": [
    "### Padding: same\n",
    "![](https://raw.githubusercontent.com/vdumoulin/conv_arithmetic/master/gif/same_padding_no_strides.gif)"
   ]
  },
  {
   "cell_type": "code",
   "execution_count": null,
   "metadata": {},
   "outputs": [],
   "source": [
    "Conv2D(input_shape = (10, 10, 3), filters = 10, kernel_size = (3,3), strides = (1,1), padding = 'same')"
   ]
  },
  {
   "cell_type": "markdown",
   "metadata": {},
   "source": [
    "## Stride"
   ]
  },
  {
   "cell_type": "markdown",
   "metadata": {},
   "source": [
    "![](https://raw.githubusercontent.com/vdumoulin/conv_arithmetic/master/gif/no_padding_strides.gif)"
   ]
  },
  {
   "cell_type": "code",
   "execution_count": null,
   "metadata": {},
   "outputs": [],
   "source": [
    "Conv2D(input_shape = (10, 10, 3), filters = 10, kernel_size = (3,3), strides = (2,2), padding = 'valid')"
   ]
  },
  {
   "cell_type": "markdown",
   "metadata": {},
   "source": [
    "## Padding+Stride"
   ]
  },
  {
   "cell_type": "markdown",
   "metadata": {},
   "source": [
    "![](https://raw.githubusercontent.com/vdumoulin/conv_arithmetic/master/gif/padding_strides.gif)"
   ]
  },
  {
   "cell_type": "markdown",
   "metadata": {},
   "source": [
    "### Dilated convolution"
   ]
  },
  {
   "cell_type": "code",
   "execution_count": 16,
   "metadata": {
    "collapsed": true
   },
   "outputs": [],
   "source": [
    "Conv2D(input_shape = (10, 10, 3), filters = 10, kernel_size = (3,3), strides = (1,1),\n",
    "       padding = 'same', dilation_rate=(1, 1))"
   ]
  },
  {
   "cell_type": "markdown",
   "metadata": {},
   "source": [
    "![](https://raw.githubusercontent.com/vdumoulin/conv_arithmetic/master/gif/dilation.gif)"
   ]
  },
  {
   "cell_type": "markdown",
   "metadata": {},
   "source": [
    "## Pooling\n",
    "- Usually, max pooling is applied for rectangular region\n",
    "- pooling size, padding type, and strides can be set similar to convolutional layer\n",
    "![](https://raw.githubusercontent.com/vdumoulin/conv_arithmetic/master/gif/no_padding_no_strides.gif)"
   ]
  },
  {
   "cell_type": "markdown",
   "metadata": {},
   "source": [
    "### MaxPooling layer\n",
    "\n",
    "<img src=\"http://cs231n.github.io/assets/cnn/maxpool.jpeg\" style=\"width: 600px\"/>"
   ]
  },
  {
   "cell_type": "code",
   "execution_count": 25,
   "metadata": {
    "collapsed": true
   },
   "outputs": [],
   "source": [
    "# when 'strides' parameter is not defined, strides are equal to 'pool_size'\n",
    "MaxPooling2D(pool_size = (2,2), padding = 'valid')"
   ]
  },
  {
   "cell_type": "markdown",
   "metadata": {},
   "source": [
    "### So a 2D Convolutional Layer Includes:\n",
    "- Size of filter (designated by 'kernel_size' parameter) defines **width and height of receptive field **\n",
    "- Number of filters (designated by 'filters' parameter) is equal to **depth of the next layer**\n",
    "- Strides (designated by 'strides' parameter) is** how far a filter makes change in its position** for each move\n",
    "- Image can be **zero-padded** in order to prevent getting too small (designated by 'padding' parameter)\n",
    "\n",
    "<img src=\"http://cs231n.github.io/assets/cnn/depthcol.jpeg\" style=\"width: 400px\"/>\n",
    "\n",
    "[ref](https://keras.io/layers/convolutional/)"
   ]
  },
  {
   "cell_type": "markdown",
   "metadata": {},
   "source": [
    "### Convolution+Pooling"
   ]
  },
  {
   "cell_type": "code",
   "execution_count": 30,
   "metadata": {
    "collapsed": true
   },
   "outputs": [],
   "source": [
    "model.add(Conv2D(input_shape = (10, 10, 3), filters = 10, kernel_size = (3,3), strides = (1,1), padding = 'same'))\n",
    "model.add(MaxPooling2D(pool_size = (2,2), strides = (1,1), padding = 'valid'))"
   ]
  },
  {
   "cell_type": "code",
   "execution_count": 33,
   "metadata": {
    "collapsed": true
   },
   "outputs": [],
   "source": [
    "# globalmaxpooling performs maxpooling over whole channel with depth = 1\n",
    "Conv2D(input_shape = (10, 10, 3), filters = 10, kernel_size = (3,3), strides = (1,1), padding = 'same')\n",
    "GlobalMaxPooling2D()"
   ]
  },
  {
   "cell_type": "markdown",
   "metadata": {},
   "source": [
    "## 4. Flattening\n",
    "- To be connected to fully connected layer (dense layer), convolutional/pooling layer should be **\"flattened\"**\n",
    "- Resulting shape = **(Number of instances, width X height X depth)**"
   ]
  },
  {
   "cell_type": "code",
   "execution_count": 42,
   "metadata": {
    "collapsed": true
   },
   "outputs": [],
   "source": [
    "model = Sequential()\n",
    "model.add(Conv2D(input_shape = (10, 10, 3), filters = 10, kernel_size = (3,3), strides = (1,1), padding = 'same'))"
   ]
  },
  {
   "cell_type": "code",
   "execution_count": 43,
   "metadata": {},
   "outputs": [
    {
     "name": "stdout",
     "output_type": "stream",
     "text": [
      "(None, 10, 10, 10)\n"
     ]
    }
   ],
   "source": [
    "print(model.output_shape)"
   ]
  },
  {
   "cell_type": "code",
   "execution_count": 44,
   "metadata": {
    "collapsed": true
   },
   "outputs": [],
   "source": [
    "model.add(Flatten())"
   ]
  },
  {
   "cell_type": "code",
   "execution_count": 45,
   "metadata": {},
   "outputs": [
    {
     "name": "stdout",
     "output_type": "stream",
     "text": [
      "(None, 1000)\n"
     ]
    }
   ],
   "source": [
    "print(model.output_shape)"
   ]
  },
  {
   "cell_type": "markdown",
   "metadata": {},
   "source": [
    "## 5. Fully Connected (Dense)\n",
    "- After flattening layer, fully connected layer can be added\n",
    "- output shape (number of nodes) should be designated"
   ]
  },
  {
   "cell_type": "code",
   "execution_count": 46,
   "metadata": {
    "collapsed": true
   },
   "outputs": [],
   "source": [
    "model = Sequential()\n",
    "model.add(Conv2D(input_shape = (10, 10, 3), filters = 10, kernel_size = (3,3), strides = (1,1), padding = 'same'))\n",
    "model.add(Flatten())\n",
    "model.add(Dense(50))"
   ]
  },
  {
   "cell_type": "code",
   "execution_count": 47,
   "metadata": {},
   "outputs": [
    {
     "name": "stdout",
     "output_type": "stream",
     "text": [
      "(None, 50)\n"
     ]
    }
   ],
   "source": [
    "print(model.output_shape)"
   ]
  },
  {
   "cell_type": "markdown",
   "metadata": {},
   "source": [
    "## A bit deeper:\n",
    "- Weight Initialization\n",
    "- Batch Normalization\n",
    "- l1 and l2 regularizations\n",
    "- Dropout (Regularization)"
   ]
  },
  {
   "cell_type": "code",
   "execution_count": 1,
   "metadata": {},
   "outputs": [
    {
     "name": "stderr",
     "output_type": "stream",
     "text": [
      "Using TensorFlow backend.\n"
     ]
    }
   ],
   "source": [
    "import matplotlib.pyplot as plt\n",
    "\n",
    "import numpy as np\n",
    "from keras.models import Model\n",
    "from keras.layers import Input, Dense,BatchNormalization, Dropout"
   ]
  },
  {
   "cell_type": "markdown",
   "metadata": {},
   "source": [
    "### Initialization"
   ]
  },
  {
   "cell_type": "code",
   "execution_count": 14,
   "metadata": {},
   "outputs": [],
   "source": [
    "def init1(shape, dtype=None):\n",
    "    print(shape)\n",
    "#     return np.array([2]).reshape(shape).astype(dtype)\n",
    "#     return np.random.normal(0,1,shape).reshape(shape).astype(dtype)\n",
    "    return np.zeros(shape).reshape(shape).astype(dtype)\n",
    "\n",
    "def init2(shape, dtype=None):\n",
    "    print(shape)\n",
    "#     return np.array([1]).reshape(shape).astype(dtype)\n",
    "#     return np.random.normal(0,1,shape).reshape(shape).astype(dtype)\n",
    "    return np.ones(shape).reshape(shape).astype(dtype)"
   ]
  },
  {
   "cell_type": "code",
   "execution_count": 15,
   "metadata": {},
   "outputs": [
    {
     "name": "stdout",
     "output_type": "stream",
     "text": [
      "(1, 10)\n",
      "(10,)\n",
      "_________________________________________________________________\n",
      "Layer (type)                 Output Shape              Param #   \n",
      "=================================================================\n",
      "input_6 (InputLayer)         (None, 1)                 0         \n",
      "_________________________________________________________________\n",
      "dense_6 (Dense)              (None, 10)                20        \n",
      "=================================================================\n",
      "Total params: 20\n",
      "Trainable params: 20\n",
      "Non-trainable params: 0\n",
      "_________________________________________________________________\n"
     ]
    }
   ],
   "source": [
    "x1 = Input(shape=(1,))\n",
    "x2 = Dense(10, kernel_initializer=init1, bias_initializer=init2)(x1)\n",
    "\n",
    "model = Model(inputs=x1,outputs=x2)\n",
    "model.compile(optimizer = 'sgd', loss = 'mse')\n",
    "model.summary()"
   ]
  },
  {
   "cell_type": "code",
   "execution_count": 16,
   "metadata": {},
   "outputs": [
    {
     "data": {
      "text/plain": [
       "array([[1., 1., 1., 1., 1., 1., 1., 1., 1., 1.]], dtype=float32)"
      ]
     },
     "execution_count": 16,
     "metadata": {},
     "output_type": "execute_result"
    }
   ],
   "source": [
    "model.predict([1])"
   ]
  },
  {
   "cell_type": "markdown",
   "metadata": {},
   "source": [
    "### Batch Normalization"
   ]
  },
  {
   "cell_type": "markdown",
   "metadata": {},
   "source": [
    "![](https://www.researchgate.net/profile/Tali_Leibovich-Raveh/publication/325868989/figure/fig2/AS:639475206074368@1529474178211/A-Basic-sigmoid-function-with-two-parameters-c1-and-c2-as-commonly-used-for-subitizing.png)"
   ]
  },
  {
   "cell_type": "code",
   "execution_count": 17,
   "metadata": {},
   "outputs": [
    {
     "name": "stdout",
     "output_type": "stream",
     "text": [
      "(3, 1)\n",
      "_________________________________________________________________\n",
      "Layer (type)                 Output Shape              Param #   \n",
      "=================================================================\n",
      "input_7 (InputLayer)         (None, 3)                 0         \n",
      "_________________________________________________________________\n",
      "dense_7 (Dense)              (None, 1)                 4         \n",
      "_________________________________________________________________\n",
      "batch_normalization_1 (Batch (None, 1)                 4         \n",
      "=================================================================\n",
      "Total params: 8\n",
      "Trainable params: 6\n",
      "Non-trainable params: 2\n",
      "_________________________________________________________________\n"
     ]
    }
   ],
   "source": [
    "def init1(shape, dtype=None):\n",
    "    print(shape)\n",
    "    return np.array([2,2,2]).reshape(shape).astype(dtype)\n",
    "\n",
    "x1 = Input(shape=(3,))\n",
    "x2 = Dense(1, kernel_initializer=init1)(x1)\n",
    "x3 = BatchNormalization()(x2)\n",
    "\n",
    "model = Model(inputs=x1,outputs=x3)\n",
    "model.compile(optimizer = 'sgd', loss = 'mse')\n",
    "model.summary()"
   ]
  },
  {
   "cell_type": "markdown",
   "metadata": {},
   "source": [
    "### Dropout"
   ]
  },
  {
   "cell_type": "markdown",
   "metadata": {},
   "source": [
    "![](https://miro.medium.com/max/1200/1*iWQzxhVlvadk6VAJjsgXgg.png)"
   ]
  },
  {
   "cell_type": "code",
   "execution_count": 36,
   "metadata": {},
   "outputs": [
    {
     "name": "stdout",
     "output_type": "stream",
     "text": [
      "(10, 10)\n",
      "(10, 1)\n",
      "_________________________________________________________________\n",
      "Layer (type)                 Output Shape              Param #   \n",
      "=================================================================\n",
      "input_12 (InputLayer)        (None, 10)                0         \n",
      "_________________________________________________________________\n",
      "dense_16 (Dense)             (None, 10)                110       \n",
      "_________________________________________________________________\n",
      "dropout_5 (Dropout)          (None, 10)                0         \n",
      "_________________________________________________________________\n",
      "dense_17 (Dense)             (None, 1)                 11        \n",
      "_________________________________________________________________\n",
      "dropout_6 (Dropout)          (None, 1)                 0         \n",
      "=================================================================\n",
      "Total params: 121\n",
      "Trainable params: 121\n",
      "Non-trainable params: 0\n",
      "_________________________________________________________________\n"
     ]
    }
   ],
   "source": [
    "def init1(shape, dtype=None):\n",
    "    print(shape)\n",
    "#     return np.array(10*[2]).reshape(shape).astype(dtype)\n",
    "    return np.arange(shape[0]*shape[1]).reshape(shape).astype(dtype)\n",
    "\n",
    "x1 = Input(shape=(10,))\n",
    "x2 = Dense(10, kernel_initializer=init1)(x1)\n",
    "x3 = Dropout(0.5)(x2, training=True)\n",
    "x4 = Dense(1, kernel_initializer=init1)(x3)\n",
    "x5 = Dropout(0.5)(x4, training=True)\n",
    "\n",
    "model = Model(inputs=x1,outputs=x5)\n",
    "model.compile(optimizer = 'sgd', loss = 'mse')\n",
    "model.summary()"
   ]
  },
  {
   "cell_type": "code",
   "execution_count": 47,
   "metadata": {},
   "outputs": [
    {
     "data": {
      "text/plain": [
       "array([[39280.]], dtype=float32)"
      ]
     },
     "execution_count": 47,
     "metadata": {},
     "output_type": "execute_result"
    }
   ],
   "source": [
    "model.predict(np.array(10*[1]).reshape(1,10))"
   ]
  },
  {
   "cell_type": "code",
   "execution_count": 36,
   "metadata": {},
   "outputs": [],
   "source": [
    "# def init1(shape, dtype=None):\n",
    "#     print(shape)\n",
    "#     nn = shape[0]*shape[1]\n",
    "#     ws = np.array(nn*[1./nn]).reshape(shape).astype(dtype)\n",
    "# #     print(ws)\n",
    "#     return ws\n",
    "\n",
    "# x1 = Input(shape=(1000,))\n",
    "# x2 = Dense(1, kernel_initializer=init1)(x1)\n",
    "# x3 = BatchNormalization()(x2)\n",
    "\n",
    "# model = Model(inputs=x1,outputs=x3)\n",
    "# model.compile(optimizer = 'sgd', loss = 'mse')\n",
    "# model.summary()"
   ]
  },
  {
   "cell_type": "code",
   "execution_count": 37,
   "metadata": {},
   "outputs": [],
   "source": [
    "# x = np.random.normal(100,1,1000)\n",
    "# y = model.predict(x.reshape(1,1000))\n",
    "# y.mean()"
   ]
  },
  {
   "cell_type": "code",
   "execution_count": 38,
   "metadata": {},
   "outputs": [],
   "source": [
    "# hist, bin_edges = np.histogram(y.reshape(-1),100)\n",
    "# bin_c = 0.5*(bin_edges[1:]+bin_edges[:1])"
   ]
  },
  {
   "cell_type": "code",
   "execution_count": 39,
   "metadata": {},
   "outputs": [],
   "source": [
    "# plt.plot(bin_c,hist)\n",
    "# # plt.xlim(-5,5)"
   ]
  },
  {
   "cell_type": "markdown",
   "metadata": {},
   "source": [
    "### Regularizers"
   ]
  },
  {
   "cell_type": "markdown",
   "metadata": {},
   "source": [
    "![](https://miro.medium.com/max/2546/1*zMLv7EHYtjfr94JOBzjqTA.png)"
   ]
  },
  {
   "cell_type": "code",
   "execution_count": null,
   "metadata": {},
   "outputs": [],
   "source": [
    "from keras.regularizers import l1,l2,l1_l2"
   ]
  },
  {
   "cell_type": "code",
   "execution_count": null,
   "metadata": {},
   "outputs": [],
   "source": [
    "from keras import regularizers\n",
    "model.add(Dense(64, input_dim=64,\n",
    "                kernel_regularizer=l2(0.01),\n",
    "                bias_regularizer=l1(0.01)))"
   ]
  },
  {
   "cell_type": "code",
   "execution_count": null,
   "metadata": {},
   "outputs": [],
   "source": [
    "l1(0.)\n",
    "l2(0.)\n",
    "l1_l2(l1=0.01, l2=0.01)"
   ]
  },
  {
   "cell_type": "code",
   "execution_count": null,
   "metadata": {},
   "outputs": [],
   "source": [
    "from keras import backend as K\n",
    "\n",
    "def l1_reg(weight_matrix):\n",
    "    return 0.01 * K.sum(K.abs(weight_matrix))\n",
    "\n",
    "model.add(Dense(64, input_dim=64,\n",
    "                kernel_regularizer=l1_reg))\n"
   ]
  },
  {
   "cell_type": "markdown",
   "metadata": {},
   "source": [
    "# Advanced Convolutional Neural Networks (CNN)\n",
    "- Objective: try different structures of CNNs"
   ]
  },
  {
   "cell_type": "markdown",
   "metadata": {},
   "source": [
    "## Deeper Networks\n",
    "- It is one of definite trends that CNN models submitted to ILSVRC are getting deeper and deeper\n",
    "<img src=\"https://cdn-images-1.medium.com/max/756/1*Io-I-fOM0jGftDb_nne4KQ.png\" style=\"width: 600px\"/>\n",
    "\n",
    "<img src=\"http://cs231n.github.io/assets/cnnvis/filt1.jpeg\" style=\"width: 400px\"/>"
   ]
  },
  {
   "cell_type": "markdown",
   "metadata": {},
   "source": [
    "# Convolutional Neural Networks (CNN)"
   ]
  },
  {
   "cell_type": "markdown",
   "metadata": {},
   "source": [
    "<img src=\"https://adeshpande3.github.io/assets/Cover.png\" style=\"width: 800px\"/>"
   ]
  },
  {
   "cell_type": "markdown",
   "metadata": {},
   "source": [
    "### What will happen to an image:\n",
    "\n",
    "<img src=\"http://cs231n.github.io/assets/cnn/convnet.jpeg\" style=\"width: 1000px\"/>"
   ]
  },
  {
   "cell_type": "markdown",
   "metadata": {},
   "source": [
    "### Convolution is able to understand the objective in a hierarchy of concepts!\n",
    "\n",
    "<img src=\"https://images.anandtech.com/doci/12673/feature_hierarchy_575px.png\" style=\"width: 1000px\"/>"
   ]
  },
  {
   "cell_type": "markdown",
   "metadata": {},
   "source": [
    "### The whole story:\n",
    "\n",
    "<img src=\"https://devblogs.nvidia.com/wp-content/uploads/2015/11/fig1.png\" style=\"width: 1000px\"/>"
   ]
  },
  {
   "cell_type": "code",
   "execution_count": null,
   "metadata": {},
   "outputs": [],
   "source": []
  },
  {
   "cell_type": "code",
   "execution_count": null,
   "metadata": {},
   "outputs": [],
   "source": []
  },
  {
   "cell_type": "code",
   "execution_count": null,
   "metadata": {},
   "outputs": [],
   "source": []
  }
 ],
 "metadata": {
  "kernelspec": {
   "display_name": "Python 3",
   "language": "python",
   "name": "python3"
  },
  "language_info": {
   "codemirror_mode": {
    "name": "ipython",
    "version": 3
   },
   "file_extension": ".py",
   "mimetype": "text/x-python",
   "name": "python",
   "nbconvert_exporter": "python",
   "pygments_lexer": "ipython3",
   "version": "3.6.6"
  }
 },
 "nbformat": 4,
 "nbformat_minor": 2
}
