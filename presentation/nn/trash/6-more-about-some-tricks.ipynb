{
 "cells": [
  {
   "cell_type": "markdown",
   "metadata": {},
   "source": [
    "## A bit deeper:\n",
    "- Weight Initialization\n",
    "- Batch Normalization\n",
    "- l1 and l2 regularizations\n",
    "- Dropout (Regularization)"
   ]
  },
  {
   "cell_type": "code",
   "execution_count": 1,
   "metadata": {},
   "outputs": [
    {
     "name": "stderr",
     "output_type": "stream",
     "text": [
      "Using TensorFlow backend.\n"
     ]
    }
   ],
   "source": [
    "import matplotlib.pyplot as plt\n",
    "\n",
    "import numpy as np\n",
    "from keras.models import Model\n",
    "from keras.layers import Input, Dense,BatchNormalization, Dropout"
   ]
  },
  {
   "cell_type": "markdown",
   "metadata": {},
   "source": [
    "### Initialization"
   ]
  },
  {
   "cell_type": "code",
   "execution_count": 14,
   "metadata": {},
   "outputs": [],
   "source": [
    "def init1(shape, dtype=None):\n",
    "    print(shape)\n",
    "#     return np.array([2]).reshape(shape).astype(dtype)\n",
    "#     return np.random.normal(0,1,shape).reshape(shape).astype(dtype)\n",
    "    return np.zeros(shape).reshape(shape).astype(dtype)\n",
    "\n",
    "def init2(shape, dtype=None):\n",
    "    print(shape)\n",
    "#     return np.array([1]).reshape(shape).astype(dtype)\n",
    "#     return np.random.normal(0,1,shape).reshape(shape).astype(dtype)\n",
    "    return np.ones(shape).reshape(shape).astype(dtype)"
   ]
  },
  {
   "cell_type": "code",
   "execution_count": 15,
   "metadata": {},
   "outputs": [
    {
     "name": "stdout",
     "output_type": "stream",
     "text": [
      "(1, 10)\n",
      "(10,)\n",
      "_________________________________________________________________\n",
      "Layer (type)                 Output Shape              Param #   \n",
      "=================================================================\n",
      "input_6 (InputLayer)         (None, 1)                 0         \n",
      "_________________________________________________________________\n",
      "dense_6 (Dense)              (None, 10)                20        \n",
      "=================================================================\n",
      "Total params: 20\n",
      "Trainable params: 20\n",
      "Non-trainable params: 0\n",
      "_________________________________________________________________\n"
     ]
    }
   ],
   "source": [
    "x1 = Input(shape=(1,))\n",
    "x2 = Dense(10, kernel_initializer=init1, bias_initializer=init2)(x1)\n",
    "\n",
    "model = Model(inputs=x1,outputs=x2)\n",
    "model.compile(optimizer = 'sgd', loss = 'mse')\n",
    "model.summary()"
   ]
  },
  {
   "cell_type": "code",
   "execution_count": 16,
   "metadata": {},
   "outputs": [
    {
     "data": {
      "text/plain": [
       "array([[1., 1., 1., 1., 1., 1., 1., 1., 1., 1.]], dtype=float32)"
      ]
     },
     "execution_count": 16,
     "metadata": {},
     "output_type": "execute_result"
    }
   ],
   "source": [
    "model.predict([1])"
   ]
  },
  {
   "cell_type": "markdown",
   "metadata": {},
   "source": [
    "### Batch Normalization"
   ]
  },
  {
   "cell_type": "markdown",
   "metadata": {},
   "source": [
    "![](https://www.researchgate.net/profile/Tali_Leibovich-Raveh/publication/325868989/figure/fig2/AS:639475206074368@1529474178211/A-Basic-sigmoid-function-with-two-parameters-c1-and-c2-as-commonly-used-for-subitizing.png)"
   ]
  },
  {
   "cell_type": "code",
   "execution_count": 17,
   "metadata": {},
   "outputs": [
    {
     "name": "stdout",
     "output_type": "stream",
     "text": [
      "(3, 1)\n",
      "_________________________________________________________________\n",
      "Layer (type)                 Output Shape              Param #   \n",
      "=================================================================\n",
      "input_7 (InputLayer)         (None, 3)                 0         \n",
      "_________________________________________________________________\n",
      "dense_7 (Dense)              (None, 1)                 4         \n",
      "_________________________________________________________________\n",
      "batch_normalization_1 (Batch (None, 1)                 4         \n",
      "=================================================================\n",
      "Total params: 8\n",
      "Trainable params: 6\n",
      "Non-trainable params: 2\n",
      "_________________________________________________________________\n"
     ]
    }
   ],
   "source": [
    "def init1(shape, dtype=None):\n",
    "    print(shape)\n",
    "    return np.array([2,2,2]).reshape(shape).astype(dtype)\n",
    "\n",
    "x1 = Input(shape=(3,))\n",
    "x2 = Dense(1, kernel_initializer=init1)(x1)\n",
    "x3 = BatchNormalization()(x2)\n",
    "\n",
    "model = Model(inputs=x1,outputs=x3)\n",
    "model.compile(optimizer = 'sgd', loss = 'mse')\n",
    "model.summary()"
   ]
  },
  {
   "cell_type": "markdown",
   "metadata": {},
   "source": [
    "### Dropout"
   ]
  },
  {
   "cell_type": "markdown",
   "metadata": {},
   "source": [
    "![](https://miro.medium.com/max/1200/1*iWQzxhVlvadk6VAJjsgXgg.png)"
   ]
  },
  {
   "cell_type": "code",
   "execution_count": 36,
   "metadata": {},
   "outputs": [
    {
     "name": "stdout",
     "output_type": "stream",
     "text": [
      "(10, 10)\n",
      "(10, 1)\n",
      "_________________________________________________________________\n",
      "Layer (type)                 Output Shape              Param #   \n",
      "=================================================================\n",
      "input_12 (InputLayer)        (None, 10)                0         \n",
      "_________________________________________________________________\n",
      "dense_16 (Dense)             (None, 10)                110       \n",
      "_________________________________________________________________\n",
      "dropout_5 (Dropout)          (None, 10)                0         \n",
      "_________________________________________________________________\n",
      "dense_17 (Dense)             (None, 1)                 11        \n",
      "_________________________________________________________________\n",
      "dropout_6 (Dropout)          (None, 1)                 0         \n",
      "=================================================================\n",
      "Total params: 121\n",
      "Trainable params: 121\n",
      "Non-trainable params: 0\n",
      "_________________________________________________________________\n"
     ]
    }
   ],
   "source": [
    "def init1(shape, dtype=None):\n",
    "    print(shape)\n",
    "#     return np.array(10*[2]).reshape(shape).astype(dtype)\n",
    "    return np.arange(shape[0]*shape[1]).reshape(shape).astype(dtype)\n",
    "\n",
    "x1 = Input(shape=(10,))\n",
    "x2 = Dense(10, kernel_initializer=init1)(x1)\n",
    "x3 = Dropout(0.5)(x2, training=True)\n",
    "x4 = Dense(1, kernel_initializer=init1)(x3)\n",
    "x5 = Dropout(0.5)(x4, training=True)\n",
    "\n",
    "model = Model(inputs=x1,outputs=x5)\n",
    "model.compile(optimizer = 'sgd', loss = 'mse')\n",
    "model.summary()"
   ]
  },
  {
   "cell_type": "code",
   "execution_count": 47,
   "metadata": {},
   "outputs": [
    {
     "data": {
      "text/plain": [
       "array([[39280.]], dtype=float32)"
      ]
     },
     "execution_count": 47,
     "metadata": {},
     "output_type": "execute_result"
    }
   ],
   "source": [
    "model.predict(np.array(10*[1]).reshape(1,10))"
   ]
  },
  {
   "cell_type": "code",
   "execution_count": 36,
   "metadata": {},
   "outputs": [],
   "source": [
    "# def init1(shape, dtype=None):\n",
    "#     print(shape)\n",
    "#     nn = shape[0]*shape[1]\n",
    "#     ws = np.array(nn*[1./nn]).reshape(shape).astype(dtype)\n",
    "# #     print(ws)\n",
    "#     return ws\n",
    "\n",
    "# x1 = Input(shape=(1000,))\n",
    "# x2 = Dense(1, kernel_initializer=init1)(x1)\n",
    "# x3 = BatchNormalization()(x2)\n",
    "\n",
    "# model = Model(inputs=x1,outputs=x3)\n",
    "# model.compile(optimizer = 'sgd', loss = 'mse')\n",
    "# model.summary()"
   ]
  },
  {
   "cell_type": "code",
   "execution_count": 37,
   "metadata": {},
   "outputs": [],
   "source": [
    "# x = np.random.normal(100,1,1000)\n",
    "# y = model.predict(x.reshape(1,1000))\n",
    "# y.mean()"
   ]
  },
  {
   "cell_type": "code",
   "execution_count": 38,
   "metadata": {},
   "outputs": [],
   "source": [
    "# hist, bin_edges = np.histogram(y.reshape(-1),100)\n",
    "# bin_c = 0.5*(bin_edges[1:]+bin_edges[:1])"
   ]
  },
  {
   "cell_type": "code",
   "execution_count": 39,
   "metadata": {},
   "outputs": [],
   "source": [
    "# plt.plot(bin_c,hist)\n",
    "# # plt.xlim(-5,5)"
   ]
  },
  {
   "cell_type": "markdown",
   "metadata": {},
   "source": [
    "### Regularizers"
   ]
  },
  {
   "cell_type": "markdown",
   "metadata": {},
   "source": [
    "![](https://miro.medium.com/max/2546/1*zMLv7EHYtjfr94JOBzjqTA.png)"
   ]
  },
  {
   "cell_type": "code",
   "execution_count": null,
   "metadata": {},
   "outputs": [],
   "source": [
    "from keras.regularizers import l1,l2,l1_l2"
   ]
  },
  {
   "cell_type": "code",
   "execution_count": null,
   "metadata": {},
   "outputs": [],
   "source": [
    "from keras import regularizers\n",
    "model.add(Dense(64, input_dim=64,\n",
    "                kernel_regularizer=l2(0.01),\n",
    "                bias_regularizer=l1(0.01)))"
   ]
  },
  {
   "cell_type": "code",
   "execution_count": null,
   "metadata": {},
   "outputs": [],
   "source": [
    "l1(0.)\n",
    "l2(0.)\n",
    "l1_l2(l1=0.01, l2=0.01)"
   ]
  },
  {
   "cell_type": "code",
   "execution_count": null,
   "metadata": {},
   "outputs": [],
   "source": [
    "from keras import backend as K\n",
    "\n",
    "def l1_reg(weight_matrix):\n",
    "    return 0.01 * K.sum(K.abs(weight_matrix))\n",
    "\n",
    "model.add(Dense(64, input_dim=64,\n",
    "                kernel_regularizer=l1_reg))\n"
   ]
  }
 ],
 "metadata": {
  "kernelspec": {
   "display_name": "Python 3",
   "language": "python",
   "name": "python3"
  },
  "language_info": {
   "codemirror_mode": {
    "name": "ipython",
    "version": 3
   },
   "file_extension": ".py",
   "mimetype": "text/x-python",
   "name": "python",
   "nbconvert_exporter": "python",
   "pygments_lexer": "ipython3",
   "version": "3.6.6"
  }
 },
 "nbformat": 4,
 "nbformat_minor": 2
}
