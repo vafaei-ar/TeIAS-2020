{
 "cells": [
  {
   "cell_type": "markdown",
   "metadata": {},
   "source": [
    "# Tensorflow introduction"
   ]
  },
  {
   "cell_type": "markdown",
   "metadata": {},
   "source": [
    "Tensorflow is an open-source software library for dataflow programming across a range of tasks. It is a symbolic math library, and also used for machine learning applications such as neural networks. Here we try to introduce it using some easy elementry examples."
   ]
  },
  {
   "cell_type": "code",
   "execution_count": 1,
   "metadata": {},
   "outputs": [],
   "source": [
    "import tensorflow as tf"
   ]
  },
  {
   "cell_type": "code",
   "execution_count": 2,
   "metadata": {},
   "outputs": [
    {
     "data": {
      "text/plain": [
       "'1.8.0'"
      ]
     },
     "execution_count": 2,
     "metadata": {},
     "output_type": "execute_result"
    }
   ],
   "source": [
    "tf.__version__"
   ]
  },
  {
   "cell_type": "code",
   "execution_count": 3,
   "metadata": {},
   "outputs": [],
   "source": [
    " sess = tf.Session()"
   ]
  },
  {
   "cell_type": "markdown",
   "metadata": {},
   "source": [
    "You can define constant in different format like:"
   ]
  },
  {
   "cell_type": "code",
   "execution_count": 4,
   "metadata": {},
   "outputs": [
    {
     "name": "stdout",
     "output_type": "stream",
     "text": [
      "Tensor(\"Const:0\", shape=(), dtype=float32)\n",
      "Tensor(\"Const_1:0\", shape=(), dtype=float32)\n"
     ]
    }
   ],
   "source": [
    "node1 = tf.constant(3.0, dtype=tf.float32)\n",
    "node2 = tf.constant(4.0) # also tf.float32 implicitly\n",
    "print(node1)\n",
    "print(node2)"
   ]
  },
  {
   "cell_type": "markdown",
   "metadata": {},
   "source": [
    "As mentioned before, tnesorflow is a C basec packages which has python interface. For calculation you should open a tensorflow session like:"
   ]
  },
  {
   "cell_type": "code",
   "execution_count": 5,
   "metadata": {},
   "outputs": [
    {
     "name": "stdout",
     "output_type": "stream",
     "text": [
      "[3.0, 4.0]\n"
     ]
    }
   ],
   "source": [
    "print(sess.run([node1, node2]))"
   ]
  },
  {
   "cell_type": "markdown",
   "metadata": {},
   "source": [
    "For example if you want to add two number using tensorflow, you can make the data flow through operations (here addition) then you have to open a session (here by with command) and run it like:"
   ]
  },
  {
   "cell_type": "code",
   "execution_count": 6,
   "metadata": {},
   "outputs": [
    {
     "name": "stdout",
     "output_type": "stream",
     "text": [
      "7.0\n"
     ]
    }
   ],
   "source": [
    "node3 = tf.add(node1, node2)\n",
    "print(sess.run(node3))"
   ]
  },
  {
   "cell_type": "code",
   "execution_count": 7,
   "metadata": {},
   "outputs": [
    {
     "name": "stdout",
     "output_type": "stream",
     "text": [
      "7.5\n",
      "[3. 7.]\n"
     ]
    }
   ],
   "source": [
    "a = tf.placeholder(tf.float32)\n",
    "b = tf.placeholder(tf.float32)\n",
    "# adder_node = tf.add(a, b)\n",
    "adder_node = a + b\n",
    "print(sess.run(fetches = adder_node,\n",
    "               feed_dict={a: 3, b:4.5}))\n",
    "print(sess.run(fetches = adder_node, \n",
    "               feed_dict = {a: [1,3], b: [2, 4]}))"
   ]
  },
  {
   "cell_type": "markdown",
   "metadata": {},
   "source": [
    "Or you can define more complicated precedures:"
   ]
  },
  {
   "cell_type": "code",
   "execution_count": 8,
   "metadata": {},
   "outputs": [],
   "source": [
    "a = tf.placeholder(tf.float32)\n",
    "b = tf.placeholder(tf.float32)\n",
    "c = tf.placeholder(tf.float32)\n",
    "adder_node = (a + b)\n",
    "next_node = (a + b)*c\n"
   ]
  },
  {
   "cell_type": "code",
   "execution_count": 9,
   "metadata": {},
   "outputs": [
    {
     "name": "stdout",
     "output_type": "stream",
     "text": [
      "7.5\n"
     ]
    }
   ],
   "source": [
    "print(sess.run(adder_node, {a: 3, b:4.5}))"
   ]
  },
  {
   "cell_type": "code",
   "execution_count": 10,
   "metadata": {},
   "outputs": [
    {
     "name": "stdout",
     "output_type": "stream",
     "text": [
      "75.0\n"
     ]
    }
   ],
   "source": [
    "print(sess.run(next_node, {a: 3, b:4.5, c:10}))"
   ]
  },
  {
   "cell_type": "markdown",
   "metadata": {},
   "source": [
    "Sinse almost every Machine learning problem is based on optimization, let's try to solve an optimization problem. For this pupose assume that there are an input set \"x_train\" which we want to find a simple linear model <br>\n",
    "$y=W\\times x+b$ <br>\n",
    "to predict \"y_train\" vector. "
   ]
  },
  {
   "cell_type": "code",
   "execution_count": 11,
   "metadata": {},
   "outputs": [
    {
     "name": "stdout",
     "output_type": "stream",
     "text": [
      "[0.         0.3        0.6        0.90000004]\n"
     ]
    }
   ],
   "source": [
    "x_train = [1,2,3,4]\n",
    "y_train = [0,-1,-2,-3]\n",
    "\n",
    "W = tf.Variable([.3], dtype=tf.float32)\n",
    "b = tf.Variable([-.3], dtype=tf.float32)\n",
    "x = tf.placeholder(tf.float32)\n",
    "linear_model = W * x + b\n",
    "init = tf.global_variables_initializer()\n",
    "sess.run(init)\n",
    "print(sess.run(linear_model, {x:x_train}))"
   ]
  },
  {
   "cell_type": "code",
   "execution_count": 12,
   "metadata": {},
   "outputs": [
    {
     "name": "stdout",
     "output_type": "stream",
     "text": [
      "23.66\n"
     ]
    }
   ],
   "source": [
    "W = tf.Variable([.3], dtype=tf.float32)\n",
    "b = tf.Variable([-.3], dtype=tf.float32)\n",
    "x = tf.placeholder(tf.float32)\n",
    "linear_model = W * x + b\n",
    "\n",
    "y = tf.placeholder(tf.float32)\n",
    "squared_deltas = tf.square(linear_model - y)\n",
    "loss = tf.reduce_sum(squared_deltas)\n",
    "\n",
    "init = tf.global_variables_initializer()\n",
    "sess.run(init)\n",
    "print(sess.run(loss, {x:x_train, y:y_train}))"
   ]
  },
  {
   "cell_type": "code",
   "execution_count": 18,
   "metadata": {},
   "outputs": [
    {
     "name": "stdout",
     "output_type": "stream",
     "text": [
      "[array([0.3], dtype=float32), array([-0.3], dtype=float32)]\n",
      "[array([-0.9999969], dtype=float32), array([0.9999908], dtype=float32)]\n"
     ]
    }
   ],
   "source": [
    "W = tf.Variable([100.3], dtype=tf.float32)\n",
    "b = tf.Variable([-100.3], dtype=tf.float32)\n",
    "x = tf.placeholder(tf.float32)\n",
    "linear_model = W * x + b\n",
    "\n",
    "y = tf.placeholder(tf.float32)\n",
    "squared_deltas = tf.square(linear_model - y)\n",
    "loss = tf.reduce_sum(squared_deltas)\n",
    "\n",
    "optimizer = tf.train.GradientDescentOptimizer(0.01)\n",
    "train = optimizer.minimize(loss)\n",
    "\n",
    "init = tf.global_variables_initializer()\n",
    "sess.run(init)\n",
    "print(sess.run([W, b]))\n",
    "for i in range(1000):\n",
    "    ll = sess.run([loss,train], {x:x_train, y:y_train})\n",
    "#     print(ll[0])\n",
    "print(sess.run([W, b]))"
   ]
  },
  {
   "cell_type": "code",
   "execution_count": 26,
   "metadata": {},
   "outputs": [
    {
     "name": "stdout",
     "output_type": "stream",
     "text": [
      "W: [-0.9999969] b: [ 0.99999082] loss: 5.69997e-11\n"
     ]
    }
   ],
   "source": [
    "# evaluate training accuracy\n",
    "with tf.Session() as sess:\n",
    "    sess.run(init)\n",
    "    for i in range(1000):\n",
    "        sess.run(train, {x:x_train, y:y_train})\n",
    "        \n",
    "    curr_W, curr_b, curr_loss = sess.run([W, b, loss], {x:x_train, y:y_train})\n",
    "    print(\"W: %s b: %s loss: %s\"%(curr_W, curr_b, curr_loss))"
   ]
  },
  {
   "cell_type": "code",
   "execution_count": 19,
   "metadata": {},
   "outputs": [],
   "source": [
    "%matplotlib inline"
   ]
  },
  {
   "cell_type": "code",
   "execution_count": 21,
   "metadata": {},
   "outputs": [],
   "source": [
    "from keras.models import Sequential\n",
    "from keras.layers import Dense\n",
    "import numpy as np\n",
    "import matplotlib.pyplot as plt"
   ]
  },
  {
   "cell_type": "code",
   "execution_count": 22,
   "metadata": {},
   "outputs": [],
   "source": [
    "# Generate dataset\n",
    "trX = np.linspace(-1, 1, 101)\n",
    "trY = 2 * trX + np.random.randn(*trX.shape) * 0.33"
   ]
  },
  {
   "cell_type": "code",
   "execution_count": 24,
   "metadata": {},
   "outputs": [
    {
     "data": {
      "image/png": "[encoded data removed]",
      "text/plain": [
       "<Figure size 432x288 with 1 Axes>"
      ]
     },
     "metadata": {
      "needs_background": "light"
     },
     "output_type": "display_data"
    }
   ],
   "source": [
    "plt.plot(trX, trY,'bo',label='data')\n",
    "plt.legend()\n",
    "plt.show()\n"
   ]
  },
  {
   "cell_type": "code",
   "execution_count": 36,
   "metadata": {},
   "outputs": [
    {
     "name": "stderr",
     "output_type": "stream",
     "text": [
      "/home/gf/packages/anaconda3/lib/python3.6/site-packages/ipykernel_launcher.py:2: UserWarning: Update your `Dense` call to the Keras 2 API: `Dense(input_dim=1, activation=\"linear\", units=1, kernel_initializer=\"uniform\")`\n",
      "  \n"
     ]
    }
   ],
   "source": [
    "model = Sequential()\n",
    "model.add(Dense(input_dim=1, output_dim=1, init='uniform', activation='linear'))\n",
    "model.compile(optimizer='sgd', loss='mse')"
   ]
  },
  {
   "cell_type": "code",
   "execution_count": 37,
   "metadata": {},
   "outputs": [
    {
     "data": {
      "text/plain": [
       "<keras.layers.core.Dense at 0x7efdc315f7f0>"
      ]
     },
     "execution_count": 37,
     "metadata": {},
     "output_type": "execute_result"
    }
   ],
   "source": [
    "model.layers[0]"
   ]
  },
  {
   "cell_type": "code",
   "execution_count": 41,
   "metadata": {},
   "outputs": [
    {
     "name": "stdout",
     "output_type": "stream",
     "text": [
      "Linear regression model is initialized with weight w: 0.04, b: 0.00\n"
     ]
    }
   ],
   "source": [
    "# Print initial weights\n",
    "weights = model.layers[0].get_weights()\n",
    "w_init = weights[0][0][0]\n",
    "b_init = weights[1][0]\n",
    "print('Linear regression model is initialized with weight w: %.2f, b: %.2f' % (w_init, b_init))"
   ]
  },
  {
   "cell_type": "code",
   "execution_count": 32,
   "metadata": {},
   "outputs": [
    {
     "name": "stderr",
     "output_type": "stream",
     "text": [
      "/home/gf/packages/anaconda3/lib/python3.6/site-packages/ipykernel_launcher.py:1: UserWarning: The `nb_epoch` argument in `fit` has been renamed `epochs`.\n",
      "  \"\"\"Entry point for launching an IPython kernel.\n"
     ]
    }
   ],
   "source": [
    "history = model.fit(trX, trY, nb_epoch=100, verbose=0)"
   ]
  },
  {
   "cell_type": "code",
   "execution_count": 33,
   "metadata": {},
   "outputs": [
    {
     "name": "stdout",
     "output_type": "stream",
     "text": [
      "Linear regression model is trained with weight w: 2.06, b: -0.01\n"
     ]
    }
   ],
   "source": [
    "# Print trained weights\n",
    "weights = model.layers[0].get_weights()\n",
    "w = weights[0][0][0]\n",
    "b = weights[1][0]\n",
    "print('Linear regression model is trained with weight w: %.2f, b: %.2f' % (w, b))"
   ]
  },
  {
   "cell_type": "code",
   "execution_count": 35,
   "metadata": {},
   "outputs": [
    {
     "data": {
      "image/png": "[encoded data removed]",
      "text/plain": [
       "<Figure size 432x288 with 1 Axes>"
      ]
     },
     "metadata": {
      "needs_background": "light"
     },
     "output_type": "display_data"
    }
   ],
   "source": [
    "plt.plot(trX, trY,'bo', label='data')\n",
    "plt.plot(trX, w_init*trX + b_init, label='init')\n",
    "plt.plot(trX, w*trX + b, label='prediction')\n",
    "plt.legend()\n",
    "plt.show()"
   ]
  },
  {
   "cell_type": "code",
   "execution_count": 46,
   "metadata": {},
   "outputs": [],
   "source": [
    "from keras.models import Model\n",
    "from keras.layers import Input\n",
    "\n",
    "x = Input(shape=(1,))  \n",
    "y = Dense(1)(x)  \n",
    "model = Model(inputs=x, outputs=y)\n",
    "model.compile(optimizer='sgd', loss='mse')"
   ]
  },
  {
   "cell_type": "code",
   "execution_count": 43,
   "metadata": {},
   "outputs": [
    {
     "name": "stderr",
     "output_type": "stream",
     "text": [
      "/home/gf/packages/anaconda3/lib/python3.6/site-packages/ipykernel_launcher.py:1: UserWarning: The `nb_epoch` argument in `fit` has been renamed `epochs`.\n",
      "  \"\"\"Entry point for launching an IPython kernel.\n"
     ]
    },
    {
     "data": {
      "text/plain": [
       "<keras.callbacks.History at 0x7efdc315f0f0>"
      ]
     },
     "execution_count": 43,
     "metadata": {},
     "output_type": "execute_result"
    }
   ],
   "source": [
    "model.fit(trX, trY, nb_epoch=100, verbose=0)"
   ]
  },
  {
   "cell_type": "code",
   "execution_count": 44,
   "metadata": {},
   "outputs": [
    {
     "data": {
      "image/png": "[encoded data removed]",
      "text/plain": [
       "<Figure size 432x288 with 1 Axes>"
      ]
     },
     "metadata": {
      "needs_background": "light"
     },
     "output_type": "display_data"
    }
   ],
   "source": [
    "plt.plot(trX, trY,'bo', label='data')\n",
    "plt.plot(trX, model.predict(trX), label='prediction')\n",
    "plt.legend()\n",
    "plt.show()"
   ]
  },
  {
   "cell_type": "code",
   "execution_count": 45,
   "metadata": {},
   "outputs": [
    {
     "data": {
      "text/plain": [
       "[<matplotlib.lines.Line2D at 0x7efdc2dbe080>]"
      ]
     },
     "execution_count": 45,
     "metadata": {},
     "output_type": "execute_result"
    },
    {
     "data": {
      "image/png": "[encoded data removed]",
      "text/plain": [
       "<Figure size 432x288 with 1 Axes>"
      ]
     },
     "metadata": {
      "needs_background": "light"
     },
     "output_type": "display_data"
    }
   ],
   "source": [
    "from matplotlib import animation, rc\n",
    "from IPython.display import HTML\n",
    "# initialization function: plot the background of each frame\n",
    "\n",
    "# First set up the figure, the axis, and the plot element we want to animate\n",
    "fig, ax = plt.subplots()\n",
    "\n",
    "line, = ax.plot([], [], lw=2, ls='--', color='red')\n",
    "ax.plot(trX, trY, 'bo')"
   ]
  },
  {
   "cell_type": "code",
   "execution_count": 27,
   "metadata": {},
   "outputs": [
    {
     "name": "stderr",
     "output_type": "stream",
     "text": [
      "/home/gf/packages/anaconda3/lib/python3.6/site-packages/ipykernel_launcher.py:6: UserWarning: The `nb_epoch` argument in `fit` has been renamed `epochs`.\n",
      "  \n"
     ]
    },
    {
     "data": {
      "text/html": [
       "<video width=\"432\" height=\"288\" controls autoplay loop>\n",
       "  <source type=\"video/mp4\" src=\"data:video/mp4;base64,AAAAHGZ0eXBNNFYgAAACAGlzb21pc28yYXZjMQAAAAhmcmVlAACng21kYXQAAAKgBgX//5zcRem9\n",
       "5tlIt5Ys2CDZI+7veDI2NCAtIGNvcmUgMTUyIC0gSC4yNjQvTVBFRy00IEFWQyBjb2RlYyAtIENv\n",
       "cHlsZWZ0IDIwMDMtMjAxNyAtIGh0dHA6Ly93d3cudmlkZW9sYW4ub3JnL3gyNjQuaHRtbCAtIG9w\n",
       "dGlvbnM6IGNhYmFjPTEgcmVmPTMgZGVibG9jaz0xOjA6MCBhbmFseXNlPTB4MzoweDExMyBtZT1o\n",
       "ZXggc3VibWU9NyBwc3k9MSBwc3lfcmQ9MS4wMDowLjAwIG1peGVkX3JlZj0xIG1lX3JhbmdlPTE2\n",
       "IGNocm9tYV9tZT0xIHRyZWxsaXM9MSA4eDhkY3Q9MSBjcW09MCBkZWFkem9uZT0yMSwxMSBmYXN0\n",
       "X3Bza2lwPTEgY2hyb21hX3FwX29mZnNldD0tMiB0aHJlYWRzPTYgbG9va2FoZWFkX3RocmVhZHM9\n",
       "MSBzbGljZWRfdGhyZWFkcz0wIG5yPTAgZGVjaW1hdGU9MSBpbnRlcmxhY2VkPTAgYmx1cmF5X2Nv\n",
       "bXBhdD0wIGNvbnN0cmFpbmVkX2ludHJhPTAgYmZyYW1lcz0zIGJfcHlyYW1pZD0yIGJfYWRhcHQ9\n",
       "MSBiX2JpYXM9MCBkaXJlY3Q9MSB3ZWlnaHRiPTEgb3Blbl9nb3A9MCB3ZWlnaHRwPTIga2V5aW50\n",
       "PTI1MCBrZXlpbnRfbWluPTI1IHNjZW5lY3V0PTQwIGludHJhX3JlZnJlc2g9MCByY19sb29rYWhl\n",
       "YWQ9NDAgcmM9Y3JmIG1idHJlZT0xIGNyZj0yMy4wIHFjb21wPTAuNjAgcXBtaW49MCBxcG1heD02\n",
       "OSBxcHN0ZXA9NCBpcF9yYXRpbz0xLjQwIGFxPTE6MS4wMACAAAAgvGWIhAAv//72rvzLK0cLlS4d\n",
       "WXuzUfLoSXL9iDB9aAAAAwAA1WnlBlKTViO+gAAc+LXCJNP/gAZt4/aFei7/Ah/WTZSeIQTh6MX7\n",
       "fnLD0Pfm6fgAoEC2VB7SJGFr1HugZKkGjWqrQ317Ekv71mCe92t+V1zoUzNkwAPGSsCrJcjXncK1\n",
       "0IQcRR+pOR8LTm0xNkHVtYsPfqFosp6thl7BMdj4rM/7AeuM9JCvkvsyJtLLCJ4MEZL+SlB0AZGQ\n",
       "5PibgZeyZnn/qzVt0K7dERP8lM3Ne8FAeUhFu5XsWUdb4WJFXf5vW0r1CKrugpmtfDgMYI0uGTBa\n",
       "oyYu62eWOdYox2vk+e4ZxF6MfKyLe5dtPtcv/V/9rsRVVsYX4VvhulmsYdcuwkQwjIUuVULtef/4\n",
       "Ue758qHYUwYUVcb2oxkrc+wurBmSBCmrT3+RVl1Pqo91nZPuVBN9bE19WzFSdkh/UobLpbX2l2Yt\n",
       "oezMakmP9x/+GIoeGKxIxAne9ylsOPbaWLJ91nqe5ZJYeCHq4YuXh4OpKPhpvmDc0z8PskGgpUGy\n",
       "87j3ZP29guPXAPB5wuqPGmERlRFUumKMA3au+FJIprQ2ha7kqQ4swJfHN8KeaSQ/qICmvMxYJcwr\n",
       "AfxKA5vuPi56bq/2gA4wkW15ZF5L12O9211+QN/KnSwTRo2B+IhMesyaEmlX/BiOlR9v0qYK9NFs\n",
       "JL23xklUPTTwue+FSnl8uiXK4HRjyd/uMYbf1h9TJ35JlfKn9mWfrZDt2yvhu/Rf9/7WCBGwc/1O\n",
       "aEbZdwlQD2Axq+MWKATMl1aQl4aRsK44nN/z3s1GodwPbL8cdVek+IBsmdXO/rP3aV/BCvpfnctA\n",
       "S9ETmNA/tIWEGzv9HP0kf4+T9Y6HG4x8mRKnYrjcTa/+M9qe6YUHqKXX4aaMm2Ae7+x9NL4U8XKq\n",
       "Ytb0yyRWwXRAHu4sWeAut81dxLbXjVeg86Fs2C6+0nLfbne3goY3tu1OPep7TCKKs5LSbAuc1Ng+\n",
       "hOzhE8fNCXQJ6TIqb87AelPrXBApP9d6wlP6AeNpq5oq0xxY3TcmCeEypmXsFIV3w6bXsdPX3IuM\n",
       "xCSItv9d/dOO1IPSy9HWmoj3lZYAtABTLk0O8Bum8fMJF836anlFXweGlN/K/Y7vB31/uLCcKcvd\n",
       "gsJ/0FZMlSeI8M+fQgs51f485UB+D2liydQuf/cPNjKII0Mhv3lHWIXcISeLeCQXYGjD3QHRg+93\n",
       "7wj/0qMjrI2uI3BCEtMUle7ssUl3dsWR6nrX1VFNkq36nrMFWGb34wBy4lVkr0a/Nr3vOLVfq+P/\n",
       "N9kFxstQlRDP2z/yttt8fpljRomfV2Xkd/A94gp/B5BCAClRwDu8Yj4FUx9etYY5fp2eGWGyQ8Hj\n",
       "Rv18ZFHgJ1gV47aweJTqAj0pMm4tVWe0uy5nxCNj3+TD8VkgoM2JL05RmPf47Ue2YTf0PCyPb4Ij\n",
       "mixl8BaxImnq/6Co9OQQK70dAhKUSOzPK2CLyL3uL5dtsubgIPYc8NVAvxZ50SFlVlp36k29DAaB\n",
       "zcI+novYhnwAHA4vDJr2Pl14xGdis9lZp2PmUKe8C0LKhYG2nkALdBsA9+d+iTYuTDuKEvFXHpiM\n",
       "+Ykx4YdpIvNV+W3xS7V+QZc3zBWYMkKpmEUg7N5V0pIZ4wuXmfM+KqLxWSB0JhD+JfOMTKqtguPN\n",
       "GLt00ogV8YlojUAyNh+vLhVLna8MegZeCgUH56hbdiRqVHKqy859x2gzqboQUqhE1yL15yZ/yp9f\n",
       "I7mP3K87f7xgtPeY6rsN1DwL27Zi21PLpMafA11RAy4bXDOlR8W6R7hxyRD2bisya8jTmhFcfM3w\n",
       "9Zi4ehvmDKbMfaTDDXEJ04KB8ALPE5E3LJEblOZk2TN1GoyPMlo852pDo1YuSXR8fDV+EvRBCYe6\n",
       "k/iVlgaM7spQNGDtdbD2XIq6/3cB7o7d+LDNI7NLViGg8bx0xqitDOVlInwWYWJAP9/FYA4z/pB2\n",
       "rsStVaicOhU80tIWWiNlVwHjYzAEtxmbeajYbVz2QkQTcKvL/E2pBAM0pWonURGArTU7rkX+WgtA\n",
       "k6mzYjB2lQxzIH893Yllzb5JEwS6N4RwVoiXmH+nwvwyRJ1rhtQrT91t3tsJ2XiKNFjXWFFvS627\n",
       "MNQy5PBKXDyYFACgYmG+Dpsn5fcVaW4RL+HYMlahFYkvXvJFsrVH4g+zShirvKplygNjFPnKNHNL\n",
       "3U7Rlt9hu1ilvMUl4pg29Ndaml8bqLMB+PQBXmV6ArYHWzZ50DgCBgBaDH12+2g7gCgT9biBlgA3\n",
       "myEfyqfMn3EoVX+a2HTwMBW/ms6bTy11a1Hla2/MBUEf/hKMnguqD3KpyyfqzP8UBfWMpM6nHhF+\n",
       "0QTyIeKhS/qhyl17AwrHVGBFgyd/XSgeJJqbqECZAfmF+G+CFpUEZ3Kl53un0vCqhXve9e8HU+GN\n",
       "706Zbvw11/DN7tcQCkPRstv2QEPWJd+pY1qMGWl7PWMj5RC1RDs2waITu9vaeGk3X4Fj+63HRIz1\n",
       "rA6wh2ksxi8jJtIQxkQZuW2cuknBuTNbjiqwukC3CLlWtmMXqYEAgNbHUxqFP6+lY6JWs0VPCDcF\n",
       "GDz++sk1wdAUgq5nhZ030SocYwtNwMrAINflo4rGRZgrku/MImQmHZG0AFUYfMtdQkKkjSEVV5RS\n",
       "xMDeiFFPID1slT3l1RALR58/PUmQmbNIV/8v8FU+xGon+AXY9CVFDYNCmCB0AbD4Ojtfi1FjRrHe\n",
       "+FbxyD3YB3cVlHF8qEl1a99Kp1M2jRc0kV/4drOVmh6KZ0NR82UwoRElTQMWtvGKn27VYFgGzZZe\n",
       "c2MWKYiALUVrHkXrPkNAudEvJKIgBdaiKLObX0kI8swsdEChRtD47XMTMTPSEL8FaiVAFQL4X7Xs\n",
       "Gd7zMkAxiGh1zPIFILAaIU2uGJoOBjxh/VJJn0b1Jw5yd6Rccuwh7WzIXTaERRgY2VN1+uzG7wd9\n",
       "2QkXPz2VXCoJDJneoydGzBNLZWnWXZZWaLR4dNoO+z8TOAxk+Lz78H8VwpSWbnotX0TPlXAQurMP\n",
       "hYIY4eXFqhcvAm7943ITnDeXNHfhwSlUpu90u4bM8I9dKNdK4UBpywhSRp4ckk+ftS/IGl9FBROL\n",
       "jfjV/7cn8c2ME8SuoIf47GVXyQkPzhNM7o6ad9z55kLrPo29wXOfDKlMq7mZzZ59z5eQ4X/dsE8i\n",
       "TcC+W9va47qmFg+JhTNJiOOawSb0AwySEcwdqf04aubQEmRSX6UtK8RGAGUe8Ho6tTIT4s3//D6W\n",
       "jWfRhVF16YmyJwX5jg70r6uvvco9G5xjOVbUpdUIodsPLP1emjX9rB6H7KkKEz5f+KPVKspgOXNP\n",
       "7Wjl/biP0AU64608zDzXwSNY1KbkaHE7k0hFnRIL7JM9xtqqa6BbypywNOxKQmcAYi2wg6FdNW3u\n",
       "En6ZbSMFEmO+8VoZ8q0pt5etzkd6hs+W68ZOAVN/iuc6T4q1eTbn039wIAjK1wqjxHiERwtR/1MZ\n",
       "Z+APhftnE+LUw5NQ1jxo2unP8Dy0z//rEWAAehu2Ds/pQ1VDOyfpExTmYG1/L8m6w6iSBIsvW1Q/\n",
       "/vTjfH1lXImwPq7rwY/CILF6yuSKc5J071lc6YdSfATTTF/yTykXERrSi5STh8EQNgVXj/9+WYDB\n",
       "SssGHl4mRH9HWrCH1hHkXRKFo/HEkX1f+aMmvW1spJOUY3PsWp4t2mZBUOIiGTalA6fklkASmCQS\n",
       "FBZ19qkSGIjFjVMvXawKDKCfyQsvPYnw4TXmz1duWdzrFpCsTCni/oarh726NskCMXynDR3wTx9v\n",
       "09owOPcoFAyMJ8VAErR9fXJvySqKF3mxU79IvxvqayiOzOzMsxcBhg7oEGWjdtgaCdwxYe/Xge9U\n",
       "e3NyQKpjPq/TfVHKQRHASlF19ISo222qVqLK16cJQADLqf5HAiu+jKK5A4rAPBHmV0HKnMVcR6O1\n",
       "MUpC9roht2tN7DRpQygpf5f4CkFwUdlV6GbMHTAeyXisodNVYkwUyU8+Bt2Ub9ORgaIKsC0BNofx\n",
       "hvf/mM0Bl6V/Iad9MlGCd23HGyGnXFHDVRAkeLGZk4vm+PAZmQL18Bj+9c5/fejd2Auq0BSMVY3a\n",
       "CC5pCF2C0h4/Vj7E3chbY4oHMeiKTnPNX6rgK1HYUq1/a0VSty4R3DRJJCnS74mKNxMGXMSoZ0kB\n",
       "YZRcjvKoSk7lVzxI5bFJTYcfDe6LP+qvp0xf3zH4gTwaeX0iJcKxuXR0EFi/SgiIpDPsivCy0Vf5\n",
       "1f/C5QnAxDPWbJoN9aW0xBNywWTK1ovSzkrNN8AIg9KhScwaUk4iFZjCwYT7o0VS9Dr/2pt1MgMQ\n",
       "221N5FR//QEzIkN9nHL4c2tD+cKIiRojzJ+GEuFEj6vzlYqQXThmwmRgzCgc3JgPNnXH/FZQsA1I\n",
       "lkmcqrGLlCNIAqSt7mIYA5EL3AlzB89bb1wAYGtDXa9Yek0JTe/osg934Kptp+KXwljhGNlH13FN\n",
       "C0h+gxp6/nFIRHrgxP7WellIlNG89iUFid6f7DbHKBSJ1q8Ez+gmXEMATXVysgYF7TZMwLs1tKhq\n",
       "7fWj0qCvY1pV0qJ3NRWqXOYMva6LwZjCKN+iDE+HycWuqIEUsn2UVX2RSUi2Dkf+KXJwgAVJ3j8G\n",
       "qeSPSRhLpzjP3PoFb2TTt6qYJgPQSI4fmt8E7uorVVAIpThfAYu9t2HXFHsqmmOt3wOwpCPnR3GA\n",
       "E4fzGnxE+0S4TopPSEXUsEzKE62ho19FoYDjH+Mj53EqYSzpBiOxZD6oL0QpR7FR1GUCYHsCkUSX\n",
       "+F7ut46u9KsTjfmfxdr8P68w98B9kEFBh6kKpBfzpXJdikYqfGMKsQOtpd2O1/UMPyyhg+6taErJ\n",
       "mtFSP8k3qvX5BiKU8zFvKStAF7fsyMvKVld2FFRB/Dt95UNt1HuxzZ/H7BmAQENiD6swV5pXnQyB\n",
       "wUMGqxg1q23OabtPWMQ/w0qwdwyNs3HB5jbUkZCGwXsrbUIjliRKDPfH9VMD+d75Bf56L60/ZXHz\n",
       "a9K4R9Q51mI+EUTrM52eynDCH8ddYBPV9GHmWtElL6s5TJyvVaGWOIO4J2qn2s/0Qbb0qsdFzIkQ\n",
       "ABhWL4rwsEcmPjN4VWP5cnJ9CjrxaGj+JtJC74MbA1baI+NXrxIFEK9Uv785PlcW5pUhtFfTuxJJ\n",
       "x/gGuk7vz2mZMUouw5R0CoOfds/Ag9bFYSJJYRtdQljfNJ43G+tHYn0N8ZHwDNWg63v5fzIZoPRt\n",
       "i9w3F7BDnd9Y3EVaEwNEIJJF4tJBV5o+/WxLoorwIn87O9kV61rGt1Yb/c+N0f7nsUb8DuYQUFnC\n",
       "SgzDlI4+WF+odJsGmKSO/7Oiq3sH8WyU4vKin2sgHLJRK4CzYnYDZorWsnvFi06jp2mfJauCjDKL\n",
       "cltqRqFduc5UYrHgkFo4u45HskD+dkX3jlvxFkHKS5TysPjhyhof0bQRu/KAqqGT8hSLgQVEO8El\n",
       "TNzsZ2jhFrV6I3YY9/++fgFueO0+Zt8yNdb9MXAG8s/MCC53u3Eq9IVf13YBHfSCQpPplqyQ3jnu\n",
       "WFDKaI1RL8loaIyCjgnhzOlpyCWFWi2jrR4gM8EH/vqirH9GSeft0sW9J3ViqBxFxoF2lyXGpuwO\n",
       "a33bDc2bgIaEe3oC49blRDcbr09hgN9k/ltrvKb8qur8EhLi5Vr9TFOIeJOHLf4+aFRIAQgdZNvB\n",
       "oN/C2aEdhKqq8UYyH515hX7aGOBYs/CaR8G6FF9QTfoJ1g73pA2tpgCvJBfvIhqpx2f4xwCp46ZQ\n",
       "wP9QXJ+vKxsK1gDJaOE2cGQz8yffn7dtZk7Awl6lSG2scDj2wax5YnncEzN0ptJrD6jctyBLSVAq\n",
       "sfUWL2IEe6Nd1yOkPuxOhchrOClB65QTBVmD6Ah50us1et1pIuqE7zRbFJMGwDNxJRF0eEcV/WSs\n",
       "Uz4sL4dDFbHHHxKoE2FtLCUq93RztBXh3TSK+mqk9vsSu9PfAT46pazW/mTdHASXS1D7Jj/noy1W\n",
       "fqhntAic/ArEPRmjzGu0356baXNcoa78dwYh/VbfsMK/l3i1mIboO6zeEp+Ue7z6FbNQ7ZZtQ4Jz\n",
       "NtA9s0Zs1V1hpGv+KlRjIeZc10+b9o8zoAGbSUARdS5nNVS5Uu/SudH/J1RhNquHc1JxG8oZMqNq\n",
       "2ZYKUMU3LX4P0ohvuoqqut8FF2weAGqZpxIBPvMpKSNRE7SQC+Lbx4iApIee6tNdjuUw9sPc/uxB\n",
       "+BvvjP80WBbZQpsYgJCN9ub2yUmjRZNcgZRpM0GQmvLXhRdKgNUDShK4t3GhIpIO6NNZV06WymL2\n",
       "hJgWDbR9Cjxn9cIeEb+7vk1FLVuNfT9KPx1MoVp2t4XAAjN9Pxxi6kvxNPfx1oII2AlLGTSFVajd\n",
       "RSWM0g36JfEpemQbLK4k7rnQeMhYsbELfh0vOQ21H164I7hUO1XuZxBfb1VdgpjZKAuFsOr7qxhf\n",
       "tI9/OitIahOfBODLwJquz+/wqasrHJd+CTyJyYBzBamjhPP4zWtgnSW18umxNU9AN6K1LIHruW09\n",
       "+pVAcmfJ9OdFJBgnxmJIHRVY9X7AJNoDWHjNC/ukfaXNEcGaeoPaW0cGDhmduHL6gtw5wgMXPu/M\n",
       "2IA0GduVg6UAzQfKW6Qa6hJX1x1d1fDlZxBEqILH8Yu6K34Zyl2Ui4gdUqmBFb0HxkDZ98F0EXUj\n",
       "JG64rVbGcyKXkbf5EL+B+U9NU8XQJ3X8bqNNUKXooUNJkzu97ly3e0XIC5mVWfUjj0Cz008MT61V\n",
       "g1yquEZ84TrNkWHGCnoE22cMwPTi/zqp9VyHWfwuFhzwINUkzxzoKyX0SIsQeD2PVRSstz5+uCOC\n",
       "qcL6iL3Qj8XId3bkknn4qJL9CHM1ip8QVvyPf8e7i4x5f3VroAUeeTG89vxItIDXk+L983iiCIB1\n",
       "855TQ17TS50vgIHNMdnG+y7cePy3x/ggxzV42Lughsyhnljw0nefqnyNBfcijRHEl+2mcJRI3zBp\n",
       "CEV6pxTOVPDl0/z0Tl4bnvEB8WwpFxohKfwYiYyAccEBxpKopK6RcL7cEUq6T8X0tH81QLuOOxo9\n",
       "7tKabj7dh6GdVzZfadzX/w30vUV/35UTjs9b8Qp5wOba+3qMjEMMJHTGHieaMfHf6V73Ox+0+TTS\n",
       "aU5WECgUrx6Qr9Lze2/1lF1zFqqr0KPVhrRRhQn39CxGwAq0lwq/Ec64+mtEHWtetHpq55/jRMPB\n",
       "NlRud4l1xdcvKkYqpanmYaL0ZrpG+d/s4FPNbbMFOmjck0O951ZllRYlbNBqftW0Fi94zPIXcMX5\n",
       "LllkHEOW8eyLsZsigvtSeUDgZt9cnXZW+G7MbBaARacNQUaCwspgm26At3jxFlvgbeI3a+k0gQAl\n",
       "8a+5vBf8adFEH8wcHEplu9xpQRN3itq+qDvFixFDOr8UDBJpVS6zhaX0lr3LPxI9FNqCfGY/Dwh/\n",
       "dusZNu/TWVAAAFMchQCUuAABoWmshD+rvYimnf+tDdzjKixggaL1ff3ElJMgnAE8CdqupxdmzOnN\n",
       "exVoHPrVNAaCn/F5/DVweIkXcFFU1bb5QiODpmKJyDoHBbNeSDduLmXOtgIfB5BJ2mXTFTwJt69e\n",
       "qJGUeapMfHCpq+avt7kfNadxCWChoG6YJpuaF7x4QaZksu59kdcuF9UXWskxHGJ5UzU+alHi999v\n",
       "dTu1QyHCBQmWCs6+j1gaF7l3gEQpD19cHhd61AGluPfEgG9doM6fS8RXXO0w6xgyMHyY5R4LzSDK\n",
       "gvIvV5UvzhKJB50cCbLPeGbeQucJCVZZCj0e0mdH/kS15iM5r4vGKcqsIglhmgRAdOhU1p7MFSWy\n",
       "pp5DfZMvhQQAP7ghwh45EcR+6NUhX6SrmjGe337DJ396AoIJFTqnT3vlmZrEsI8GRDsLx36QoXK1\n",
       "n9NSSpZTbDoOSUrpWcLxPJD86KlahGDrSk24zY2vopcKRhHJumpTZnuuUF/lunQdwHlE60sUcriL\n",
       "1YV85RrAjPfA3kneG/4e3qfYhciV8Av/+Vwp5Rrl16QkzHU1GTAVdm9NQCbVmd89ILiqbJT/cD7U\n",
       "hpUlqF+y1gPFx9oAQnsAADdpEb7KTzUBQCN/XlAkVIb3RTFCqC5sX9ifWj/PFWSw+jbzDB1R6+g7\n",
       "YjgwP3s8J5GcUWIEBv5rcEKEn3//Pinpnv9O1gXzB36Kq+JXMh7u19W3OZsqp1gdme+RbaUW3uT/\n",
       "ZrHDwO2wlr/qXzh7VLmF4DqjuQ0oQChKoDVi4B1gBHKLmu3io6BcNwu9rpTgvB00tbSpjwYzG7hv\n",
       "VbN93FdUs+74eIZBPDZl5WVVqIC9IMnWFVJ94HfDZrWySWblI6v7hKHoCeXM4rdH17FWbQ35Yly4\n",
       "3MYzFrwQSlROsHS1X8/pH8ka7NnjPqfrLYA3VHVu9h3ICZ+PkUw3A0UU/AUQm97kYqa88/972yjf\n",
       "lFlhARLVlvWnhoS8AgRQpKpGxnro4ZdqubrToAzb5GTfoVnVjwEvBJn7qriPc7+OsTmOrXvmZ/Y7\n",
       "iN1GdnD4ymSDv3GXMvLlqUpDmHiDGdY0c3X0QhYjAigNGJUX2Y1CzD3CRklpgABNDMIvwI9uXrwA\n",
       "AmQvlE5vjhg7aaV3/R7Gyr3Rge9llUKCABvDqJgpQlY5cu+Ir4twQckWAgsOAll1LMD1QvEBpxSc\n",
       "PkUUq1+sccCu+Srkvds9aJpPAaoahJSgNdHev+s9rX/sMkACcfczfwf615oxqqXLfrYrXjlbhtSl\n",
       "l2VNl1HX+eEqjHLFKaP9r2Z0kXUAcctpLay8l5NufG1TuDCMURoU3AHBDVYvvWv3XpgfdUNo9qnY\n",
       "I6hoTmtN3x83ePNjZRfuiJc7IjtQmGiQRop8uew9NQOKv0lUBEHXW8fRzadNHpJCnKspi6fXkKFK\n",
       "OcJZS+sKb4kosjbqv2ovTgCxI4Q8XqXot1OsJjQ4WgqK5wGiiLutsUpGxuz7UAYmY+0vuU6RaZLQ\n",
       "QklhchBnb+MRAEHdifR+zPy42fb/iv/+wHPpAeNSryh+1FwnLoQWbQeH2WW6cPFOhpMDDY8Tvl9v\n",
       "YzbS2sY4Gn2z1/x6BCOEkuSdCoooM8PQRLF7ww2vvaUoWzvrBRqv03Zm27YA1H7XsJ0UEAUzQHIc\n",
       "VjZBWOvULkRTOjfUOOEoi7c+7YH5clOs0EoYrTvKCYd5yBu3uamJIpGpd++/YGDTSsQPYI8a6MZz\n",
       "FIWOZn8Yd1837zXHts1liZ+so61Ap/lW0ck4bz6DEA6ii1EWm8f3O9gkSHDBLn/RAqsWpP8g/Sh9\n",
       "skCioV6AUD/ipKI+QqH8VvWd2BFP02KdhFhmRe0yNgZEaNnhZlHKHAHc388TJwg4HgyTOjfQC9to\n",
       "DN7CvGctf9KRz/7LShVZELcD094Aj33AA+YDGyeQZF5bJMXf1RpTgLyCecaZebuJWafaxfhZ3l5D\n",
       "7+QrKfdB4Kgk5hz53B1VarOjpiI6yd2jscWimcC5diK4N4t2KF8fC4QbTNtWOlQZryRVKx33DnbP\n",
       "yXcHXkJBBsGuFZ1luLS2T8eu5XYHUUQqKTCNEZB6TdzB7bhZrT1uEeCH71M0VcALafbiInn49MAj\n",
       "AXiKgb+XhaQ4LBmsHt9SXaFTepUJkjloFTSAR5T//sT7yk74+iqZqoM/Xq5EupA21OgeIfZTprFm\n",
       "ROfBueMPLnzN/cjY6MkEL2aAESX0M7v7+Jr/spCr0+ekyhsaSzMNEySsX/ZPSepRKLUolFR2EN9H\n",
       "BNuj5Da9RsIb1zlV1/0hW87gZrZuvQM8LcLG6QRfk8YM9FG9M6bcva2NumoSeinDuh9+YHOWH0lh\n",
       "9zaRy70etlYAdjDc7qfP9vs512fK0Z8ybPpnVRMJbVUYdMpxjPLKPtJaJiE1v9OOk0IH6nn6cdTG\n",
       "nMrOYZzARWquaatMTTB6siX7PnyX1+cIhAv4wutUnCTmiWE0Hv7jk7EH7q+UsJZD6Skq+CnkE6C4\n",
       "jafWh6GRf1RT0TtmwQqZfAirEQHUwO0EovarzOjCBuQMHZyiyZTDQ8Xa3Uoux6NnTXJLoTpeDkU6\n",
       "bfqSd4MatL1W1oY1U3VXV+E+rnzE95nJR1qOckGtj8C5FcPg1jDP0ly2VaYiQ4v1AKCtUIfvXisC\n",
       "9tUFF5iHUvJRdHFwRcji5huWRqs/eu14CCyNPEGNweNZ9wUjxraOMiRI93BWWF5kfcntjH08bfQw\n",
       "vIL6sUF+9DnzE6zfLBSG5orwyVKcCAgMnzNGUw6SGd+CUQ39Q+kOW+t4+fOx/BqyeV9hUjLgb+jO\n",
       "WODnn/VisYvCvPbU3GCKeynvgVRY8aC2w5tFwsPq25sj7vINwOWWs/E+jyuFmQMz7cT317m8VddE\n",
       "9ohjOYXalQNsDBkcSWaITBYUDOzSwJKeo6ywskugKArjDwch0bz7Ahv6W6hdUtu/6AOFGvQj45h5\n",
       "DSJjpzz9mUfcfe2Bja4jmf1sDEkHA4rc6onTca/R26BJu6ZujrKX/P328kPlZZxcsxinVjBZxVLi\n",
       "5VlsorfaVRQU3I/Ya2w+/38NcdtyhcddKeTai/pbcF1fBCJt6LEWf3zzHxwo00SorIA/0f9c5gh2\n",
       "XVkUgK5vNZkjJYHDgbpavu8wvQG/WEg/qRry8SlW/AuJSD6XE4WY4Jdo0X/FNbG9fyf3efMVfxpJ\n",
       "XkWD/ztf6UTiTzrN6zq5qHUOQqy85Q+gA6wn4xGqFnfoeDu/Wp0NmdmBs9xsPZ2CoZc9zK9g+7fI\n",
       "3PZz523wucGOrQKjKDCuas7wXJ1M2/Xfu+KPIOieQJbFBMvdwFqT7Rn18U44V0YVftwnpvzgmaFe\n",
       "VSAgxkg4tQ6IPs7Cnk8kovJCVDeb8V71ldk1c7msk5zTg/7vCu3hihMXg0h9/n9FDreiu1jgnUGy\n",
       "HCnDx+nyzT88gDMpdnyVT11QXCRSPZE2iNM4VwQEDBS0F09WL1NcSkZWLzewG3HW27W+uqAbG/Qm\n",
       "LpkxyzC5QKNt/Y6CVTz+J1xRi+zKrzVs7exuNieGJJGgd9mJlCpiy9GBwWEcaZ4igk7hPqfGWKkb\n",
       "53nAopgs/Qu1fa1TBB+WpOkY8i8IHjj9SVfOxWB5MXhGs5iUvQNSZ0zVgpwcug8HS3MB0Mtwvlv0\n",
       "4+5p359ZNUS3ao+sQhCPzNJxITYOro1fWSy6WAgAACVpN41AF0OgCBkAAAPAQZoibEL//oywJPrd\n",
       "ue4hwFPc5rKnIJEKjav1ABrzQewy1yVR+aGOcQ+Bst4/bvckTB6L8R/XXbK/CQC6xLRWcgDnXuJD\n",
       "3pr7IwQmC0u3sKfhw9ZdtQ5lDC89rX6Hzup2q7CZihVfaomZHbDScsots1HRg14AG5ptY+clEbs6\n",
       "XV1Zj0Ec9qtyZoxhRsAS/YIxDW/Do4oak86kvATBtgAu8DZruBJ/nCBGgbLfyE9XqU5Vy57mORHI\n",
       "fqjdDI9C2MrrF7r/wx7tQXaJOFgbHdphKc19feSWXXifL03cM2y6dYPOpjoH+x+MHxu8aiBmB1Lc\n",
       "qyzjGdT/Pxe+FvtWHlV0A28+4ihE10m+bvQ7NidBHrGuyYy4hTLIZkRNUXPHCPymVYb4tlSi8mxf\n",
       "xHMciW63oVBhJ/M7GIHLytZbcxmJbWn67mQrE/P+s/2hf1INGMXSJ/amYtkk77YApVWyiPP5jaId\n",
       "KqXQyc9+wm3FRECySO3UTQNvOosBPLm4WCzG1EjwG6tv55JKRchvZ2zrLGewvGBcLjZQFvZxmh8g\n",
       "zGdWAp8dg9ychyFxPL1freNxgtvlswkh9dT9cEte+OL43GGVKg/FCCRwN7GDYw1WKpQ3F7tD+3OL\n",
       "9DHzqcTmc8sCITaE2NK6Gk6d3gA0wS6nTbHZXpWlTX6xPEr5vhxCxTNLTWnGGdcuoObXXF0A1KhB\n",
       "+PAYrsLjW2enhMSeqsBIWO2nLvH8xjjAw0385AgpV0D12EOXfJPjC5giWjQceIvpO92JjmMpwRFm\n",
       "SKoOcTz00dxtPEQQ1zi1nJw5F/KsFM0cTYuvD1nquHunaE0Ds5lC3NoTu/DFIoLSfKDphKf/MkCD\n",
       "B0tjx3nq7Pdphqujokk8rggB2b1CEbsJEnTMYvBBuX3FE4A9ntfPCsFR/Zx4yS+aHyaE5vyBGU5L\n",
       "kr6HiL3DWbnEVxMOqmyv+UMG1l7RjsPZSFB4pzUrwkpkZ6ebJjr70zVWlF08DnnKkrB8IwR2V3A9\n",
       "1fBtG0/9t9Wh25eQTYKbHjfHZJHR6onPVc2GESQlBK84YUcNbTm8PlklvsRoXnivqGIU8IbO/mCR\n",
       "0GsbY/ENVZ534Ga2Feu4UZRyZFHrTmtslZ4esZoUNkmoLNoOjx5Dz4uqhk0rHILRwZrWrWy9+V0y\n",
       "0x+WpVX4OTkyuhLsKphNqI0q8VEl1nzzCdQPSJAKFp51P05oPamNcjS4fUZO2R3z2BJS0CnJOxzK\n",
       "gKFKf37pzbQulHOZgihWxbXoUQM+qtXoFA16uGDa2ynUu0UcAAAAwwGeQXkf/wfr3dXwIB/Tq6Di\n",
       "6AlQ4BUIbIFyvvrJqN02VmU13V7IQ96nco55Cxx4AWd/Li+tVv9pEZggNBqePT0Uon0S0mjFT6F8\n",
       "HQOjOI2faqSlXAkAFBRSdoL/dRHSN6tWE5OnFnAV9/XAPhyIV/nfgH/THmfCjo+m6tjdX2rJcvup\n",
       "GXDBdYzKF8EZlewyxk8cNl4hD2FeaDwdNvt95j47F+YUmC/5npWgVhlSfpEN7np4Rohb85v3i7EI\n",
       "Y+u/aycekQAAAbBBmkM8IZMphC///oywhOJyc58APZJh2sqcgkOvgAGvpHzgBaNRmqwtdVOH2Dv9\n",
       "ZnNcfeL8fphB+c77GjFxDIF11oa4XWpVFQdd/XvxI8lfxGiwn+CCU6X+nXO8qqAw2gZ/3vvMwXVS\n",
       "97A0TXwq/Q6OuNOMWpKwfNMCVV6090Eov0hiW65jsHOhHWU89lZ2JqzIeEGB37VHJuayTC2Qt1Ui\n",
       "WVb06dDZUVHaidysUQKY9ShVhQ+4OcijVD0N1SpHwbw9E6WtyzRhUiPqtrfso+JmdcAkxxsLrSZt\n",
       "UjgjisFY1kJ5WJEqTd0QFywmOVk57vVj0cgvyTBYf5jqydwOwu6HcC6jYJb2ukqFayoRPnif+slL\n",
       "LJuGKpmXndGbg8uaG+r0RQHyzbYpWUMbSP1Xgi3swG4ZQ5u0LmxpH6mraSb0Fz8Vdz8I1UySuXXs\n",
       "g3UogDbgdXDQyfu3iSdP6NMin9e/CIdimZWZfurPHjCJdM3olGLIEG4N/i7Fq8h3jBLCkRr5kAJA\n",
       "kCSJ59wk34HQ9/YE6bkYDa7y2E2aFt8eV6DvUadMWx8+lbf40jBNoLarNu4AAAJSQZpmSeEPJlMC\n",
       "F//+jLAHh750ALFzh96lwIxt+UqnZ1jYqjHCIX1Mt0drkLkpqXeoF0i2qZZG+uguD2XxeigKkNax\n",
       "FZlQJuq5QGvJ6G7FNHPKK10KyIWnxXl51z5Mfnr/e3BKBqzAMDAjsHtN+sHP+IotenGnxlXQ6RGd\n",
       "rlJ1qs5cNob3uJ5oJ3F6MkjVY3InIDct1IFqLOPzFsN+vB/htesRROgLyFHXdX1xfGaGM5m0Dc1F\n",
       "8ArKzO5GvX6mo1ZDxCesk3tilsn8I15UCmdxqA7MCIh+rTISRU6mK2qYwLLqYd0O+508Ffg4zTC+\n",
       "Fd3qG5t/btHqL6E1CRqLkR5AEmWFt3PBlKfi/oRIGGN2GQ+SLpvI7fupw3UOUfr+kXdiqWVuPevT\n",
       "ugyOTllGrDuCJcB+FKYuT5f259yDaK77C58JxMxeKmGKHyiSaxxya7MaYTcrNZqMhBbWK7isY5so\n",
       "WzBNatfp34IzP3mmWt4JeJGoMIb/2JpEas2hnD99BDxfJyX+kXPzgA/gNocIHhjpP55AkPibppDI\n",
       "L86U3tGB6wbQe5+NDP+9xcXe/ayb2dopBA94TWLfW2Q8jJJITqLPNef2Wj6xd1yC1cn2ijRmRfkS\n",
       "HZ5Gl//h1AYpUMkiPAgILbOcKfcoryjG2Gkk1Li2GdFXNPqEldAMcMFBIIaUYocTdv2WNWnWst6Q\n",
       "3Ppzr1gFvDlnbbq/F2EqiyzmdCbHLDTqRJ9bVxlemXbO9G3L745TmvtNtVgifSej4FDWDFdx0ksp\n",
       "nzMFn41cRbYp7YqZAJ//AAAAtUGehEURPCP/AhSsZEwCcmNPbfkSkUbAU3iMkKVi5g1UFD3MplhX\n",
       "cIzAQKF2wgPqHhFewGW5IARkcutEj6oJZd6sBMi/4lqvNQ5yM8CdN5HWAcIOZqv1K8cj5ixwP4Au\n",
       "nkAzA3MIufcCtncb1WqXG0tmxeNS362RN3fDWwiuAUtGLJNoDoum4BSe46Fca9NImaVpFl7XB/Tu\n",
       "HL01cNVi74pyXLJnI/a1KrV25ErQGkWtXXqgxIkAAABrAZ6lakf/A10lSCabmdYOAAADAJtlUzQA\n",
       "K99X0fcSCxvhim6WAB52CRJJ7E/SQqAXIm79fDp4W/nlQdJw+1YJAwTAKBX6OhWtCFBQies4hhM8\n",
       "rck2LvboCrSlAOmTTijciZaG5ChpqAASt/kAAAHtQZqpSahBaJlMCF///oywbGt258J9U/6477rl\n",
       "GDRgUAAVgW1TLKGwER5fNqJgA3wUDvsKfvpv4aPbJSm2fotJ4EmG7q9htQqfXLq5r39zosdb5i78\n",
       "BStaJi5a0v4g/WTe6c1bnTSp+R+wjIqv86x11JlY3WNFPiRUjF5HOkIWDccw4L1BtF4F6AoEkueF\n",
       "jN0XlhTojeyrHsppoGPYEONatGq+s00VQBWfXWlJn24DHHMSt9vjdxyVYKOnJngiSTQtk2QOzY6F\n",
       "HkyH/TGB0jrenx3cwR1VqRDywFEM3vUikqUjLEQH/7PwxJbkBu1l0vC3QJBPXxY+VUsALfRc1qte\n",
       "aInCs1AQEOrJcfYa5kw+J0HUmPKN+Z72vQFEJZFMLxAc1qW+DQ7NZ8vNv7xFvb1XlGwhozNx6Og0\n",
       "fXXI4A2+Gvia21rXClADKhL0zMonpdOYeU6/UNTcrL5lC2YKfJ9QXCiMHo0kWgw90YFKyBeaM/+1\n",
       "Hp6KJes2qr4vQjeq7MXndk0gIsQakh0DuJ4NfBdly6amlHWIHvtMG0bAjJPkpYDRThYrkhPT1cIm\n",
       "2mzxVi+hewnmxFqlU3EN8jgRa04yXG1Y2jvc1oYPL2snQADaWBrP4Odj5ke/UEWseilnPtDK7Kox\n",
       "I6ydyqCF8MS8+QAAAIxBnsdFESwj/wUOlYLWlZn6WjyAAAAZLNtU0nBWv2Qsyion0svAVMcAArYv\n",
       "AlMZSNw9gGxNdlevp95K7s08T0WBwe/geRS1VzWLOQHPNXOF9a/4zEnCYnSofejj4TV9FX4h/Gry\n",
       "D9Wx9JK4FA0RCckiwikk9wq8raTuZI/tIHSO9anVCWKexBmg9YCpgAAAAGcBnuhqR/8BBfj1EfeG\n",
       "/OuG7AklUA1ywPNHQAi/0lb9ub1fDhWjxVh+ByGZ74dsOdAubArCjk7SxzujKK/nDcraQFzjl8yn\n",
       "TUG8pO4FluL8/+1eo+ny+Hxrl0408lgMRc4n31ZnAFTAAAAB3UGa60moQWyZTBRML//+jLAAIj02\n",
       "1RIukAbgDgJVLMeo6epAlM43Ft2hTOP9lyxaaSq3LChnPgPMXHiKMiuA1ARUO6ilQ0RkES1dF88i\n",
       "DsTeuOnpem6l6nvLis5S8rldf8h6WpFB6F1cHuM6A3txDkDqjB2bOxY3imN9Ao6RhF1CWUF7P1LY\n",
       "onrP7IePMXbRPvxIkrqnvezAACw5wxm7WwrsCKFZ1n1RyFupwcw+bMBvGBrH2S5AwOJDD25ewRry\n",
       "ddlpnbyHjs61ucRepFD5mTcZnl+JGXVT9pmffRyW1I8zpsv9sMdaHLhfntFOJIfNdO9kWfbB1Qh+\n",
       "HSnd9GI1j5R1CTDkS4NtfsZUz/7ZAgmZwEQA8Hqw8fW9mGaARpb4B1sd2kgrIyxuwboyzcEgRN3a\n",
       "SjXq+74LaYLjv67ZMF1Am2U9pGpabCImknQ4jV5y4FTMCVWjSJf+pLFMwujPC0uS/AQGZ0qSt+eS\n",
       "i79VE6SVKHKQLA62FQTly2De8Pzp/7GuBl8PeqL0a8c7xMBMy2TBUVmlQ/kFxdZ74tFckuoX8YhL\n",
       "Xo1q6hnF/WatD/XyEivN5rgAcmZT/jk74xBw/m36D3BDLr1nhbVtz3MnZ4PIcExoyw0B26JKF5xy\n",
       "8QAAAHIBnwpqR/8G9QFAtLvZeoJ/AAAO0apWC3dFcnyhmwOiuGZsvAAK1W4EgwzcJElDZYa2rCFr\n",
       "T+Grq3yzTdoYrZb3H9iEPuTuM1vpgzhM/ZkOAf7Exmhi3V2PTW9fXk6x1oxgum0cWrQHR2pwSvKx\n",
       "y1WghJwAAAJuQZsPSeEKUmUwIX/+jLAAIjxv8EurPAyJ/X2+JyKUMBQTyk5uiBF3OKqlieiI2Rz4\n",
       "BoPxU28uT5Evy4ZCGvjR0Z2vfWCHVD8+9oJ/50Mxc0gu0B5wKrFbKDl46SMd5WXWGVwTY4nHH5Ll\n",
       "qqWnSUkE9S1uqd8AXTUav5tgHuWYOmJj5ExOpiauFSUZfBVvQmrl+gWmDccwBzgH/jEzKhajS7hS\n",
       "vUwp0Yyp8EfdoIW5yY/p2nrdxoIrZ9wYYcsTPUMlSeT/+bQcyIYyD+jLybM/nbH1Ab9NKCXmZ1LU\n",
       "xWqzGOpjbLG3TXvQkQetYxSFnAEBzZkJvJGga2HSlLDfHUKBfa30HYgLIFfRJvFZeJty32vRGz/z\n",
       "WuoZiEYFFAyiyYtW5hCf+gIhZM1ef5dzOVAX5FEhmL6pqPCBYBxCwY97mmi9ZMlrGedG0ISyyj3A\n",
       "Doi16xLft8+fZiGmXgeFmQU/wH3ZCCE+IC/KMU/Tn+GWy62ja1EzQjn24YAZY59o+7SrmtH2+noe\n",
       "KKMQ0pAEzpr6o1E8Qsns920Ws5R2XNQYG3m55hSaMNGRvwzXeqf4qYapLW1Oot1zCovwJIiXK1qL\n",
       "KZdFrTPhkIUq0bTKLTSgeAwctRXdHinzz9bwaeJC2zvkt1nMkzRiv4aTtRpPtIaRcN+SYvAJvLnU\n",
       "CertEUPHgBDOZUM9o5YO6Mdkbyb9Jn+OnMDl4MyqvbxbzwwUjY9aAxyzlcjrIoWlO39q53a66oHa\n",
       "xEC3pjwlRBK9TxRjvjZQoIHDqp1l/T5z2My9Zb50RBq8DrxZNyqxiGQ0Fv66jOr6JaEcTt6EGyLf\n",
       "ZblxogAAAMdBny1FNEwj/wSZsxT8iS34gJZqAAAbNGjNAsapKQPZs9qn7rbbNOr6cI/eeEjWglDh\n",
       "tzHEXABzMZ7kmN2eGIvBxCHqItF7D3fmzes/JOWuT6i/Z93HVYtlgGHJazENSXsOe2ohnPCVyEpu\n",
       "pTm6Qm0PIFNGAaG3gS9/PweOoVkSBPumDfm8VnZjL9nmX5L4g3SubgK9RTpkeuPKS7L2SC4dEUI4\n",
       "RQ1YxhClD8rGWq40bKFBYAFpICfTVP47BwoD8YX/um7WUSM5AAAAYQGfTHRH/wEFYgnI4mkqqVyI\n",
       "rp3Yk1YTfjqdARX6ukALPG9Se4bUq368JGY5QoFK9BBjYdxXlVeE7CGEYOnAWS+Iuj1UtQv1GgG8\n",
       "d5HWzL9zdjTQLBSTxxHEN5UZ3QPgUSkAAABoAZ9Oakf/AQX49kimmgVFEOSIrsfbPabgFunlh9Vk\n",
       "7KOEQgAqswG+c4iJuuq01YySpca+c9kjJSLkp8D2DxEOjT5Wx0Achb1Epbm2S2YCzTI1F/wAA5wg\n",
       "Hh9UIsfu5VZ8FyC5W30dHYEAAAHMQZtRSahBaJlMFPC//oywTbP6OdXpTXOxU/EYB78ADaRPyJOC\n",
       "874dpfCcy86z5FM8B2tfW7qaEyM+LERy510g0ZtkW6X0Q4gcYHhW9l8LcH7LrQ5tjzn/13L4FFWz\n",
       "eIeNbX/SIUjnDMpbcONtnVw0rOcyViiK1fNj4gcOu6pcVonJY5UR5NgmAe4fId9nbTTomWyQXZoM\n",
       "YPoJAgnij1pVdnwucN+LZ0UM3QCdDi6uIs2SETcl+IoJFKB6fSsHoJydUgF6x1qLNUmIvnf93tEU\n",
       "wbuhDI2G+vv427G9HN/CV11IFiCWZFWcl4RwR8/rloWqXsoRXd1hFdLP3jIu9TXHRfwjWN9/DrKL\n",
       "wbs/S0N382BKFMEWjatp5aP+FWEXfHPznxDwK2K9EkL95OIpwUo9gXcOSQT9Uh1TGEGLyRA5llkU\n",
       "Xm0FPTvHRejpuspxNBEcQUa0zTf0rrD+MbV6sZCobG827Y8mAmn8CIXqK1R+Sa8mFeoXGkyc4msv\n",
       "okowhPhDbkllGVlQlpXo07u9bnOKlGIE8z56UW4bb0gdf8Th4EI+or1gW8DByrE2HteoMHj04Dfi\n",
       "vnIOBdjf2T0m+DZG+GbBJcjCXelZ7AmcwQAAAGoBn3BqR/8Gce9gnLvZeoJ/AAUuFM69T9MK862C\n",
       "CE0Zj3vAmjM0lN9CnRRYHQAP8HxlvJ1eaYIoBZYsAEY3pgT8imQ2jt/2A/mq4MvpZ1FUz72ekHgm\n",
       "TqgrYd5wGVzINIt0ALEgfmLtQtVIAAACZEGbdEnhClJlMCF//oywACUD/bACavRRdCLrbpMnToqw\n",
       "xJJG4nblsZiM2NYMCfKhRv5YtLdJkB/ns/LM1K3EmVv3JBYZmw8LJKPH4NJI0s95JvwOE6KPC5O6\n",
       "zQWxyMsVT2feHvkXlq//eCmHzuPscR4apLZVy1lbvMtOn24lNUwYFcITv7I4luGBqclBcq5PksFF\n",
       "W/fcjLquV8n7/6Zc1HLS2/BoxXWsbV7T+aOW86KjSdciICHbolKULKXIneup7coJh7kGxNgEHjFO\n",
       "E1ZK2AWVn+ARXR7TkBPcFQxaLp27gYATs8ljL85DdNJxXbUA3TIMzaIVDEFeVtzNLCPZ/PKtHgGp\n",
       "xJkf4lElRf5vwzNG/PjVsiNtNnrWFbxIoDbe/QjCYgqJ4m9Ge6f1Isstx9jaZ135EYpMekoUDY3q\n",
       "ltfd9wPsECf2vDMEmLJxrQ7nzYEwMC6XD7oIyzQexNSRCkchiKsqUwQEyGdNfIGAGCOugEiT36jY\n",
       "2lydezoKe61vyNlGx0YhXgg/ucPezO6GX5Z0eCIEAcM3mRZGNlZpsVGo5x1lQHvPvO/M8wD/2HUU\n",
       "4thsc8XxfbgH6SmjwaPTjdhBDry8SQcMmc/SpNubL58FML1OsWOf23Gpf4f204b+U8S1xlbgRp94\n",
       "yZgpqtIwnz1xdhaDFXUU6b64XK10D/UJvlx8KnIdqD4ZeNEeLIG+Q5OOeaqrybOLwU7qr4ovZatZ\n",
       "ZnddaB4WEiZkKV/XgJWIJWuK0SASqPmileLlvGvE8yVKjIcRh4cOafBJKMfzQk+Mk2B35yL3gJOb\n",
       "U+qgwaURLqWbQQAAAKNBn5JFNEwj/wQxsxT8iS34gJZqAAzcKZ1PqIxzoLmEgoAW3lNgmTGVsBaI\n",
       "/gEKX/Jjh9OgtQQ9gbRyAX4+eVo7II3KeF9nAercmmVBKVfdLNJqf0X7IeboU3sssryltTXZHb89\n",
       "n67szUYN18pDWbavw6Xihq/6rEg6StQbN8ZjfrubG1HZNMR5EAnTcLuattlnrv/81VxQve4/AlhR\n",
       "3B16iH7AAAAAcwGfs2pH/wEF+PaHTLvvAAJPhaKSxXes3cxvczUIK2/roLcyYOOY/UMXL9tE/ftf\n",
       "tkEpKxAEgZbkH+lVK1fV6Ge7Tx1ymhKcRaDItDbRJbnpa+mXDX0wHIrO9Hq9rTeagG1ZsrhVF0gk\n",
       "WNpOPf+i8LbAYEAAAAJEQZu2SahBaJlMFPC//oywACUEUXACaZ/vefBjHEmPzW2ca9A/ENXWt/D4\n",
       "+ja+XuzvPkkk34HVrPl3M5QhGtmXKCRwc1qRLAe53ybeE9FTW+k0fGdEW2wly/HgYt+0wz6QsMx8\n",
       "5F/fbbFO3OXpa6MnXGlY57uhgeb867wTNDxzs1TVvTJKD1M9mVQIJwGjJC21M069gOedAg2ul8vW\n",
       "sWMzSh7PTXijXjXztC75zUXCRiMj9mJ5RxxwWsWfVHHv1zmUQIYD7Z4PLoaAKKRSApVqvj8tGH8K\n",
       "VCVNo+0J645EJJ0669PrAXK7gf71qzmb3mOUR1mZgASyCQt2LpLuYEc8sVgG1zMAn71NF2swTaNi\n",
       "x+BVKXZUwMtMVhZHo5D/QLgTIJ3JNKVeCm9AORdVZBe46Fpe2akJ6P9uEc2fd/1cCiyK21YNt9k/\n",
       "0C1dI7yNl/ZvanSElK3kWxoDHd4P/uuI6EJTqzrYfyQn6GI3C2xCmE/gkxjQrBPZ39MGEkyBPSJs\n",
       "U7VjVeb87Cq51elliL2Hy7NAENrEGKPw+roZ5u044fpX+spP9QXuJSnbuLq5HVF36hhebbpi9ewG\n",
       "AOBZMLYBrrpI5+eERU0z9fLFokQu+hsdU4c1X/z/OkKIOA2lUfTxrrcQZTYDApObRYszQD82WKzU\n",
       "lsPVt5pghjiuDDMCr0d6VHXfajyB/KfKJ3yNd26mYC5+ufJtgwwfqQmb9AAmvEBYyC9iVxkwHvYv\n",
       "mwjekzw7DwkQiVGGjx08M/x56unctvPyIQAAAHQBn9VqR/8Gce9gnLvZeoJ/AAUuFM69UzI6GX6e\n",
       "IzBsQ7sC6txIABWr/H9HSbDwcOUhqlGEzkddbZtqZ0gkKAc5595cX2UEljU8flVTLxhUhGTM6oph\n",
       "GRjcBelPdBfEYbza4Oh87AKn/ov3KAnMW4Atdu2PggAAArZBm9pJ4QpSZTAhf/6MsABEBxuYEEO6\n",
       "fxpGlNTLXkk1kTUgKUMTTcTz4kY1Dcu4pvDUKICwmH2i7Tsz2Qs5Dk9Xb4MpxbqVrDnSOJ1iqBrg\n",
       "ym7M29p+qZylCPAqihh7ebawTF7VYfxG6do8Elcondo0U/iIZsWRWP2t0s7DIs3vz1NApJknKCyw\n",
       "4XkXCo4J2GHYduT+bkuDpwP+DNPl6cCFictmYfrz6XESTTQx8Z3063ZAiqq4FdPfp1oFI8ECm54N\n",
       "hoQ2oy27N2lT7/yYuKUXotFEDxGsiq5q8P3MlewvSFjRfAIG+d80dEMbVIOLpqVvtfs+mTdw3N5p\n",
       "v2l2FEAPDULv/nZv763VeuefLU1Ji9sNKSI9Tcu9RKD+MaCicbHftTuUbaUkuVzShBZQy7+f3qfA\n",
       "kKCe1NHrF1okC5ZpxjYCPZ0oScfLP06YmqO6urQGNoozfOIGPWwb8vkUn7Gsyvpx1FKzCzFbTYdv\n",
       "A0vZ/0tjOXICFnihxZgP5QA4RdJXM6jI7LPjGsu11Q4FCQWdbhKmCG6poVTXo2X4sD+Eg2xYzVgc\n",
       "NfejMTYHpWdT3X/xt3gwqlxUDl/ZTU1oKXYGHnJUualroE3FUDtsPtlp4WRN2YBkHWPNUN7tMoNy\n",
       "ooIrR3Vezne3ZyCOEtEEzz5zupzuKMqzKRiMo80uUEqv90Un186fbqSAbOaaYKbrtvt4tjqQqk1s\n",
       "PdVWiGf3GfDrgBC5gIfrPivi7OQiD7EnEGeTpmGlMk/BWVkQqcQg2b9uAiCd5KOPYiFLrtp9njx8\n",
       "yIoZa5rpL7q4n+ZhJukPnXp4YogFsOEOvLOG1nERHOX67svPhhy6osyL867ynOgJZg2nWo5lqgUs\n",
       "BSU9pZbr3Xw9mDxBiGIZ5gDjevTMlOClWR+uC5jwAflK261mUxlx7+iy8qlxAAAAzEGf+EU0TCP/\n",
       "BDGzFPyJLfiAlmoADNwpnU+wFaTT/cKSm2eYq1uYuBhvvhD9ouAEyES1L551tYSv7Vy+TZqhfQpx\n",
       "yNK+bgC8SApc2e/bMKlfnibgs2EeK8/Hj0Al1TgHpGsMpYwVR1yAoETm+Fx1jDhjtSuR/crx559i\n",
       "vRJJrr25jAAUNAyic5hXY7rBsNZfmovveUJWGEZNWVDPhPni8T43KjzrUbuY1nLNL8xBiHiAdGbN\n",
       "Qtur5qc5td9lg4Z2VwxrtoTtO9VlPMCPgQAAAGQBnhd0R/8BBWISDNvDIIF8yo3s3AAiAXjLMLqy\n",
       "BaSTHLbcYfrZl5BaYUO0HQ0CwDKOkxhXwZGevFTWx1nLA0TtPFEAuamVIUuFxhHm6wr1UOP7rUfg\n",
       "1s1MJBGeUHVdPsGwQJGcAAAAcwGeGWpH/wEF+Pr7cu1fYwBlNoHp8GU7wADX6B3ieLV/Xu2Cymmt\n",
       "Tq7HebmIiQOAY78/wP0SWT2mXcN8S3aRP07mnRRwnadi0e3MPv81fioXQrOrf6sTy+YxqdYSCP11\n",
       "CegbHcXRvqGBUP2xkDBG2GgYsYEAAAKkQZoeSahBaJlMCF///oywAEQlZJiYKO5wAcPyVoL//1+C\n",
       "DUbnJDEgcYdzhsc2FVjegZrulIOBIGW9WV8P+tU9GsE9lX8Tud/pTE4wkULGF9ACVTc0hiJSzA8e\n",
       "CvwSicUTvmgvwXAQ52Z35xsbUKBNmuAaF0RB8YH/rpFMi+6RaJXPu+Tgt1hV9/CoiYG76V8oOqa8\n",
       "3TtPZQYnTduYeNYQSMNIvJOigciB5KkRRJA/uChzM2Mch3KgpFSylP8z3IEfVbIvaeNeWpsdhoYz\n",
       "0N4aPjp64XnU/TSkmdshZDIm+EBzypx2WpG+nFLtsnnwSsaHZTSya3WG77ytdQ0xZ9P/UfKu6Gc9\n",
       "fa9xghISOFT5OVncTwaDS6T/HrUX//+bFM5G+xkphiiH8ZqnPVmgRCfumNpPoArnMjfo+V0WPFPq\n",
       "ZSAwzc9l9T8lrNw+ZH0in84HOOz4w9jHiUdfJdZ5d5Ryl6n5OO5dR2TBwUgoBBL2nyzxbnAmSPk1\n",
       "SXWD4FtdmES4q+Kv+sI4EOVqc573egMEpoIDWi+jHEatl5RCqE1cRXuq4iSicaHsEcokeOCQPa6r\n",
       "W3HQQu++0ddSUzmE2alX+vwxPpq4Fb3EslguFk5FljznyFMPe2o+3FKB/9UWVEcUTSUJPLkifwIN\n",
       "ZElJF82isjslhoaicpdjTLJeyYx6c42TlOOnrDA+71UQFgk1U7crtfNP8YueuT3VdRBw9hlOC4Rn\n",
       "m0Pia2X5KQugQwvu9sz7At1oewszfxB9wcwBlxSUXBmXzKRiNGl7/K9PaHpHBc05GZ2IW5tQyCvF\n",
       "SgSaRFPs+IhEII/PQi7TcHSTuXnTDqd8OE788DnvCOUHHskuxY4OxMk9UmawKYsvMYkHN76BL4bf\n",
       "Gi5Y/XRbItVcCLp0etc3sAAAAPxBnjxFESwj/wQyZxP1I8308j5gAaWVM6n2GBX8GHK1V7Po7RCN\n",
       "hADeCfxmbC5wZjU6g9J1UFf3H/jxpv2SY7uFo8oeH03iaKU2CHSaH7A8EixC24aIWg5berkRAsS1\n",
       "jM2rqgPWCK0KPNOEngoqQhClDYq+QiGKRxWe2X5Ul/tJA5l9jt1lhWAy3Lwn2HwnOVF5IWhmxftp\n",
       "cGErEZeSS/sVKDtgn0EKSqNH/z1mGI/wahB3944JME3uDOJcIQ3IhwjhU6aZ13uBPHv1lUv/gTkn\n",
       "8tb2iw/n5dOQvUpTL68YmPS4q4xB806TbEd78PuhoqM29R0UxZkkicjfeXEAAABqAZ5bdEf/AQVi\n",
       "En0Hh2SlTWqEyiI6gRL9tKcDbQ6ACand63xlGAhL5Ta66KmUm7dDpwT6GRNK/2Ne4a+gSGVhv3ik\n",
       "LFz7Zgjozyk4ePLCi2WWujl7zbaH56ZinZEl2+dA3MYrYnxHbcoSwQAAAIwBnl1qR/8BBfj7URsE\n",
       "foEK7bgBVKaaBPAXlqC9O4+g2+tGg+mKO88lXx1v+V0C0papYoxrLk9MTop9hfCBpZzK6LEld4As\n",
       "hlsPx4A566bH8PXyolSA3idVCzRG4cdkyhbzspuYJxblejRDhCT6K3c2K3ExhjfnFjRxQ/Jgwoyn\n",
       "CZipSaXQMHl9WAG/9wAAAj5BmkBJqEFsmUwUTC///oywOPcz1Osd6RcO/iiZ5JAC5YAsSrPN2jcn\n",
       "Uitkf9aWHApU3VLZijRMrLUA6P/aQlnPAcEGXmggUlHt6cqM0dBZLf6e7riAjzmBSzwNcv5ze4pj\n",
       "LZWfHnjcJGPgzIDqUiDbE2/0v0RvcoPlxSQArZxhPRTU3VhZMlI7s5BNNf5eNwa+mJo5AlTC/CDH\n",
       "D2kSKpSaWt5GlTW/RuNOhkGpstIjxINgrPVTVZGHpKoy7KU15+GtG6YWMdddiyWaPQZam9gs1Uze\n",
       "UQxTMXVB1+DaQRwwTs050dpA/vEfwAbDChTYDvaivCk/8U8Lq4+HsQnCwFrRYzC47mvoRqZ94fBB\n",
       "DAeQ15X0nArfMViWIBpeDqt67twBm7nv8Dvqfxj5tNMmnN+w/NFqrWlh7zy+z+B9Oy4m8MGJDSIX\n",
       "4daJ72PpcfwIeHcFO7F0nW+VqhDEzP4c/O7iiSbCmUpjdr89VbGQjWXxH00/ebt4Xn5+On/2YN/f\n",
       "gZrrXbJ2NL/o5SWc4FDVgyY0fElsdBqAJVToLMQcpkG8IOMmt6LXuscarhzNs9czwEAmkh6onMBH\n",
       "JJe3oEwyVUM1byTHRDb/Oac6H6f6WWObAcJrCVzkLzSJRimFUIUNHpvYPc5KEhFvrJMe2kPm74md\n",
       "NU7LrETrU+KNfx3f+N6i6IqvG9vjX7QswzasRkvX0vnm2IfYzmEsqQux01iAbapmCnMkDnCih59U\n",
       "KVLnx7R2rvIqub3RD6HEQNhP8oTAAAAAeAGef2pH/wX972Ccu9l6gn8Do2pbrdeUjGLUn7mPoARg\n",
       "P736Ea+Ki5IWngdHBffri2K1ze6Xc76+AKJzdaIw+P3FnF21QXRGwkt1QNoJ1+iAT/E2wFhGLe1D\n",
       "hiiIs6hcXIoaB3yTjNthaKw3cD9tolmAozAFUkQk4QAAAvtBmmRJ4QpSZTAhf/6MsABGeN/t66Vx\n",
       "bACaZQVmq02T6E8paSgivW18FGF0VvdeE3Zhjq+0dofvJNOO6aG/ezYKa7TTSP6yGsqb+KyHfJFM\n",
       "s4liHSNWdmFzKAsV2IxM9PHYsSdEFxjKEkBKdCOdu7T/TaKulU+aDmaoADRfJhJGIsId5RHuB+9g\n",
       "WNYwvQNdXXM6twgOlYCZQ8saNOkB3oz8JtyJXC+JxLf2LvVzmUwblQ/DVHqtCj5zXbN/CSOxvljj\n",
       "Gz3OO7gRF1USFNi6z4AsMeRRgT9ABHWGPhSSQzuq+o8ycoifL2cTNDz8QK64gkTtoNfL+vyAi/nH\n",
       "r9HBGPU+cy/zHG/vdCajLUdQoiK8+UuIc3lCwQWOiAYWuZdq+8VO5HC3OcLcxCylBE55MgeUDhg+\n",
       "35EYQ9ilpggfrb68ARSK7Bo/ue7GCkKxghpNm+s4qFd3zicO5Urz0kWMYcfvDjK6D2CEzHLXkWjY\n",
       "dEKH5OnpmpK+5oGR+2fsLcif1GVj0/QFEn/hlL7EiGSu21FRsmWhlKHj0Hdmrame36PeeJ3I8xIq\n",
       "FoCuI6hiMEIp25qA0q1rx1eFqVUd9MdM4jMxVv389YzojxG+zoWsrq8wlZzpeq5Q1jCe5HDBx4OB\n",
       "EyCzO+B6sND9EtbpWRSrUSv0TfS3AAjPD+sU4MA8/ESczepiaG6vEKE2BIbKE7rJhITxdPxIAbu/\n",
       "4teCWBRXTrL+s4c1Ca87IiZdwh+PgQWrBT8xSlW+1SzsMaJldyDln/JMFaJ5H8bEYx5spIZnZPN0\n",
       "X9+HwCMQuVjL7Zp+gZGxidBv9iw8z5NFujwKxw5Ibd+80mQ1HSwd5Z1kCJNYJWn8ZTRjaKZv+Myp\n",
       "6G81OTNTZoVhIsQ9E91e2M9oFPv2sXneNfJsqfenNe92KF+vVf0fFQcFNGC5ejncaEoe6roGxK+k\n",
       "/0BJFN3ptyVSHDYESNP6bEIb9neFDqIaNnb5dMC+Vo6fsl7OgL66LX4n7pvHz5NLtG5uDQUqbi5A\n",
       "AAAA/EGegkU0TCP/A9eo5z5ElvxASzUGoBTYCrF97ESh818S2eAFseqDgt769gLsNWFtrwf4RAO2\n",
       "l/m+5giCY1DFGMcCRwOAxi12JnTyykoZNWd8IZAWedj2o0usbtYC1VQHYAPRJM5VI2kF7zwCgAxi\n",
       "EdDWn8h0+oWkDrtn31A/PcnSmat0uUi2NBW3HzKKcpIWu4DMeqctRhq4/MkEmOQ+V1asquGIRYTZ\n",
       "v64jmlokH+FIBFI8/ROuX0WiL6l8RpgMi7Tt1o/MLhvqvn0F1aczgf6BxIavqCqKljdlotH63a08\n",
       "eY7FhOffkhnYy0He1Xk0uGTuGg0W2Mddoge9fwAAAGsBnqF0R/8BBWIS/JnRXl4AZhVU31jh3ykC\n",
       "KAleNey8VOytc8Fxy2qSv7QIPbhGnpxP0uu8/jLiObdntV4MIaxnR5jSghgxwDO235yyOp3PwBDl\n",
       "m+OP/zfGHP1x+RrzX4pDZNFkg5Y0x4tHfAAAAFkBnqNqR/8BBfj7i/LrySWPNAAXBzasCT+6a5H9\n",
       "Y80hcuxqwSot3Pj7G/2k64Ac00v1md4N+AMuWTFGuBDDMbGFjUQRAAkql+ed5FSnytM1ovbYdvMa\n",
       "t0xToQAAAnpBmqdJqEFomUwIV//+OEAB+vQxgBbx0NZbMp995V1Eo7ipSAIQkL23BY0DJA1/ZB/S\n",
       "yC6+qJT7U96dur8mSjW3yX7St7BD0cO0eH2JqzXCC43FPFHrQDzhic1Z/xIOQRGOwkje8f6K36yo\n",
       "i1MxFU9Ic++r5OLw2qnNiwC17juBOQ+HqLnWCSCpEpJ8972j81Z8bZs5gy+ek8P8XdoiwPcnO140\n",
       "phvwGc2vmO7FsSnHFZWHJXT5FukMZrTWLxO4geTGpE2cE/tcK2Q72bB2rNg7pw7cClXXV1P2Odz9\n",
       "0muHf/4ekF1sieYgyH2ckMsSxoIVdvWcc3bpNGSRm2LjgofgxHHKvCksN7F3qJHMeZP9Ncp6ECjS\n",
       "88wQSbwQdszLJLZ6yis6ADtN3g01myDTtI8YPkpsEySzXtyPdjbqhlZa6M57aBJDaZcoCMIQ1gWf\n",
       "VWr2GxlpmKAh31PRp4qOwBxABoEVlJeNS1aOyo7vg99r8gcqPRD68ePCF1jBOBNSBwY7zNK+H1AI\n",
       "utwciyWeINB/ppeQYzlQro8KAeJtcEtR0u50X5ZU/tGceurYrQYFlPeYLTe6K9UUoyrEzppgSPpK\n",
       "xBJv7Od4grMTiyzcaQxpKerHWdSJJklxEMsZPDr3qwWJboUiP6v02y7H/jJZiswIMGVsHIGrMaxa\n",
       "LQcNwnTQwv6XWhTKXfaK4Pp82XfWk7CGuPlryVFVdp6QhLtex+dz6IRfqkgCQ38Lm/tzWQDcLENf\n",
       "qtXML3ulNSf3V4l7MSKYlOpgXM2t5FxjQ7dgXmEhhX6ZN5Nb+IqMAGOZthJqzK03RzsbH5B7nY78\n",
       "wG7VSmLAlNOW8SABuAeZAAAAgEGexUURLCP/A9gmzwcjzfTyPmFtlTYCscsQ68lg3zNujgAt0C9e\n",
       "VSbBnYUr5s4Aw9hOKM5G9iEkSOsria6cCypJbcDFcFxWP/djjNUp4qtOwW6YUr4S+JtOMVf2ER1w\n",
       "W/2j6XssvNdRZ6vUDozY8Cbb0eZ69Fe67GOsBhMuwrzvAAAASQGe5mpH/wEF+QTUhtT4hfgdODQA\n",
       "kSj9KH7YHb7KpZgkyY35MGT+otNwuH7Vxzken/TEq6jBJWS2vpx3KktnNSFJmRXd9i0PKl8AAAIy\n",
       "QZrpSahBbJlMFEwr//44QAH7PixgBbhcEKRu/sZC0YJGiCBJIMIoTEsquLc0SY6hvHKrak+WZzCH\n",
       "KcXqqDPlNEQ5W0tWO0AIbdypDo6Cd0DSGGr41v5fYmOmLXfv4e+uYMw/B/MpO6CIMpVT1vkBENnU\n",
       "ObbmG0g5D/JvOTw3Oi8S+f/sagdbATHk42PVdvo4FuIL7JshWIAjMyM2vx4lZeYKKb5oSWJbED17\n",
       "1dhzTER/LoiO83qwUYf7gruQpWhWv5wVzCQZ8oG0+elzw1O66XKml/sv7z8kphPfWMhmKxlpfg88\n",
       "kietYZA2ueXgDx0RyV+15q2KI5kh90HSSpkoMi5ByRI3CfqpCVwBhyMJMbcctjqMkcjn6vcmOtXo\n",
       "ymYyHzmP8EpvYIcedEEfLW33Q07Y34VwDN8N/EegWozRsuHcvF7whibk5yb8uTcv/EeBQ8WhuzFf\n",
       "n4gcKatH7aOsOMnImtlM60rTfZzOr2OztrGmJDL9W5RNoNbT48QV/sF4/UhTxxk7Z259zcKmwZjr\n",
       "yt4KIiHMf34h64SgBaS+Zuu4AFSnl+J9mQHunz09L01tkR615oVrSUThl8ad/k1kZN7qI3q/zl7m\n",
       "9skyLU3sUItLOLJj6F66fksFm2t9L6SNxJwc5WPCrPqMUD1nkG/FY/I27Y2P0+vsrdnm1Ad61+NI\n",
       "q92R3uJbyi2p/F1dsQM8k7LiLetk+ENWRKIoQ8eRADeLDT0RMyvk49jNsnQ8+oq5wAAAAGMBnwhq\n",
       "R/8F/e9gnLvZeoJ/A6NqW63el4pAAbTtnP7RkjxJl6MpsWAoeXGaIek+A4urkDy+/Y9lSHlGIL7h\n",
       "yx/H7c+QkkVHtGKoQYxclBHHdgpi4LXkNpPDQh5ZDq6DPpNcKPwAAAIcQZsKSeEKUmUwIV/+OECP\n",
       "akS1quwOHTFMAJ1kLa9bwwceacqM4dJPzfYPq4V8xdyl/3oTdGnhh8/UsrQjWbZwbJvXoojkp/5C\n",
       "SbEGpn8I04zmqv+Z5lEC4wleXbM8xoNaaeGGGyTMawB6e4wTlxdeSOZvrcoPOxYorU5MFU3TvGdQ\n",
       "yPxuVazh5ATdVH1WWHss5DCMk5hQyAroNiRRP00ZUYi/8S0JfeJ20y4DTDD288pfCjh/t8uyRCCe\n",
       "y5umHw/thtrpMP+mKGTIjXODBvulbZxNuzIvt1MLNYbPmAY+3TNIlDrZKG9tQH5v+SdduyySriWw\n",
       "AGMzZtEZx/7+95mwIyPFfo7NMipvZdQQL4LKvDzF/5V+RwUzhXagbB0miUeKLooxMAeH6h6L6fAV\n",
       "96lBrHmjRX+kAqrCmy9tWkaBkulm1AVgwVhi1EjHhzObbjI5SwHFEoUfCoDqZ6bzdUbVSLMzw+b6\n",
       "pUQdTpIh/A+S81zPsbt+uteJbzv5UqwGrSYxs0S1QDexPo5DFqZoQhyzRag7am5ziK+uhXQBdbc9\n",
       "67VV4Sm4ZM2uyGfs6U1/dzVvz8yi5A2lcm56rbfdTL+/MXzENkOsJCKJ/nhWBPMNhJvNBISPvWhR\n",
       "tsuCyo0NTZVS/11Yq31+3oV3fx3gF0qoniWaLtSfo8NnHeSzNswPCd3ViLV+/dN570GicjP6urqo\n",
       "KLTdYaCzvP2fSMMLAAABzkGbK0nhDomUwIV//jhAAf0td8egA9y+snb5MRPAN1xJOBLowh/QUF1B\n",
       "qk+51uQuvZkm2O+P6clUNatnhHtClen5jczILo8jxUrxlZPM/jTogbRbvw5BNiIVrS8mgrxI74Lb\n",
       "mPzaA1IkyOcs/ZNLUsxxp58C0+3Iht3sSlyQZgxTn8lUs7QJQwekVpal1Rj5B/DDIvb6VaOhyxCC\n",
       "7ojJ9lXrXE68LwUAGuFJ/H0oZad9cNcFMroyfPGZ9Z7h/i/4LrfqbCfOKyyTH9iAkbSU5agfw7tF\n",
       "WtXD0Xb5tN4tHnTwgC1psGO2r1OdYBD/xu/GU4Khdzvl/u/kDah3Y1KKGxDzW5p3w1Yfm0FMWRUy\n",
       "Ui9Uf9JEMEVvUE9txCdk4eohhSPDHGTFqDPzptihZwfdcTyePFS6brC+rHQ9CVoXJnnw2M9jq6MC\n",
       "v2E3rXW/DpUxrLlabFoo/KWhrO2BAyiIoUa2PgBn3NADl1+6S5zwbfBsz9gdg/BWng/FQAFGgjQa\n",
       "eASGkkbygUFeo5AITvqr/NRLbDNI08BRzBuMAhu258vS0uABc0CpHjRY6tjrE6c6EZeQpA5BZOhA\n",
       "nz+cirkd9RiNt0EtS3G5V4fujpK3wAAAAcRBm0xJ4Q8mUwIV//44QAH9LXABUAE7LzPtDV2rjHpN\n",
       "SkE0tfo2BN9V0aBfbloaTem0I1LmisgBiW+mdsD8/XzY0QCEWaLXW/ewZg4gn2nJZPN72zHDW/Gk\n",
       "LocI3cRZ8ew5rEd8WQxt3p4T/s6il3Wvt015eL3rWsVuwXsCwg100jzVziLN+AEXEzvO8PS3nByf\n",
       "mbw9dsjKWHqg5F3QMo0xlfdTzgKxOmuo+CVhwDnUwpTt/rIbZLhPPEoP7ceT0XZ63CRtqZFWwjUk\n",
       "r+qPTrdm3vsIYp/IyEpMkJ5xu8vXXwiZ8qVp4kCOsaBoJuKaeSkvA8wVtqxZuXdZGMNcCblKnq1o\n",
       "OXJ+7GL8dunSNqBB4Jex/3SwXWWmIkL5Ci5KSbDkT7Xk6vHXo2QKv8XzmBDM6JjWlXO1iO0pwbRJ\n",
       "ZVsY3cZjgSC7wnRCCgbWJjzeEhg8k+CQmyG+0qazArNtyREzW7it+XgTqjy1ho6b7PXo8d4OurrJ\n",
       "gnlsCjmvtB8SZw7kE6WHXxxT5JfvrYNFUHkhgLl3TeIN78HW2xOa3RnZAZenx6tCcPN0LfvHgb++\n",
       "TaBRBrQIblZ07j6gRV++NCK1AourJwAAAmhBm25J4Q8mUwURPCv//jhAAgyvrO1rPSACHjpddXpd\n",
       "Z1wtSAQCLNcj5hF5VmrvZS2R2bs30rDZJFCGfTor8MNWiNzY1OKTSymFNrDQWNo0ZrVQhJQX4TQc\n",
       "7Th/31SpSOSv3CVKxKEpYOuUKYX1JJ9KTrfNqB24knmGOhvjRUeEkxgfGHnICXtf/svhEMAK3zP4\n",
       "/rFdxSlrtn40LdNznHYdlNbTRBprONvNRO5vwZ5V8E/VvAKKTgiOllgtm7BmQaKyqNumD4qEPLwN\n",
       "A2ZFgSCJ2+2SjlTpvcz8y1eaVfrD8fYBToO+Pq/KLYkX+ZPTqPGZp5AD4mnBZAwXhg13NUrX7VOg\n",
       "u7esMZLB1/tzrfze70WVliKju8w+8aQ17+i8KEi7GQ3xp0N7dQSW4ru7GIQTNRvHg8sdD4adQaON\n",
       "ShC1ahJFRR6Z+W9pkSvD7Jqw8jTJqDJk497uxpGz5DBNw5R51ChlQX2At/9xWOT5Sq+VRO5CQzXz\n",
       "/78BXVvBp0Hh3hMXWinv+e9RzcA3UKXRhI8hvtCGcMcelIUlIocckg8FUQ3F5eH1cl52P3PTWgt2\n",
       "HDioR5PXjLFDlGoj/46CgFE0tEaM4hHCdw0+VRWwzcxFDtQLCrJ/ix3iPJ2osp6SnrnObVBGqUYh\n",
       "5wGCASKzQCyaJ8VTcoY9c10+RWI1K76fk3DzbSIhbsM96ctUNf4Bk79K3kAOIX4/brwul1TsEs1F\n",
       "H1ZrG6pwqmv2oFAxkao11iZp7wWLv9dTt3esieFDBE4oUZM4ki7UA3GXwGO0DyPAkrLvID0urUoA\n",
       "xVBgKXTFjAqrMiMa5fqPAAAAMQGfjWpH/wWYZ90Y/zP2aYY8KjZD3SfQyHrgEtQ1UaBYZywrEAnV\n",
       "qLOkyWZ4+0czWgMAAAKgQZuQSeEPJlMFPCv//jhAAglkpZWiUADPUa9nU9G5LQTNNdXGnczsEmWe\n",
       "noMJZf0PzfoLlK8m7tWBRRFKOAPAHQQcaEU9EkGOQGnBdUtsNfz/K7EfnWW+reSPda9baDZMQxHT\n",
       "4wcX50hj9JmtXCkh8oz/ycTFHXrqCgn31+iJk12g/RNYZlEQmfz5kzHpcgokI/J6Kb90JGF3vBd7\n",
       "SUg1Uzwi3p5RBKmtVIppx6tEnIR4uxNhI0sTKjChotJ4eDNDTf7yEbRVTKbTqBtVTmtZroNRsgij\n",
       "hnSouMul2jqF9QtZfuoKwhlM+eOuY8L/zchvQIW96zYwfTtixawKiDW0cHWKhEJ0/J2vijRGaWlQ\n",
       "1E3BrArJGK/MGxzIjSaVLFSOuUj9EfYf9m4HaF0IrTHlKYwvPVY8sBox/e0aLlQrdruhDkPGQMKg\n",
       "/1OgitNOyOFFpy64WN0fy3ArIfeKRAj8rWrluviGA50QtEgWhpVbQHB9aATPiiyVVpBg2Jxa0qb2\n",
       "uolQiJamKvpCv8MsCS0NhebRqzkVbMDsalqvLrojrNusO8a+YCz6SsIvVKAbPPF1K5y6spp/nPbD\n",
       "XLGTEAx9h2WBKzFY622gmm8iAjDoWQ5lDTgnoZbgMG8tf8xW2Tr0tnJ3JoLZGD97N/JAQd2UbjHk\n",
       "7jkYxaoRsL21NDajmJoCnGpeL8vDkNKjaGmnIbh7bKVlbPqmjd+K5yzzURB/zCVFSFC8KtDWPUOe\n",
       "o+koZ8toC1C/e/awIj4+6ER8DQk8ITHT3mCFVQ2W3qdW9lLxe1V1SdeTgawxLLn0cfmyYp4/CdN4\n",
       "d7woLcb+shEE/e8uY7UaVYY8hBEIyJCcVWpJcAOeiHBQM5dTOZbYPj1aEuKjHwuBr5aVMb2E11Rw\n",
       "/fWhAAAAPAGfr2pH/wWYZ90Y/zP2aYY8KjYxU8l2goKagAhQN+1eDEreYrSPlvj0qR4F6XeAUc9R\n",
       "ywD9sGT+1bgWiQAAAbxBm7FJ4Q8mUwIV//44QHHwQ4nV3Q7Lt40AC2eY/RZ9686KwqDXp33UxkBO\n",
       "Osff3dv76fX9LM/9V7ChkwAoC0pEAB36I2XL/azx6To2QIoX6m18Dq1s2kjKNu7+Vp6jvyqic7VO\n",
       "PyKexH4WTUST/fJCBjk0ZH/gfDSR+IU5ChL+c2WtpWBINY1Dneh11q8a4xTecfkbq4ISlWun5kVi\n",
       "4Lf8WuEIs1kIt1kTaA6i6pCdoFFeqgYA1ELwXRCsxMl2+l/nOE9ZZAnO5zES76R9q+04Lc9Nj6b5\n",
       "qowPH9WtZbj/vQRIsaPgov9zJjEjHuSrX0y7jmqVRTCec1+zXGWmookVhsXe/+BO3xltE//qwm5z\n",
       "p8QGSLliUHKAWqDa07sRGuXdOAzoZu6lfr/wLLjZBUrb6v8pykN0hvYEJZMXmnMVG5zm/s7H2Ch8\n",
       "uUE0R0uztJm2c5YOaMsrjAbwYelJ1tXJ9dF4/3RpUImRmScnJBSpbflQFIwJmHJI++mcRO9LqxjI\n",
       "W5fMqIiGR8rkimlQfBe+P9xNYf+FtcjQUtTKdcZ8dA2S0FS5mxX+M51bmDchlVBkojxbE30Ad1gf\n",
       "BDQAAAIYQZvSSeEPJlMCFf/+OEACDK+tG2AFfcEKfLeVivNnxk4ekhZ3iWS3cL4LL/y2/hWeINRP\n",
       "4aheGkdjyx6ULXrjp0Q5O2a7GZ+JQcikuWfHL4GBRVDWpuv2psjuHv79keh07q07z8ehO5PGnyUf\n",
       "/ApJ+b8ZDKDX39ce+/iQsvq/nNlQLWzRZOlfFMj3pnP3T7gqvh1Wi8eXo3786oyhikVeHaLZKypJ\n",
       "tkbioZ7Q5tziK/9WkY3KM8XLol6PzOv00H4aU4kSl4v19OS8q44r7VAKLO3oe6WxbzqzI5lOFxRm\n",
       "4y9JuN+E6jdznDgiCbyokS5pWxkYAJbC7lNGAc1/gKBElu/7I/UppJ8ly8mG+kvMiyj35yDufVuw\n",
       "fSoztTveFxYq2prxYCzRDeqIv0U19jzs4lrlODnh2CNTGNmCqp7vU04SEy6Qn99vISDksHtSBjli\n",
       "unNQGeQXIzwyUMQbGXzcTasiu74//fgjeVdvWep96/8ePD4/w9Vnkmbk3JWFBhW7tMINK1xEMmXt\n",
       "THehDKW34LVVfk4VnZ0eLwKg7Ki8KlZ1opqdPpSu1xWXCVX1feAZBh5T1qSA5vc15Gw82MNfamax\n",
       "oBPPgtEpXdggBviJ1DeAaPbSYNWzqmML0mPy/UJPu9EsmOPcO3a8QsnolCPPPMaSawooRukWMzTl\n",
       "B9DXHHtKNl9enduC+b58Qa+/DtgXIcyx/18382MAAAINQZvzSeEPJlMCFf/+OEACCWR3BXlAArWe\n",
       "G9aqUxJpMgfIVR3fD/29ntHSFpxnr0bxu4iJT6GdnJzNBDA/kva4XhloL2teOxdXBWT5Ktb8eenb\n",
       "mhXK6YpYuVJzpFf4jXUtyODbUfe/19GKxBlEyoArdwwz0EKMuq/zfPLoJAFFcBpbq6E7nxCxYP3q\n",
       "mNxrfTEF+OfI+mvaYhYgOarVPm4m27RyPGRsxtX5vvCl7a4KP4gcT4tiDKOGQDBN1E9FryscIxgQ\n",
       "VjtUIWojCP3gWy615ewYtI98Ko8/Yzog0hvojv+uCyTClM8DxikZWD4yhodKJfE5oIFGuge+z3dS\n",
       "j9CswcDA5wLqriaM1PhSJ/gXI1cf62zPZLcoqZAB1xz7glfdMQRuB0TVJrmB+v2B2ZeId8Ew/442\n",
       "ddd6E40k8waSLBMOJlAGXPrEiDQmZuabZhVm+ygg+FXqQGCnzfvYfoJPiKosgH1z0UTacWojIhb2\n",
       "u6kxW8Ow+6G15TKA4K5Inh9FnCrm3V8laZjbS/RyMxJcrzdxMULFYy6kS4fc1Hav9q1dwQrPSSRC\n",
       "bX90oa4pAPBpWb4UR6tzsSCcytPunWX3BaIPibmvoyYi3OdKrziImI7+4s41SOq4HmGj/ToFleIl\n",
       "dlJgsaUsWJLGJoshPVSi3fDuwJH9OXXaZjdiWf2+gdO19wEGHPho9dvp8jqIAAAB10GaFEnhDyZT\n",
       "AhX//jhAAgykJpgAVtlPATNc6OA9mJ3CGr2Tw+lY9ZUU7CbhyiAifXv+/fXmVhD3jRzAIbi6BxxY\n",
       "xPn2rHFtGdCbezAAEZN8CLgYqU3JEviA70VhHHcLH6nuhtpR+NRs6LpTH8hSWRkuwvxzATN1bEP1\n",
       "4tHNEUhczkbhTXdD+XpbhFeceW6RIcndaqZD0RfquzVsmHaeGGi1eQqxtSo9Q87YbSElRrCLbBgO\n",
       "YOYdRgp4LK5NtaPnaVXuqK4pWgcVDIyRZ4QWRKZ/+pDspWI/AWqwO7r7eLAM0GGAtDvw98xZJ5EP\n",
       "NzJwEdQu2wB7J9FQn42bjnvcsGh3Kn+Nhe7NL0nOyJPL5F7LVLTBOdhdx7j++8fsiRQC8BYMAqOu\n",
       "Am1KP4FNlfhx8cYrcKBR3CUhaTw3sK1jQKTyBmO+kaK2qPa+FI7jw2398WRgLKn3SzJYFC7A1vlW\n",
       "BS2803278HeOQkSME4blsDNJu4xbAkfY6vsEk6OTx/UAm8OCSeLih25H3+/z0B0aLoiK75NhkMWk\n",
       "bltD1hKKcgK9AypXvft3aDQoxj2xurnO5fEqqHvHPFuOrIFDug8aaPfwPr1IhDGiWB/6/cNzFl9w\n",
       "vsHtJXR/IAAAAh1BmjVJ4Q8mUwIV//44QAIMrcUzAC3cb0IQpJ/UT5uIwJp2xdsEFUXfKI6bdRNY\n",
       "XLiiDGJsUOk1HrNrkJR7h5fXJa5u0U+RT9qbxoHn7MKgu5V3d64VHnebG/KEDkNeW4c9IKXG+s7K\n",
       "Z5U6WlZA/EEQCI/abZRfTN66iGwERslC8xsBbs5pijsQ/gYaKxQTv5t7FoUtUUmpF7uiIFfr2P+C\n",
       "04RnMgj+5IQ8hG3c4040/jpMpkdDIvHsEv7+vJNAwKj9+40jBfQCD9vOn+r1BMpSpJWZaXt6UM8Q\n",
       "Pfezjz1c+vTme24LpGIrmxOrOXxnjJwMcwEWhhAtuivBlZPWrRv/zQ8+ULh+6sxipnKxvyyNqzAk\n",
       "CKhfqQS3tI9JqGA4Gl8F2Ltf7h5KzgsGokOmmhhNFnAe/QXpR54j99l+squPALlzmRP0t3tW6xGL\n",
       "rGoe7lLT0es1Tqx2kLZLkIA6k03BE9FSKsFyZSFsM4xTiJ4St9bph0bJTwLFC9jfxkD07DJz6+0y\n",
       "mVBvtMeJvobdFe2TS91kS38M6gwN5p38M0j8IfWBHSEkHCEG7q0K8W9R6iWX0TVm2iOKaCTzpGy/\n",
       "zowsG78Qjy9TXPIZ8B7VsIH31I6VdSr8JAo8YO15P2aMUZtukMkhSFmqke2SaF1YNXKxyHZKezut\n",
       "IantCtDl/segxbJ+AV2p3ncm+shgRkPJGz2dfuK2Xu6GUcSYfMEhAAACKUGaVknhDyZTAhX//jhA\n",
       "Ag0Q/7mAFuNd8hm/PXMYxclynqu5o0pH5VpmzkvAeaSNfCTTCvSTA/+H5itdKYmzFwL14kuFRJ9C\n",
       "16oSCC9kgOW2waNqWlTINOmlYgSrx8OBekTMOlfYpaLlgP4zmIEReq4c37HlKlCDoByPib7mczmF\n",
       "65EQteRfI1EI/7nqDne/Ka5lo1jjjvvujQpz1hk+lXdBEyU5l0iax3f/6ffUEDyoDpJjVgPYiZ6F\n",
       "UxpqNw6JAEJb4EjKRJFOVgpkUdcwMAtZuYvlhN67Dbdi4sNBtX/7PzrLaC/3pzQ//5I/Pr2ylMfv\n",
       "YM0Z3El6/a3W7QSj/VtNCpVz2o2Jn6PyqrvR4tYgRBrE4S8cu0eo+X1HAVmXQmOhQ7p/HHI3lcEu\n",
       "8Ke5M4UlXfXddyuV35KImyttcEBPj5dCZE/uyB+9SbyD4D7CPPaJx1ZUYXVSpAadITMbOsZCPjNA\n",
       "oEAHJ+B24WYIfdjxtNBZRFGD5xd5pYTQUhjXBAEjdW+lCCG3CxOCOsjmGSTIm3RXHmzR5B8zOfc3\n",
       "wWP9cizCSeLaYbfAWWvkBK1f0LFcX806AwGbIBfByR5si/svpCD2lhnJ4UKYUMvSB7CEHWtyUVvf\n",
       "oS8E/G3OpyBEaTwsTFoqZQ9daAqqGZaEipMc9m/3CJk4IeGAGvgq0aopzNN+81aKJbjUJjo+rGuF\n",
       "vyRqyCdsNWVuUYlhUwNa1war8ulYbmof/LgAAAJoQZp4SeEPJlMFETwr//44QAIJbxDXjuYAW8bv\n",
       "wvChaismN0Q3/rbfPgzVUbqupqayYFIKKSBB3mtWzg7PaK3l/L/vRg8q6Ez8TAjr+54pOuabJbbo\n",
       "xl2nwKdvyQOEwYNG+oaasHoOMm6aDJiTUIugfvqYrlgQqTlU7QtKZnSIjzYR7ClV9Q/jHr0eRsNJ\n",
       "JQ7h6ok+J8IXPzRco5e7iWZBK2BMcDdZmuPg2sN8MdMYFdCBjWI9gL/7sAI58dchk6jGZ0sZg3mG\n",
       "Cr/U3Jncpz5fgijz6qca7i9h03k7SA3ppa0vSHFJFQ/dsRKecVQrgeTgwiJS3QQpfX5YwiP5fToW\n",
       "lSVFW5V4iq08vdHaRHexByJUW1bZ9bCGk+1GTEBZZczLXOXmFk2GckjD3fRh68NdYs4RtR/EdED9\n",
       "N1fGCdaIhRxnN3Rpe6LR+ZBq4YYkqP0Yy/HJvP+lIxqPMZyHjQC1CpD3/CeaKcvpxUHZFPrcKBzj\n",
       "9jh7C83mzT+1kg4SE/KTwfWw9x7qzSmRYeNHmrwdJRhND4f6imSZCjFNkrw/2YFqphCa9MoM05QY\n",
       "DC2/RedC+52eEAG2+1Dvzl8dgoh86bBO9iS5TNFZta9FoTQHPky3kUh+SzVD5winK8gE50mkppZd\n",
       "1C50GXTUsKUW44WSsYeRqQiJgvjAFYlDYbz1c2HaaqwSzb6ILQjb2Dnsvf/1ZQx3l9Z2Qgodv6N6\n",
       "lfcmILO6A7oAWsokTzDUP4nhDR07jCkj5iZP2zqtaQsvvdkVT2AX4qp5ZUOSlvNAMxhRV7gQG9c3\n",
       "rcCCFHsD03n01a0ieFH4TUpXMQAAABwBnpdqR/8FQPEdU7aIq9aK0ZTJzRVrDQ+CZW+dAAACM0Ga\n",
       "mUnhDyZTAhX//jhAWza2WtYH8ixA8FudQAumgppXnLXz4zBxIAneivjpDnKKLYq24oGriXiteIuC\n",
       "AwMIJK1NnEosH2EDDDc9YYZyjWORS6jF6y3Ii1uIGKTZp1l6uWACFHYzHZqzeNpDXUSHp5fTATsN\n",
       "G63hLguhNBfNMfRWvmG0FhTkv7wAQyqQgkIBJTEfoWyDLLYKvySFujYxJSDEBweKH098qC6ikpJS\n",
       "iQrbxdd9xGILhqXEH9fW4qABiNkZx6o6wxb2znNqrlz4psJygN/hKIcZgCn4VPduIdkkPemc98Sc\n",
       "tAPAxxgdzX5YBizwu9L0C0m/501pE47dISzlH8NOLE+3wuCWrNcN1/5G0C1r/B7KZ/67sS5dBUze\n",
       "yMLL93TL+ju+1Ye7sj35+a5zdWATG5Zc+R2uv7XwD7kaFFYw+vJ089FaAfYNffxVD5vSENtuW2Ev\n",
       "FDn08nKLKoBRVLMguHghFb7y87h+VTiT7IQZgRCAKPO+cfEVS2YMV4IKycqtqi2Dkm8uCpODpHMW\n",
       "VU0TIBaNsFTnIl4ClmSkqvUH2IR2qRPslQxYTpYCBkKc3DZ69vXIH07bJ38mhxBVRXLEoH4q/+Co\n",
       "QXBIuRyNkMm2lPiZPUaSKazEgYPECLdrrzFVPjSzTLLaleSylsWZhxOkdE8Pa90kqMAC+P82bjoS\n",
       "E8zGYWPPvjUP0jLuU1V+1UIuObcPCIKeJQGeNz2ZlHyultEr9h6VasKWwd+7pRR9AAACGUGauknh\n",
       "DyZTAhX//jhAAhlkp6tCs/yQAXReHiw01j1/2mxnUBaEiui60okdypxYNv+yxb6JqLo+qb5VN95y\n",
       "G3F5m4wnkXVepaCxm0HIcl+s9hpogt668mXzxhaXWYh1eNwifxE1imhnbyin+NmqSYgamS/O22J7\n",
       "kDe/J/rXk9oJix3zY4mOlbpJmobamqafHBD+Esfp6FjZlfy/u1AZrCh/JQKQo59HZTk7TIHmXinY\n",
       "pLJCDufb5SbxwBRtXVD/1qSRStQG+u23ErdLEWaA/d+5z8PXFDt0+OcJbzKQLzZAn6XIZVnYlfNk\n",
       "kOe1B5VigpP5Ho87ZLFG2SpQWTtxNPnDJNZ/vp7g+Y2/uvBojQDInttALCmSVhrcSSs6mwSOm8gd\n",
       "QDVVmdNdQWTfJ/UEQJdjS7KKvqtWB8Mzy6Zz0oi6tpfSA4TS1QGu+mHgg6oyaj5j+yV4V9IK0A13\n",
       "xk820BgD5aHyKGSgMLzzxL5xvLLnuwJC8ko3dOW7kIJ+NiGne/jXZ4YT42/CFzC47wyGDuYEYL+h\n",
       "DP9Fkx0aGjhUmfYat1G7iVTPuFQjU/Y9dGM1GMlqspQhHp0Qha37ye5FNCreQDRHjt838lmejmIQ\n",
       "jK1EGdMCSFZLjJnIasV2XAA9XGX4LkhYnKBRkSyQjw9hzmDp4ZNqFGyW80x+lWuXbvH4YwiOjU3Z\n",
       "E6xGtwD3pfwvZsq7wHBcgKOUOwAAAlRBmttJ4Q8mUwIV//44QAIZZKerB1ogAtzf+yxJxsvypy+t\n",
       "o/RlrZzK3OmnojED7xGHwmZyGVjsKsXcWkLi8SXzV9L6rP3gUbtw92zzohU509gcrYLWwfAs+AnX\n",
       "aihIb6k6rNvD74GUVLzAu6okWkJHOq1sIH4vrVTDhYIthDFhHvv3nsqBNMy3i1DdthAQ43NKCtw1\n",
       "It/TbZcijV2hUo0UOpHOKK4AjRL+x+hLZcKWRWJSADJpL3sYyFXrGDQ3URkOOOR+lxXIdZBGwyzR\n",
       "kZuQh7++rDcxAbws/qzuTLw5dgiy0cmjdI5Rma2Xesy/u5gtNiUeGJOQKuUaCdGE+WIbpzdYZ2V4\n",
       "borwzLUIf3v4LZLaORKZ2t8h1v3CJyX1j/BF1svTirBMD4dXBcJrZJaLrUfQhDG3DYvHt5JEAU3m\n",
       "guUU+IeFiT0+5mxrbaKt7sGpaSUoL6zVjhRNnazP5pSRSn/D+ioDXXYUZax8iQIiNCNT0+t2keF2\n",
       "jayd88Z9VsOHQKyjZQhEVMkYiCV4nuY9XS0Ar2u9NJRn/cdv5xP/pAvzJ6ZECtGu/WPGBbft3Zew\n",
       "4g65jPNzsgDlwb9Z7nkZuDL9IuKozt4p8IJuXQdRgyGdlZM/G7+OqHFo1qMXiB+UCpHkp/PZOrwp\n",
       "Yq6ffhiP9McI59rRsuokicsI3I77YJmB1VlcCRajPgUTYkD4GRxNHJEkpBpIAaJ3PFIyjRzD4D3T\n",
       "j9vk8s4LtzARCY8ZMPugb7gpaSwb8/YL6JuDU5iFXzK7N3pgP7kqjzXewtbdHgcxoAAAAkBBmvxJ\n",
       "4Q8mUwIV//44QAPf8fAALAPZhlE+sks0hCDf0Yu2YvETUZONXtn2QKTxB5ojBoginwc2MnD7ZAw7\n",
       "mbr6soB/6LnDZe2wl/mfahM35x8BNxL1au3BzfagL7ucHXpzdJKy8XLUDZtc090dpBTv9bj1XvBb\n",
       "HodzdjrSYUawpgtqeMuK3IUJ7SwM3sWtgiftf0tAgGG2dJ0TymTptSk0yKAOXXHVYUCOwdV4Ol2R\n",
       "mDx8virmWjA5tT9DPWBkNrY+scNRRUSUgri9e4XgDsGnlsKXMKrnymtwzSOMYlDp+yWasPYCZhNh\n",
       "ICAzM2zE+Y/xDU2pZjC2i8w/OKUSZXOnx6mTO2Atwci3E/jQRZTmT0CF/g3Si/6Q8C2EGgQzvAtu\n",
       "TzXj0cd0yMYJ9AmQp8yO5pLcdXi5KneJ+ZMXEB41dXrtdM0mWXQ3tdNHmEfhTfcaij2dCM3Q2UUj\n",
       "uAKsCTlgC5mrMP/eF5niDV/97yJ7iRbm/6xfBt82rkBOmtONigu5vJgKu7Xf5R1c9+mijqnQJRXP\n",
       "HyTxocOdz4tepHoGIWjPM8eM6gzztQrn8ENurA32m05/Xg/yQog5WK86Og3Oi8HsvMjYhh3xq5C6\n",
       "+6SpyI4Cmv4pgx46bBTeImg5HqawhLbIMrpGwJUlDpPTtrasu1C0jp5K6ol8NpAl4zwRjZYFxvB6\n",
       "stEdf9U9tXwGf7PClt1p//2L7QhKEVrsTl3w6jmzrll0CksZBCpRnrwQnrChr+YpjtFsnXNgKvdQ\n",
       "JsEAAAKpQZseSeEPJlMFETwr//44QAPf8pjAFanaLW3mNuGRJJ1KIJUzYPivH0Jwiy6vX6AWh+/K\n",
       "KRPj2XJWPR3XfaMyZTVC506mj4/KxKjx9TPBgKmbx8C+Re+3JmGxsl9OZd7hEHWF9SR+2Nf51xtb\n",
       "/R7bYyf1E9vH/z85wkKO7BieDvCEtAD0aI5kVlPmZtpip+w/n6cQBH5UigyTOyA5zylQQSCCxE1u\n",
       "dMN5qw3t/RjsWjwu7nMmuNord0YZFEsegX1Btqfvt5AdIfRUWxmgDV0//c16EMxtQKLZ+sAnIwfe\n",
       "IPSmvLX8ZL2FTHJhYDW32MGrtiafrHqen/vvboxoVVXOC2f7SIFAwhjmihnbmns0fInzvYijqznI\n",
       "PZ6u9st1Zk1kheDUzNe9PAGkJi5zU6F77fdD4tTE7WQEaCCwE+ImQ1Pjr9UD5YHc7r2HXDAQ5RDK\n",
       "HIGd4JRkSTrrnfi1483ljkr3GvTYp6FeQGP2yR5FoZ8auORT494tVnyyWm9qHdlQZQdA70SrmJzF\n",
       "12iOPjFgqbepmGd3xhxg/uX9rQjLUrx/CcDw2D1q3J+g9af+9y1Nm4bAd26yTqCxzbAOerJtVjwL\n",
       "4A2mZpqibfsWTxmAPvQwIvggwfwI7rNtQQyuAL+zr0nCz9m6v7sT5dJ5A6gB1anVuUyt7mbx59Ay\n",
       "xkhlE8uQlgirRI4AEGkm4nyf27uMci0eH6F81imWUMF9Orip3pj01nQq0Rwhcn9DBCj4G69Gyebb\n",
       "xeO83SLmMXfcadKZzP4RtNiR7a/a0oidCjhyvdm67xjpS/eSK3IsG7G6N4w1ebQ0nPoSKJn4b/+G\n",
       "NDB/L8gKnEdBH4/nXYW34sMCbIES6DRBu8wtAnE9W0wmJUru4+k5oD9YvlOlQ18H0z2FlNTsDAmt\n",
       "qCEhAAAAFwGfPWpH/wTzCe6Mf5oKa7qBgl3985rYAAABnkGbP0nhDyZTAhX//jhASvmalOsjbCsp\n",
       "V8OkaALBOpNN7M0LHlnrLXJP2J9McD39yew7SnOsoqCvdTUiIqm8hdyYDYpzwEtdc66kBWhDvFch\n",
       "Zz0HnMuzm/ldUSZtUggI+B6+hYrWuD9As6T2n+pBku8fTjzA+uhQhJ7/JXGcGB8uyJeFP0zEAlBR\n",
       "sDbWefcSuIGWCZalFpO/7KZLhd/py7Z2VgNwVlaeYQd9eVYn6PK4eVP/LdN64T8jgo8aE6/r3VNw\n",
       "JlyDRNmuRsjUrR9BTMPJoIkGjJ4jVTDqPaW1iXb9uH3KC0BIKzR5mNEV+EEL1CUXXG/dTNox3oW0\n",
       "lD6G27+nBdbd/P0jZRbf93zeJKNXyoj90CBHsb43EYoncekfhnwnWVULD8Wu7zb4ZFvyQCvc3oGi\n",
       "KHzbywRGWFnAvFbjU8e5Fz6NvAbOjHbjT+Bn22KElQHjPROdtTPPgaTb9l3MKF9bVOAJU0Xit7UF\n",
       "kyXiSRoZkkzRcjSZzZTZISuXu3Ts1u1piyyzKByExJhLmuS9bO/A9TpJ3frBd2ikgAAAAqpBm0BJ\n",
       "4Q8mUwIV//44QAP0zVgSU1FgCtT14nd14gqXYvyI2+p3XBT4aR3OjrqvHfAkLVk0gCsjc7K5Xa/y\n",
       "CwL5bbp1DDOIkD9gbzXi6YE6DZliRzDyjapNUbpjfIJGMgcIB4+/AtruDY5Gv8ItRklpz5kOMnJq\n",
       "X2XbX6XC9nNvIt5HQl18H6tNntbivLzlMSrVNIf7iPq1Rx0VlyXrxoKVqR+MXiZHITqYYoSqVmxn\n",
       "D+y45xACN7I8txvosR6iMhHQN9WWDAupJKOWz6PfTAwRqOSP18r9SHHjjYEa9/lBZ1RCrQ1tJVa2\n",
       "GlBXr8MNYuI8HBYJfXOyQ33M9gpDxXVIpfvhY62IqYbHaJ8CZ8R3waylCVM2b+MqZt/x0z4cIuZ3\n",
       "oWD9VVoCdcOWJfFOvVTotUHbqEmc/Qcl3koE+RIOas5TT0TughgZ9rU39u5qIuhbiJ3CzPygBQpx\n",
       "t8Kl27bhosnN9NwqYDObNA0C4qhH9nXSwGeS8IMmjwOBUh3JlkbQ4QOxpLConteRBNocmDBkZKuT\n",
       "0DmmRfLpNFjCbAmX6CkTNMDR0OTQLDwvK8Tu5hTUUyBH+q+H6E6CBFwWbBbeaqJen0nZfEQ6Mrhd\n",
       "jIJP5mT9TGEFfYDDe6SelBy8HaDAKxZBFUgrWFS4vFNQx4tQa3nMGQqKqlfCGCgkR7WsEAj/oipE\n",
       "ofXpuknkzo5tFDi6/sgkVNRKsiT46x2NPb0lBxQJ/KoA47uZNYrn4Lck8rLhVnsos9X4BecPEs+F\n",
       "xBEKFIlSHHxfngD2xapusifxi/g+Fe+AD29DxTpvYA5dqwPmEIoDy297VPwaQvbGh433pZvJq/wU\n",
       "8WcH8tiKBHIz1JVNImaQ+Tlw0wznIEjsq3teLNXrv4NFriyVnUocArE39v3UEr3gUZ85AAABikGb\n",
       "YUnhDyZTAhX//jhAA/TNWsDm8aAKxxfGbMc+qJiFv8PxvNzE/edrSUH7w7HTBpPeqf/47N+Q+MTH\n",
       "z6O4ijJbKK0NE391qvfQ5qD0+zXYFvahNSyPGr2CQRy6vM1He+t22Yx5RgovZs1DhdDs0vUfjzCr\n",
       "b0KEh/fcjcnzCm8QGgVFPNanEiQZf+rZJsFEfR7tAevaLxzAaHgjt3ifCqSl4HYNeYXgamqixiic\n",
       "O2eDdHlIlm3mIptiW6FV/7BDDBKydrhJ2fnatevyb1yWIQjaK+rE3qA11ERJykI/X1GTJlIhdQfI\n",
       "pyt0PtJZlWETv67Md5l/fdeoHNWTh8N+9MxZgWGFD1uP2lv4QPnG1ygIMUGQEHUC0DnxNQIp8Aa+\n",
       "9taqCsJsHJlTFtug+rCRQQG9nI0P6kxp8R16k5avL9/sNXk+2IYXD/chcOWnDD/R4TfW2sPHicmc\n",
       "V/YIuvjo2SoSXPOqFmkYDMO/cVsa9b52TVtswU95F1aDChHKV7GBt33FxrMxw9MCR2AAAAH+QZuC\n",
       "SeEPJlMCFf/+OEAD9M1b7bADP+NgefBOWiLESHS9O6u3fUihff1w7gDZ/NadPFNDbulMydYMPO6b\n",
       "hqBeMClD0BkKDspSTig3vysXW397nNTxsEoNWsH2ufrSVYvDud1b4prV1veq7u01myOTcTo+hyoN\n",
       "bKjun+HHGXZ86qBte/bF2InYRtuwJa0MIG0zbTnhiYoZhDQTYnpi7lEts3TCNiyqiIG1KDpaTfLw\n",
       "6DfMd/CbPLHfvcwMJlQKw8OIG8yI8kwZi/Hg49gzxy62rPvsUb+pmWNHtb5u3yF3H9Am4gleRbXo\n",
       "SGmyPpdhD6DW15I3iv/RQd1Y+0AqeDSAMCw3jdM4VrNiO4X7XcPXoBvnF3aPDl8Ffl1psYBwy+Pd\n",
       "vhWBxsr0ggWziBd+eW/yLWFHwHwK241TFEOwN7j433jYFDQuVozbFzFxiZo+cD5eksEExct8frk6\n",
       "wfv/C4ixu/NZ5QiC4AHBCls9d3MZRZeuCeLck9RH+imgh9txqeXwqXmBClsXaLdEsgSl39rIEy2u\n",
       "cVlxJdUtNvTDbrCc3dCV/Psv3cVmHYvbYU8KM5Wq2z09SeCFZtCtyjZ1w7AmbK8/uE687khUbcKY\n",
       "4V18G10FhSQbUJDuPFKTvj8A1C5hzfUPf6uu6Y9CVfnKqqtBvmL4Mwt77Xwxkw9ymLGpAAABlUGb\n",
       "o0nhDyZTAhX//jhAA/TNWtOUANWWqSrXalHNCpqAcW6MC8rO6b2ztGO2hQAQ//GRbHtlPATLaqEz\n",
       "yOggidkmHi/fqkKbU/xL2bvtJHHOJyw7vbHExyZuPyKDjLlCH3f40j/Jsz1rSpq5yPxEWI8pnoX3\n",
       "xLlAZwDrsdR8ObYIloDjx62CjhVBf7h0WipB/ngucL+y6o5YVRIHXjm7b8ThQFHQ9xhLYRnpBVwl\n",
       "vsrnC16qOJUmrh+f17iJ7q/b5qUlHZhH6ngDpLYh+C1Fm9iGne/cYcvMSQkmGvADplPcTuGHHgzh\n",
       "ESA8lMVGNFkTCbeJAGtaXWVM6xTKtOpNQe8v/hlzd5cRGEtdjkvqCO9oZqmiFv3hH+Tra9eS9tMM\n",
       "reDA2UYKrH7PMu693tGueu4KLOQX9JwU6ddVnSBka5AZFhxJsxJR3W+sKgZM/zKCmvJsgzA15qJZ\n",
       "0z0fjWWzUEPn8cWU3MtZ+deBGw6dVzxRewNZcVgWbZpa48k3zCDXu0aa++EkVQbn4YMaHvF08PhB\n",
       "PH2FgAAAAnpBm8VJ4Q8mUwURPCv//jhAA/TWLoqRGAImAsn0nmct0wQswkXirKFgS+4RXdOqsYWe\n",
       "R1XWb5CdL3pX0/0xAfDfDZC8AJFxacUctAVn6p2ycRYjeqcFKrvIeiiIR9CVaK9byzm6vMdxGhXE\n",
       "kLC1E8rHXpzhipGLGlVa+ckSAfvFp1Eik3408DivENV8E/ySgQ+kt9UaZEkw7yj/UWZmVxeRE+wS\n",
       "D38BCgFH33oRdTUmCCtpGlTX4cOYQXe7cCQ1TpkY7+wRu06l1b7lFhGs6GKzHezBygo+WvUtfqQM\n",
       "sa+5C4uE/sCEzXF98zP/jc7ywA5K1tF8A6mJ2r++lLVxyWQH2ZLgRf3B1muLuK2zxgFIeVJyZktP\n",
       "6mZxx1KY8yzBx1PfO9Z7N3+0nbtP0NncDDL7YdlV+umI0MVmFEfcGMysRMEfDpEmkhBcSb90jDGp\n",
       "QJWTiYAaCIKbQ5FYrSj2Z05rY7yB5pdru3pB7kp1nsl22zSX25Jy4Hco1zK1tiq6h3Q2Tb1/C9IH\n",
       "hjyJ3uZ/HSdx/crpHnO2OwPBRcMLP0anb3IA2WW/j2hnDLpj77Puh9R68ccABN/b9gMeAQBM6yQx\n",
       "JT8BbjV3cJGWDu7kzsUsVK3k86ddChqDKj/kBnSp+efWwEemEaVKZ7/vIljDnt5cDPacAKxacipN\n",
       "0EabzOoLmnVjN1YMcKTEtYd8uso4GnHrm0vrP6KVym1KH8i9Qx3NxeC9XwB4Acm8Lav/vdDy24sU\n",
       "gP8M2gswPK8S5cZPTLTDXHnmozxiNS52Plt7+r8nxnyLjEycTdR50khpQXMShCnqaLj3Xk05ggD8\n",
       "UUS5/rltU6jfqT/fk+NBAAAAMAGf5GpH/wSzCe6Mgli1BctGyGdDd5XJRIa1oDtPBe8wr5W78Dka\n",
       "U+x94+silQn80QAAAdJBm+ZJ4Q8mUwIV//44QD76kS1rTLcohovfQA4gQhnoFY/v9shwRHKXaXHw\n",
       "SqslGfmrSBlXdDdbQtJTj6V/ddpbgrU0/aO8NNq5v6FwAVBK6ZW2ZkxJer9Yi6JS5XnK0M44pCVP\n",
       "aiPxt6LEsYw/SLNfQa8rBZ8H28hL9TIlaURRIMjlDV8b8octUdiavn6mhqimQzrXgzaZkFgdStgr\n",
       "73au8tR4cYnRAoYXZkkfVLhyLUSTxZGTBtFfrzFHyayPdNMWfl2PPEJjL0ANdvrcSYUGdmkH6ADx\n",
       "w6+OJhzJlIY0HXWKui5ZvSZfO1FnRwt6//3epFFGHtUJfE1SJUBhW88TVKPq03FYF3otHIuo8Wwb\n",
       "L3ltGurun8wclNbxcfsBttvkJE/biN8Wth5AlFt65h30BP+3H2Lf+lW5y3kXDh/dt4fhMKw2ykJM\n",
       "I6sTaUntkYTKDmaX4RDnZST4//Al8j8LGcimCO+an1cKGHsG5qdTUAwmA55wQO+zu7TLQ2p1VltA\n",
       "qhfK0UmBvf6FmN2cx++ESDhi/SBp5+Dcnvn1tBW8Gh9gD46RbflPr4sd2/TuA20VIhYk4+Ed6gom\n",
       "dzYeTkBOGNBvh0BResar8PDzAqV7TK2BAAABcEGaB0nhDyZTAhX//jhAA/TNRS2gBF4zWseid8wd\n",
       "fBM9YGWWTEFh7jZr1f+EWYpCrNNLeBTafcD7HGxxAmvhehHPdvVooDltfWEL1IhprVVHfSlIZu/u\n",
       "zOISR0PJmErZxNh++SLVbYkF8x7hfvf2egjB7crRd1u90SKIV97NA1ecTFpbe949zFTFsO472MRA\n",
       "GMu/JBKZWrJp1g7vmiZ44dvzHEn+yK7cAdZ8eBeejL3vh3x/otmw3SYZM9gy69euaxXo/mSskdzJ\n",
       "Fso1NJLapwauj6bwJ9ybYfP2t7bfe/haxUfXIQ837BMpPo5eqC4H+RxkKXEh2LK5/3sXwmD+rFpv\n",
       "yfkc8PyWO0/M+jvSszlEhdCUDgmYsaZ2KVbwi3/9Wl1goMdOsCU0BgeCVpNnGGGBoZoHfJ/M90IG\n",
       "WbTLSWXKrevVS/px4UhUOt8ebaWyHjwpdBdv4VHcW0lg6YyoopNFEOLws3hhO/H/T/59xWjhAAAB\n",
       "pEGaKEnhDyZTAhX//jhAA/TNRUUwAi8AB0zdcH5MlsmEYCizNiDg5ekmDdg1SB4ezfdLsqxfDqIC\n",
       "XrEsae1bnumabSUbKS4SUKydf3w3cpPBDHaEtn1qsiRP2HjRaJ57t2SVkJ5Imuub2XsRn8j5MtDK\n",
       "ZStFjbo+WVYKZ5iirbK8LDWicDEbI3BiqVV4kauLyHwAxAcdxKOMCzgPlnKtanPB7ORkP0f67wfN\n",
       "pDazgFM1/guiWDBazUKi/u+d/SM5jKmUHDrvRF/++Vpn7ZZ0SnhLXB+kT90BXfoBRrnfCOHHA9Eh\n",
       "DUuzNbVSmmTkm2rDYPsiBDWSACBy+6GqDA5xBoyrWbXcytLoVLFfipgZA8Qv1ho7h3xFrRuQuoTE\n",
       "KjQi1zMKsNeJkYAHjoQt2NX5CsHaNvDHPWBIol005FgT/p7L2X7JioL1v+GWc07Y/CYszxzYI6rO\n",
       "pgjCTl6rSWOW/kK6PUJbxH9xoJIL/IWUA/TBz8uEKHoMYpYvxH+QplulO3m63+if+D24ThyOuqCl\n",
       "Nglb086ikpkWalrTCPXHDIWCHwz9iAAAAc5BmklJ4Q8mUwIV//44QAP01i8YSaAG9CHktpVinF5H\n",
       "tBW9NUh0gEFEKleZ7FnhWU0FixBv4LnUP8X1QPL79SRhWCclO8gcBJWjfcDPaf+5Jg4duFCs14e7\n",
       "qBmIXb5ra0u30zpIHc0SIDMOSZTs8s1C05Pj7WZPCtfIq2O2GHh/0nUw8b5vPQoTmaq56JBh6sKs\n",
       "ziQXv907NKpndyzhnvedcKgvoqd8N3eK/mzQmPWpIpsJLAjbJ6tJmLbal6S/cM3YQbvL5gpKmMMI\n",
       "41Agksgi7mJPduKsndkysyGXcS8f7ZL+d412LNd+g8GTWO8VFDs0L8NIkftxvAuaIoBo9UhKGJdc\n",
       "g9W6dEStmN7+zbNVPpwLpoxMCteDDHb7GRs1qXFcUMDn4pVVkHq83/V4i9xh/UB+vcCbDB07pehd\n",
       "cRBt4nt1wu1+lgNDs4AH8b3ax1NWthbSMXv37i9Lk9iIoLd+OR4N1iQQK66uxfyTLoowcWpr2TSS\n",
       "cn+B4dufnQrr6qYaTfrB6izsDzZbU9m1Ntqm0Rz4Enx44uKtPw482tikCOqhyNo1ntot+LEbLicB\n",
       "BF0+7Lx1wmd5nxts0pZT6Baa9Qc3ymUeZNmJ1/CyrYAAAAIMQZpqSeEPJlMCFf/+OEAD9NYvGEmg\n",
       "BwDDu9VXObqUOFfQ0K5TXO3MWrMtszR9hHykjPqgprYpaYf5TuKgkf+hDSdx79KZPmNwZtqCnlLA\n",
       "SCuDLXZdbzShG3tILklw/0C5Mte7tgO8XkupRUpr1fHSYCv0EdD8vH+k6/ggX7+n43PGfkdyrf+j\n",
       "SIQYuP4pafKBCSCJGMB2RYd8DvpaM0Mp3G+ZdRF/iPy2xEZaYAppSbfiGG6ofq3Yw9y2Ee8JPwCp\n",
       "jxUSJ5iYmzHovljXoD3lQLlS2IqEq1Oujeu4Wua3CEWGrDyA4LER1GI0dRXkJkvxIdfWyQUAziCh\n",
       "XE882BdhBrjnDBKtVT5Cg8EamS3D2ibLWQJgg2+bTzJ3zhOfyHt03CR2bJ3+E7WTiRIdF0+4HAj8\n",
       "uN8BnEeg7ucfEjgopjeI+kBZ+V/P60hBriTAuHn1R48veBoUGIrUIifvPBitaS/RqeCIqeDRu6u1\n",
       "aCaGJLuqFOxOGQsjHrh3+SaS9fu/WnzUZMEeeKB68wWgcPEM7AA+NXGOA1tFcHYf7ZET9oAMiJwn\n",
       "cM5oBQPGlx+PAcr8U4Es2eh9Lk7piPG6a4xGjQt0EFCWZhniN7yIRYZ1lfwdLFLTj7mDE27uCtjG\n",
       "TQwJF8B/IgHgAXmy0Iy3WHli26337RRAPAGJfzGxdxRGtpxCawibco5bxrflqtEAAAFfQZqLSeEP\n",
       "JlMCFf/+OEAD9ehjAEPemXOX9NTX0B/yUED+54uc9hYfREo1VUFCwerghUwF9f6qAwxPEZyMLYDu\n",
       "4ZG6r33d4E0ATLHlgw5rJIxcsp7SO7Yo8HvglaZfCEFY6M17KUEDFH8dNr0s2dzcstUSIApZkEU+\n",
       "9fOGY8PKZe6EHjRTYyyHvH9Fl4Qd87+9etdoMxlvqHKDZ13or9yteJcO/eyc9gUseIZnkZm48uUQ\n",
       "ME69aCpEf8YS7SOBKzSB9oDV6mPD1mDfJrMM51uMkdnrPiA0QzCUEMv7s3VrjD1PkTjM9/8h1RND\n",
       "3nZ7dBtZjO/cQYtcOwlTvw9nckrjMJ7OT35wjaQ7siU760hItganwKxa2eHY9tsKzUrT0G0l1S7t\n",
       "/yzoBMke/0JdmP2K7QMQ25Z/2RgGTwy0DCJVVLs52mNNiuZ8R1b2akJVp4kLKtxar7Vsfvd73i3X\n",
       "GsaAAAACsEGarUnhDyZTBRE8K//+OEAD9M1aK0tACL1Bzg+8YQcpdkvcCsEI4OkI+57QzEb5pKOv\n",
       "IQxnCJZc8pyHAoH4kXc9yh+Kqpdma6HFUp9VtY36WDghAtaiIwIu4p8L6Km7Xqdrkq4shMQH3X9K\n",
       "t+H84FIh684rvVGfDAfUEGMUw5iQr/xaYOPk596bBxIuOC9POvZczyHeoJt2wUIuTfrM7nZp7W7w\n",
       "NP0HBLY7MZk7iblDnPXg1pnSnwKXWQoXWl1Ix491QO4vY+zWsp7YB3xAYtMXmEBzwkug/DOmHuix\n",
       "4FplnnLg2UxAA8deFPZ+rUMvRntANmVz84HMyi04sIYyE0k3HD2uRFbbrmqyK9yotchpLoiUgipC\n",
       "gEe+QHPxMH3Cp+Zi6ByZKK4SK5uXea2FvLYypvTy8lyh4euu5LJtba8hWxFal50DDDhZ97P+PmG2\n",
       "eHETUMpxSbhseu2+enkQfkDrxbEiNxlmy4GDdV2K+69wQywUIBFksWRPI/gXvBIbtmjN4cEnig3v\n",
       "mpBeeoQOy37Q1AqStbnVqmI/3MSQUSLvAKcSaHuUJPoJrK2XpwM+k0oEKNOkFEtQxXRfsJSImuMa\n",
       "/ntEXy5IGlyuNyo2WJ0jyfuqC2EvH8JC1HFAN92qTGHQnygB/+Syo/fmxrMflE8HkzEbgGRnS23T\n",
       "mzdnzRhf8VqhaDnP7GsXrSOkKMZoeoj+TMNXU+09JBS1HCeTK/f698msBqhKgai8rVIgtzDmlxQn\n",
       "YUr1bmaj8fb8xV/fi9Sh82xQSv5AXvwhtViQsqTAZ7WdZUsSRGRfOD72N7wVLc5BpRtbMZcbXdBf\n",
       "INi2BJKbPyYvSALgrnKcoNDHj/oTHJEjMFfZlCVeJdLPkQyU5jcROAG3uTeTYlaZ+oVm4HGJMu9E\n",
       "amvA4rKWjuuN5cAAAAAnAZ7Makf/BHMJ7/dKpC0g679RBq1E8wLu8m9L7qfVSp7I5PmlVa2TAAAB\n",
       "fkGazknhDyZTAhX//jhANfwQ4nXD+1cmZapGgCjr007s6eMSpY8VE1uDu6BBYCKWOmmj3A8yFbJ5\n",
       "ow4X5KnFeDyArbkb0+VEEyTOz2RujS8Kzdt28nBF+J24xNrxV/MuhtyOwxbZqQH3Q/PZ2RkupOkJ\n",
       "M54JB3WG/e2vETTbH5xl2yphQ+xvk5kExOG1Zuay02i9UPDtTZs1A5NzqtCyEJMEF1OtEy2g3Krc\n",
       "btOUseFMDe7xf9V6xCN1HROJG+HAoU7uaXy822WDqngAoIIHSNkXb2O44VdX3Sp3p7EKoMDTQz9B\n",
       "b9/xhnhCvTQR/hbEHBTz61M7lRSKV3jJI5hPfkhcg0iEk8JNT6dHIw8b3K5p0LZKW1bcrv23Fp9Z\n",
       "k/9LFIlzJlzQmrtCZA5i9jXkruFkaFjb5DJTXNU6MYcC9i+W6mWSgI07621ZBBeaqFAteOz+Z2kg\n",
       "EIXwUXGk0FxhtCVURV1EBEEGBPGS/0BnZOhep+6WScW3PPD305aWAbEAAAFjQZrvSeEPJlMCFf/+\n",
       "OEAD9M1I1PQA4qDPoaBXrW5cQ+Ozg47VwcnzYdgJlIZtgzo4EVumuCefnaL82mGxWymXxdD92i8U\n",
       "Izf1fT2dHyVZrxDg4lyE1bAVPtaL8X4Hn85jy7h5vfI1xrXqzo9uKPUgr2fDUgKpcarZ7TTdK4ke\n",
       "B+9MVam5+1EEKWiCK+rso4+cQ6EGkY+5n/kvrFOcXDv4n9X7VDHxgPqixLUUFPaR9GOqlpue3cXC\n",
       "LObZm2Tr7BlesNDEj4GjTS+oHZ7OFnqNI22TtHmE66zcFFf0kus5oC/UrQKTPjaP1izyicAY4JSq\n",
       "IkT0zx+z+XRFlvvTOU6DqzV+7+Nx0ZrcgTDIhoFtwLo5aNLC9Dc+POr3llJ4U/aQOsySHOUV2bnD\n",
       "xDAAL4WOcnukvs3T6TKWDgFMGUHj8dwkyV0l1QnYL86qndw6neybX+FhKZVy6aOvdZ8VefsTuuI1\n",
       "sQAAAM5BmxBJ4Q8mUwIV//44QAPf8jpAEehClvn6+BEL5iQ+qWep3HQ8ULD/+GuUvg00E1Wj4Sv/\n",
       "CKOb9vcSSJ+1rBUw1a/+ijRha5SwK4rmoiUaBUDPvoPTE2UHocdU/5IE80eVPMg94XQRdKP8ZB96\n",
       "6einrowMQXXErqJ6YSj4PdocXhgPu1Z7VBsctbBI8ZIz79H34uZGjgBrgWpDmsUUn0Qv37daUSMx\n",
       "/XAjTGsjz/xUJ9zTk9dsN2TwZ2MUxEQGAzY5EhKJTnGYPWhd9xD5gAAAAd5BmzFJ4Q8mUwIV//44\n",
       "QAP0zV9tPQAtZvmCSe43Uq1465ksWRqMfsjhX+AthwRwWcWjNMKrykTB4oP/48i7wIiIzKBwub14\n",
       "D4A3MACAg7F/A3iKc9s8Zv0+6z+78oMrwR5FFKLb1mpjRAWQy+V4j0Fx1g4ju3OtC8BDBE7lmgat\n",
       "OdP9fIZhvWDaEB4ANrFKpgTY0p9OLzlCD4RM5tjOPc5LlVbMGYLVi8d8iDFi94XuFBQSWkB5R8v8\n",
       "NRIeM6MLqB6ZI2znemy7K1GZ5A51Gp0kCCIeKhk0SLJBUxaeNXr/o0A991XJemxGcvQ/3cqzfWVZ\n",
       "fGiYaBibapDaDifMAnIxKgfbEfvywOr2xQ0NsdIMB4Bi8hFS8eoZ8mMO2G8+RLx4pb5i3QBhk8To\n",
       "YBJabI93jRTv6t8PVtLX2cGyF1Bc/KRe7d8AHFyEwYIfTsAFXA5z9RMXtm8T4/phtxRpHSisRX7h\n",
       "J3LdJ5TPJAvejVBCtMODXFcodTn8BYbZkZeziLgxiQXg0RfeSw+QMutiriqrMlmXRkEZi6zFes4S\n",
       "XMQAGa8SfYNFAV4zqh9aXPTxvm8+t4DHt/n2D1v0R5zBJeCbFQ0VC9U5iywHK8XvD/9f8laPzNf9\n",
       "SHKQ5aZuuOI0AAABuUGbUknhDyZTAhX//jhAA/TWJZ8OAG5phdgB0dADeqckG3nxzFx0/vwp3HtM\n",
       "rN0T36r6KmqEwcM/V+k3D/mUvCb3Iug8++02pqMzyGIOOYetBoqJTWmqeYz2KOn1HPgg+p7I+H/e\n",
       "w80sJxegpo3XC9bS8uwTXX6jPOkgS9BTe+tI4b8oGyYHM9JXqTZ5xKBV4Hc/j0IT9pNmkz//AKg1\n",
       "emmXsWKZ64nRvo74X/cFwzM0a+j6wPfVc4gHzHiUVIHB9dWMd3iwdBAbo//qy+sgQYwyX1LzIyB1\n",
       "kNMIiI0Add+SeeoNCsMgad1jrU3JfkRVMIR7AllHD/MzY8ntUyNXxkoMskQ7tFGfRqF5Q0W8ontZ\n",
       "Yef1WDFJ45L0EMNL7kskgp7tngXc5rC40GOoKyWrGifpWgJS7OHLqSHlTzpU5ZIOVzcmUJLL6xLm\n",
       "aaxbDmXUJsEtEIDeCG1EFSQer+LXl1ds/5nPNX9UCdZ/JXYbhGZ3BdzvtYgxWm0WXTZid7ua9Mmb\n",
       "GtkcPxtLEbzEKR6ZRZWvZwH20QH2gJt4eM62gBonLiUJVenf1QC9HKM54a1EdMMT9C6X/cb+cQAA\n",
       "AeFBm3VJ4Q8mUwIV//44QAP04lMEPIAANVf0NT8aIHqEsCsA8tvOjBeQbvYkBs7njU8Wr7VLK0jV\n",
       "PJCCO7yE43F4MBk4i7OZFnRaALojsoMc2z9C8wSWk3HY0jFdSfG8x4ck6/J6G1yxH2SeyUNZdYVI\n",
       "4OMZkSFIo2YoB7kJJFfO2U9griaf9drnYim6i0rcUTRckXqt/uYCAMS3pIRRMv4B9ymEw8XRn/MI\n",
       "thBK/P+vNevpAvRgG48zPYBoLHCKe+MHzV3lk+AKxfZZ3U1h5T52fVyQN15TBd0KAVW6EB8hWUon\n",
       "ZN45qm/6mYAe6vtyIvE++B23rrwbajngxncTae6izuoSwDWcpkkrO+YEbUBdG3NKyA9aARKjNm6Z\n",
       "xaXtTL7pRW/81RRiEKAtKnmapTYMUsrK2eMpZg7zPsXhTSIqdFVq9zi+OtwfaIqu+voaO5i/7j75\n",
       "J1Z6d8vT6QkoRvvDoyxkestvWhvKr/tRAw/9/jBlFbsLl4u+ittv5IojjDSdsYl69fuM7tWZi7d6\n",
       "UGCb/2o8VIjLHOloClgVYwC3DbLpCAJdQsI3P5z8gKb16fe9M8pSfvUeOT1nZlpsaYL3sp8W5i5l\n",
       "f0qLGxmaRpN37imDpy5VbDfI/6krUu/qjtbAAAAAEUGfk0URPCP/AAN0U69m1PhcAAAAFgGftGpH\n",
       "/wCGxzFkMU22iplH/UyLHrcAAADsQZu2SahBaJlMCFf//jhAA/X/HIAbry4uYnIBjyvsCkmGSinF\n",
       "EtBxHjV4UBzRUVIbsUGLXTZ5oW887RRXlT6C8v+mOMBDoLqIjmrA+NRv/S7TNyseviNreXqTVKdS\n",
       "KGs5OJI5YXQzqPIVmDiGYEP47w9dgnfTNZ3/o6SKtodn78OijIwaKgQ3esTTBx1Zp+HNuFusoYcG\n",
       "dm2iOS7JLjnfrHL2BN1frMnqLwSspKQkZ5JtcYAeQIIkPuGZ7RoR/eJGJygx8xkxlRMudOR2VxeK\n",
       "EViUCfyM4sseq0vtW2JqFidXzWKhoQTbplu8uzAAAADoQZvXSeEKUmUwIV/+OEAD9M1G91gBujPz\n",
       "jwQslEmRf6Wwdz8l0KA9kmPVzsmhypkiKH5q6ftYICIxMLSjLWpdWgFGloJih0IQ1mf4n9eAXtLM\n",
       "SdoKK6eWaoLgMYZ1YCgCADJCHU9f+FU5h0wFMQdxG2UP7ysTyp3R1SjRp36510En+sbq9gdjRfZc\n",
       "Divj2lZsfZBFZy+7J6WxWawUYvCfMtUkQ4A83Ey5Li40k7/6m5yAO6SbWOwH65DiXf8yx0Vgfxd7\n",
       "vSs37lNmKVlnOG7qwIlBu+Ngd7CXtq6WreNiCKOZGVS3gURinQAAAWBBm/hJ4Q6JlMCFf/44QAP0\n",
       "1iXSCgBLVvaG2wMVBJUGvL8s3eMCP9MdljRtP7xkh8QSpw6GFlPgqobcIah/x5uVVYpzTJS+q9pd\n",
       "KcJdAkkWVb2qWKGGGCn7aGjqHKyc/psVLZW7vDRV5Hc0Pf2YzeQiMx5Z5zhrdPP8kgOWTVSxJcPW\n",
       "5LHupn4cCMm6UYmR8sl1jV/Lu/Z5/8Il01LJzNryxiw7mbg/vY5u2cryjGB20p7sXBr6MtIhPbTU\n",
       "noDL3B3HlX2NIptHfU+Y7/0DK++jgECat6XcGUhp57zxD44SKqi5tCWI94AIjSdqYSwyJEwlmyn8\n",
       "Ij8TgB6j+9T678OE/l8ITydCgKUD108GyJDhsOo2vtPgeWyrfh7AZ+OGlZeSUx472PSVOnL/HWjP\n",
       "55WO45N0bQrdCop8ZyjlGs8GKllvwvRay6ZDZN4d/6XwztqeOJptByKh0tmMkBz7faRnAAABbkGa\n",
       "GUnhDyZTAhX//jhAA/TNRwcxgBbpDSRstVPzZseXZ4q3BikJ8kkJOPLXe50m9ghsjXpy15XbXzxq\n",
       "y81jsFSBzvyDd0Jhf290WjhVnNXudbIZVmkgWZ8sO+AO18K3uHWqGdYuP+LueM/qSjk91sQu4wfg\n",
       "Y3MH/COinqkMvI8JGHgMRLmnhhUBNKARUJljYuDXqBFgMvsTNTOcwTs2xCkRFISilN/sXcQVs8ck\n",
       "LNL1tjsAD4J+5+iHtHuvf8uDWMEQtyNTRmUZtVcTaJGkNYAEdglypyc23YlFNozo0bHW/cggaVI8\n",
       "HYA86VA+Abm5/D+JkDn0fjwh3m1EiIinVR01Wu8ovyAgfcSvTbRFq9Cfm6MIuG0v4C4VrGVpHU8s\n",
       "pjtfO/nRxjjB74u2GOm7KtnMSxkfeSAnjpWVsZIjU/4CrVQWNXb2GYZUushmXiHEUfNKNf17+VJY\n",
       "2TZMTKxC34bzjXaABs7xz8d7I7hDMAAAAKNBmjpJ4Q8mUwIV//44QAQUQvAAtnJ/HwVsv6HfWrQk\n",
       "2QOPtPyXw507HrgOOYhGBL+Eey9mBzJmHmvc4cIZaNazIxX3YP4mVP/2P6cqBQWu/meVVF0oT7HP\n",
       "2YWJAYg6K74ofPe2ibuIGOnPCKBk6kWqxVuPffIE5jGFOE50XiD2nS1FO9XCS2+OwXnx9ZwB3dXX\n",
       "I/uxttXwi9V+fFoSNuGK/YclAAAAs0GaW0nhDyZTAhX//jhAA/TWJdTboAS1IlDlT1G0qDiwakgX\n",
       "SDw8UAcrkFyLkVSOib1Qsmq2dylRMK3rM/VQiKm24gqUNPFd9yfCt+pNRKKV7lZUFKS9HTQ8uvij\n",
       "A3qXB2bH9M45zXKKrPPpRb5PWH4jK2BrsX+3amLJwRiJE5KfAVAWaTC5/itYHnjCzekZce25i03H\n",
       "40t21JL9mbZzdYQT3eQu/lj48V/Q8Ma7k/JDGRhYAAAAbkGafEnhDyZTAhX//jhAA/TNRf4AALkF\n",
       "eWeZ6rA+cIswqrBaWcp8M+jqOb/h9qtBtyHa0p8ZZHnWifXVWb1SnXcG5J+EyXHqCHcCOiG02ZbR\n",
       "mShqb7h9VpbwrIVOAfNiRGbRyxlqbLigxEhDDKAtAAAAXEGanUnhDyZTAhX//jhAA/X99wAt45/p\n",
       "kIRZd7XbvgvDjujyiD1qvCCmWyK0++EAi+P+4RoOeSOyuzPtTnYw3SKPycOm2Ma7b9LZUpbCqst+\n",
       "uoT2mIAEy0otzTbBAAAA3EGavknhDyZTAhX//jhAA/m3NoQAlkSPw38CLgOwF+kgt26Kwsv/pBLL\n",
       "mKUe2vTJDQ/m+xlB9CCU1Y6U0gdnjRDDR4Y9JYuIiKiEJBxpX0GaQ3bO4K8chsaVl0M8Duu5JYLY\n",
       "Ju83uyycXo5YYSJS+eUeGUcfeTjmu2v+ACrulJJTJrMFqRjtMYJ1ALBNKZ/MdE53oNnEt4DFDAc8\n",
       "LQD9sDv0Uy8KjWWkgLMfPQ8JAecojJ+iXO6hgXJjfh0vyrE2/HNJQ+2tnBwu8nEt/GXts50/fIgK\n",
       "/nXszmzmIHAAAADuQZrASeEPJlMFETwn//3xAAo1FPgBNXLnO1d964zJWAR4WfRGun6HqqXS5u0s\n",
       "pPIONpD6R3K6S/+elkroj16FXV9MMgWGk1mllxuRQkFiOINP+c+pzHgskK9ZpWKtrYH5f7sMwdB6\n",
       "xVpXQcPtm2Pm8BiKrFq+OggDG06VoBbuWRSp7jubtKjzOywPorDZFarauXVQlyE0VxFb7mpc20fc\n",
       "OVFXJzLfsg2usgTOE/jDvTfW/r6QsUaTuDGTeRpo/dvAeNY5pBDMXoGqnu2xA/DI7A/CaDjZ/RqT\n",
       "Igdhcu43jXZ3QQvxt4uReAOAaRYI4AAAABoBnv9qR/8BBfkZGd5pVOeAL0zz6wXQdXiG9QAAAGlB\n",
       "muFJ4Q8mUwIT//3xAAo1GdQAeZSyB2yGMZAi39dRfiDGBUNDLDG7pvlXud0LZTibntaxQLFolFs3\n",
       "0Dan6uieeGoAPPuvfjA9ngaiwiJwaBwy0EDYoq5iXAPfFzBtT4gOiAcI0LCcyXgAAABWQZsCSeEP\n",
       "JlMCEf/94QAPeRAId+aABO2S3gUDwP5x9gH0lrt9wEYYpdmRMzTnXwl6sWp13MmZx+hCEW8Pwl5n\n",
       "ozdykwXbwaNgbMXZcJFhdbZCLF2aWzEAAAAcQZsjSeEPJlMCP//8hAAAsE0w/bKwBNebG+BraAAA\n",
       "Bq5tb292AAAAbG12aGQAAAAAAAAAAAAAAAAAAAPoAAAH0AABAAABAAAAAAAAAAAAAAAAAQAAAAAA\n",
       "AAAAAAAAAAAAAAEAAAAAAAAAAAAAAAAAAEAAAAAAAAAAAAAAAAAAAAAAAAAAAAAAAAAAAAAAAAAC\n",
       "AAAF2HRyYWsAAABcdGtoZAAAAAMAAAAAAAAAAAAAAAEAAAAAAAAH0AAAAAAAAAAAAAAAAAAAAAAA\n",
       "AQAAAAAAAAAAAAAAAAAAAAEAAAAAAAAAAAAAAAAAAEAAAAABsAAAASAAAAAAACRlZHRzAAAAHGVs\n",
       "c3QAAAAAAAAAAQAAB9AAAAIAAAEAAAAABVBtZGlhAAAAIG1kaGQAAAAAAAAAAAAAAAAAADIAAABk\n",
       "AFXEAAAAAAAtaGRscgAAAAAAAAAAdmlkZQAAAAAAAAAAAAAAAFZpZGVvSGFuZGxlcgAAAAT7bWlu\n",
       "ZgAAABR2bWhkAAAAAQAAAAAAAAAAAAAAJGRpbmYAAAAcZHJlZgAAAAAAAAABAAAADHVybCAAAAAB\n",
       "AAAEu3N0YmwAAACzc3RzZAAAAAAAAAABAAAAo2F2YzEAAAAAAAAAAQAAAAAAAAAAAAAAAAAAAAAB\n",
       "sAEgAEgAAABIAAAAAAAAAAEAAAAAAAAAAAAAAAAAAAAAAAAAAAAAAAAAAAAAAAAAAAAY//8AAAAx\n",
       "YXZjQwFkAB7/4QAYZ2QAHqzZQbCWhAAAAwAEAAADAZA8WLZYAQAGaOvjyyLAAAAAHHV1aWRraEDy\n",
       "XyRPxbo5pRvPAyPzAAAAAAAAABhzdHRzAAAAAAAAAAEAAABkAAABAAAAABRzdHNzAAAAAAAAAAEA\n",
       "AAABAAACAGN0dHMAAAAAAAAAPgAAAAEAAAIAAAAAAQAAAwAAAAABAAABAAAAAAEAAAIAAAAAAQAA\n",
       "BAAAAAACAAABAAAAAAEAAAQAAAAAAgAAAQAAAAABAAADAAAAAAEAAAEAAAAAAQAABQAAAAABAAAC\n",
       "AAAAAAEAAAAAAAAAAQAAAQAAAAABAAADAAAAAAEAAAEAAAAAAQAABAAAAAACAAABAAAAAAEAAAMA\n",
       "AAAAAQAAAQAAAAABAAAFAAAAAAEAAAIAAAAAAQAAAAAAAAABAAABAAAAAAEAAAUAAAAAAQAAAgAA\n",
       "AAABAAAAAAAAAAEAAAEAAAAAAQAAAwAAAAABAAABAAAAAAEAAAUAAAAAAQAAAgAAAAABAAAAAAAA\n",
       "AAEAAAEAAAAAAQAABAAAAAACAAABAAAAAAEAAAMAAAAAAQAAAQAAAAADAAACAAAAAAEAAAMAAAAA\n",
       "AQAAAQAAAAABAAADAAAAAAEAAAEAAAAABgAAAgAAAAABAAADAAAAAAEAAAEAAAAABAAAAgAAAAAB\n",
       "AAADAAAAAAEAAAEAAAAABQAAAgAAAAABAAADAAAAAAEAAAEAAAAABgAAAgAAAAABAAADAAAAAAEA\n",
       "AAEAAAAABQAAAgAAAAABAAAEAAAAAAIAAAEAAAAACQAAAgAAAAABAAADAAAAAAEAAAEAAAAAAwAA\n",
       "AgAAAAAcc3RzYwAAAAAAAAABAAAAAQAAAGQAAAABAAABpHN0c3oAAAAAAAAAAAAAAGQAACNkAAAD\n",
       "xAAAAMcAAAG0AAACVgAAALkAAABvAAAB8QAAAJAAAABrAAAB4QAAAHYAAAJyAAAAywAAAGUAAABs\n",
       "AAAB0AAAAG4AAAJoAAAApwAAAHcAAAJIAAAAeAAAAroAAADQAAAAaAAAAHcAAAKoAAABAAAAAG4A\n",
       "AACQAAACQgAAAHwAAAL/AAABAAAAAG8AAABdAAACfgAAAIQAAABNAAACNgAAAGcAAAIgAAAB0gAA\n",
       "AcgAAAJsAAAANQAAAqQAAABAAAABwAAAAhwAAAIRAAAB2wAAAiEAAAItAAACbAAAACAAAAI3AAAC\n",
       "HQAAAlgAAAJEAAACrQAAABsAAAGiAAACrgAAAY4AAAICAAABmQAAAn4AAAA0AAAB1gAAAXQAAAGo\n",
       "AAAB0gAAAhAAAAFjAAACtAAAACsAAAGCAAABZwAAANIAAAHiAAABvQAAAeUAAAAVAAAAGgAAAPAA\n",
       "AADsAAABZAAAAXIAAACnAAAAtwAAAHIAAABgAAAA4AAAAPIAAAAeAAAAbQAAAFoAAAAgAAAAFHN0\n",
       "Y28AAAAAAAAAAQAAACwAAABidWR0YQAAAFptZXRhAAAAAAAAACFoZGxyAAAAAAAAAABtZGlyYXBw\n",
       "bAAAAAAAAAAAAAAAAC1pbHN0AAAAJal0b28AAAAdZGF0YQAAAAEAAAAATGF2ZjU4LjIwLjEwMA==\n",
       "\">\n",
       "  Your browser does not support the video tag.\n",
       "</video>"
      ],
      "text/plain": [
       "<matplotlib.animation.FuncAnimation at 0x7efda09d8a58>"
      ]
     },
     "execution_count": 27,
     "metadata": {},
     "output_type": "execute_result"
    }
   ],
   "source": [
    "def init():\n",
    "    line.set_data([], [])\n",
    "    return (line,)\n",
    "# animation function. This is called sequentially\n",
    "def animate(i):\n",
    "    model.fit(trX, trY, nb_epoch=1, verbose=0)\n",
    "    y_pred = model.predict(trX)\n",
    "    line.set_data(trX, y_pred)\n",
    "    return (line,)\n",
    "# call the animator. blit=True means only re-draw the parts that have changed.\n",
    "anim = animation.FuncAnimation(fig, animate, init_func=init,\n",
    "                               frames=100, interval=20, blit=True)\n",
    "rc('animation', html='html5')\n",
    "\n",
    "\n",
    "anim"
   ]
  },
  {
   "cell_type": "markdown",
   "metadata": {},
   "source": [
    "![](https://www.tutorialandexample.com/wp-content/uploads/2019/06/Data-flow-Graphs-and-Sessions.jpg)"
   ]
  },
  {
   "cell_type": "code",
   "execution_count": null,
   "metadata": {},
   "outputs": [],
   "source": []
  },
  {
   "cell_type": "markdown",
   "metadata": {},
   "source": [
    "![](https://www.tutorialandexample.com/wp-content/uploads/2019/06/core-component-in-the-TensorFlow.jpg)"
   ]
  },
  {
   "cell_type": "markdown",
   "metadata": {},
   "source": [
    "## Gradient Descent"
   ]
  },
  {
   "cell_type": "markdown",
   "metadata": {},
   "source": [
    "![](https://thisgirlreina.files.wordpress.com/2018/07/w7aro.png)"
   ]
  },
  {
   "cell_type": "markdown",
   "metadata": {},
   "source": [
    "# $$x^4 - 3 \\times x^3$$"
   ]
  },
  {
   "cell_type": "code",
   "execution_count": 47,
   "metadata": {},
   "outputs": [
    {
     "name": "stdout",
     "output_type": "stream",
     "text": [
      "Minimum at 2.2499646074278457\n"
     ]
    }
   ],
   "source": [
    "next_x = 6  # We start the search at x=6\n",
    "gamma = 0.01  # Step size multiplier\n",
    "precision = 0.00001  # Desired precision of result\n",
    "max_iters = 10000  # Maximum number of iterations\n",
    "\n",
    "# Derivative function\n",
    "def df(x):\n",
    "    return 4 * x**3 - 9 * x**2\n",
    "\n",
    "for _i in range(max_iters):\n",
    "    current_x = next_x\n",
    "    next_x = current_x - gamma * df(current_x)\n",
    "\n",
    "    step = next_x - current_x\n",
    "    if abs(step) <= precision:\n",
    "        break\n",
    "\n",
    "print(\"Minimum at {}\".format(next_x))\n",
    "\n",
    "# The output for the above will be something like\n",
    "# \"Minimum at 2.2499646074278457\""
   ]
  },
  {
   "cell_type": "markdown",
   "metadata": {},
   "source": [
    "# AND WE NEED A GOOD COMPUTER!"
   ]
  },
  {
   "cell_type": "markdown",
   "metadata": {},
   "source": [
    "![](https://miro.medium.com/max/776/1*Eb4YFMdn8LJhxjJCuykiLg.png)"
   ]
  },
  {
   "cell_type": "code",
   "execution_count": null,
   "metadata": {},
   "outputs": [],
   "source": []
  },
  {
   "cell_type": "code",
   "execution_count": null,
   "metadata": {},
   "outputs": [],
   "source": []
  },
  {
   "cell_type": "code",
   "execution_count": null,
   "metadata": {},
   "outputs": [],
   "source": []
  }
 ],
 "metadata": {
  "anaconda-cloud": {},
  "kernelspec": {
   "display_name": "Python 3",
   "language": "python",
   "name": "python3"
  },
  "language_info": {
   "codemirror_mode": {
    "name": "ipython",
    "version": 3
   },
   "file_extension": ".py",
   "mimetype": "text/x-python",
   "name": "python",
   "nbconvert_exporter": "python",
   "pygments_lexer": "ipython3",
   "version": "3.6.6"
  }
 },
 "nbformat": 4,
 "nbformat_minor": 1
}
